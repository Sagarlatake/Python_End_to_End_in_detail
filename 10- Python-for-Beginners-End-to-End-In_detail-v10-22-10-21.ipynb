{
 "cells": [
  {
   "cell_type": "markdown",
   "metadata": {},
   "source": [
    "# Python End to End in detail"
   ]
  },
  {
   "cell_type": "markdown",
   "metadata": {},
   "source": [
    "Basic:\n",
    "It is a general purpose high level programming language.\n",
    "\n",
    "Python was developed by Guido Van Rossam at National Research Institute at Netherlands.\n",
    "\n",
    "official relaese date of python is 20th feb 1991\n"
   ]
  },
  {
   "cell_type": "code",
   "execution_count": 1,
   "metadata": {},
   "outputs": [
    {
     "name": "stdout",
     "output_type": "stream",
     "text": [
      "Hello\n",
      "Simple Statement\n"
     ]
    }
   ],
   "source": [
    "# Printing Hello \n",
    "\n",
    "print(\"Hello\")\n",
    "\n",
    "\n",
    "print(\"Simple Statement\")\n",
    "\n"
   ]
  },
  {
   "cell_type": "markdown",
   "metadata": {},
   "source": [
    "# Note:\n",
    "\n",
    "It is very simple to print hello in python, as compared to other programming languages\n",
    "\n",
    "coding in python is really less time consuming than other programming languages"
   ]
  },
  {
   "cell_type": "markdown",
   "metadata": {},
   "source": [
    "# Python Features\n",
    "\n",
    "    1) Easy to Learn and Use. Python is easy to learn and use. ...\n",
    "    2) Expressive Language. Python language is\n",
    "    more expressive means that\n",
    "    it is more understandable and readable.\n",
    "    3) Interpreted Language. ...\n",
    "    4) Cross-platform Language. ...\n",
    "    5) Free and Open Source. ...\n",
    "    6) Object-Oriented Language. ...\n",
    "    7) Extensible. ...\n",
    "    8) Large Standard Library.\n",
    "\n",
    "# Applications\n",
    "\n",
    "1) Web Applications....\n",
    "2) Desktop GUI Applications....\n",
    "3) Software Development....\n",
    "4) Scientific and Numeric....\n",
    "5) Business Applications....\n",
    "6) Console Based Application....\n",
    "7) Audio or Video based Applications....\n",
    "8) 3D CAD Applications.\n",
    "9) AI\n",
    "10) ML, DL\n",
    "11) Data Analytics\n",
    "\n",
    "# Good to Know\n",
    "\n",
    "1. Functional Programming Features from C\n",
    "2. Object Oriented Programming Features from C++\n",
    "3. Scripting Language Features from Perl and Shell Script\n",
    "4. Modular Programming Features from Modula-3\n"
   ]
  },
  {
   "cell_type": "markdown",
   "metadata": {},
   "source": [
    "# Identifiers\n",
    "1. names in python are called as identifiers.\n",
    "2. Function name, variable name, module name, class name are identifiers in python\n",
    "3. Rules:\n",
    "\n",
    "    1. Alphabet Symbols (Either Upper case OR Lower case)\n",
    "    2. If Identifier is start with Underscore (_) then it indicates it is private.\n",
    "    3. Identifier should not start with Digits.\n",
    "    4. Identifiers are case sensitive.\n",
    "    5. We cannot use reserved words as identifiers\n",
    "    6. Dollor ($) Symbol is not allowed in Python."
   ]
  },
  {
   "cell_type": "code",
   "execution_count": 2,
   "metadata": {},
   "outputs": [
    {
     "name": "stdout",
     "output_type": "stream",
     "text": [
      "vaibhav\n",
      "rahul\n"
     ]
    }
   ],
   "source": [
    "name = 'vaibhav'\n",
    "Name = 'rahul'\n",
    "\n",
    "print(name)\n",
    "\n",
    "print(Name)\n",
    "\n"
   ]
  },
  {
   "cell_type": "markdown",
   "metadata": {},
   "source": [
    "# Special Notes\n",
    "\n",
    "1. If identifier starts with _ symbol,then it is private\n",
    "2. If identifier starts with __(2 underscore), indicate that it is a strongly private.\n",
    "3. If the identifier starts and ends with two underscore symbols, then such identifiers are\n",
    "language defined special name, \n",
    "# which is also known as magic methods.\n",
    "ex:   [ __DoIt__  ]"
   ]
  },
  {
   "cell_type": "code",
   "execution_count": 3,
   "metadata": {},
   "outputs": [
    {
     "name": "stdout",
     "output_type": "stream",
     "text": [
      "<class 'int'>\n"
     ]
    }
   ],
   "source": [
    "# Example of identifiers\n",
    "\n",
    "a = 10\n",
    "var = 20.2\n",
    "str_1 = \"python\"\n",
    "_1_sag = 10.20\n",
    "print(type(a))\n"
   ]
  },
  {
   "cell_type": "markdown",
   "metadata": {},
   "source": [
    "# Keywords\n",
    "\n",
    "There are around 33 keywords:\n",
    "\n",
    "if,elif,else,while,for,break,continue,return,in,True,False,None,and, or,not,is,yield,try,except,finally,raise,del,with,assert,import,from,as,class,def,pass,\n",
    "global,nonlocal,lambda."
   ]
  },
  {
   "cell_type": "code",
   "execution_count": 4,
   "metadata": {},
   "outputs": [
    {
     "name": "stdout",
     "output_type": "stream",
     "text": [
      "['False', 'None', 'True', 'and', 'as', 'assert', 'break', 'class', 'continue', 'def', 'del', 'elif', 'else', 'except', 'finally', 'for', 'from', 'global', 'if', 'import', 'in', 'is', 'lambda', 'nonlocal', 'not', 'or', 'pass', 'raise', 'return', 'try', 'while', 'with', 'yield']\n"
     ]
    }
   ],
   "source": [
    "# we can see all keywords from python using below code\n",
    "import keyword\n",
    "print(keyword.kwlist)\n",
    "\n",
    "#len(keyword.kwlist)"
   ]
  },
  {
   "cell_type": "markdown",
   "metadata": {},
   "source": [
    "# Data Types in Python:\n",
    "\n",
    "1. Data type of variable is the type of value inside that variable.\n",
    "2. In python we do not need to mension the data type of variable, It automatically assigns data type.\n",
    "1. int   2. float   3.complex   4.bool   5.str    6.bytes    7.bytearray    8.range    9.list   10.tuple   11.set      12.frozenset    13.dict    14.None\n"
   ]
  },
  {
   "cell_type": "code",
   "execution_count": 5,
   "metadata": {},
   "outputs": [
    {
     "name": "stdout",
     "output_type": "stream",
     "text": [
      "Output:\n",
      "10\n",
      "<class 'int'>\n"
     ]
    }
   ],
   "source": [
    "# int\n",
    "\n",
    "var = 10  # decimal\n",
    "\n",
    "# we can declare octal and Hex value also\n",
    "print(\"Output:\")\n",
    "print(var)\n",
    "print(type(var))"
   ]
  },
  {
   "cell_type": "code",
   "execution_count": 6,
   "metadata": {},
   "outputs": [
    {
     "name": "stdout",
     "output_type": "stream",
     "text": [
      "Output:\n",
      "10.2\n",
      "<class 'float'>\n"
     ]
    }
   ],
   "source": [
    "# Float\n",
    "\n",
    "var = 10.20\n",
    "\n",
    "print(\"Output:\")\n",
    "print(var)\n",
    "print(type(var))"
   ]
  },
  {
   "cell_type": "code",
   "execution_count": 7,
   "metadata": {},
   "outputs": [
    {
     "name": "stdout",
     "output_type": "stream",
     "text": [
      "Output:\n",
      "(3+4j)\n",
      "<class 'complex'>\n",
      "Printing Real and Imaginary part\n",
      "3.0\n",
      "4.0\n"
     ]
    }
   ],
   "source": [
    "# Complex\n",
    "var = 3+4j\n",
    "\n",
    "# 3 is real part, 4j is imaginary part, j^2 = -1\n",
    "print(\"Output:\")\n",
    "print(var)\n",
    "print(type(var))\n",
    "print(\"Printing Real and Imaginary part\")\n",
    "print(var.real)\n",
    "print(var.imag)"
   ]
  },
  {
   "cell_type": "code",
   "execution_count": 8,
   "metadata": {},
   "outputs": [
    {
     "name": "stdout",
     "output_type": "stream",
     "text": [
      "Output:\n",
      "True\n",
      "<class 'bool'>\n"
     ]
    }
   ],
   "source": [
    "# boolean\n",
    "var = True\n",
    "print(\"Output:\")\n",
    "print(var)\n",
    "print(type(var))"
   ]
  },
  {
   "cell_type": "code",
   "execution_count": 9,
   "metadata": {},
   "outputs": [
    {
     "name": "stdout",
     "output_type": "stream",
     "text": [
      "Output:\n",
      "python3.9\n",
      "<class 'str'>\n"
     ]
    }
   ],
   "source": [
    "# String data type\n",
    "var = \"python3.9\"\n",
    "# when take input from user: values are considered as \"string\"\n",
    "print(\"Output:\")\n",
    "print(var)\n",
    "print(type(var))"
   ]
  },
  {
   "cell_type": "markdown",
   "metadata": {},
   "source": [
    "# Typecasting\n",
    "int,\n",
    "float,\n",
    "str,\n",
    "boolean,\n",
    "comlex,\n",
    "object."
   ]
  },
  {
   "cell_type": "code",
   "execution_count": 10,
   "metadata": {},
   "outputs": [
    {
     "name": "stdout",
     "output_type": "stream",
     "text": [
      "Enter a number10\n",
      "value is  10\n",
      "<class 'str'>\n"
     ]
    }
   ],
   "source": [
    "# taking input from user\n",
    "\n",
    "var = input(\"Enter a number\")\n",
    "\n",
    "print(\"value is \",var)\n",
    "\n",
    "print(type(var))\n",
    "\n",
    "# Any input from user will be taken as string in python"
   ]
  },
  {
   "cell_type": "raw",
   "metadata": {},
   "source": [
    "# What is typecasting:\n",
    "\n",
    "Conversion of data from one type to another type.\n",
    "eg. str1 = \"python is best\"\n",
    "str2 = \"100\"\n",
    "Note: we can convert str2 into float, int"
   ]
  },
  {
   "cell_type": "code",
   "execution_count": 11,
   "metadata": {},
   "outputs": [
    {
     "name": "stdout",
     "output_type": "stream",
     "text": [
      "100\n",
      "<class 'int'>\n",
      "100.0\n",
      "<class 'float'>\n",
      "200\n",
      "<class 'str'>\n",
      "200.0\n",
      "<class 'float'>\n",
      "Demonstration of string to float conversion:\n",
      "python\n"
     ]
    }
   ],
   "source": [
    "# int/string to float conversion:\n",
    "\n",
    "str1 = \"python\"\n",
    "var = 100 # int\n",
    "str2 = \"200\"  # string\n",
    "print(var)\n",
    "print(type(var))\n",
    "\n",
    "var1 = float(var)\n",
    "\n",
    "print(var1)\n",
    "print(type(var1))\n",
    "\n",
    "print(str2)\n",
    "print(type(str2))\n",
    "\n",
    "var2 = float(str2)\n",
    "\n",
    "print(var2)\n",
    "print(type(var2))\n",
    "\n",
    "print(\"Demonstration of string to float conversion:\")\n",
    "print(str1)\n",
    "#var2 = float(str1)"
   ]
  },
  {
   "cell_type": "code",
   "execution_count": 12,
   "metadata": {},
   "outputs": [
    {
     "name": "stdout",
     "output_type": "stream",
     "text": [
      "float to int:\n",
      "100.2\n",
      "<class 'float'>\n",
      "100\n",
      "<class 'int'>\n",
      "String to int:\n",
      "500\n",
      "<class 'str'>\n",
      "500\n",
      "<class 'int'>\n",
      "string to complex:\n",
      "(3+4j)\n",
      "<class 'complex'>\n"
     ]
    }
   ],
   "source": [
    "# float/string to int conversion\n",
    "\n",
    "var = 100.20\n",
    "str1 = \"200.30\"\n",
    "str2 = \"500\"\n",
    "str3 = \"python is best\"\n",
    "\n",
    "print(\"float to int:\")\n",
    "print(var)\n",
    "print(type(var))\n",
    "var1 = int(var)\n",
    "print(var1)\n",
    "print(type(var1))\n",
    "\n",
    "print(\"String to int:\")\n",
    "print(str2)\n",
    "print(type(str2))\n",
    "var3 = int(str2)\n",
    "print(var3)\n",
    "print(type(var3))\n",
    "\n",
    "#print(\"String to int:\")\n",
    "#print(str1)\n",
    "#print(type(str1))\n",
    "#var2 = int(str1)\n",
    "#print(var2)\n",
    "#print(type(var2))\n",
    "\n",
    "print(\"string to complex:\")\n",
    "cm = \"3+4j\"\n",
    "comp = complex(cm)\n",
    "print(comp)\n",
    "print(type(comp))\n",
    "\n",
    "\n",
    "#print(\"String to int:\")\n",
    "#print(str3)\n",
    "#print(type(str3))\n",
    "#var4 = int(str3)\n",
    "#print(var4)\n",
    "#print(type(var4))\n"
   ]
  },
  {
   "cell_type": "code",
   "execution_count": 13,
   "metadata": {},
   "outputs": [
    {
     "name": "stdout",
     "output_type": "stream",
     "text": [
      "float to string:\n",
      "100.23\n",
      "<class 'float'>\n",
      "100.23\n",
      "<class 'str'>\n",
      "int to string:\n",
      "20\n",
      "<class 'int'>\n",
      "20\n",
      "<class 'str'>\n",
      "Complex to string:\n",
      "(2+4j)\n",
      "<class 'complex'>\n",
      "(2+4j)\n",
      "<class 'str'>\n"
     ]
    }
   ],
   "source": [
    "# float, int to string\n",
    "\n",
    "var = 100.23\n",
    "var1 = 20\n",
    "comp = 2+4j\n",
    "print(\"float to string:\")\n",
    "print(var)\n",
    "print(type(var))\n",
    "var3 = str(var)\n",
    "print(var3)\n",
    "print(type(var3))\n",
    "\n",
    "print(\"int to string:\")\n",
    "print(var1)\n",
    "print(type(var1))\n",
    "var4 = str(var1)\n",
    "print(var4)\n",
    "print(type(var4))\n",
    "\n",
    "print(\"Complex to string:\")\n",
    "print(comp)\n",
    "print(type(comp))\n",
    "var5 = str(comp)\n",
    "print(var5)\n",
    "print(type(var5))"
   ]
  },
  {
   "cell_type": "markdown",
   "metadata": {},
   "source": [
    "# Other types to Complex"
   ]
  },
  {
   "cell_type": "code",
   "execution_count": 14,
   "metadata": {},
   "outputs": [
    {
     "name": "stdout",
     "output_type": "stream",
     "text": [
      "(10+0j)\n",
      "(12.4+10j)\n",
      "(10.23+0j)\n"
     ]
    }
   ],
   "source": [
    "# use complex() function for conversion\n",
    "\n",
    "var = 10\n",
    "\n",
    "print(complex(var))\n",
    "\n",
    "var1 = 12.4\n",
    "\n",
    "print(complex(var1,var))\n",
    "\n",
    "var3 = \"10.23\"\n",
    "print(complex(var3))\n"
   ]
  },
  {
   "cell_type": "code",
   "execution_count": 15,
   "metadata": {},
   "outputs": [
    {
     "name": "stdout",
     "output_type": "stream",
     "text": [
      "(10+5j)\n",
      "(10.2+4j)\n",
      "(1+0j)\n"
     ]
    }
   ],
   "source": [
    "print(complex(10,5)) # 10+5j\n",
    "print(complex(10.20,4))\n",
    "\n",
    "print(complex(True,False)) # 1+0j"
   ]
  },
  {
   "cell_type": "markdown",
   "metadata": {},
   "source": [
    "# Bool()"
   ]
  },
  {
   "cell_type": "code",
   "execution_count": 16,
   "metadata": {},
   "outputs": [
    {
     "name": "stdout",
     "output_type": "stream",
     "text": [
      "1\n"
     ]
    }
   ],
   "source": [
    "print(int(True))"
   ]
  },
  {
   "cell_type": "code",
   "execution_count": 17,
   "metadata": {},
   "outputs": [
    {
     "name": "stdout",
     "output_type": "stream",
     "text": [
      "0\n"
     ]
    }
   ],
   "source": [
    "print(int(False))"
   ]
  },
  {
   "cell_type": "code",
   "execution_count": 18,
   "metadata": {},
   "outputs": [
    {
     "name": "stdout",
     "output_type": "stream",
     "text": [
      "1.0\n"
     ]
    }
   ],
   "source": [
    "print(float(True))"
   ]
  },
  {
   "cell_type": "code",
   "execution_count": 19,
   "metadata": {},
   "outputs": [
    {
     "name": "stdout",
     "output_type": "stream",
     "text": [
      "0.0\n"
     ]
    }
   ],
   "source": [
    "print(float(False))"
   ]
  },
  {
   "cell_type": "code",
   "execution_count": 20,
   "metadata": {},
   "outputs": [
    {
     "name": "stdout",
     "output_type": "stream",
     "text": [
      "(1+0j)\n"
     ]
    }
   ],
   "source": [
    "print(complex(True))"
   ]
  },
  {
   "cell_type": "code",
   "execution_count": 21,
   "metadata": {},
   "outputs": [
    {
     "name": "stdout",
     "output_type": "stream",
     "text": [
      "0j\n",
      "0j\n"
     ]
    }
   ],
   "source": [
    "print(complex(False))\n",
    "\n",
    "c = 0+0j\n",
    "\n",
    "print(c)"
   ]
  },
  {
   "cell_type": "code",
   "execution_count": 22,
   "metadata": {},
   "outputs": [
    {
     "name": "stdout",
     "output_type": "stream",
     "text": [
      "True\n",
      "False\n"
     ]
    }
   ],
   "source": [
    "\n",
    "print(str(True))\n",
    "print(str(False))"
   ]
  },
  {
   "cell_type": "code",
   "execution_count": 23,
   "metadata": {},
   "outputs": [
    {
     "name": "stdout",
     "output_type": "stream",
     "text": [
      "True\n",
      "False\n"
     ]
    }
   ],
   "source": [
    "print(bool(0.001))\n",
    "print(bool(0.0))"
   ]
  },
  {
   "cell_type": "code",
   "execution_count": 24,
   "metadata": {},
   "outputs": [
    {
     "name": "stdout",
     "output_type": "stream",
     "text": [
      "True\n",
      "False\n"
     ]
    }
   ],
   "source": [
    "print(bool(1))\n",
    "print(bool(0))"
   ]
  },
  {
   "cell_type": "code",
   "execution_count": 25,
   "metadata": {},
   "outputs": [
    {
     "name": "stdout",
     "output_type": "stream",
     "text": [
      "False\n",
      "False\n",
      "True\n",
      "True\n"
     ]
    }
   ],
   "source": [
    "\n",
    "\n",
    "print(bool(\"\"))\n",
    "print(bool())\n",
    "print(bool(\"h\"))\n",
    "print(bool(11))"
   ]
  },
  {
   "cell_type": "code",
   "execution_count": 26,
   "metadata": {},
   "outputs": [
    {
     "name": "stdout",
     "output_type": "stream",
     "text": [
      "True\n",
      "True\n",
      "True\n",
      "False\n"
     ]
    }
   ],
   "source": [
    "print(bool(1+2j))\n",
    "print(bool(1+0j))\n",
    "print(bool(0+2j))\n",
    "print(bool(0+0j))"
   ]
  },
  {
   "cell_type": "markdown",
   "metadata": {},
   "source": [
    "# String Slicing\n",
    "\n",
    "operations: slicing"
   ]
  },
  {
   "cell_type": "raw",
   "metadata": {},
   "source": [
    "# liscing is making peaces of a string using some separator\n",
    "# [] is a slice opearator"
   ]
  },
  {
   "cell_type": "code",
   "execution_count": 27,
   "metadata": {},
   "outputs": [
    {
     "data": {
      "text/plain": [
       "'This tutorial is basically designed for beginers....!'"
      ]
     },
     "execution_count": 27,
     "metadata": {},
     "output_type": "execute_result"
    }
   ],
   "source": [
    "# assignment\n",
    "str1 = \"This tutorial is basically designed for beginers....!\"\n",
    "str1"
   ]
  },
  {
   "cell_type": "code",
   "execution_count": 28,
   "metadata": {},
   "outputs": [],
   "source": [
    "# take simple string\n",
    "\n",
    "str2 = \"Python\""
   ]
  },
  {
   "cell_type": "code",
   "execution_count": 29,
   "metadata": {},
   "outputs": [
    {
     "data": {
      "text/plain": [
       "'P'"
      ]
     },
     "execution_count": 29,
     "metadata": {},
     "output_type": "execute_result"
    }
   ],
   "source": [
    "str2[0]"
   ]
  },
  {
   "cell_type": "code",
   "execution_count": 30,
   "metadata": {},
   "outputs": [
    {
     "data": {
      "text/plain": [
       "'n'"
      ]
     },
     "execution_count": 30,
     "metadata": {},
     "output_type": "execute_result"
    }
   ],
   "source": [
    "str2[5]"
   ]
  },
  {
   "cell_type": "code",
   "execution_count": 31,
   "metadata": {},
   "outputs": [
    {
     "data": {
      "text/plain": [
       "'Python'"
      ]
     },
     "execution_count": 31,
     "metadata": {},
     "output_type": "execute_result"
    }
   ],
   "source": [
    "str2"
   ]
  },
  {
   "cell_type": "code",
   "execution_count": 32,
   "metadata": {},
   "outputs": [
    {
     "data": {
      "text/plain": [
       "'y'"
      ]
     },
     "execution_count": 32,
     "metadata": {},
     "output_type": "execute_result"
    }
   ],
   "source": [
    "str2[1]"
   ]
  },
  {
   "cell_type": "code",
   "execution_count": 33,
   "metadata": {},
   "outputs": [
    {
     "data": {
      "text/plain": [
       "'Python'"
      ]
     },
     "execution_count": 33,
     "metadata": {},
     "output_type": "execute_result"
    }
   ],
   "source": [
    "str2[0:]"
   ]
  },
  {
   "cell_type": "code",
   "execution_count": 34,
   "metadata": {},
   "outputs": [
    {
     "data": {
      "text/plain": [
       "'Pyth'"
      ]
     },
     "execution_count": 34,
     "metadata": {},
     "output_type": "execute_result"
    }
   ],
   "source": [
    "str2[:4]\n",
    "# str2[-6:]"
   ]
  },
  {
   "cell_type": "code",
   "execution_count": 35,
   "metadata": {},
   "outputs": [
    {
     "data": {
      "text/plain": [
       "str"
      ]
     },
     "execution_count": 35,
     "metadata": {},
     "output_type": "execute_result"
    }
   ],
   "source": [
    "type(str2)"
   ]
  },
  {
   "cell_type": "code",
   "execution_count": 36,
   "metadata": {},
   "outputs": [
    {
     "data": {
      "text/plain": [
       "'n'"
      ]
     },
     "execution_count": 36,
     "metadata": {},
     "output_type": "execute_result"
    }
   ],
   "source": [
    "str2[-1]"
   ]
  },
  {
   "cell_type": "code",
   "execution_count": 37,
   "metadata": {},
   "outputs": [
    {
     "data": {
      "text/plain": [
       "'on'"
      ]
     },
     "execution_count": 37,
     "metadata": {},
     "output_type": "execute_result"
    }
   ],
   "source": [
    "str2[-2:]  "
   ]
  },
  {
   "cell_type": "code",
   "execution_count": 38,
   "metadata": {},
   "outputs": [
    {
     "data": {
      "text/plain": [
       "'n'"
      ]
     },
     "execution_count": 38,
     "metadata": {},
     "output_type": "execute_result"
    }
   ],
   "source": [
    "str2[-1:]"
   ]
  },
  {
   "cell_type": "code",
   "execution_count": 39,
   "metadata": {},
   "outputs": [
    {
     "data": {
      "text/plain": [
       "'hon'"
      ]
     },
     "execution_count": 39,
     "metadata": {},
     "output_type": "execute_result"
    }
   ],
   "source": [
    "str2[-3:]"
   ]
  },
  {
   "cell_type": "code",
   "execution_count": 40,
   "metadata": {},
   "outputs": [
    {
     "data": {
      "text/plain": [
       "'ho'"
      ]
     },
     "execution_count": 40,
     "metadata": {},
     "output_type": "execute_result"
    }
   ],
   "source": [
    "str2[-3:-1]"
   ]
  },
  {
   "cell_type": "code",
   "execution_count": 41,
   "metadata": {},
   "outputs": [
    {
     "data": {
      "text/plain": [
       "'PythPythPyth'"
      ]
     },
     "execution_count": 41,
     "metadata": {},
     "output_type": "execute_result"
    }
   ],
   "source": [
    "str3 = str2[:4]\n",
    "str3*3"
   ]
  },
  {
   "cell_type": "markdown",
   "metadata": {},
   "source": [
    "# Immutability"
   ]
  },
  {
   "cell_type": "raw",
   "metadata": {},
   "source": [
    "# In python once an object is created, we are not allowed to change\n",
    "# the content, If you want to change the content PVM will create a \n",
    "# new object for it."
   ]
  },
  {
   "cell_type": "code",
   "execution_count": 42,
   "metadata": {},
   "outputs": [
    {
     "name": "stdout",
     "output_type": "stream",
     "text": [
      "10897536\n",
      "and \n",
      " 10897536\n",
      "True\n",
      "140027995433984\n",
      "and \n",
      " 140027995433984\n",
      "140027995433912\n",
      "True\n"
     ]
    }
   ],
   "source": [
    "var = 100\n",
    "var1 = 100\n",
    "\n",
    "print(id(var))\n",
    "print(\"and \\n\",id(var1))\n",
    "\n",
    "print(var is var1)\n",
    "\n",
    "\n",
    "var = 200.10\n",
    "var1 = var\n",
    "var2 = 200.10\n",
    "\n",
    "print(id(var))\n",
    "print(\"and \\n\",id(var1))\n",
    "\n",
    "print(id(var2))\n",
    "\n",
    "print(var is var1)"
   ]
  },
  {
   "cell_type": "code",
   "execution_count": 43,
   "metadata": {},
   "outputs": [
    {
     "name": "stdout",
     "output_type": "stream",
     "text": [
      "False\n",
      "140027952507952\n",
      "and \n",
      " 140027952508080\n"
     ]
    }
   ],
   "source": [
    "var = 10+20j\n",
    "var1 = 10+20j\n",
    "print(var is var1)\n",
    "print(id(var))\n",
    "print(\"and \\n\",id(var1))\n",
    "# ID are different"
   ]
  },
  {
   "cell_type": "raw",
   "metadata": {},
   "source": [
    "Assignment: Try same for string and boolean types"
   ]
  },
  {
   "cell_type": "markdown",
   "metadata": {},
   "source": [
    "# bytes and bytearray Data Types:"
   ]
  },
  {
   "cell_type": "code",
   "execution_count": 44,
   "metadata": {},
   "outputs": [
    {
     "name": "stdout",
     "output_type": "stream",
     "text": [
      "<class 'list'>\n",
      "<class 'bytes'>\n",
      "10\n",
      "20\n",
      "30\n",
      "40\n",
      "50\n",
      "60\n"
     ]
    }
   ],
   "source": [
    "# bytes can hold the values from 0 to 256\n",
    "# You cant change the value of bytes once it is created\n",
    "\n",
    "\n",
    "a = [10,20,30,40,50,60]\n",
    "print(type(a))\n",
    "\n",
    "b = bytes(a)\n",
    "\n",
    "print(type(b))\n",
    "#b[0]=100\n",
    "# it will raise error:\n",
    "# bytes' object does not support item assignment\n",
    "\n",
    "\n",
    "i = 0\n",
    "while True:\n",
    "    if i == 6:\n",
    "        break\n",
    "    print(b[i])\n",
    "    i += 1\n",
    "\n"
   ]
  },
  {
   "cell_type": "code",
   "execution_count": 45,
   "metadata": {},
   "outputs": [
    {
     "name": "stdout",
     "output_type": "stream",
     "text": [
      "<class 'list'>\n",
      "<class 'bytearray'>\n",
      "10\n",
      "20\n",
      "30\n",
      "40\n",
      "50\n",
      "60\n",
      "New List:\n",
      "10\n",
      "150\n",
      "30\n",
      "40\n",
      "50\n",
      "60\n",
      "This is difference\n"
     ]
    }
   ],
   "source": [
    "# bytearray\n",
    "\n",
    "# You can change the value of bytearray after creatation also\n",
    "\n",
    "\n",
    "a = [10,20,30,40,50,60]\n",
    "print(type(a))\n",
    "\n",
    "b = bytearray(a)\n",
    "\n",
    "print(type(b))\n",
    "\n",
    "for i in b:\n",
    "    print(i)\n",
    "\n",
    "b[1]= 150\n",
    "print(\"New List:\")\n",
    "for i in b:\n",
    "    print(i)\n",
    "print(\"This is difference\")"
   ]
  },
  {
   "cell_type": "markdown",
   "metadata": {},
   "source": [
    "# Data Types"
   ]
  },
  {
   "cell_type": "raw",
   "metadata": {},
   "source": [
    "Text Type=>str\n",
    "Numeric Type=>int, float, complex\n",
    "Sequence Type=>list, tuple, range\n",
    "Mapping Type=>dict\n",
    "Set Type=>set, frozenset\n",
    "Boolean Type=>bool\n",
    "Binary Types=>bytes, bytearray, Memoryview"
   ]
  },
  {
   "cell_type": "markdown",
   "metadata": {},
   "source": [
    "# 1. List "
   ]
  },
  {
   "cell_type": "raw",
   "metadata": {},
   "source": [
    "1. List stores multiple items with different data types.\n",
    "2. [] brackets are used to create list\n",
    "3. List is ordered, changeable and stores duplicates also.\n",
    "4. List is growable, elements are added at end of list."
   ]
  },
  {
   "cell_type": "code",
   "execution_count": 46,
   "metadata": {},
   "outputs": [
    {
     "name": "stdout",
     "output_type": "stream",
     "text": [
      "[1, 2, 3, 4, 5]\n",
      "[10.2, 20.1, 30.3, 40.0, 50.21]\n",
      "['Nitin', 'Datta', 'Rahul', 'Padmaja']\n",
      "[1, 10.2, 'Nitin']\n"
     ]
    }
   ],
   "source": [
    "# ex\n",
    "list1 = [1,2,3,4,5]\n",
    "list2 = [10.2,20.1,30.3,40.0,50.21]\n",
    "list3 = ['Nitin', 'Datta', 'Rahul', 'Padmaja']\n",
    "list4 = [1,10.2,'Nitin']\n",
    "\n",
    "print(list1)\n",
    "print(list2)\n",
    "print(list3)\n",
    "print(list4)"
   ]
  },
  {
   "cell_type": "raw",
   "metadata": {},
   "source": [
    "# Accesing list items"
   ]
  },
  {
   "cell_type": "code",
   "execution_count": 47,
   "metadata": {},
   "outputs": [
    {
     "name": "stdout",
     "output_type": "stream",
     "text": [
      "<class 'list'>\n"
     ]
    },
    {
     "data": {
      "text/plain": [
       "list"
      ]
     },
     "execution_count": 47,
     "metadata": {},
     "output_type": "execute_result"
    }
   ],
   "source": [
    "print(type(list1))\n",
    "type(list1)"
   ]
  },
  {
   "cell_type": "code",
   "execution_count": 48,
   "metadata": {},
   "outputs": [
    {
     "name": "stdout",
     "output_type": "stream",
     "text": [
      "4\n",
      "1\n",
      "20.1\n",
      "Nitin\n",
      "[1, 2, 3, 4, 5]\n",
      "[10.2, 20.1, 30.3, 40.0, 50.21]\n",
      "['Nitin', 'Datta', 'Rahul', 'Padmaja']\n",
      "[1, 10.2, 'Nitin']\n",
      "************\n",
      "[1, 2, 3, 4, 5]\n"
     ]
    }
   ],
   "source": [
    "print(list1[3])\n",
    "\n",
    "\n",
    "print(list1[0])\n",
    "print(list2[1])\n",
    "print(list3[0])\n",
    "print(list1)\n",
    "print(list2)\n",
    "print(list3)\n",
    "print(list4)\n",
    "\n",
    "print(\"************\")\n",
    "print(list1)\n"
   ]
  },
  {
   "cell_type": "code",
   "execution_count": 49,
   "metadata": {},
   "outputs": [
    {
     "data": {
      "text/plain": [
       "[10.2, 20.1, 30.3, 40.0, 50.21]"
      ]
     },
     "execution_count": 49,
     "metadata": {},
     "output_type": "execute_result"
    }
   ],
   "source": [
    "list2[0: 10]"
   ]
  },
  {
   "cell_type": "code",
   "execution_count": 50,
   "metadata": {},
   "outputs": [
    {
     "data": {
      "text/plain": [
       "[10.2, 20.1, 30.3]"
      ]
     },
     "execution_count": 50,
     "metadata": {},
     "output_type": "execute_result"
    }
   ],
   "source": [
    "list2[0:-2]"
   ]
  },
  {
   "cell_type": "code",
   "execution_count": 51,
   "metadata": {},
   "outputs": [
    {
     "name": "stdout",
     "output_type": "stream",
     "text": [
      "length of list1:\n",
      "5\n"
     ]
    },
    {
     "data": {
      "text/plain": [
       "4"
      ]
     },
     "execution_count": 51,
     "metadata": {},
     "output_type": "execute_result"
    }
   ],
   "source": [
    "print('length of list1:')\n",
    "print(len(list1))\n",
    "\n",
    "\n",
    "len(list3)"
   ]
  },
  {
   "cell_type": "code",
   "execution_count": 52,
   "metadata": {},
   "outputs": [
    {
     "name": "stdout",
     "output_type": "stream",
     "text": [
      "[1, 2, 3, 4, 5]\n",
      "[1, 2, 3, 4, 5, 'sagar']\n"
     ]
    }
   ],
   "source": [
    "print(list1)\n",
    "list1.append(\"sagar\")\n",
    "print(list1)\n",
    "\n",
    "\n"
   ]
  },
  {
   "cell_type": "code",
   "execution_count": 53,
   "metadata": {},
   "outputs": [
    {
     "name": "stdout",
     "output_type": "stream",
     "text": [
      "[1, 2, 3, 4, 5, 'sagar']\n",
      "[1, 2, 3, 4, 'sagar']\n"
     ]
    }
   ],
   "source": [
    "print(list1)\n",
    "list1.remove(5)\n",
    "print(list1)"
   ]
  },
  {
   "cell_type": "code",
   "execution_count": 54,
   "metadata": {},
   "outputs": [
    {
     "name": "stdout",
     "output_type": "stream",
     "text": [
      "[1, 2, 3, 4, 'sagar']\n",
      "[1, 2, 4, 'sagar']\n"
     ]
    }
   ],
   "source": [
    "print(list1)\n",
    "list1.remove(3)\n",
    "print(list1)\n"
   ]
  },
  {
   "cell_type": "raw",
   "metadata": {},
   "source": [
    "# Available operations on list\n",
    "\n",
    "list1.append\n",
    "list1.clear\n",
    "list1.copy\n",
    "list1.count\n",
    "list1.extend\n",
    "list1.index\n",
    "list1.insert\n",
    "list1.pop\n",
    "list1.remove\n",
    "list1.reverse\n",
    "list1.sort\n"
   ]
  },
  {
   "cell_type": "code",
   "execution_count": null,
   "metadata": {},
   "outputs": [],
   "source": []
  },
  {
   "cell_type": "raw",
   "metadata": {},
   "source": [
    "#Change Values:"
   ]
  },
  {
   "cell_type": "code",
   "execution_count": 55,
   "metadata": {},
   "outputs": [
    {
     "name": "stdout",
     "output_type": "stream",
     "text": [
      "[1, 2, 4, 'sagar']\n",
      "[1, 2, 4, 'sagar', 6]\n"
     ]
    }
   ],
   "source": [
    "print(list1)\n",
    "list1.append(6)\n",
    "print(list1)"
   ]
  },
  {
   "cell_type": "code",
   "execution_count": 56,
   "metadata": {},
   "outputs": [
    {
     "name": "stdout",
     "output_type": "stream",
     "text": [
      "[1, 2, 4, 'sagar', 6]\n",
      "[1, 2, 4, 'sagar']\n"
     ]
    }
   ],
   "source": [
    "print(list1)\n",
    "list1.remove(6)\n",
    "print(list1)"
   ]
  },
  {
   "cell_type": "code",
   "execution_count": 57,
   "metadata": {},
   "outputs": [
    {
     "name": "stdout",
     "output_type": "stream",
     "text": [
      "[1, 2, 4, 'sagar']\n"
     ]
    }
   ],
   "source": [
    "list_1 = list1.copy()\n",
    "print(list_1)"
   ]
  },
  {
   "cell_type": "code",
   "execution_count": 58,
   "metadata": {},
   "outputs": [
    {
     "name": "stdout",
     "output_type": "stream",
     "text": [
      "[1, 2, 4, 'sagar']\n",
      "[1, 2, 4, 'sagar', 1, 'Sagar', 'apple', 'banana']\n"
     ]
    }
   ],
   "source": [
    "print(list1)\n",
    "\n",
    "list1.extend([1,\"Sagar\"])\n",
    "l = ['apple', 'banana']\n",
    "list1.extend(l)\n",
    "print(list1)"
   ]
  },
  {
   "cell_type": "code",
   "execution_count": 59,
   "metadata": {},
   "outputs": [
    {
     "name": "stdout",
     "output_type": "stream",
     "text": [
      "6\n"
     ]
    }
   ],
   "source": [
    "print(list1.index('apple'))"
   ]
  },
  {
   "cell_type": "code",
   "execution_count": 60,
   "metadata": {},
   "outputs": [
    {
     "name": "stdout",
     "output_type": "stream",
     "text": [
      "[1, 2, 4, 'sagar', 1, 'Sagar', 'apple', 'banana']\n",
      "[1, 2, 4, 100, 'sagar', 1, 'Sagar', 'apple', 'banana']\n"
     ]
    }
   ],
   "source": [
    "print(list1)\n",
    "list1.insert(3,100) # list1.insert(index, value_to_insert)\n",
    "print(list1)"
   ]
  },
  {
   "cell_type": "code",
   "execution_count": 61,
   "metadata": {},
   "outputs": [
    {
     "name": "stdout",
     "output_type": "stream",
     "text": [
      "[1, 2, 4, 100, 'sagar', 1, 'Sagar', 'apple', 'banana']\n",
      "[1, 4, 100, 'sagar', 1, 'Sagar', 'apple', 'banana']\n",
      "[1, 4, 100, 'sagar', 1, 'Sagar', 'apple']\n"
     ]
    }
   ],
   "source": [
    "print(list1)\n",
    "list1.pop(1) # pop element at this location list1.pop(location/index)\n",
    "print(list1)\n",
    "list1.pop() # pop last element\n",
    "print(list1)"
   ]
  },
  {
   "cell_type": "code",
   "execution_count": 62,
   "metadata": {},
   "outputs": [
    {
     "name": "stdout",
     "output_type": "stream",
     "text": [
      "[1, 4, 100, 'sagar', 1, 'Sagar', 'apple']\n",
      "['apple', 'Sagar', 1, 'sagar', 100, 4, 1]\n"
     ]
    }
   ],
   "source": [
    "print(list1)\n",
    "list1.reverse()\n",
    "print(list1)"
   ]
  },
  {
   "cell_type": "code",
   "execution_count": 63,
   "metadata": {},
   "outputs": [
    {
     "name": "stdout",
     "output_type": "stream",
     "text": [
      "[100, 2, 200, 88, 99, 20]\n",
      "Ascending\n",
      "[2, 20, 88, 99, 100, 200]\n",
      "Descending\n",
      "[200, 100, 99, 88, 20, 2]\n"
     ]
    }
   ],
   "source": [
    "list_1 = [100,2,200,88,99,20]\n",
    "print(list_1)\n",
    "print(\"Ascending\")\n",
    "list_1.sort(reverse=False) # Ascending\n",
    "print(list_1)\n",
    "print(\"Descending\")\n",
    "list_1.sort(reverse=True) # Descending\n",
    "print(list_1)"
   ]
  },
  {
   "cell_type": "code",
   "execution_count": 64,
   "metadata": {},
   "outputs": [
    {
     "name": "stdout",
     "output_type": "stream",
     "text": [
      "['apple', 'Sagar', 1, 'sagar', 100, 4, 1]\n",
      "['apple', 'XYZ', 1, 'sagar', 100, 4, 1]\n"
     ]
    }
   ],
   "source": [
    "print(list1)\n",
    "list1[1] = \"XYZ\"\n",
    "print(list1)"
   ]
  },
  {
   "cell_type": "code",
   "execution_count": 65,
   "metadata": {},
   "outputs": [
    {
     "name": "stdout",
     "output_type": "stream",
     "text": [
      "['apple', 'XYZ', 1, 'sagar', 100, 4, 1]\n",
      "['apple', 'XYZ', 'Nitin_1', 'Rahul_1', 100, 4, 1]\n"
     ]
    }
   ],
   "source": [
    "print(list1)\n",
    "list1[2:4] = ['Nitin_1', 'Rahul_1']\n",
    "print(list1)"
   ]
  },
  {
   "cell_type": "code",
   "execution_count": 66,
   "metadata": {},
   "outputs": [
    {
     "name": "stdout",
     "output_type": "stream",
     "text": [
      "7\n",
      "['apple', 'XYZ', 'Nitin_1', 'Rahul_1', 100, 4, 1]\n"
     ]
    }
   ],
   "source": [
    "print(len(list1))\n",
    "#list1[9] = 'Padmaja'\n",
    "print(list1)"
   ]
  },
  {
   "cell_type": "markdown",
   "metadata": {},
   "source": [
    "# Tuple"
   ]
  },
  {
   "cell_type": "raw",
   "metadata": {},
   "source": [
    "1. Tuple is ordered and unchangeble\n",
    "2. Immutable (you cant change the elements or cant add elements in tuple)\n",
    "3. () are used to represent the tuple\n",
    "4. Allow duplicates\n",
    "5. tuples are read only version of your list except list is growable"
   ]
  },
  {
   "cell_type": "code",
   "execution_count": 67,
   "metadata": {},
   "outputs": [
    {
     "name": "stdout",
     "output_type": "stream",
     "text": [
      "('apple', 'apple', 'banana', 'cherry', 'orange', 'kiwi', 'melon', 'mango')\n"
     ]
    }
   ],
   "source": [
    " tup = (\"apple\",'apple', \"banana\", \"cherry\", \"orange\", \"kiwi\", \"melon\", \"mango\")\n",
    "print(tup)"
   ]
  },
  {
   "cell_type": "code",
   "execution_count": 68,
   "metadata": {},
   "outputs": [
    {
     "name": "stdout",
     "output_type": "stream",
     "text": [
      "8\n",
      "2\n",
      "2\n"
     ]
    }
   ],
   "source": [
    "# length\n",
    "print(len(tup))\n",
    "# count\n",
    "print(tup.count('apple'))\n",
    "# index\n",
    "print(tup.index('banana'))"
   ]
  },
  {
   "cell_type": "code",
   "execution_count": 69,
   "metadata": {},
   "outputs": [
    {
     "name": "stdout",
     "output_type": "stream",
     "text": [
      "<class 'str'>\n",
      "<class 'tuple'>\n"
     ]
    }
   ],
   "source": [
    "\n",
    "\n",
    "tup1 = (\"apple\")\n",
    "print(type(tup1))\n",
    "\n",
    "tup1 = (\"apple\",)\n",
    "print(type(tup1))"
   ]
  },
  {
   "cell_type": "code",
   "execution_count": 70,
   "metadata": {},
   "outputs": [
    {
     "name": "stdout",
     "output_type": "stream",
     "text": [
      "('abc', 34, True, 40, 'male')\n"
     ]
    }
   ],
   "source": [
    "tup2 = (\"abc\", 34, True, 40, \"male\")\n",
    "print(tup2)"
   ]
  },
  {
   "cell_type": "code",
   "execution_count": 71,
   "metadata": {},
   "outputs": [
    {
     "name": "stdout",
     "output_type": "stream",
     "text": [
      "(10, 20, 30)\n"
     ]
    }
   ],
   "source": [
    "tup3 = tuple((10,20,30)) # tuple() constructor\n",
    "print(tup3)"
   ]
  },
  {
   "cell_type": "code",
   "execution_count": 72,
   "metadata": {},
   "outputs": [
    {
     "name": "stdout",
     "output_type": "stream",
     "text": [
      "('apple', 'apple', 'banana', 'cherry', 'orange', 'kiwi', 'melon', 'mango')\n"
     ]
    },
    {
     "data": {
      "text/plain": [
       "'apple'"
      ]
     },
     "execution_count": 72,
     "metadata": {},
     "output_type": "execute_result"
    }
   ],
   "source": [
    "# access\n",
    "print(tup)\n",
    "tup[1]"
   ]
  },
  {
   "cell_type": "code",
   "execution_count": 73,
   "metadata": {},
   "outputs": [
    {
     "name": "stdout",
     "output_type": "stream",
     "text": [
      "('apple', 'apple', 'banana', 'cherry', 'orange', 'kiwi', 'melon', 'mango')\n"
     ]
    },
    {
     "data": {
      "text/plain": [
       "'melon'"
      ]
     },
     "execution_count": 73,
     "metadata": {},
     "output_type": "execute_result"
    }
   ],
   "source": [
    "print(tup)\n",
    "tup[-2]"
   ]
  },
  {
   "cell_type": "code",
   "execution_count": 74,
   "metadata": {},
   "outputs": [
    {
     "data": {
      "text/plain": [
       "('apple', 'apple')"
      ]
     },
     "execution_count": 74,
     "metadata": {},
     "output_type": "execute_result"
    }
   ],
   "source": [
    "# range of items\n",
    "tup[0:2]"
   ]
  },
  {
   "cell_type": "code",
   "execution_count": 75,
   "metadata": {},
   "outputs": [
    {
     "name": "stdout",
     "output_type": "stream",
     "text": [
      "('apple', 'apple', 'banana', 'cherry', 'orange', 'kiwi', 'melon', 'mango')\n",
      "<class 'tuple'>\n",
      "['apple', 'apple', 'banana', 'cherry', 'orange', 'kiwi', 'melon', 'mango']\n",
      "<class 'list'>\n",
      "['apple', 'apple', 'potato', 'cherry', 'orange', 'kiwi', 'melon', 'mango']\n",
      "('apple', 'apple', 'potato', 'cherry', 'orange', 'kiwi', 'melon', 'mango')\n"
     ]
    }
   ],
   "source": [
    "# change tuple value using list\n",
    "# Do here\n",
    "print(tup)\n",
    "print(type(tup))\n",
    "var = list(tup)\n",
    "print(var)\n",
    "print(type(var))\n",
    "\n",
    "# change value\n",
    "\n",
    "var[2] = 'potato'\n",
    "print(var)\n",
    "\n",
    "# convert back to tuple\n",
    "\n",
    "tup = tuple(var)\n",
    "print(tup)\n"
   ]
  },
  {
   "cell_type": "code",
   "execution_count": 76,
   "metadata": {},
   "outputs": [
    {
     "name": "stdout",
     "output_type": "stream",
     "text": [
      "('apple', 'apple', 'potato', 'cherry', 'orange', 'kiwi', 'melon', 'mango')\n",
      "<class 'tuple'>\n",
      "['apple', 'apple', 'potato', 'cherry', 'orange', 'kiwi', 'melon', 'mango']\n",
      "<class 'list'>\n",
      "('apple', 'apple', 'tomato', 'potato', 'cherry', 'orange', 'kiwi', 'melon', 'mango')\n"
     ]
    }
   ],
   "source": [
    "# Add items\n",
    "print(tup)\n",
    "print(type(tup))\n",
    "var = list(tup)\n",
    "print(var)\n",
    "print(type(var))\n",
    "\n",
    "var.insert(2,'tomato')\n",
    "\n",
    "tup = tuple(var)\n",
    "print(tup)\n",
    "\n",
    "# convert back to tuple\n"
   ]
  },
  {
   "cell_type": "code",
   "execution_count": 77,
   "metadata": {},
   "outputs": [],
   "source": [
    "# tuple concat +"
   ]
  },
  {
   "cell_type": "code",
   "execution_count": 78,
   "metadata": {},
   "outputs": [],
   "source": [
    "# remove items using list"
   ]
  },
  {
   "cell_type": "code",
   "execution_count": 79,
   "metadata": {},
   "outputs": [],
   "source": [
    "# Complete deletion of tuple using del tuple_name"
   ]
  },
  {
   "cell_type": "code",
   "execution_count": 80,
   "metadata": {},
   "outputs": [
    {
     "name": "stdout",
     "output_type": "stream",
     "text": [
      "apple\n",
      "banana\n",
      "['cherry', 'strawberry', 'raspberry']\n"
     ]
    }
   ],
   "source": [
    "# Use of asterisk\n",
    "fruits = (\"apple\", \"banana\", \"cherry\", \"strawberry\", \"raspberry\")\n",
    "\n",
    "(green, yellow, *red) = fruits\n",
    "\n",
    "print(green)\n",
    "print(yellow)\n",
    "print(red)\n"
   ]
  },
  {
   "cell_type": "code",
   "execution_count": 81,
   "metadata": {},
   "outputs": [
    {
     "name": "stdout",
     "output_type": "stream",
     "text": [
      "apple\n",
      "['mango', 'papaya', 'pineapple']\n",
      "cherry\n"
     ]
    }
   ],
   "source": [
    " fruits = (\"apple\", \"mango\", \"papaya\", \"pineapple\", \"cherry\")\n",
    "\n",
    "(green, *tropic, red) = fruits\n",
    "\n",
    "print(green)\n",
    "print(tropic)\n",
    "print(red)"
   ]
  },
  {
   "cell_type": "code",
   "execution_count": 82,
   "metadata": {},
   "outputs": [
    {
     "name": "stdout",
     "output_type": "stream",
     "text": [
      "('apple', 'apple', 'tomato', 'potato', 'cherry', 'orange', 'kiwi', 'melon', 'mango')\n",
      "1\n",
      "('apple', 'apple', 'tomato', 'potato', 'cherry', 'orange', 'kiwi', 'melon', 'mango')\n",
      "3\n"
     ]
    }
   ],
   "source": [
    "# Methods: count() and index()\n",
    "print(tup)\n",
    "cnt = tup.count('tomato')\n",
    "print(cnt)\n",
    "\n",
    "print(tup)\n",
    "ind = tup.index('potato')\n",
    "print(ind)"
   ]
  },
  {
   "cell_type": "code",
   "execution_count": 83,
   "metadata": {},
   "outputs": [],
   "source": [
    "# Try assigning values to tuples\n",
    "# tup[0] = 'grapes'\n",
    "# TypeError: 'tuple' object does not support item assignment\n"
   ]
  },
  {
   "cell_type": "markdown",
   "metadata": {},
   "source": [
    "# Set"
   ]
  },
  {
   "cell_type": "raw",
   "metadata": {},
   "source": [
    "1. set is unordered collections of elements\n",
    "2. It is mutable\n",
    "3. It is growable\n",
    "4. Set items are unchangeable\n",
    "5. {} are used to represent set\n",
    "6. Index concept is not applicable\n",
    "7. duplicates are not allowed"
   ]
  },
  {
   "cell_type": "code",
   "execution_count": 84,
   "metadata": {},
   "outputs": [
    {
     "name": "stdout",
     "output_type": "stream",
     "text": [
      "{1, 2, 'cherry', 3, 'sagar', 'nitin'}\n",
      "<class 'set'>\n"
     ]
    }
   ],
   "source": [
    "s = {1,2,3,'sagar', 'nitin', 'cherry'}\n",
    "print(s)\n",
    "print(type(s))\n",
    "\n"
   ]
  },
  {
   "cell_type": "code",
   "execution_count": 85,
   "metadata": {},
   "outputs": [
    {
     "name": "stdout",
     "output_type": "stream",
     "text": [
      "6\n"
     ]
    }
   ],
   "source": [
    "print(len(s))"
   ]
  },
  {
   "cell_type": "code",
   "execution_count": 86,
   "metadata": {},
   "outputs": [
    {
     "name": "stdout",
     "output_type": "stream",
     "text": [
      "{'banana', 'cherry', 'apple'}\n",
      "<class 'set'>\n"
     ]
    }
   ],
   "source": [
    "# set( (\"Val\",1,2,3,\"sagar\")   ) constructor\n",
    "set1 = set((\"apple\", \"banana\", \"cherry\")) \n",
    "print(set1)\n",
    "print(type(set1))"
   ]
  },
  {
   "cell_type": "code",
   "execution_count": 87,
   "metadata": {},
   "outputs": [
    {
     "name": "stdout",
     "output_type": "stream",
     "text": [
      "False\n",
      "True\n"
     ]
    }
   ],
   "source": [
    "# accessing set\n",
    "val= \"banana\" in s\n",
    "\n",
    "print(val)\n",
    "\n",
    "print(1 in s)\n",
    "\n",
    "# s = {1,2,3,4}   a = {3,4,5,6}   sd = {1,2,5,6}"
   ]
  },
  {
   "cell_type": "code",
   "execution_count": 88,
   "metadata": {},
   "outputs": [
    {
     "name": "stdout",
     "output_type": "stream",
     "text": [
      "{'banana', 'cherry', 'apple'}\n",
      "{'banana', 'cherry', 'apple', 'orange'}\n"
     ]
    }
   ],
   "source": [
    "# once set is created u can not change elements value, \n",
    "# but u can add values\n",
    "print(set1)\n",
    "set1.add('orange')\n",
    "print(set1)"
   ]
  },
  {
   "cell_type": "code",
   "execution_count": 89,
   "metadata": {},
   "outputs": [
    {
     "name": "stdout",
     "output_type": "stream",
     "text": [
      "{'mango', 'cherry', 'apple', 'orange', 'papaya', 'banana', 'pineapple'}\n",
      "{'mango', 1, 'cherry', 2, 3, 'apple', 'orange', 'papaya', 'banana', 'pineapple'}\n"
     ]
    }
   ],
   "source": [
    "# using update you can add any iterable items like set, list,tuple, dict-keys\n",
    "set2 = {\"pineapple\", \"mango\", \"papaya\"}\n",
    "#dict1 = {'a': 97}\n",
    "tup = (1,2,3)\n",
    "\n",
    "set1.update(set2)\n",
    "print(set1)\n",
    "set1.update(tup)\n",
    "\n",
    "print(set1)"
   ]
  },
  {
   "cell_type": "code",
   "execution_count": 90,
   "metadata": {},
   "outputs": [
    {
     "name": "stdout",
     "output_type": "stream",
     "text": [
      "Remove using remove():\n",
      " {'mango', 1, 'cherry', 2, 3, 'apple', 'orange', 'papaya', 'banana', 'pineapple'}\n",
      "{'mango', 1, 'cherry', 2, 3, 'apple', 'orange', 'papaya', 'banana', 'pineapple'}\n",
      "Remove using discard():\n",
      " {'mango', 1, 'cherry', 2, 3, 'apple', 'orange', 'papaya', 'banana', 'pineapple'}\n",
      "{'mango', 1, 'cherry', 3, 'apple', 'orange', 'papaya', 'banana', 'pineapple'}\n",
      "Remove using pop():\n",
      " {'mango', 1, 'cherry', 3, 'apple', 'orange', 'papaya', 'banana', 'pineapple'}\n",
      "{1, 'cherry', 3, 'apple', 'orange', 'papaya', 'banana', 'pineapple'}\n",
      "mango\n"
     ]
    }
   ],
   "source": [
    "# remove(), discard(), pop()\n",
    "print(\"Remove using remove():\\n\",set1)\n",
    "#set1.remove('banana')\n",
    "print(set1)\n",
    "\n",
    "print(\"Remove using discard():\\n\",set1)\n",
    "set1.discard(2)\n",
    "print(set1)\n",
    "\n",
    "print(\"Remove using pop():\\n\",set1)\n",
    "res = set1.pop()\n",
    "print(set1)\n",
    "print(res)"
   ]
  },
  {
   "cell_type": "code",
   "execution_count": 91,
   "metadata": {},
   "outputs": [
    {
     "name": "stdout",
     "output_type": "stream",
     "text": [
      "{1, 2, 'cherry', 3, 'sagar', 'nitin'}\n",
      "\n",
      "{1, 2, 'cherry', 3, 'papaya', 'banana', 'sagar', 'nitin', 'apple', 'orange', 'pineapple'}\n"
     ]
    }
   ],
   "source": [
    "# union\n",
    "\n",
    "# adds elements of two sets and create new set\n",
    "\n",
    "print(s)\n",
    "print()\n",
    "s1 = s.union(set1)\n",
    "print(s1)\n",
    "\n",
    "# update method word for union only but adds element to calling set"
   ]
  },
  {
   "cell_type": "code",
   "execution_count": 92,
   "metadata": {},
   "outputs": [
    {
     "name": "stdout",
     "output_type": "stream",
     "text": [
      "{1, 2, 'cherry', 3, 'sagar', 'nitin'}\n",
      "{1, 'cherry', 3, 'apple', 'orange', 'papaya', 'banana', 'pineapple'}\n",
      "itersection:\n",
      " {1, 'cherry', 3}\n",
      "itersection Update:\n",
      " {1, 'cherry', 3}\n"
     ]
    }
   ],
   "source": [
    "#\n",
    "print(s)\n",
    "print(set1)\n",
    "intr = s.intersection(set1)\n",
    "print(\"itersection:\\n\",intr)\n",
    "\n",
    "# keeps duplicates in s1 \n",
    "s.intersection_update(set1)\n",
    "print(\"itersection Update:\\n\",s)\n"
   ]
  },
  {
   "cell_type": "code",
   "execution_count": 93,
   "metadata": {},
   "outputs": [
    {
     "name": "stdout",
     "output_type": "stream",
     "text": [
      "{1, 'cherry', 3}\n",
      "{1, 'cherry', 3, 'apple', 'orange', 'papaya', 'banana', 'pineapple'}\n",
      "{1, 'cherry', 3}\n",
      "Symmetric Difference:\n",
      "\n",
      "Symmetric difference:\n",
      " {1, 2, 4, 6, 7, 8, 9}\n",
      "difference:\n",
      " {1, 2, 4, 6}\n"
     ]
    }
   ],
   "source": [
    "# keeps elements which are not present in other set\n",
    "s_1 ={1,2,3,4,5,6}\n",
    "s_2 = {3,5,7,8,9}\n",
    "\n",
    "print(s)\n",
    "print(set1)\n",
    "#s.symmetric_difference_update(set1)\n",
    "\n",
    "print(s) \n",
    "\n",
    "\n",
    "# returns new set\n",
    "\n",
    "print(\"Symmetric Difference:\\n\")\n",
    "\n",
    "k = s_1.symmetric_difference(s_2) \n",
    "# return elements which are present in s_1 not in s_2 + present in s_2 but not in s_1\n",
    "v = s_1.difference(s_2) \n",
    "# returns new set with elements present in s_1 but not in s_2\n",
    "print(\"Symmetric difference:\\n\",k)\n",
    "print(\"difference:\\n\",v) "
   ]
  },
  {
   "cell_type": "code",
   "execution_count": 94,
   "metadata": {},
   "outputs": [
    {
     "name": "stdout",
     "output_type": "stream",
     "text": [
      "False\n",
      "S:\n",
      "\n",
      "{1, 'cherry', 3}\n",
      "Set1:\n",
      "\n",
      "{1, 'cherry', 3, 'apple', 'orange', 'papaya', 'banana', 'pineapple'}\n",
      "False\n",
      "True\n"
     ]
    }
   ],
   "source": [
    "#isdisjoint()Returns whether two sets have a intersection or not\n",
    "#issubset()Returns whether another set contains this set or not\n",
    "#issuperset()Returns whether this set contains another set or not\n",
    "\n",
    "print(s.isdisjoint(set1))\n",
    "print(\"S:\\n\")\n",
    "print(s)\n",
    "print(\"Set1:\\n\")\n",
    "print(set1)\n",
    "print(set1.issubset(s))\n",
    "print(set1.issuperset(s))"
   ]
  },
  {
   "cell_type": "code",
   "execution_count": 95,
   "metadata": {},
   "outputs": [
    {
     "name": "stdout",
     "output_type": "stream",
     "text": [
      "{1, 'cherry', 3}\n"
     ]
    }
   ],
   "source": [
    "# del and clear() method removes the set completely\n",
    "\n",
    "# uncomment to run it and see result\n",
    "print(s)\n",
    "#del s1\n",
    "#print(s1)"
   ]
  },
  {
   "cell_type": "markdown",
   "metadata": {},
   "source": [
    "# frozenset"
   ]
  },
  {
   "cell_type": "code",
   "execution_count": 96,
   "metadata": {},
   "outputs": [
    {
     "name": "stdout",
     "output_type": "stream",
     "text": [
      "<class 'set'>\n",
      "frozenset({1, 'cherry', 3, 'papaya', 'banana', 'apple', 'orange', 'pineapple'})\n",
      "<class 'frozenset'>\n",
      "frozenset({1, 'cherry', 3, 'papaya', 'banana', 'apple', 'orange', 'pineapple'})\n",
      "<class 'frozenset'>\n"
     ]
    }
   ],
   "source": [
    "# frozen set is same as set but it is immutable\n",
    "\n",
    "print(type(set1))\n",
    "s = frozenset(set1)\n",
    "print(s)\n",
    "print(type(s))\n",
    "# supported methods for frozen set\n",
    "\n",
    "s1 = s.copy()\n",
    "'''\n",
    "s.difference()\n",
    "s.intersection()\n",
    "s.isdisjoint()\n",
    "s.issubset()\n",
    "s.issuperset()\n",
    "s.symmetric_difference()\n",
    "s.union()\n",
    "'''\n",
    "print(s1)\n",
    "print(type(s1))"
   ]
  },
  {
   "cell_type": "markdown",
   "metadata": {},
   "source": [
    "# Dictionary"
   ]
  },
  {
   "cell_type": "raw",
   "metadata": {},
   "source": [
    "1. stores data in key:value pair\n",
    "2. It is ordered, changeable and does not allow duplicates.\n",
    "3. {} are used to write dictionaries\n",
    "4. Items are reffered by using key\n",
    "5. From Python version 3.7, dictionaries are ordered. "
   ]
  },
  {
   "cell_type": "code",
   "execution_count": 97,
   "metadata": {},
   "outputs": [
    {
     "name": "stdout",
     "output_type": "stream",
     "text": [
      "<class 'dict'>\n",
      "{'name': 'Vaibhav', 'class': 'BE', 'rollno': 1}\n",
      "Vaibhav\n",
      "dict_items([('name', 'Vaibhav'), ('class', 'BE'), ('rollno', 1)])\n",
      "dict_keys(['name', 'class', 'rollno'])\n",
      "dict_values(['Vaibhav', 'BE', 1])\n",
      "dict_keys(['address', 'name', 'class', 'rollno'])\n",
      "dict_values(['solapur', 'pune', 'BE', 'Vaibhav', 1, 88.89])\n"
     ]
    }
   ],
   "source": [
    "stud = {\n",
    "    'rollno' : 1,\n",
    "    'name' : \"Vaibhav\",\n",
    "    'class' : 'BE'\n",
    "    \n",
    "}\n",
    "\n",
    "\n",
    "\n",
    "dict1 = {\n",
    "    'name' : 'Nitn',\n",
    "    'mobile' : 9975923975,\n",
    "    'address' : 'sangola',\n",
    "    'job' : 'Data',\n",
    "    'salary' : 550000.20,\n",
    "    1 : 10000\n",
    "    \n",
    "}\n",
    "\n",
    "print(type(dict1))\n",
    "\n",
    "\n",
    "print(stud)\n",
    "print(stud['name'])\n",
    "print(stud.items())\n",
    "print(stud.keys())\n",
    "print(stud.values())\n",
    "stud['address'] = \"pune\"\n",
    "stud['name']\n",
    "print(stud.keys())\n",
    "stud.update({'city':'solapur','marks': 88.89})\n",
    "print(stud.values())"
   ]
  },
  {
   "cell_type": "code",
   "execution_count": 99,
   "metadata": {},
   "outputs": [
    {
     "name": "stdout",
     "output_type": "stream",
     "text": [
      "Nitn\n"
     ]
    },
    {
     "ename": "NameError",
     "evalue": "name 'd' is not defined",
     "output_type": "error",
     "traceback": [
      "\u001b[0;31m---------------------------------------------------------------------------\u001b[0m",
      "\u001b[0;31mNameError\u001b[0m                                 Traceback (most recent call last)",
      "\u001b[0;32m<ipython-input-99-139df212512f>\u001b[0m in \u001b[0;36m<module>\u001b[0;34m\u001b[0m\n\u001b[1;32m      3\u001b[0m \u001b[0mdict1\u001b[0m\u001b[0;34m[\u001b[0m\u001b[0;34m'job'\u001b[0m\u001b[0;34m]\u001b[0m\u001b[0;34m\u001b[0m\u001b[0m\n\u001b[1;32m      4\u001b[0m \u001b[0;34m\u001b[0m\u001b[0m\n\u001b[0;32m----> 5\u001b[0;31m \u001b[0md\u001b[0m\u001b[0;34m[\u001b[0m\u001b[0;36m3\u001b[0m\u001b[0;34m]\u001b[0m\u001b[0;34m\u001b[0m\u001b[0m\n\u001b[0m",
      "\u001b[0;31mNameError\u001b[0m: name 'd' is not defined"
     ]
    }
   ],
   "source": [
    "print(dict1['name'])\n",
    "dict1['mobile']\n",
    "dict1['job']\n"
   ]
  },
  {
   "cell_type": "code",
   "execution_count": null,
   "metadata": {},
   "outputs": [],
   "source": [
    "print(len(dict1))\n",
    "\n"
   ]
  },
  {
   "cell_type": "code",
   "execution_count": 100,
   "metadata": {},
   "outputs": [
    {
     "name": "stdout",
     "output_type": "stream",
     "text": [
      "<class 'dict'>\n"
     ]
    },
    {
     "ename": "NameError",
     "evalue": "name 'd' is not defined",
     "output_type": "error",
     "traceback": [
      "\u001b[0;31m---------------------------------------------------------------------------\u001b[0m",
      "\u001b[0;31mNameError\u001b[0m                                 Traceback (most recent call last)",
      "\u001b[0;32m<ipython-input-100-27d85f454f37>\u001b[0m in \u001b[0;36m<module>\u001b[0;34m\u001b[0m\n\u001b[1;32m      1\u001b[0m \u001b[0mprint\u001b[0m\u001b[0;34m(\u001b[0m\u001b[0mtype\u001b[0m\u001b[0;34m(\u001b[0m\u001b[0mdict1\u001b[0m\u001b[0;34m)\u001b[0m\u001b[0;34m)\u001b[0m\u001b[0;34m\u001b[0m\u001b[0m\n\u001b[0;32m----> 2\u001b[0;31m \u001b[0mtype\u001b[0m\u001b[0;34m(\u001b[0m\u001b[0md\u001b[0m\u001b[0;34m)\u001b[0m\u001b[0;34m\u001b[0m\u001b[0m\n\u001b[0m",
      "\u001b[0;31mNameError\u001b[0m: name 'd' is not defined"
     ]
    }
   ],
   "source": [
    "print(type(dict1))\n"
   ]
  },
  {
   "cell_type": "code",
   "execution_count": null,
   "metadata": {},
   "outputs": [],
   "source": [
    "# accesing elemnts\n",
    "\n",
    "print(dict1['salary'])\n",
    "\n",
    "s = dict1.get('job')\n",
    "print(s)\n",
    "dict1['address']\n",
    "dict1.get('salary')\n",
    "\n",
    "\n",
    "print(d[2])\n",
    "r = d.get(3)\n",
    "print(r)"
   ]
  },
  {
   "cell_type": "code",
   "execution_count": null,
   "metadata": {},
   "outputs": [],
   "source": [
    "print(dict1.keys())\n",
    "dict1.values()\n",
    "\n",
    "d.keys()\n",
    "d.values()"
   ]
  },
  {
   "cell_type": "code",
   "execution_count": null,
   "metadata": {},
   "outputs": [],
   "source": [
    "\n",
    "\n",
    "# add new item\n",
    "dict1['c_address'] = 'Pune'\n",
    "\n",
    "\n",
    "dict1['alt_mo'] = 7778778899\n",
    "print(dict1.keys())\n",
    "print(dict1.values())\n",
    "\n",
    "\n",
    "\n",
    "dict1['email'] = 'nitin@gmail.com'\n",
    "print(dict1.keys())\n",
    "print(dict1.values())\n",
    "\n",
    "d[4] = 'd'\n",
    "\n",
    "print(d)\n"
   ]
  },
  {
   "cell_type": "code",
   "execution_count": null,
   "metadata": {},
   "outputs": [],
   "source": [
    "# values\n",
    "print(dict1.values())"
   ]
  },
  {
   "cell_type": "code",
   "execution_count": null,
   "metadata": {},
   "outputs": [],
   "source": [
    "dict1.items()\n",
    "print(d)\n",
    "d.items()"
   ]
  },
  {
   "cell_type": "code",
   "execution_count": null,
   "metadata": {},
   "outputs": [],
   "source": [
    "#print(dict1.items())\n",
    "#print(dict1)\n",
    "print(d)\n",
    "\n",
    "4 in d\n"
   ]
  },
  {
   "cell_type": "code",
   "execution_count": null,
   "metadata": {},
   "outputs": [],
   "source": [
    "print('name' in dict1)\n",
    "\n"
   ]
  },
  {
   "cell_type": "code",
   "execution_count": null,
   "metadata": {},
   "outputs": [],
   "source": [
    "# change value\n",
    "#print(dict1)\n",
    "dict1['height'] = 180\n",
    "#print(dict1)\n",
    "\n",
    "print(d)\n",
    "d[3] = 'cc'\n",
    "d.values()"
   ]
  },
  {
   "cell_type": "code",
   "execution_count": null,
   "metadata": {},
   "outputs": [],
   "source": [
    "# update\n",
    "#print(dict1)\n",
    "#dict1.update({'frined':'rahul',\n",
    "#            'city':'Indapur'})\n",
    "#print(dict1)\n",
    "\n",
    "print(d)\n",
    "d.update({\n",
    "    1: 'apple',\n",
    "    5: 'e'\n",
    "})\n",
    "\n",
    "print(d.items())\n"
   ]
  },
  {
   "cell_type": "code",
   "execution_count": null,
   "metadata": {},
   "outputs": [],
   "source": [
    "print(type(dict1))"
   ]
  },
  {
   "cell_type": "code",
   "execution_count": null,
   "metadata": {},
   "outputs": [],
   "source": [
    "# Remove item\n",
    "#print(dict1)\n",
    "#dict1.pop('c_address')\n",
    "#print(dict1)\n",
    "#dict1.popitem()\n",
    "#print(d)\n",
    "#d.popitem()\n"
   ]
  },
  {
   "cell_type": "code",
   "execution_count": null,
   "metadata": {},
   "outputs": [],
   "source": [
    "# del can remove items as well as removes the dictionary\n",
    "print(dict1)\n",
    "#del dict1['job']\n",
    "print(dict1)\n",
    "#del dict1\n",
    "\n",
    "d[1] = 'a'\n",
    "d[2] = 'b'\n",
    "d[3] = 'c'\n",
    "print(d)\n",
    "\n",
    "del d[3]\n",
    "d.items()"
   ]
  },
  {
   "cell_type": "code",
   "execution_count": null,
   "metadata": {},
   "outputs": [],
   "source": [
    "# clear() method and del keyword are used to remove and empty the dict\n",
    "\n",
    "print(dict1)\n",
    "dict1.clear()\n",
    "print(dict1)"
   ]
  },
  {
   "cell_type": "code",
   "execution_count": null,
   "metadata": {},
   "outputs": [],
   "source": [
    "# copy dictionary\n",
    "\n",
    "dict_1 = dict1 # this is reference to your dict not copy of dict1\n",
    "print(dict1)\n",
    "print(dict_1)\n",
    "\n",
    "dict_1['mobile'] = 9975923975 # added to dict_1 , same reflected in dict1\n",
    "print(dict1)"
   ]
  },
  {
   "cell_type": "code",
   "execution_count": null,
   "metadata": {},
   "outputs": [],
   "source": [
    "# copy() method\n",
    "\n",
    "print(dict1)\n",
    "dict2 = dict1.copy()\n",
    "dict2['random'] = 'val'\n",
    "print(dict2) # random added \n",
    "print(dict1) # not reflected in dict1"
   ]
  },
  {
   "cell_type": "code",
   "execution_count": null,
   "metadata": {},
   "outputs": [],
   "source": [
    "# dict() for copy\n",
    "\n",
    "dict3 = dict(dict1)\n",
    "print(dict3)\n"
   ]
  },
  {
   "cell_type": "code",
   "execution_count": null,
   "metadata": {},
   "outputs": [],
   "source": [
    "parent = {\n",
    "    'p_key' : son,\n",
    "    'p_name': 'Parent_name',\n",
    "    \n",
    "         }\n",
    "son = {\n",
    "     's_key' : grandson,\n",
    "    's_name': 'Son_name',\n",
    "}\n",
    "\n",
    "grandson = {\n",
    "    'g_name':'Grand_son_name'\n",
    "}\n",
    "\n",
    "family = {\n",
    "    'f_key' : parent, \n",
    "}\n",
    "\n",
    "print(family)"
   ]
  },
  {
   "cell_type": "code",
   "execution_count": null,
   "metadata": {},
   "outputs": [],
   "source": [
    "family\n"
   ]
  },
  {
   "cell_type": "code",
   "execution_count": null,
   "metadata": {},
   "outputs": [],
   "source": [
    "# access parent directory\n",
    "family['f_key']"
   ]
  },
  {
   "cell_type": "code",
   "execution_count": null,
   "metadata": {},
   "outputs": [],
   "source": [
    "# access child directory\n",
    "family['f_key']['p_key']"
   ]
  },
  {
   "cell_type": "code",
   "execution_count": null,
   "metadata": {},
   "outputs": [],
   "source": [
    "# access grand child\n",
    "family['f_key']['p_key']['s_key']"
   ]
  },
  {
   "cell_type": "code",
   "execution_count": null,
   "metadata": {},
   "outputs": [],
   "source": [
    "family['f_key']['p_key']['s_key']['g_name']"
   ]
  },
  {
   "cell_type": "markdown",
   "metadata": {},
   "source": [
    "# Operators"
   ]
  },
  {
   "cell_type": "raw",
   "metadata": {},
   "source": [
    "Python operators:\n",
    "\n",
    "    1. Arithmetic operators\n",
    "    2. Assignment operators\n",
    "    3. Comparison operators\n",
    "    4. Logical operators\n",
    "    5. Identity operators\n",
    "    6. Membership operators\n",
    "    7. Bitwise operators"
   ]
  },
  {
   "cell_type": "code",
   "execution_count": null,
   "metadata": {},
   "outputs": [],
   "source": [
    "# 1. Arithmetic operators"
   ]
  },
  {
   "cell_type": "raw",
   "metadata": {},
   "source": [
    "1. + Addition x + y\n",
    "2. - Subtraction x - y \n",
    "3. * Multiplication x * y \n",
    "4. / Division x / y \n",
    "5. % Modulus x % y \n",
    "6. ** Exponentiation x ** y \n",
    "7. // Floor division x // y"
   ]
  },
  {
   "cell_type": "code",
   "execution_count": null,
   "metadata": {},
   "outputs": [],
   "source": [
    "# addition\n",
    "print('***Addition***')\n",
    "var1 = 10.20\n",
    "var2 = 20.20\n",
    "res = var1 + var2\n",
    "print('sum: \\t',res)\n",
    "\n",
    "print('***Sustraction***')\n",
    "var1 = 10.20\n",
    "var2 = 20.20\n",
    "res = var2 - var1\n",
    "print('Substraction: \\t',res)\n",
    "\n",
    "print('***Multiplication***')\n",
    "var1 = 10.20\n",
    "var2 = 20.20\n",
    "res = var1 * var2\n",
    "print('Mul: \\t',res)\n",
    "\n",
    "\n",
    "print('***Division***')\n",
    "var1 = 10.20\n",
    "var2 = 20.20\n",
    "res = var2 / var1\n",
    "print('Div: \\t',res)\n",
    "\n",
    "\n",
    "print('***Modulo***')\n",
    "var1 = 10.20\n",
    "var2 = 20.20\n",
    "res = var2 % var1\n",
    "print('Mod: \\t',res)\n",
    "\n",
    "\n",
    "print('***Floor Division***')\n",
    "var1 = 10.20\n",
    "var2 = 20.20\n",
    "res = var2 // var1\n",
    "print('Floor Div: \\t',res)"
   ]
  },
  {
   "cell_type": "raw",
   "metadata": {},
   "source": [
    "# 2. Assignment Operators"
   ]
  },
  {
   "cell_type": "raw",
   "metadata": {},
   "source": [
    "1.  = x = 5 x = 5 \n",
    "2. += x += 4 x = x + 4\n",
    "3. -= x -= 5 x = x - 5 \n",
    "4. *= x *= 8 x = x * 8 \n",
    "5. /= x /= 7 x = x / 7 \n",
    "6. %= x %= 5 x = x % 5 \n",
    "7. //= x //= 3 x = x // 3 \n",
    "8. **= x **= 2 x = x ** 2\n",
    "9. &= x &= 2 x = x & 2\n",
    "10. |= x |= 2 x = x | 2\n",
    "11. ^= x ^= 4 x = x ^ 4\n",
    "12. >>= x >>= 4 x = x >> 4\n",
    "13. <<= x <<= 5 x = x << 5"
   ]
  },
  {
   "cell_type": "code",
   "execution_count": 101,
   "metadata": {},
   "outputs": [
    {
     "name": "stdout",
     "output_type": "stream",
     "text": [
      "55\n",
      "65\n",
      "55\n",
      "550\n",
      "55.0\n",
      "5.0\n",
      "0.0\n",
      "125\n"
     ]
    }
   ],
   "source": [
    "var = 55\n",
    "print(var)\n",
    "var += 10    # var = var + 10\n",
    "print(var)\n",
    "\n",
    "var -= 10    \n",
    "print(var)\n",
    "\n",
    "var *= 10   \n",
    "print(var)\n",
    "\n",
    "\n",
    "var /= 10   \n",
    "print(var)\n",
    "\n",
    "\n",
    "var %= 10   \n",
    "print(var)\n",
    "\n",
    "\n",
    "var //= 10   \n",
    "print(var)\n",
    "\n",
    "var = 5\n",
    "\n",
    "var **= 3   \n",
    "print(var)"
   ]
  },
  {
   "cell_type": "code",
   "execution_count": 102,
   "metadata": {},
   "outputs": [
    {
     "name": "stdout",
     "output_type": "stream",
     "text": [
      "Value of x is: \t 10\n",
      "prior x is:  10\n",
      "post x is:  20\n",
      "1\n"
     ]
    }
   ],
   "source": [
    "x = 10\n",
    "print('Value of x is: \\t',x)\n",
    "\n",
    "\n",
    "print('prior x is: ',x)\n",
    "x += 10\n",
    "print('post x is: ',x)\n",
    "\n",
    "y =2 and 1\n",
    "\n",
    "# returns x or y if both are true\n",
    "print(y)"
   ]
  },
  {
   "cell_type": "code",
   "execution_count": 103,
   "metadata": {},
   "outputs": [],
   "source": [
    "# 3. Comparison Operators"
   ]
  },
  {
   "cell_type": "raw",
   "metadata": {},
   "source": [
    "1. == Equal x == y\n",
    "2. != Not equal x != y\n",
    "3. > Greater than x > y\n",
    "4. < Less than x < y \n",
    "5. >= Greater than or equal to x >= y \n",
    "6. <= Less than or equal to x <= y"
   ]
  },
  {
   "cell_type": "code",
   "execution_count": 104,
   "metadata": {},
   "outputs": [
    {
     "name": "stdout",
     "output_type": "stream",
     "text": [
      "False\n",
      "True\n",
      "True\n",
      "False\n",
      "True\n",
      "False\n"
     ]
    }
   ],
   "source": [
    "a = 20\n",
    "b = 10\n",
    "\n",
    "print(a == b)\n",
    "\n",
    "print(a != b)\n",
    "\n",
    "print(a > b)\n",
    "\n",
    "print(a < b)\n",
    "\n",
    "print(a >= b)\n",
    "\n",
    "print(a <= b)"
   ]
  },
  {
   "cell_type": "code",
   "execution_count": 105,
   "metadata": {},
   "outputs": [],
   "source": [
    "# 4. Logical Operators"
   ]
  },
  {
   "cell_type": "raw",
   "metadata": {},
   "source": [
    "1. or Returns True if one of the statements is true x < 5 or x < 4\n",
    "\n",
    "2. not Reverse the result, returns False if the result is true not(x < 5 and x < 10)"
   ]
  },
  {
   "cell_type": "code",
   "execution_count": 106,
   "metadata": {},
   "outputs": [
    {
     "name": "stdout",
     "output_type": "stream",
     "text": [
      "and Oprerator:\n",
      "\n",
      "\n",
      "Dictinction:\n",
      "False\n",
      "First Class:\n",
      "False\n",
      "2nd Class:\n",
      "True\n",
      "or operator:\n",
      "\n",
      "\n",
      "False\n",
      "not operator:\n",
      "\n",
      "\n",
      "True\n"
     ]
    },
    {
     "data": {
      "text/plain": [
       "False"
      ]
     },
     "execution_count": 106,
     "metadata": {},
     "output_type": "execute_result"
    }
   ],
   "source": [
    "# Dist- above 75 %, 1st - above 67 to less than equal 75 \n",
    "print(\"and Oprerator:\\n\\n\")\n",
    "\n",
    "score = 66\n",
    "print(\"Dictinction:\")\n",
    "print(score > 75)\n",
    "\n",
    "print(\"First Class:\")\n",
    "print(score > 67 and score<= 75)\n",
    "\n",
    "print(\"2nd Class:\")\n",
    "\n",
    "print(score <= 67 and score > 58)\n",
    "\n",
    "print(\"or operator:\\n\\n\")\n",
    "var1 = 10 \n",
    "var2 = 5\n",
    "print(var1<5 or var2>10)\n",
    "\n",
    "\n",
    "print('not operator:\\n\\n')\n",
    "\n",
    "print(not (var1<5 or var2>10))\n",
    "\n",
    "var1<5 or var2>10"
   ]
  },
  {
   "cell_type": "code",
   "execution_count": 107,
   "metadata": {},
   "outputs": [],
   "source": [
    "# 5. Identity Operators"
   ]
  },
  {
   "cell_type": "raw",
   "metadata": {},
   "source": [
    "is  Returns True if both variables are the same object x is y\n",
    "\n",
    "is not Returns True if both variables are not the same object x is not y"
   ]
  },
  {
   "cell_type": "code",
   "execution_count": 108,
   "metadata": {},
   "outputs": [
    {
     "name": "stdout",
     "output_type": "stream",
     "text": [
      "X id is: 10894656\n",
      "y id is: 10894656\n",
      "True\n",
      "X id is: 140027952370480\n",
      "y id is: 140027952370360\n",
      "True\n"
     ]
    }
   ],
   "source": [
    "x = 10\n",
    "y = 10\n",
    "\n",
    "\n",
    "print(\"X id is:\",id(x))\n",
    "print(\"y id is:\",id(y))\n",
    "print(x is y)\n",
    "\n",
    "\n",
    "x = 10.10\n",
    "y = 10.10\n",
    "\n",
    "\n",
    "print(\"X id is:\",id(x))\n",
    "print(\"y id is:\",id(y))\n",
    "print(x is not y)"
   ]
  },
  {
   "cell_type": "code",
   "execution_count": 109,
   "metadata": {},
   "outputs": [],
   "source": [
    "# 6. Membership Operators"
   ]
  },
  {
   "cell_type": "raw",
   "metadata": {},
   "source": [
    "1. in Returns True if a sequence with the specified value is present in the object x in y\n",
    "2. not in Returns True if a sequence with the specified value is not present in the object x not in y"
   ]
  },
  {
   "cell_type": "code",
   "execution_count": 110,
   "metadata": {},
   "outputs": [
    {
     "name": "stdout",
     "output_type": "stream",
     "text": [
      "True\n",
      "True\n",
      "False\n"
     ]
    }
   ],
   "source": [
    "rollno = [1,2,3,4,5]\n",
    "\n",
    "print(4 in rollno)\n",
    "\n",
    "print(6 not in rollno)\n",
    "\n",
    "print(5 not in rollno)"
   ]
  },
  {
   "cell_type": "code",
   "execution_count": 111,
   "metadata": {},
   "outputs": [],
   "source": [
    "# 7. Bitwise Operators"
   ]
  },
  {
   "cell_type": "raw",
   "metadata": {},
   "source": [
    "1. &  AND Sets each bit to 1 if both bits are 1\n",
    "2. | OR Sets each bit to 1 if one of two bits is 1\n",
    "3. ^ XOR Sets each bit to 1 if only one of two bits is 1\n",
    "4. ~  NOT Inverts all the bits\n",
    "5. << Zero fill left shift Shift left by pushing zeros in from the right and let the leftmost bits fall off\n",
    "6. >> Signed right shift Shift right by pushing copies of the leftmost bit in from the left, and let the rightmost bits fall off"
   ]
  },
  {
   "cell_type": "raw",
   "metadata": {},
   "source": [
    "                256  128  64  32  16   8  4  2  1 \n",
    "                                          0  0  0 = 0\n",
    "                                          0  0  1 = 1\n",
    "                                          0  1  0 = 2\n",
    "                                          0  1  1 = 3\n",
    "                                          1  0  0 = 4\n",
    "                                          1  0  1 = 5\n",
    "                                          1  1  0 = 6\n",
    "                                          1  1  1 = 7\n",
    "                                          \n",
    "                                          Right Shift by 2 bits\n",
    "                                          0  0  1 = \n",
    "                                          \n",
    "                                          Left shift by 2 bits\n",
    "                                     1  1 1  0  0 = 28\n",
    "                                \n",
    "                                        "
   ]
  },
  {
   "cell_type": "code",
   "execution_count": 112,
   "metadata": {},
   "outputs": [
    {
     "name": "stdout",
     "output_type": "stream",
     "text": [
      "Bitwise and \n",
      "4\n",
      "Bitwise or\n",
      "5\n",
      "Left Shift:\n",
      "\n",
      "28\n",
      "Right Shift:\n",
      "\n",
      "1\n",
      "\n",
      " 0o7\n",
      "\n",
      " 0x7\n"
     ]
    }
   ],
   "source": [
    "x = 4        # 1 0 0\n",
    "y = 5        # 1 0 1\n",
    "z = x & y    # 1 0 0 = 4\n",
    "print(\"Bitwise and \")\n",
    "print(z)\n",
    "\n",
    "x = 4        # 1 0 0\n",
    "y = 5        # 1 0 1\n",
    "z = x | y    # 1 0 1 = 4\n",
    "print('Bitwise or')\n",
    "print(z)\n",
    "\n",
    "\n",
    "x = 7\n",
    "z = x << 2\n",
    "print(\"Left Shift:\\n\")\n",
    "print(z)\n",
    "\n",
    "x = 7\n",
    "z = x >> 2\n",
    "print(\"Right Shift:\\n\")\n",
    "print(z)\n",
    "\n",
    "print(\"\\n\",oct(x))\n",
    "print(\"\\n\",hex(x))"
   ]
  },
  {
   "cell_type": "raw",
   "metadata": {},
   "source": [
    "# Operator Precedence:\n",
    "\n",
    "(): Parenthesis\n",
    "** : exponential operator\n",
    "~,- : Bitwise complement operator,unary minus operator\n",
    "*,/,%,// : multiplication,division,modulo,floor division\n",
    "+,- : addition,subtraction\n",
    "<<,>> : Left and Right Shift\n",
    "& : bitwise And\n",
    "^= : Bitwise X-OR\n",
    "| : Bitwise OR\n",
    ">,>=,<,<=, ==, != : Relational or Comparison operators\n",
    "=,+=,-=,*=... : Assignment operators\n",
    "is , is not : Identity Operators\n",
    "in , not in : Membership operators\n",
    "not : Logical not\n",
    "and : Logical and\n",
    "or : Logical or"
   ]
  },
  {
   "cell_type": "markdown",
   "metadata": {},
   "source": [
    "# Conditional Statements & Loops"
   ]
  },
  {
   "cell_type": "raw",
   "metadata": {},
   "source": [
    "1. If ... Else\n",
    "2. If..elif...Else\n",
    "3. While Loops\n",
    "4. For Loops"
   ]
  },
  {
   "cell_type": "code",
   "execution_count": 8,
   "metadata": {},
   "outputs": [
    {
     "name": "stdout",
     "output_type": "stream",
     "text": [
      "else\n",
      "Larger number is : 20\n"
     ]
    }
   ],
   "source": [
    "# a>b\n",
    "x = 10\n",
    "y = 20\n",
    "# find largest number\n",
    "\n",
    "if x > y:\n",
    "    print(\"if\")\n",
    "    print(\"Larger number is :\", x)\n",
    "else:\n",
    "    print(\"else\")\n",
    "    print(\"Larger number is :\",y)\n"
   ]
  },
  {
   "cell_type": "code",
   "execution_count": 10,
   "metadata": {},
   "outputs": [
    {
     "name": "stdout",
     "output_type": "stream",
     "text": [
      "x and y are equal\n"
     ]
    }
   ],
   "source": [
    "# a>b, a==b, a<b\n",
    "\n",
    "x = 20\n",
    "y = 20\n",
    "\n",
    "\n",
    "if x > y:\n",
    "    print(\"x is larger\")\n",
    "elif x == y:\n",
    "    print(\"x and y are equal\")\n",
    "else:\n",
    "    print('y is greater than x')"
   ]
  },
  {
   "cell_type": "code",
   "execution_count": 115,
   "metadata": {},
   "outputs": [
    {
     "name": "stdout",
     "output_type": "stream",
     "text": [
      "y is greater number\n"
     ]
    }
   ],
   "source": [
    "# shaort hand if a > b: print(\"a is greater than b\")\n",
    "\n",
    "x = 10\n",
    "y = 20\n",
    "\n",
    "if y > x: print(\"y is greater number\")\n"
   ]
  },
  {
   "cell_type": "code",
   "execution_count": 12,
   "metadata": {},
   "outputs": [
    {
     "name": "stdout",
     "output_type": "stream",
     "text": [
      "x is greater\n"
     ]
    }
   ],
   "source": [
    "# short hand if else print(\"A\") if a > b else print(\"B\") \n",
    "\n",
    "x = 40\n",
    "y = 30\n",
    "\n",
    "print(\"x is greater\") if x > y else print(\"y is greater\")\n",
    "\n"
   ]
  },
  {
   "cell_type": "raw",
   "metadata": {},
   "source": [
    "# you can add more conditions here in if else\n",
    "\n",
    "write a python program which will take percentage as input from \n",
    "user and returns its grade (dist, first class, 2nd class, pass class)"
   ]
  },
  {
   "cell_type": "code",
   "execution_count": 117,
   "metadata": {},
   "outputs": [],
   "source": [
    "# write more than one conditions use and and or"
   ]
  },
  {
   "cell_type": "code",
   "execution_count": 118,
   "metadata": {},
   "outputs": [
    {
     "name": "stdout",
     "output_type": "stream",
     "text": [
      "Number is equal to 150\n"
     ]
    }
   ],
   "source": [
    "# nested if .. else\n",
    "\n",
    "x = 150\n",
    "if x > 100:\n",
    "    if x > 150:\n",
    "        print(\"Number is greater than 100 and 150\")\n",
    "    elif x ==150:\n",
    "        print(\"Number is equal to 150\")\n",
    "    else:\n",
    "        print(\"number is greater than 100 and less than 150\")\n",
    "elif x == 100:\n",
    "    print(\"Number is equal to 100\")\n",
    "else:\n",
    "    print(\"Number is less than 100\")"
   ]
  },
  {
   "cell_type": "code",
   "execution_count": 14,
   "metadata": {},
   "outputs": [],
   "source": [
    "# pass staement\n",
    "\n",
    "x = 10\n",
    "y = 20\n",
    "\n",
    "if y > x:\n",
    "    pass\n",
    "        "
   ]
  },
  {
   "cell_type": "markdown",
   "metadata": {},
   "source": [
    "# while Loop"
   ]
  },
  {
   "cell_type": "code",
   "execution_count": 21,
   "metadata": {},
   "outputs": [
    {
     "name": "stdout",
     "output_type": "stream",
     "text": [
      "5\n",
      "10\n",
      "15\n",
      "20\n",
      "25\n",
      "30\n",
      "35\n",
      "40\n",
      "45\n",
      "50\n"
     ]
    }
   ],
   "source": [
    "# print series of numbers\n",
    "x = 0\n",
    "while x < 50:\n",
    "    x = x+5\n",
    "    print(x)"
   ]
  },
  {
   "cell_type": "code",
   "execution_count": 25,
   "metadata": {},
   "outputs": [
    {
     "name": "stdout",
     "output_type": "stream",
     "text": [
      "0\n",
      "5\n",
      "10\n",
      "15\n",
      "20\n",
      "25\n",
      "30\n",
      "35\n",
      "40\n",
      "45\n",
      "50\n"
     ]
    }
   ],
   "source": [
    "# break statement\n",
    "\n",
    "x = 0\n",
    "while x <= 100:\n",
    "    print(x)\n",
    "    if x == 50:\n",
    "        break\n",
    "    x += 5"
   ]
  },
  {
   "cell_type": "code",
   "execution_count": 30,
   "metadata": {},
   "outputs": [
    {
     "name": "stdout",
     "output_type": "stream",
     "text": [
      "0\n",
      "5\n",
      "10\n",
      "15\n",
      "20\n",
      "25\n",
      "30\n",
      "35\n",
      "40\n",
      "45\n",
      "50\n",
      "55\n",
      "65\n",
      "70\n",
      "75\n",
      "80\n",
      "85\n",
      "90\n",
      "95\n",
      "100\n"
     ]
    }
   ],
   "source": [
    "# Continue stmt\n",
    "\n",
    "\n",
    "x = 0\n",
    "while x <= 100:\n",
    "    if x == 60:\n",
    "        x = x+5\n",
    "        continue\n",
    "                \n",
    "    print(x)\n",
    "    x += 5\n",
    "   \n"
   ]
  },
  {
   "cell_type": "code",
   "execution_count": 33,
   "metadata": {},
   "outputs": [
    {
     "name": "stdout",
     "output_type": "stream",
     "text": [
      "0\n",
      "5\n",
      "10\n",
      "15\n",
      "20\n",
      "25\n",
      "30\n",
      "35\n",
      "40\n",
      "45\n",
      "55\n",
      "60\n",
      "65\n",
      "70\n",
      "75\n",
      "80\n",
      "85\n",
      "90\n",
      "95\n",
      "100\n",
      "There is no more statement to execute\n"
     ]
    }
   ],
   "source": [
    "# else below while\n",
    "\n",
    "x = 0\n",
    "while x <= 100:\n",
    "    \n",
    "    if x == 50:\n",
    "        x += 5\n",
    "        continue\n",
    "                \n",
    "    print(x)\n",
    "    x += 5\n",
    "else:\n",
    "    print(\"There is no more statement to execute\")"
   ]
  },
  {
   "cell_type": "code",
   "execution_count": 45,
   "metadata": {},
   "outputs": [
    {
     "name": "stdout",
     "output_type": "stream",
     "text": [
      "While Loop on List:\n",
      "\n",
      "mango\n",
      "banana\n",
      "cherry\n",
      "apple\n",
      "papaya\n"
     ]
    }
   ],
   "source": [
    "# While using List\n",
    "print(\"While Loop on List:\\n\")\n",
    "fruits = ['mango', 'banana','cherry','apple','papaya']\n",
    "\n",
    "x = 0\n",
    "while x < len(fruits):\n",
    "    print(fruits[x])\n",
    "    x = x+1\n"
   ]
  },
  {
   "cell_type": "code",
   "execution_count": 47,
   "metadata": {},
   "outputs": [
    {
     "name": "stdout",
     "output_type": "stream",
     "text": [
      "While Loop on Tuple:\n",
      "\n",
      "<class 'tuple'>\n",
      "mango\n",
      "banana\n",
      "cherry\n",
      "apple\n",
      "papaya\n"
     ]
    }
   ],
   "source": [
    "print(\"While Loop on Tuple:\\n\")  \n",
    "fruit_tuple = ('mango', 'banana','cherry','apple','papaya')\n",
    "print(type(fruit_tuple))\n",
    "\n",
    "x = 0\n",
    "\n",
    "while x < len(fruit_tuple):\n",
    "    print(fruit_tuple[x])\n",
    "    x = x + 1\n"
   ]
  },
  {
   "cell_type": "markdown",
   "metadata": {},
   "source": [
    "# For Loop"
   ]
  },
  {
   "cell_type": "markdown",
   "metadata": {},
   "source": [
    "for iterates over a list, tuple, set, dict and string"
   ]
  },
  {
   "cell_type": "code",
   "execution_count": 51,
   "metadata": {},
   "outputs": [
    {
     "name": "stdout",
     "output_type": "stream",
     "text": [
      "mango\n",
      "banana\n",
      "cherry\n",
      "apple\n",
      "papaya\n",
      "1\n",
      "2\n",
      "3\n",
      "4\n",
      "5\n",
      "6\n",
      "7\n",
      "8\n",
      "9\n"
     ]
    }
   ],
   "source": [
    "# list\n",
    "\n",
    "list1 = [1,2,3,4,5,6,7,8,9]\n",
    "list2 = ['mango', 'banana','cherry','apple','papaya']\n",
    "\n",
    "for x in list2:\n",
    "    print(x)\n",
    "\n",
    "for i in list1:\n",
    "        print(i)\n",
    " "
   ]
  },
  {
   "cell_type": "code",
   "execution_count": 52,
   "metadata": {},
   "outputs": [
    {
     "name": "stdout",
     "output_type": "stream",
     "text": [
      "T\n",
      "h\n",
      "i\n",
      "s\n",
      " \n",
      "i\n",
      "s\n",
      " \n",
      "p\n",
      "y\n",
      "t\n",
      "h\n",
      "o\n",
      "n\n"
     ]
    }
   ],
   "source": [
    "# String\n",
    "\n",
    "str1 = \"This is python\"\n",
    "\n",
    "for a in str1:\n",
    "    print(a)"
   ]
  },
  {
   "cell_type": "code",
   "execution_count": 55,
   "metadata": {},
   "outputs": [
    {
     "name": "stdout",
     "output_type": "stream",
     "text": [
      "10\n",
      "20\n",
      "40\n",
      "20\n",
      "30\n",
      "50\n"
     ]
    }
   ],
   "source": [
    "# Tuple\n",
    "tup = (10,20,40,20,30,50)\n",
    "\n",
    "for x in tup:\n",
    "    print(x)\n",
    "    "
   ]
  },
  {
   "cell_type": "code",
   "execution_count": 68,
   "metadata": {},
   "outputs": [
    {
     "name": "stdout",
     "output_type": "stream",
     "text": [
      "for loop on dictionary:\n",
      "\n",
      "1\n",
      "salary\n",
      "mobile\n",
      "address\n",
      "name\n",
      "job\n",
      "for loop on dictionary items:\n",
      "\n",
      "( 1 , 10000 )\n",
      "( salary , 550000.2 )\n",
      "( mobile , 9975923975 )\n",
      "( address , sangola )\n",
      "( name , Nitn )\n",
      "( job , Data )\n",
      "for loop on dictionary keys:\n",
      "\n",
      "1\n",
      "salary\n",
      "mobile\n",
      "address\n",
      "name\n",
      "job\n",
      "for loop on dictionary values:\n",
      "\n",
      "10000\n",
      "550000.2\n",
      "9975923975\n",
      "sangola\n",
      "Nitn\n",
      "Data\n"
     ]
    }
   ],
   "source": [
    "# Dict\n",
    "\n",
    "dict1 = {\n",
    "    'name' : 'Nitn',\n",
    "    'mobile' : 9975923975,\n",
    "    'address' : 'sangola',\n",
    "    'job' : 'Data',\n",
    "    'salary' : 550000.20,\n",
    "    1 : 10000\n",
    "  \n",
    "}\n",
    "print(\"for loop on dictionary:\\n\")\n",
    "for x in dict1:\n",
    "    print(x)\n",
    "print(\"for loop on dictionary items:\\n\")\n",
    "for x, y in dict1.items():\n",
    "    print(\"(\",x,\",\",y,\")\")\n",
    "print(\"for loop on dictionary keys:\\n\")\n",
    "for x in dict1.keys():\n",
    "    print(x)\n",
    "print(\"for loop on dictionary values:\\n\")  \n",
    "for x in dict1.values():\n",
    "    print(x)"
   ]
  },
  {
   "cell_type": "code",
   "execution_count": 164,
   "metadata": {},
   "outputs": [
    {
     "name": "stdout",
     "output_type": "stream",
     "text": [
      "for loop on set\n",
      "40\n",
      "50\n",
      "10\n",
      "20\n",
      "30\n"
     ]
    }
   ],
   "source": [
    "# set\n",
    "s = {10,20,30,40,50}\n",
    "print(\"for loop on set\")\n",
    "\n",
    "for x in s:\n",
    "    print(x)"
   ]
  },
  {
   "cell_type": "markdown",
   "metadata": {},
   "source": [
    "# range"
   ]
  },
  {
   "cell_type": "raw",
   "metadata": {},
   "source": [
    "returns a sequence of numbers, starting from 0 by default, and increments by 1 (by default), \n",
    "and ends at a specified number"
   ]
  },
  {
   "cell_type": "code",
   "execution_count": 72,
   "metadata": {},
   "outputs": [
    {
     "name": "stdout",
     "output_type": "stream",
     "text": [
      "0\n",
      "1\n",
      "2\n",
      "3\n",
      "4\n",
      "5\n",
      "6\n",
      "7\n",
      "8\n",
      "9\n"
     ]
    }
   ],
   "source": [
    "#for i in range(10):\n",
    "\n",
    "for i in range(10):\n",
    "    print(i)"
   ]
  },
  {
   "cell_type": "code",
   "execution_count": 73,
   "metadata": {},
   "outputs": [
    {
     "name": "stdout",
     "output_type": "stream",
     "text": [
      "101\n",
      "102\n",
      "103\n",
      "104\n",
      "105\n",
      "106\n",
      "107\n",
      "108\n",
      "109\n",
      "110\n",
      "111\n",
      "112\n",
      "113\n",
      "114\n",
      "115\n",
      "116\n",
      "117\n",
      "118\n",
      "119\n"
     ]
    }
   ],
   "source": [
    "# range(1,10)- starting from 1, to 9, exclude 10\n",
    "for i in range(101,120):\n",
    "    print(i)"
   ]
  },
  {
   "cell_type": "code",
   "execution_count": 79,
   "metadata": {},
   "outputs": [
    {
     "name": "stdout",
     "output_type": "stream",
     "text": [
      "10\n",
      "15\n",
      "20\n",
      "25\n",
      "30\n",
      "35\n",
      "40\n",
      "45\n",
      "50\n"
     ]
    }
   ],
   "source": [
    "# range(10,100,5)\n",
    "for i in range(10,51,5):\n",
    "    print(i)"
   ]
  },
  {
   "cell_type": "code",
   "execution_count": 80,
   "metadata": {},
   "outputs": [
    {
     "name": "stdout",
     "output_type": "stream",
     "text": [
      "1\n",
      "5\n",
      "9\n",
      "13\n",
      "17\n",
      "21\n",
      "25\n",
      "29\n",
      "There is nothing to execute now in for\n"
     ]
    }
   ],
   "source": [
    "# else in for\n",
    "for i in range(1,30,4):\n",
    "    print(i)\n",
    "else:\n",
    "    print(\"There is nothing to execute now in for\")"
   ]
  },
  {
   "cell_type": "code",
   "execution_count": 134,
   "metadata": {},
   "outputs": [],
   "source": [
    "# take two list or tuples and use nested for loop"
   ]
  },
  {
   "cell_type": "code",
   "execution_count": null,
   "metadata": {},
   "outputs": [],
   "source": []
  }
 ],
 "metadata": {
  "kernelspec": {
   "display_name": "Python 3",
   "language": "python",
   "name": "python3"
  },
  "language_info": {
   "codemirror_mode": {
    "name": "ipython",
    "version": 3
   },
   "file_extension": ".py",
   "mimetype": "text/x-python",
   "name": "python",
   "nbconvert_exporter": "python",
   "pygments_lexer": "ipython3",
   "version": "3.5.2"
  }
 },
 "nbformat": 4,
 "nbformat_minor": 4
}
