{
 "cells": [
  {
   "cell_type": "code",
   "execution_count": 3,
   "metadata": {},
   "outputs": [
    {
     "name": "stdout",
     "output_type": "stream",
     "text": [
      "USING TEMP VARIABLE:\n",
      "\n",
      "List\n",
      "[1, 2, 3, 4, 5, 6]\n",
      "List after swapping\n",
      "[6, 2, 3, 4, 5, 1]\n"
     ]
    }
   ],
   "source": [
    "#1. Python program to interchange first and last elements in a list\n",
    "\n",
    "list1 = [1,2,3,4,5,6]\n",
    "print(\"USING TEMP VARIABLE:\\n\")\n",
    "print(\"List\")\n",
    "print(list1)\n",
    "\n",
    "# swap using 3rd valiable\n",
    "\n",
    "temp = list1[0]\n",
    "list1[0] = list1[-1]\n",
    "list1[-1] = temp\n",
    "\n",
    "print(\"List after swapping\")\n",
    "print(list1)\n"
   ]
  },
  {
   "cell_type": "code",
   "execution_count": 4,
   "metadata": {},
   "outputs": [
    {
     "name": "stdout",
     "output_type": "stream",
     "text": [
      "USING packing - Unpacking:\n",
      "\n",
      "List\n",
      "[1, 2, 3, 4, 5, 6]\n",
      "List after swapping\n",
      "[6, 2, 3, 4, 5, 1]\n"
     ]
    }
   ],
   "source": [
    "list1 = [1,2,3,4,5,6]\n",
    "print(\"USING packing - Unpacking:\\n\")\n",
    "print(\"List\")\n",
    "print(list1)\n",
    "\n",
    "# swap using 3rd valiable\n",
    "get = list1[0],list1[-1]\n",
    "\n",
    "list1[-1],list1[0] = get\n",
    "print(\"List after swapping\")\n",
    "print(list1)"
   ]
  },
  {
   "cell_type": "code",
   "execution_count": 8,
   "metadata": {},
   "outputs": [
    {
     "name": "stdout",
     "output_type": "stream",
     "text": [
      "List:\n",
      "[1, 2, 3, 4, 5, 3, 6]\n",
      "Indices are:\n",
      "[2, 5]\n",
      "Using list comprehension:\n",
      "[2, 5]\n",
      "Using list comprehension:\n",
      "[2, 5]\n"
     ]
    }
   ],
   "source": [
    "# 2. Find indices of element\n",
    "list1 = [1,2,3,4,5,3,6]\n",
    "ind = []\n",
    "print(\"List:\")\n",
    "print(list1)\n",
    "print(\"Indices are:\")\n",
    "\n",
    "for i in range(0,len(list1)):\n",
    "    if list1[i]== 3:\n",
    "        ind.append(i)\n",
    "\n",
    "print(ind)\n",
    "\n",
    "# using list comprehension\n",
    "\n",
    "ind1 = []\n",
    "\n",
    "ind1 = [i for i in range(0,len(list1)) if list1[i]== 3]\n",
    "print(\"Using list comprehension:\")\n",
    "print(ind1)\n",
    "\n",
    "\n",
    "# using list enumerate\n",
    "\n",
    "ind2 = []\n",
    "\n",
    "ind2 = [i for i,value in enumerate(list1) if value == 3]\n",
    "print(\"Using list comprehension:\")\n",
    "print(ind2)"
   ]
  },
  {
   "cell_type": "code",
   "execution_count": 17,
   "metadata": {},
   "outputs": [
    {
     "name": "stdout",
     "output_type": "stream",
     "text": [
      "Size of tuple is:\n",
      "96 bytes\n",
      "72 bytes\n"
     ]
    }
   ],
   "source": [
    "# 3. Find size of tuple\n",
    "\n",
    "import sys\n",
    "\n",
    "tup = (\"a\",\"b\",\"c\",4,5,6)\n",
    "print(\"Size of tuple is:\")\n",
    "print(str(sys.getsizeof(tup))+\" bytes\")\n",
    "print(str(tup.__sizeof__())+\" bytes\")"
   ]
  },
  {
   "cell_type": "code",
   "execution_count": 20,
   "metadata": {},
   "outputs": [
    {
     "name": "stdout",
     "output_type": "stream",
     "text": [
      "[1, 2, 3, 3, 4, 5, 6]\n",
      "[1, 2, 5, 6]\n"
     ]
    }
   ],
   "source": [
    "# 4. finding max and min k elements\n",
    "\n",
    "list1 = [1,2,3,4,5,3,6]\n",
    "\n",
    "list1.sort()\n",
    "k = 2\n",
    "res = []\n",
    "print(list1)\n",
    "\n",
    "for x,val in enumerate(list1):\n",
    "    if x < k or x >= (len(list1)-k):\n",
    "        res.append(val)\n",
    "\n",
    "    \n",
    "print(res)\n",
    "        \n"
   ]
  },
  {
   "cell_type": "code",
   "execution_count": null,
   "metadata": {},
   "outputs": [],
   "source": []
  }
 ],
 "metadata": {
  "kernelspec": {
   "display_name": "Python 3",
   "language": "python",
   "name": "python3"
  },
  "language_info": {
   "codemirror_mode": {
    "name": "ipython",
    "version": 3
   },
   "file_extension": ".py",
   "mimetype": "text/x-python",
   "name": "python",
   "nbconvert_exporter": "python",
   "pygments_lexer": "ipython3",
   "version": "3.5.2"
  }
 },
 "nbformat": 4,
 "nbformat_minor": 4
}
