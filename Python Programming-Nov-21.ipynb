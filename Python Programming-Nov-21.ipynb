{
 "cells": [
  {
   "cell_type": "markdown",
   "metadata": {},
   "source": [
    "# Python Programming"
   ]
  },
  {
   "cell_type": "raw",
   "metadata": {},
   "source": [
    "Basic: It is a general purpose high level programming language.\n",
    "\n",
    "Python was developed by Guido Van Rossam at National Research Institute at Netherlands.\n",
    "\n",
    "official relaese date of python is 20th feb 1991\n"
   ]
  },
  {
   "cell_type": "code",
   "execution_count": 2,
   "metadata": {},
   "outputs": [
    {
     "name": "stdout",
     "output_type": "stream",
     "text": [
      "Hello\n",
      "Simple Statement\n"
     ]
    }
   ],
   "source": [
    "# Printing Hello \n",
    "\n",
    "print(\"Hello\")\n",
    "\n",
    "\n",
    "print(\"Simple Statement\")\n"
   ]
  },
  {
   "cell_type": "raw",
   "metadata": {},
   "source": [
    "Note:\n",
    "\n",
    "It is very simple to print hello in python, as compared to other programming languages\n",
    "\n",
    "coding in python is really less time consuming than other programming languages\n",
    "Python Features\n",
    "\n",
    "1) Easy to Learn and Use. Python is easy to learn and use. ...\n",
    "2) Expressive Language. Python language is\n",
    "more expressive means that\n",
    "it is more understandable and readable.\n",
    "3) Interpreted Language. ...\n",
    "4) Cross-platform Language. ...\n",
    "5) Free and Open Source. ...\n",
    "6) Object-Oriented Language. ...\n",
    "7) Extensible. ...\n",
    "8) Large Standard Library.\n",
    "\n",
    "Applications\n",
    "\n",
    "1) Web Applications.... 2) Desktop GUI Applications.... 3) Software Development.... 4) Scientific and Numeric.... 5) Business Applications.... 6) Console Based Application.... 7) Audio or Video based Applications.... 8) 3D CAD Applications. 9) AI 10) ML, DL 11) Data Analytics\n",
    "Good to Know\n",
    "\n",
    "    Functional Programming Features from C\n",
    "    Object Oriented Programming Features from C++\n",
    "    Scripting Language Features from Perl and Shell Script\n",
    "    Modular Programming Features from Modula-3\n",
    "\n",
    "Identifiers\n",
    "\n",
    "    names in python are called as identifiers.\n",
    "\n",
    "    Function name, variable name, module name, class name are identifiers in python\n",
    "\n",
    "    Rules:\n",
    "\n",
    "        Alphabet Symbols (Either Upper case OR Lower case)\n",
    "\n",
    "        If Identifier is start with Underscore (_) then it indicates it is private.\n",
    "\n",
    "        Identifier should not start with Digits.\n",
    "\n",
    "        Identifiers are case sensitive.\n",
    "\n",
    "        We cannot use reserved words as identifiers\n",
    "\n",
    "        Dollor ($) Symbol is not allowed in Python.\n",
    "\n",
    "        ex: Akash, akash,AKASH, _aKASH, _AKASH, _akash Wrong: 1_aksh, 1akash, 1AKASH\n",
    "\n"
   ]
  },
  {
   "cell_type": "markdown",
   "metadata": {},
   "source": [
    "### Identifiers"
   ]
  },
  {
   "cell_type": "code",
   "execution_count": 14,
   "metadata": {},
   "outputs": [
    {
     "name": "stdout",
     "output_type": "stream",
     "text": [
      "20\n",
      "10\n"
     ]
    }
   ],
   "source": [
    "x = 10\n",
    "y = 20\n",
    "\n",
    "_x = 20\n",
    "\n",
    "_x_1 = 20\n",
    "\n",
    "_1 = 10\n",
    "\n",
    "print(_x_1)\n",
    "print(_1)\n"
   ]
  },
  {
   "cell_type": "code",
   "execution_count": 18,
   "metadata": {},
   "outputs": [
    {
     "name": "stdout",
     "output_type": "stream",
     "text": [
      "Sagar\n",
      "Latake\n"
     ]
    }
   ],
   "source": [
    "first_name = 'Sagar'\n",
    "last_name = \"Latake\"\n",
    "\n",
    "print(first_name)\n",
    "print(last_name)\n",
    "\n"
   ]
  },
  {
   "cell_type": "markdown",
   "metadata": {},
   "source": [
    "## Special Notes\n",
    "\n",
    "    If identifier starts with _ symbol,then it is private\n",
    "    If identifier starts with __(2 underscore), indicate that it is a strongly private.\n",
    "    If the identifier starts and ends with two underscore symbols, then such identifiers are language defined special name,\n",
    "    which is also known as magic methods.\n",
    "    ex: __init__()\n",
    "        __DoIt__ \n"
   ]
  },
  {
   "cell_type": "markdown",
   "metadata": {},
   "source": [
    "## Keywords\n",
    "\n",
    "There are around 33 keywords:\n",
    "\n",
    "if,elif,else,while,for,break,continue,return,in,True,False,None,and, or,not,is,yield,try,except,finally,raise,del,with,assert,import,from,as,class,def,pass, global,nonlocal,lambda.\n"
   ]
  },
  {
   "cell_type": "code",
   "execution_count": 4,
   "metadata": {},
   "outputs": [
    {
     "name": "stdout",
     "output_type": "stream",
     "text": [
      "['False', 'None', 'True', 'and', 'as', 'assert', 'break', 'class', 'continue', 'def', 'del', 'elif', 'else', 'except', 'finally', 'for', 'from', 'global', 'if', 'import', 'in', 'is', 'lambda', 'nonlocal', 'not', 'or', 'pass', 'raise', 'return', 'try', 'while', 'with', 'yield']\n"
     ]
    },
    {
     "data": {
      "text/plain": [
       "33"
      ]
     },
     "execution_count": 4,
     "metadata": {},
     "output_type": "execute_result"
    }
   ],
   "source": [
    "# we can see all keywords from python using below code\n",
    "\n",
    "sa = 'Hi Hello'\n",
    "\n",
    "import keyword\n",
    "\n",
    "print(keyword.kwlist)\n",
    "\n",
    "\n",
    "\n",
    "len(keyword.kwlist)"
   ]
  },
  {
   "cell_type": "markdown",
   "metadata": {},
   "source": [
    "### Data Types in Python:\n",
    "\n",
    "    Data type of variable is the type of value inside that variable.\n",
    "    In python we do not need to mension the data type of variable, It automatically assigns data type.\n",
    "    int 2. float 3.complex 4.bool 5.str 6.bytes 7.bytearray 8.range 9.list 10.tuple 11.set 12.frozenset 13.dict 14.None\n",
    "\n"
   ]
  },
  {
   "cell_type": "raw",
   "metadata": {},
   "source": [
    "10- int\n",
    "\n",
    "10.20 float\n",
    "\n",
    "3+4j - complex\n",
    "\n",
    "True / False - ( 1 / 0) --- bool\n",
    "\n",
    "\"Hello this is python\"  --str"
   ]
  },
  {
   "cell_type": "markdown",
   "metadata": {},
   "source": [
    "### Data type of variable is the type of value inside that variable\n",
    "\n",
    "x = 10\n",
    "\n",
    "x = 20.23\n",
    "\n",
    "x = 3 + 4j\n",
    "\n",
    "x = True\n",
    "\n",
    "x = \"Hey Hello\"\n",
    "\n",
    "\n"
   ]
  },
  {
   "cell_type": "markdown",
   "metadata": {},
   "source": [
    "### Python automatically identify the the type of variable"
   ]
  },
  {
   "cell_type": "code",
   "execution_count": 21,
   "metadata": {},
   "outputs": [
    {
     "name": "stdout",
     "output_type": "stream",
     "text": [
      "Value of x:\n",
      "10\n",
      "type of x:\n",
      "<class 'int'>\n",
      "\n",
      "\n",
      "Value of y:\n",
      "20.23\n",
      "type of y:\n",
      "<class 'float'>\n",
      "\n",
      "\n",
      "Value of comp:\n",
      "(3+4j)\n",
      "Type of comp:\n",
      "<class 'complex'>\n",
      "\n",
      "\n",
      "Value of b:\n",
      "True\n",
      "Type of b:\n",
      "<class 'bool'>\n",
      "\n",
      "\n",
      "<class 'str'>\n"
     ]
    }
   ],
   "source": [
    "x = 10 # Declaration\n",
    "\n",
    "print(\"Value of x:\")\n",
    "print(x)\n",
    "print(\"type of x:\")\n",
    "print(type(x))\n",
    "\n",
    "\n",
    "print(\"\\n\")  # new line\n",
    "\n",
    "y = 20.23\n",
    "print(\"Value of y:\")\n",
    "print(y)\n",
    "print(\"type of y:\")\n",
    "print(type(y))\n",
    "\n",
    "print(\"\\n\")\n",
    "comp = 3 + 4j\n",
    "print(\"Value of comp:\")\n",
    "print(comp)\n",
    "print(\"Type of comp:\")\n",
    "print(type(comp))\n",
    "\n",
    "print(\"\\n\")\n",
    "b = True\n",
    "print(\"Value of b:\")\n",
    "print(b)\n",
    "print(\"Type of b:\")\n",
    "print(type(b))\n",
    "\n",
    "print(\"\\n\")\n",
    "\n",
    "str1 = \"Hey Hello\"\n",
    "print(type(str1))"
   ]
  },
  {
   "cell_type": "markdown",
   "metadata": {},
   "source": [
    "### Typecasting\n",
    "\n",
    "int, float, str, boolean, comlex, object.\n"
   ]
  },
  {
   "cell_type": "raw",
   "metadata": {},
   "source": [
    "# What is typecasting:\n",
    "\n",
    "Conversion of data from one type to another type.\n",
    "\n",
    "x = \"100\"\n",
    "\n",
    "name = \"sagar 100 sagar....!!!!\"\n",
    "\n",
    "\n",
    "eg. str1 = \"python is best\"\n",
    "str2 = \"100\"\n",
    "Note: we can convert str2 into float, int"
   ]
  },
  {
   "cell_type": "code",
   "execution_count": 15,
   "metadata": {},
   "outputs": [
    {
     "name": "stdout",
     "output_type": "stream",
     "text": [
      "Int to float:\n",
      "100\n",
      "<class 'int'>\n",
      "100.0\n",
      "<class 'float'>\n",
      "string to float: \n",
      "300\n",
      "<class 'str'>\n",
      "300.0\n",
      "<class 'float'>\n"
     ]
    }
   ],
   "source": [
    "# int/string to float conversion:\n",
    "print(\"Int to float:\")\n",
    "val = 100\n",
    "print(val)\n",
    "print(type(val))\n",
    "\n",
    "val_f = float(val)\n",
    "\n",
    "print(val_f)\n",
    "print(type(val_f))\n",
    "\n",
    "print(\"string to float: \")\n",
    "str1 = \"300\"\n",
    "print(str1)\n",
    "print(type(str1))\n",
    "\n",
    "str1_f = float(str1)\n",
    "\n",
    "print(str1_f)\n",
    "print(type(str1_f))"
   ]
  },
  {
   "cell_type": "code",
   "execution_count": 27,
   "metadata": {},
   "outputs": [
    {
     "name": "stdout",
     "output_type": "stream",
     "text": [
      "Float to int typecasting:\n",
      "200.9\n",
      "<class 'float'>\n",
      "200\n",
      "<class 'int'>\n",
      "String to int typecasting:\n",
      "100\n",
      "<class 'str'>\n",
      "100\n",
      "<class 'int'>\n"
     ]
    }
   ],
   "source": [
    "# float/string to int conversion\n",
    "\n",
    "print(\"Float to int typecasting:\")\n",
    "val = 200.9\n",
    "print(val)\n",
    "print(type(val))\n",
    "\n",
    "val_i = int(val)\n",
    "print(val_i)\n",
    "print(type(val_i))\n",
    "\n",
    "\n",
    "print(\"String to int typecasting:\")\n",
    "\n",
    "str1 = '100'\n",
    "print(str1)\n",
    "print(type(str1))\n",
    "\n",
    "str1_i = int(str1)\n",
    "print(str1_i)\n",
    "print(type(str1_i))"
   ]
  },
  {
   "cell_type": "code",
   "execution_count": 34,
   "metadata": {},
   "outputs": [
    {
     "name": "stdout",
     "output_type": "stream",
     "text": [
      "100.20\n",
      "<class 'str'>\n",
      "100.2\n",
      "100\n"
     ]
    }
   ],
   "source": [
    "# To convert string of float value, first convert it to float value and \n",
    "# then convert float value to int\n",
    "\n",
    "str2 = \"100.20\"\n",
    "print(str2)\n",
    "print(type(str2))\n",
    "#int(str2)\n",
    "str2_f = float(str2)\n",
    "print(str2_f)\n",
    "\n",
    "str2_i = int(str2_f)\n",
    "print(str2_i)\n",
    "\n",
    "\n",
    "\n",
    "#print(\"String to int:\")\n",
    "#print(str1)\n",
    "#print(type(str1))\n",
    "#var2 = int(str1)\n",
    "#print(var2)\n",
    "#print(type(var2))"
   ]
  },
  {
   "cell_type": "code",
   "execution_count": 3,
   "metadata": {},
   "outputs": [
    {
     "name": "stdout",
     "output_type": "stream",
     "text": [
      "100\n",
      "<class 'int'>\n",
      "100\n",
      "<class 'int'>\n",
      "200\n",
      "<class 'str'>\n",
      "200.0\n",
      "<class 'float'>\n",
      "Demonstration of string to float conversion:\n",
      "python\n"
     ]
    }
   ],
   "source": [
    "# int/string to float conversion:\n",
    "\n",
    "str1 = \"python\"\n",
    "var = 100\n",
    "str2 = \"200\"\n",
    "print(var)\n",
    "print(type(var))\n",
    "print(var)\n",
    "\n",
    "print(type(var))\n",
    "\n",
    "print(str2)\n",
    "print(type(str2))\n",
    "var3 = float(str2)\n",
    "print(var3)\n",
    "print(type(var3))\n",
    "\n",
    "print(\"Demonstration of string to float conversion:\")\n",
    "print(str1)\n",
    "#var2 = float(str1)"
   ]
  },
  {
   "cell_type": "code",
   "execution_count": 1,
   "metadata": {},
   "outputs": [
    {
     "name": "stdout",
     "output_type": "stream",
     "text": [
      "float to int:\n",
      "100.2\n",
      "<class 'float'>\n",
      "100\n",
      "<class 'int'>\n",
      "String to int:\n",
      "500\n",
      "<class 'str'>\n",
      "500\n",
      "<class 'int'>\n",
      "string to complex:\n",
      "(3+4j)\n",
      "<class 'complex'>\n"
     ]
    }
   ],
   "source": [
    "# float/string to int conversion\n",
    "\n",
    "var = 100.20\n",
    "str1 = \"200.30\"\n",
    "str2 = \"500\"\n",
    "str3 = \"python\"\n",
    "\n",
    "print(\"float to int:\")\n",
    "print(var)\n",
    "print(type(var))\n",
    "var1 = int(var)\n",
    "print(var1)\n",
    "print(type(var1))\n",
    "\n",
    "print(\"String to int:\")\n",
    "print(str2)\n",
    "print(type(str2))\n",
    "var3 = int(str2)\n",
    "print(var3)\n",
    "print(type(var3))\n",
    "\n",
    "#print(\"String to int:\")\n",
    "#print(str1)\n",
    "#print(type(str1))\n",
    "#var2 = int(str1)\n",
    "#print(var2)\n",
    "#print(type(var2))\n",
    "\n",
    "print(\"string to complex:\")\n",
    "cm = \"3+4j\"\n",
    "comp = complex(cm)\n",
    "print(comp)\n",
    "print(type(comp))\n",
    "\n",
    "\n",
    "#print(\"String to int:\")\n",
    "#print(str3)\n",
    "#print(type(str3))\n",
    "#var4 = int(str3)\n",
    "#print(var4)\n",
    "#print(type(var4))\n"
   ]
  },
  {
   "cell_type": "code",
   "execution_count": 17,
   "metadata": {},
   "outputs": [
    {
     "name": "stdout",
     "output_type": "stream",
     "text": [
      "float to string:\n",
      "100.23\n",
      "<class 'float'>\n",
      "100.23\n",
      "<class 'str'>\n",
      "int to string:\n",
      "20\n",
      "<class 'int'>\n",
      "20\n",
      "<class 'str'>\n",
      "Complex to string:\n",
      "(2+4j)\n",
      "<class 'complex'>\n",
      "(2+4j)\n",
      "<class 'str'>\n"
     ]
    }
   ],
   "source": [
    "# float, int to string\n",
    "\n",
    "var = 100.23\n",
    "var1 = 20\n",
    "comp = 2+4j\n",
    "\n",
    "\n",
    "print(\"float to string:\")\n",
    "print(var)\n",
    "print(type(var))\n",
    "var3 = str(var)\n",
    "print(var3)\n",
    "print(type(var3))\n",
    "\n",
    "print(\"int to string:\")\n",
    "print(var1)\n",
    "print(type(var1))\n",
    "var4 = str(var1)\n",
    "print(var4)\n",
    "print(type(var4))\n",
    "\n",
    "print(\"Complex to string:\")\n",
    "print(comp)\n",
    "print(type(comp))\n",
    "var5 = str(comp)\n",
    "print(var5)\n",
    "print(type(var5))"
   ]
  },
  {
   "cell_type": "markdown",
   "metadata": {},
   "source": [
    "### Other types to Complex"
   ]
  },
  {
   "cell_type": "code",
   "execution_count": 35,
   "metadata": {},
   "outputs": [
    {
     "name": "stdout",
     "output_type": "stream",
     "text": [
      "(4+0j)\n",
      "The real Part:\n",
      "4.0\n",
      "The imaginary Part:\n",
      "0.0\n",
      "(4+6j)\n",
      "The real Part:\n",
      "4.0\n",
      "The imaginary Part:\n",
      "6.0\n",
      "(20+0j)\n",
      "\n",
      "Create a complex number using complete string:\n",
      "3+4j\n",
      "<class 'str'>\n",
      "(3+4j)\n",
      "<class 'complex'>\n",
      "3.0\n",
      "4.0\n"
     ]
    }
   ],
   "source": [
    "# use complex() function for conversion\n",
    "comp = complex(4)\n",
    "print(comp)\n",
    "print(\"The real Part:\")\n",
    "print(comp.real)\n",
    "\n",
    "print(\"The imaginary Part:\")\n",
    "print(comp.imag)\n",
    "\n",
    "\n",
    "# Created complex number using int\n",
    "\n",
    "comp = complex(4,6)\n",
    "print(comp)\n",
    "print(\"The real Part:\")\n",
    "print(comp.real)\n",
    "\n",
    "print(\"The imaginary Part:\")\n",
    "print(comp.imag)\n",
    "\n",
    "\n",
    "# Create a complex number using float values\n",
    "\n",
    "# Assignment\n",
    "\n",
    "\n",
    "# Create a complex number using string\n",
    "\n",
    "\n",
    "str2 = \"20\"\n",
    "\n",
    "c = complex(str2)\n",
    "\n",
    "print(c)\n",
    "\n",
    "print(\"\\nCreate a complex number using complete string:\")\n",
    "str1 = \"3+4j\"\n",
    "print(str1)\n",
    "print(type(str1))\n",
    "c1 = complex(str1)\n",
    "print(c1)\n",
    "print(type(c1))\n",
    "print(c1.real)\n",
    "print(c1.imag)"
   ]
  },
  {
   "cell_type": "code",
   "execution_count": 36,
   "metadata": {},
   "outputs": [
    {
     "name": "stdout",
     "output_type": "stream",
     "text": [
      "(10+0j)\n"
     ]
    }
   ],
   "source": [
    "c = complex(10)\n",
    "print(c)"
   ]
  },
  {
   "cell_type": "code",
   "execution_count": 37,
   "metadata": {},
   "outputs": [
    {
     "name": "stdout",
     "output_type": "stream",
     "text": [
      "(10+5j)\n",
      "(10.2+4j)\n",
      "(1+0j)\n"
     ]
    }
   ],
   "source": [
    "print(complex(10,5)) # 10+5j\n",
    "print(complex(10.20,4))\n",
    "\n",
    "# Create a complex number using bool\n",
    "\n",
    "print(complex(True,False)) # 1+0j\n",
    "\n"
   ]
  },
  {
   "cell_type": "markdown",
   "metadata": {},
   "source": [
    "### Bool()\n",
    "\n",
    "1. True\n",
    "2. False"
   ]
  },
  {
   "cell_type": "code",
   "execution_count": 40,
   "metadata": {},
   "outputs": [
    {
     "name": "stdout",
     "output_type": "stream",
     "text": [
      "False\n",
      "1\n"
     ]
    }
   ],
   "source": [
    "x = True\n",
    "x = False\n",
    "\n",
    "print(x)\n",
    "\n",
    "\n",
    "print(int(True))"
   ]
  },
  {
   "cell_type": "code",
   "execution_count": 41,
   "metadata": {},
   "outputs": [
    {
     "name": "stdout",
     "output_type": "stream",
     "text": [
      "0\n"
     ]
    }
   ],
   "source": [
    "print(int(False))"
   ]
  },
  {
   "cell_type": "code",
   "execution_count": 42,
   "metadata": {},
   "outputs": [
    {
     "name": "stdout",
     "output_type": "stream",
     "text": [
      "1.0\n"
     ]
    }
   ],
   "source": [
    "print(float(True))"
   ]
  },
  {
   "cell_type": "code",
   "execution_count": 43,
   "metadata": {},
   "outputs": [
    {
     "name": "stdout",
     "output_type": "stream",
     "text": [
      "0.0\n"
     ]
    }
   ],
   "source": [
    "print(float(False))"
   ]
  },
  {
   "cell_type": "code",
   "execution_count": 46,
   "metadata": {},
   "outputs": [
    {
     "name": "stdout",
     "output_type": "stream",
     "text": [
      "(1+0j)\n"
     ]
    }
   ],
   "source": [
    "print(complex(True))"
   ]
  },
  {
   "cell_type": "code",
   "execution_count": 48,
   "metadata": {},
   "outputs": [
    {
     "name": "stdout",
     "output_type": "stream",
     "text": [
      "0j\n",
      "1j\n"
     ]
    }
   ],
   "source": [
    "c = complex(False)\n",
    "\n",
    "print(c)\n",
    "\n",
    "\n",
    "#c = 0+0j\n",
    "\n",
    "c1 = complex(False,True)\n",
    "\n",
    "# c1 = 0+ 1j\n",
    "\n",
    "print(c1)"
   ]
  },
  {
   "cell_type": "code",
   "execution_count": 52,
   "metadata": {},
   "outputs": [
    {
     "name": "stdout",
     "output_type": "stream",
     "text": [
      "<class 'bool'>\n",
      "True\n",
      "<class 'str'>\n",
      "<class 'bool'>\n",
      "False\n",
      "<class 'str'>\n"
     ]
    }
   ],
   "source": [
    "# Convert bool into str\n",
    "print(type(True))\n",
    "var = str(True)\n",
    "print(var)\n",
    "print(type(var))\n",
    "\n",
    "print(type(False))\n",
    "var = str(False)\n",
    "print(var)\n",
    "print(type(var))"
   ]
  },
  {
   "cell_type": "code",
   "execution_count": 58,
   "metadata": {},
   "outputs": [
    {
     "name": "stdout",
     "output_type": "stream",
     "text": [
      "True\n",
      "False\n"
     ]
    }
   ],
   "source": [
    "# float into bool\n",
    "\n",
    "x = bool(10.10)\n",
    "print(x)\n",
    "\n",
    "y = bool(0.0)\n",
    "print(y)"
   ]
  },
  {
   "cell_type": "code",
   "execution_count": 59,
   "metadata": {},
   "outputs": [
    {
     "name": "stdout",
     "output_type": "stream",
     "text": [
      "True\n",
      "False\n"
     ]
    }
   ],
   "source": [
    "print(bool(12))\n",
    "print(bool(0))"
   ]
  },
  {
   "cell_type": "code",
   "execution_count": 62,
   "metadata": {},
   "outputs": [
    {
     "name": "stdout",
     "output_type": "stream",
     "text": [
      "True\n",
      "False\n"
     ]
    }
   ],
   "source": [
    "# Conversion from string to bool\n",
    "\n",
    "str1 = \"Python\"\n",
    "str2 = \"\"\n",
    "\n",
    "x = bool(str1)\n",
    "print(x)\n",
    "\n",
    "y = bool(str2)\n",
    "print(y)\n"
   ]
  },
  {
   "cell_type": "code",
   "execution_count": 68,
   "metadata": {},
   "outputs": [
    {
     "name": "stdout",
     "output_type": "stream",
     "text": [
      "True\n",
      "True\n",
      "False\n"
     ]
    }
   ],
   "source": [
    "# Conversion of complex number into the bool\n",
    "\n",
    "x = 1+0j\n",
    "\n",
    "b = bool(x)\n",
    "print(b)\n",
    "\n",
    "\n",
    "x = 4 + 2j\n",
    "\n",
    "b = bool(x)\n",
    "print(b)\n",
    "\n",
    "x = 0 + 0j\n",
    "b = bool(x)\n",
    "print(b)"
   ]
  },
  {
   "cell_type": "markdown",
   "metadata": {},
   "source": [
    "### String\n",
    "\n",
    "operations: slicing, display\n"
   ]
  },
  {
   "cell_type": "markdown",
   "metadata": {},
   "source": [
    "#### String\n",
    "\n",
    "\n",
    "liscing is making peaces of a string using some separator\n",
    "\n",
    "[] is a slice opearator\n",
    "\n",
    "What is string:\n",
    "    Sequence of characters\n",
    "    ex. \"This is string\""
   ]
  },
  {
   "cell_type": "code",
   "execution_count": 13,
   "metadata": {},
   "outputs": [
    {
     "name": "stdout",
     "output_type": "stream",
     "text": [
      "This is python string...1111\n",
      "<class 'str'>\n",
      "['p', 'y', 't', 'h', 'o', 'n']\n"
     ]
    }
   ],
   "source": [
    "str1 = \"This is python string...1111\"\n",
    "print(str1)\n",
    "print(type(str1))\n",
    "\n",
    "# like your list\n",
    "\n",
    "l = ['p','y','t','h','o','n']\n",
    "print(l)"
   ]
  },
  {
   "cell_type": "code",
   "execution_count": 22,
   "metadata": {},
   "outputs": [
    {
     "name": "stdout",
     "output_type": "stream",
     "text": [
      "This is python string...1111\n",
      "T\n",
      "28\n",
      "1\n"
     ]
    }
   ],
   "source": [
    "# assignment\n",
    "# str1 = \"This tutorial is basically designed for beginers\"\n",
    "print(str1)\n",
    "print(str1[0])\n",
    "print(len(str1))\n",
    "\n",
    "print(str1[24])"
   ]
  },
  {
   "cell_type": "code",
   "execution_count": 23,
   "metadata": {},
   "outputs": [
    {
     "data": {
      "text/plain": [
       "'T'"
      ]
     },
     "execution_count": 23,
     "metadata": {},
     "output_type": "execute_result"
    }
   ],
   "source": [
    "str1[0]"
   ]
  },
  {
   "cell_type": "code",
   "execution_count": 25,
   "metadata": {},
   "outputs": [
    {
     "data": {
      "text/plain": [
       "'This is python string...1111'"
      ]
     },
     "execution_count": 25,
     "metadata": {},
     "output_type": "execute_result"
    }
   ],
   "source": [
    "# 0-28 nothing but the range of index\n",
    "\n",
    "str1[0:28]"
   ]
  },
  {
   "cell_type": "code",
   "execution_count": 32,
   "metadata": {},
   "outputs": [
    {
     "name": "stdout",
     "output_type": "stream",
     "text": [
      "This \n"
     ]
    },
    {
     "data": {
      "text/plain": [
       "'i'"
      ]
     },
     "execution_count": 32,
     "metadata": {},
     "output_type": "execute_result"
    }
   ],
   "source": [
    "print(str1[0:5])\n",
    "# in includes 0,1,2,3,4\n",
    "# str1[start : end]\n",
    "# end: not included\n",
    "str1[5]"
   ]
  },
  {
   "cell_type": "code",
   "execution_count": 35,
   "metadata": {},
   "outputs": [
    {
     "name": "stdout",
     "output_type": "stream",
     "text": [
      "is python string\n",
      "g\n"
     ]
    }
   ],
   "source": [
    "print(str1[5:21])\n",
    "print(str1[20])\n"
   ]
  },
  {
   "cell_type": "code",
   "execution_count": 36,
   "metadata": {},
   "outputs": [
    {
     "name": "stdout",
     "output_type": "stream",
     "text": [
      "This is python string...1111\n",
      "This is python string\n"
     ]
    }
   ],
   "source": [
    "print(str1)\n",
    "print(str1[:21])"
   ]
  },
  {
   "cell_type": "code",
   "execution_count": 39,
   "metadata": {},
   "outputs": [
    {
     "name": "stdout",
     "output_type": "stream",
     "text": [
      "This is python string...1111\n",
      "thon string\n",
      "This is python string...1111\n",
      "This is python string...\n"
     ]
    }
   ],
   "source": [
    "print(str1)\n",
    "print(str1[10:21])\n",
    "print(str1[0:])\n",
    "print(str1[0:24])"
   ]
  },
  {
   "cell_type": "code",
   "execution_count": 42,
   "metadata": {},
   "outputs": [
    {
     "name": "stdout",
     "output_type": "stream",
     "text": [
      "This is python string...1111\n",
      "T\n"
     ]
    }
   ],
   "source": [
    "# Negative index\n",
    "\n",
    "print(str1)\n",
    "\n",
    "print(str1[0])"
   ]
  },
  {
   "cell_type": "code",
   "execution_count": 45,
   "metadata": {},
   "outputs": [
    {
     "name": "stdout",
     "output_type": "stream",
     "text": [
      "1\n",
      "T\n"
     ]
    }
   ],
   "source": [
    "print(str1[-1])\n",
    "print(str1[-28])\n",
    "\n",
    "# Assignment : perform negative index operations."
   ]
  },
  {
   "cell_type": "code",
   "execution_count": 48,
   "metadata": {},
   "outputs": [
    {
     "data": {
      "text/plain": [
       "'This is python string...1111This is python string...1111This is python string...1111'"
      ]
     },
     "execution_count": 48,
     "metadata": {},
     "output_type": "execute_result"
    }
   ],
   "source": [
    "#string multiply\n",
    "\n",
    "str1 * 3\n"
   ]
  },
  {
   "cell_type": "code",
   "execution_count": 4,
   "metadata": {},
   "outputs": [
    {
     "name": "stdout",
     "output_type": "stream",
     "text": [
      "Id of x: 10897536\n",
      "Id of y: 10897536\n",
      "Id of z:  10897536\n"
     ]
    }
   ],
   "source": [
    "# Immutability\n",
    "# for int\n",
    "x = 100\n",
    "print(\"Id of x:\",id(x))\n",
    "y = 100\n",
    "\n",
    "print(\"Id of y:\",id(y))\n",
    "\n",
    "z = y\n",
    "\n",
    "print(\"Id of z: \",id(z))"
   ]
  },
  {
   "cell_type": "code",
   "execution_count": 13,
   "metadata": {},
   "outputs": [
    {
     "name": "stdout",
     "output_type": "stream",
     "text": [
      "Id of x: 139660689889728\n",
      "Id of y: 139660689889704\n",
      "Id of z:  139660689889704\n",
      "Id of y:  139660689889728\n"
     ]
    }
   ],
   "source": [
    "# for float\n",
    "\n",
    "x = 100.10\n",
    "print(\"Id of x:\",id(x))\n",
    "y = 100.10\n",
    "\n",
    "print(\"Id of y:\",id(y))\n",
    "\n",
    "z = y\n",
    "\n",
    "y = x\n",
    "\n",
    "print(\"Id of z: \",id(z))\n",
    "print(\"Id of y: \",id(y))\n"
   ]
  },
  {
   "cell_type": "markdown",
   "metadata": {},
   "source": [
    "### Bytes"
   ]
  },
  {
   "cell_type": "code",
   "execution_count": 32,
   "metadata": {},
   "outputs": [
    {
     "name": "stdout",
     "output_type": "stream",
     "text": [
      "b'\\n\\x16!(2\\xff'\n",
      "<class 'bytes'>\n",
      "10\n",
      "22\n",
      "33\n",
      "40\n",
      "50\n",
      "255\n",
      "Val of b[5] 255\n"
     ]
    }
   ],
   "source": [
    "# bytes can hold the values from 0 to 256\n",
    "# You cant change the value of bytes once it is created\n",
    "# Bytes is immutable\n",
    "\n",
    "b = bytes([10,22,33,40,50,255])\n",
    "\n",
    "print(b)\n",
    "\n",
    "print(type(b))\n",
    "\n",
    "for i in b:\n",
    "    print(i)\n",
    "\n",
    " # How to access   \n",
    "print(\"Val of b[5]\",b[5])\n",
    "\n",
    "# Try to modify\n",
    "\n",
    "# b[0] = 15"
   ]
  },
  {
   "cell_type": "markdown",
   "metadata": {},
   "source": [
    "### Bytearray\n",
    "\n",
    "1. The bytearray is similar to bytes\n",
    "2. But you can change the elements of bytearray\n",
    "3. bytearray are mutable (we can change the contents of object after creation)"
   ]
  },
  {
   "cell_type": "code",
   "execution_count": 42,
   "metadata": {},
   "outputs": [
    {
     "name": "stdout",
     "output_type": "stream",
     "text": [
      "<class 'bytearray'>\n",
      "bytearray(b'\\x0b\\x16!(2BN')\n",
      "11\n",
      "22\n",
      "33\n",
      "40\n",
      "50\n",
      "66\n",
      "78\n",
      "\n",
      " 11\n",
      "255\n",
      "\n",
      "\n",
      "255\n",
      "22\n",
      "33\n",
      "40\n",
      "50\n",
      "66\n",
      "78\n"
     ]
    }
   ],
   "source": [
    "# create bytearray\n",
    "\n",
    "ba = bytearray([11,22,33,40,50,66,78])\n",
    "\n",
    "print(type(ba))\n",
    "\n",
    "print(ba)\n",
    "\n",
    "for i in ba:\n",
    "    print(i)\n",
    "    \n",
    "# How access the bytearray\n",
    "\n",
    "print(\"\\n\",ba[0])\n",
    "\n",
    "ba[0] = 255   # value modification\n",
    "\n",
    "print(ba[0])\n",
    "\n",
    "\n",
    "print(\"\\n\")\n",
    "for i in ba:\n",
    "    print(i)"
   ]
  },
  {
   "cell_type": "markdown",
   "metadata": {},
   "source": [
    "## List"
   ]
  },
  {
   "cell_type": "raw",
   "metadata": {},
   "source": [
    "1. List stores multiple items with different data types.\n",
    "2. [] brackets are used to create list\n",
    "3. List is ordered, changeable and stores duplicates also.\n",
    "4. List is growable, elements are added at end of list."
   ]
  },
  {
   "cell_type": "code",
   "execution_count": 2,
   "metadata": {},
   "outputs": [
    {
     "name": "stdout",
     "output_type": "stream",
     "text": [
      "<class 'list'>\n",
      "[1, 2, 3, 4, 5, 6, 7, 8]\n"
     ]
    }
   ],
   "source": [
    "# Create List for int float string mix\n",
    "\n",
    "l_i = [1,2,3,4,5,6,7,8]\n",
    "\n",
    "print(type(l_i))\n",
    "print(l_i)\n"
   ]
  },
  {
   "cell_type": "code",
   "execution_count": 4,
   "metadata": {},
   "outputs": [
    {
     "name": "stdout",
     "output_type": "stream",
     "text": [
      "<class 'list'>\n",
      "[1.1, 2.2, 3.3, 4.4]\n"
     ]
    }
   ],
   "source": [
    "# float\n",
    "\n",
    "l_f = [1.1,2.2,3.3,4.4]\n",
    "\n",
    "print(type(l_f))\n",
    "print(l_f)"
   ]
  },
  {
   "cell_type": "code",
   "execution_count": 5,
   "metadata": {},
   "outputs": [],
   "source": [
    "# Assignment : create a list of string of fruits-12}"
   ]
  },
  {
   "cell_type": "code",
   "execution_count": 6,
   "metadata": {
    "scrolled": true
   },
   "outputs": [
    {
     "name": "stdout",
     "output_type": "stream",
     "text": [
      "<class 'list'>\n",
      "[1, 2, 'python', 'java', 2.2, 3.4]\n"
     ]
    }
   ],
   "source": [
    "# Mix list\n",
    "\n",
    "l_m = [1,2,\"python\",\"java\",2.2,3.4]\n",
    "print(type(l_m))\n",
    "print(l_m)"
   ]
  },
  {
   "cell_type": "code",
   "execution_count": 15,
   "metadata": {},
   "outputs": [
    {
     "data": {
      "text/plain": [
       "3.4"
      ]
     },
     "execution_count": 15,
     "metadata": {},
     "output_type": "execute_result"
    }
   ],
   "source": [
    "# Accesing list items\n",
    "\n",
    "\n",
    "list1 = [1,2,\"python\",\"java\",2.2,3.4]\n",
    "\n",
    "list1[5]\n"
   ]
  },
  {
   "cell_type": "code",
   "execution_count": 17,
   "metadata": {},
   "outputs": [
    {
     "name": "stdout",
     "output_type": "stream",
     "text": [
      "[1, 2, 3, 4, 5, 6, 7, 8, 9, 10]\n"
     ]
    }
   ],
   "source": [
    "# Slicicing of list + ve, -ve\n",
    "\n",
    "list1 = [1,2,3,4,5,6,7,8,9,10]\n",
    "\n",
    "print(list1)"
   ]
  },
  {
   "cell_type": "code",
   "execution_count": 19,
   "metadata": {},
   "outputs": [
    {
     "name": "stdout",
     "output_type": "stream",
     "text": [
      "[1, 2, 3, 4, 5]\n",
      "[4, 5, 6, 7]\n"
     ]
    }
   ],
   "source": [
    "# slicing\n",
    "\n",
    "print(list1[0:5])\n",
    "print(list1[3:7])"
   ]
  },
  {
   "cell_type": "code",
   "execution_count": 22,
   "metadata": {},
   "outputs": [
    {
     "name": "stdout",
     "output_type": "stream",
     "text": [
      "10\n",
      "[[4, 5, 6, 7, 8]]\n"
     ]
    }
   ],
   "source": [
    "# \n",
    "\n",
    "print(list1[-1])\n",
    "print([list1[-7:-2]])"
   ]
  },
  {
   "cell_type": "markdown",
   "metadata": {},
   "source": [
    "### Operations"
   ]
  },
  {
   "cell_type": "code",
   "execution_count": 25,
   "metadata": {},
   "outputs": [
    {
     "name": "stdout",
     "output_type": "stream",
     "text": [
      "[1, 2, 3, 4, 5, 6, 7, 8, 9, 10, 11]\n",
      "[1, 2, 3, 4, 5, 6, 7, 8, 9, 10, 11, 11]\n"
     ]
    }
   ],
   "source": [
    "# Apend\n",
    "\n",
    "print(list1)\n",
    "\n",
    "list1.append(11)\n",
    "print(list1)"
   ]
  },
  {
   "cell_type": "code",
   "execution_count": 26,
   "metadata": {},
   "outputs": [
    {
     "name": "stdout",
     "output_type": "stream",
     "text": [
      "[1, 2, 3, 4, 5, 6, 7, 8, 9, 10, 11, 11]\n",
      "[1, 2, 3, 4, 5, 6, 7, 8, 9, 10, 11]\n"
     ]
    }
   ],
   "source": [
    "# remove ny name and index\n",
    "print(list1)\n",
    "list1.remove(11)\n",
    "print(list1)"
   ]
  },
  {
   "cell_type": "code",
   "execution_count": 29,
   "metadata": {},
   "outputs": [
    {
     "name": "stdout",
     "output_type": "stream",
     "text": [
      "[1, 2, 3, 4, 6, 7, 8, 9, 10, 11]\n"
     ]
    }
   ],
   "source": [
    "list1.remove(5)\n",
    "print(list1)"
   ]
  },
  {
   "cell_type": "raw",
   "metadata": {},
   "source": [
    "# Available operations on list\n",
    "\n",
    "list1.append\n",
    "list1.clear\n",
    "list1.copy\n",
    "list1.count\n",
    "list1.extend\n",
    "list1.index\n",
    "list1.insert\n",
    "list1.pop\n",
    "list1.remove\n",
    "list1.reverse\n",
    "list1.sort"
   ]
  },
  {
   "cell_type": "code",
   "execution_count": 30,
   "metadata": {},
   "outputs": [
    {
     "name": "stdout",
     "output_type": "stream",
     "text": [
      "[1, 2, 3, 4, 6, 7, 8, 9, 10, 11]\n"
     ]
    }
   ],
   "source": [
    "# copy\n",
    "\n",
    "list2 = list1.copy()\n",
    "print(list2)"
   ]
  },
  {
   "cell_type": "code",
   "execution_count": 35,
   "metadata": {},
   "outputs": [
    {
     "name": "stdout",
     "output_type": "stream",
     "text": [
      "[1, 2, 3, 4, 6, 7, 8, 9, 10, 11, 20, 20]\n",
      "[1, 2, 3, 4, 6, 7, 8, 9, 10, 11, 20, 20, 20]\n",
      "[1, 2, 3, 4, 6, 7, 8, 9, 10, 11, 20, 20, 20, 1, 2, 3, 4, 6, 7, 8, 9, 10, 11]\n"
     ]
    }
   ],
   "source": [
    "# extend using list and single ement\n",
    "\n",
    "print(list1)\n",
    "\n",
    "list1.extend([20])\n",
    "print(list1)\n",
    "\n",
    "list1.extend(list2)\n",
    "print(list1)"
   ]
  },
  {
   "cell_type": "code",
   "execution_count": 38,
   "metadata": {},
   "outputs": [
    {
     "name": "stdout",
     "output_type": "stream",
     "text": [
      "9\n"
     ]
    }
   ],
   "source": [
    "# index of value\n",
    "\n",
    "print(list1.index(11))"
   ]
  },
  {
   "cell_type": "code",
   "execution_count": 41,
   "metadata": {},
   "outputs": [
    {
     "name": "stdout",
     "output_type": "stream",
     "text": [
      "[1, 2, 3, 4, 6, 7, 8, 9, 10, 11, 20, 20, 20, 1, 2, 3, 4, 6, 7, 8, 9, 10, 11]\n",
      "[1, 200, 2, 3, 4, 6, 7, 8, 9, 10, 11, 20, 20, 20, 1, 2, 3, 4, 6, 7, 8, 9, 10, 11]\n"
     ]
    }
   ],
   "source": [
    "# insert value (index, value)\n",
    "print(list1)\n",
    "list1.insert(1,200)\n",
    "print(list1)"
   ]
  },
  {
   "cell_type": "code",
   "execution_count": 43,
   "metadata": {},
   "outputs": [
    {
     "name": "stdout",
     "output_type": "stream",
     "text": [
      "[1, 200, 2, 3, 4, 6, 7, 8, 9, 10, 11, 20, 20, 20, 1, 2, 3, 4, 6, 7, 8, 9, 10, 11]\n",
      "[1, 200, 2, 3, 4, 6, 7, 8, 9, 10, 11, 20, 20, 20, 1, 2, 3, 4, 6, 7, 8, 9, 10]\n"
     ]
    }
   ],
   "source": [
    "# pop and pop(index)\n",
    "\n",
    "print(list1)\n",
    "list1.pop()\n",
    "print(list1)"
   ]
  },
  {
   "cell_type": "code",
   "execution_count": 46,
   "metadata": {},
   "outputs": [
    {
     "name": "stdout",
     "output_type": "stream",
     "text": [
      "[1, 200, 2, 3, 4, 6, 7, 8, 9, 10, 11, 20, 20, 20, 1, 2, 3, 4, 6, 7, 8, 9, 10]\n",
      "[1, 2, 3, 4, 6, 7, 8, 9, 10, 11, 20, 20, 20, 1, 2, 3, 4, 6, 7, 8, 9, 10]\n"
     ]
    }
   ],
   "source": [
    "print(list1)\n",
    "list1.pop(1)\n",
    "print(list1)"
   ]
  },
  {
   "cell_type": "code",
   "execution_count": 48,
   "metadata": {},
   "outputs": [
    {
     "name": "stdout",
     "output_type": "stream",
     "text": [
      "[1, 2, 3, 4, 6, 7, 8, 9, 10, 11]\n",
      "[11, 10, 9, 8, 7, 6, 4, 3, 2, 1]\n"
     ]
    }
   ],
   "source": [
    "# reverse\n",
    "\n",
    "print(list2)\n",
    "list2.reverse()\n",
    "print(list2)"
   ]
  },
  {
   "cell_type": "code",
   "execution_count": 55,
   "metadata": {},
   "outputs": [
    {
     "name": "stdout",
     "output_type": "stream",
     "text": [
      "[1, 2, 4, 3, 7, 4, 6]\n",
      "[7, 6, 4, 4, 3, 2, 1]\n"
     ]
    }
   ],
   "source": [
    "# sort(reverse=True/False)\n",
    "list1 = [1,2,4,3,7,4,6]\n",
    "\n",
    "print(list1)\n",
    "list1.sort(reverse = True)\n",
    "print(list1)\n"
   ]
  },
  {
   "cell_type": "raw",
   "metadata": {},
   "source": [
    "print(list1)\n",
    "\n",
    "list1[2:4] = [0, 10]\n",
    "\n",
    "\n",
    "print(list1)"
   ]
  },
  {
   "cell_type": "code",
   "execution_count": 57,
   "metadata": {},
   "outputs": [
    {
     "name": "stdout",
     "output_type": "stream",
     "text": [
      "[7, 6, 'val', 'val1', 3, 2, 1]\n",
      "[7, 6, 0, 0, 3, 2, 1]\n"
     ]
    }
   ],
   "source": [
    "print(list1)\n",
    "\n",
    "list1[2:4] = [0, 0]\n",
    "\n",
    "\n",
    "print(list1)"
   ]
  },
  {
   "cell_type": "markdown",
   "metadata": {},
   "source": [
    "## Tuple"
   ]
  },
  {
   "cell_type": "markdown",
   "metadata": {},
   "source": [
    "1. Tuple is ordered and unchangeble\n",
    "2. Immutable (you cant change the elements or cant add elements in tuple)\n",
    "3. () are used to represent the tuple\n",
    "4. Allow duplicates\n",
    "5. tuples are read only version of your list except list is growable"
   ]
  },
  {
   "cell_type": "code",
   "execution_count": 6,
   "metadata": {},
   "outputs": [
    {
     "name": "stdout",
     "output_type": "stream",
     "text": [
      "(1, 2, 3, 4, 5, 5, 6)\n"
     ]
    }
   ],
   "source": [
    "tup = tuple((1,2,3,4,5,5,6))\n",
    "print(tup)"
   ]
  },
  {
   "cell_type": "code",
   "execution_count": 9,
   "metadata": {},
   "outputs": [
    {
     "data": {
      "text/plain": [
       "2"
      ]
     },
     "execution_count": 9,
     "metadata": {},
     "output_type": "execute_result"
    }
   ],
   "source": [
    "tup.count(5)"
   ]
  },
  {
   "cell_type": "code",
   "execution_count": 11,
   "metadata": {},
   "outputs": [
    {
     "data": {
      "text/plain": [
       "4"
      ]
     },
     "execution_count": 11,
     "metadata": {},
     "output_type": "execute_result"
    }
   ],
   "source": [
    "tup.index(5)"
   ]
  },
  {
   "cell_type": "code",
   "execution_count": 13,
   "metadata": {},
   "outputs": [
    {
     "name": "stdout",
     "output_type": "stream",
     "text": [
      "(1, 2, 3, 4, 5, 5, 6)\n",
      "<class 'tuple'>\n",
      "[1, 2, 3, 4, 5, 5, 6]\n",
      "<class 'list'>\n"
     ]
    }
   ],
   "source": [
    "# i want to add elemet in my tuple\n",
    "\n",
    "print(tup)\n",
    "print(type(tup))\n",
    "\n",
    "l_tup = list(tup)\n",
    "\n",
    "print(l_tup)\n",
    "print(type(l_tup))\n"
   ]
  },
  {
   "cell_type": "code",
   "execution_count": 24,
   "metadata": {},
   "outputs": [
    {
     "name": "stdout",
     "output_type": "stream",
     "text": [
      "[1, 2, 3, 4, 5, 5, 6, 10, 10, 10, 10]\n"
     ]
    }
   ],
   "source": [
    "l_tup.append(10)\n",
    "print(l_tup)"
   ]
  },
  {
   "cell_type": "code",
   "execution_count": 25,
   "metadata": {},
   "outputs": [
    {
     "name": "stdout",
     "output_type": "stream",
     "text": [
      "(1, 2, 3, 4, 5, 5, 6, 10, 10, 10, 10)\n"
     ]
    }
   ],
   "source": [
    "tup = tuple(l_tup)\n",
    "print(tup)"
   ]
  },
  {
   "cell_type": "raw",
   "metadata": {},
   "source": [
    "# Available operations on tuple\n",
    "\n",
    "list1.append # add elemnt at last\n",
    "list1.clear # remove all element from your list\n",
    "list1.copy # copy\n",
    "list1.count #it will count a value\n",
    "list1.extend # it will add multiple element to list\n",
    "list1.index # it return you an index of value\n",
    "list1.insert #You can insert a value at specific location\n",
    "list1.pop #this will remove last element / specific location\n",
    "list1.remove # remove value\n",
    "list1.reverse # reverse your list\n",
    "list1.sort # reverse = True - sort your list in ascending or Descending order."
   ]
  },
  {
   "cell_type": "code",
   "execution_count": 22,
   "metadata": {},
   "outputs": [
    {
     "name": "stdout",
     "output_type": "stream",
     "text": [
      "(1, 2, 3, 4, 5, 5, 6, 10, 10, 21, 31, 41, 51)\n",
      "[1, 2, 3, 4, 5, 5, 6, 10, 10, 21, 31, 41, 51]\n",
      "[1, 2, 3, 4, 5, 5, 6, 10, 10, 21, 31, 41, 51, 21, 31, 41, 51]\n",
      "(1, 2, 3, 4, 5, 5, 6, 10, 10, 21, 31, 41, 51, 21, 31, 41, 51)\n"
     ]
    }
   ],
   "source": [
    "print(tup)\n",
    "\n",
    "#Add (21,31,41,51)\n",
    "\n",
    "list1 = list(tup) # typecasting\n",
    "\n",
    "print(list1)\n",
    "\n",
    "list1.extend([21,31,41,51])\n",
    "\n",
    "print(list1)\n",
    "\n",
    "tup = tuple(list1)  # typecasting\n",
    "\n",
    "print(tup)"
   ]
  },
  {
   "cell_type": "markdown",
   "metadata": {},
   "source": [
    "##### Process:\n",
    "    \n",
    "    1. to convert your tuple into list\n",
    "    2. perform your required operation\n",
    "    3. convert your list into tuple"
   ]
  },
  {
   "cell_type": "code",
   "execution_count": 28,
   "metadata": {},
   "outputs": [
    {
     "name": "stdout",
     "output_type": "stream",
     "text": [
      "('apple', 'apple', 'banana', 'cherry', 'orange', 'kiwi', 'melon', 'mango')\n"
     ]
    }
   ],
   "source": [
    "tup = (\"apple\",'apple', \"banana\", \"cherry\", \"orange\", \"kiwi\", \"melon\", \"mango\")\n",
    "print(tup)"
   ]
  },
  {
   "cell_type": "code",
   "execution_count": 27,
   "metadata": {},
   "outputs": [
    {
     "name": "stdout",
     "output_type": "stream",
     "text": [
      "(10.1, 20.2, 30.3, 40.4, 50.5)\n"
     ]
    }
   ],
   "source": [
    "tup = (10.1,20.2,30.3,40.4,50.5)\n",
    "print(tup)"
   ]
  },
  {
   "cell_type": "code",
   "execution_count": 29,
   "metadata": {},
   "outputs": [
    {
     "name": "stdout",
     "output_type": "stream",
     "text": [
      "('apple', 'apple', 'banana', 'cherry', 'orange', 'kiwi', 'melon', 'mango')\n"
     ]
    }
   ],
   "source": [
    "# how to acces the elements of tuple\n",
    "\n",
    "print(tup)"
   ]
  },
  {
   "cell_type": "code",
   "execution_count": 32,
   "metadata": {},
   "outputs": [
    {
     "data": {
      "text/plain": [
       "'banana'"
      ]
     },
     "execution_count": 32,
     "metadata": {},
     "output_type": "execute_result"
    }
   ],
   "source": [
    "tup[2]"
   ]
  },
  {
   "cell_type": "code",
   "execution_count": 34,
   "metadata": {},
   "outputs": [],
   "source": [
    "# tup[2] = 'papaya'"
   ]
  },
  {
   "cell_type": "code",
   "execution_count": 35,
   "metadata": {},
   "outputs": [
    {
     "data": {
      "text/plain": [
       "('apple', 'apple', 'banana', 'cherry', 'orange', 'kiwi', 'melon', 'mango')"
      ]
     },
     "execution_count": 35,
     "metadata": {},
     "output_type": "execute_result"
    }
   ],
   "source": [
    "# slicing of tuple [start, end]\n",
    "\n",
    "tup[0:]"
   ]
  },
  {
   "cell_type": "code",
   "execution_count": 36,
   "metadata": {},
   "outputs": [
    {
     "data": {
      "text/plain": [
       "('kiwi', 'melon', 'mango')"
      ]
     },
     "execution_count": 36,
     "metadata": {},
     "output_type": "execute_result"
    }
   ],
   "source": [
    "tup[5:]"
   ]
  },
  {
   "cell_type": "code",
   "execution_count": 37,
   "metadata": {},
   "outputs": [
    {
     "data": {
      "text/plain": [
       "('apple', 'apple', 'banana', 'cherry', 'orange')"
      ]
     },
     "execution_count": 37,
     "metadata": {},
     "output_type": "execute_result"
    }
   ],
   "source": [
    "tup[0:5]"
   ]
  },
  {
   "cell_type": "code",
   "execution_count": 41,
   "metadata": {},
   "outputs": [
    {
     "name": "stdout",
     "output_type": "stream",
     "text": [
      "('apple', 'apple', 'banana', 'cherry', 'orange', 'kiwi', 'melon', 'mango')\n"
     ]
    },
    {
     "data": {
      "text/plain": [
       "'kiwi'"
      ]
     },
     "execution_count": 41,
     "metadata": {},
     "output_type": "execute_result"
    }
   ],
   "source": [
    "print(tup)\n",
    "tup[-3]"
   ]
  },
  {
   "cell_type": "code",
   "execution_count": 51,
   "metadata": {},
   "outputs": [
    {
     "data": {
      "text/plain": [
       "('orange', 'kiwi', 'melon')"
      ]
     },
     "execution_count": 51,
     "metadata": {},
     "output_type": "execute_result"
    }
   ],
   "source": [
    "\n",
    "tup[-4:-1]\n"
   ]
  },
  {
   "cell_type": "code",
   "execution_count": 50,
   "metadata": {},
   "outputs": [
    {
     "data": {
      "text/plain": [
       "3"
      ]
     },
     "execution_count": 50,
     "metadata": {},
     "output_type": "execute_result"
    }
   ],
   "source": [
    "len(tup[-4:-1])"
   ]
  },
  {
   "cell_type": "code",
   "execution_count": 52,
   "metadata": {},
   "outputs": [
    {
     "name": "stdout",
     "output_type": "stream",
     "text": [
      "[1, 2, 3, 4, 5, 5, 6, 10, 10, 21, 31, 41, 51, 21, 31, 41, 51]\n"
     ]
    }
   ],
   "source": [
    "print(list1)"
   ]
  },
  {
   "cell_type": "code",
   "execution_count": 59,
   "metadata": {},
   "outputs": [
    {
     "name": "stdout",
     "output_type": "stream",
     "text": [
      "[1, 2, 10, 20, 30]\n"
     ]
    }
   ],
   "source": [
    "# Misbahaviour of list\n",
    "list1[2:] = [10,20,30]\n",
    "print(list1)"
   ]
  }
 ],
 "metadata": {
  "kernelspec": {
   "display_name": "Python 3",
   "language": "python",
   "name": "python3"
  },
  "language_info": {
   "codemirror_mode": {
    "name": "ipython",
    "version": 3
   },
   "file_extension": ".py",
   "mimetype": "text/x-python",
   "name": "python",
   "nbconvert_exporter": "python",
   "pygments_lexer": "ipython3",
   "version": "3.5.2"
  }
 },
 "nbformat": 4,
 "nbformat_minor": 4
}
