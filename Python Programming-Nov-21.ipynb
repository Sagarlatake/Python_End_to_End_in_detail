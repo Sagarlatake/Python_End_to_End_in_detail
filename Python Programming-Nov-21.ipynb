{
 "cells": [
  {
   "cell_type": "markdown",
   "metadata": {},
   "source": [
    "# Python Programming"
   ]
  },
  {
   "cell_type": "raw",
   "metadata": {},
   "source": [
    "Basic: It is a general purpose high level programming language.\n",
    "\n",
    "Python was developed by Guido Van Rossam at National Research Institute at Netherlands.\n",
    "\n",
    "official relaese date of python is 20th feb 1991\n"
   ]
  },
  {
   "cell_type": "code",
   "execution_count": 1,
   "metadata": {},
   "outputs": [
    {
     "name": "stdout",
     "output_type": "stream",
     "text": [
      "Hello\n",
      "Simple Statement\n"
     ]
    }
   ],
   "source": [
    "# Printing Hello \n",
    "\n",
    "print(\"Hello\")\n",
    "\n",
    "\n",
    "print(\"Simple Statement\")\n"
   ]
  },
  {
   "cell_type": "raw",
   "metadata": {},
   "source": [
    "Note:\n",
    "\n",
    "It is very simple to print hello in python, as compared to other programming languages\n",
    "\n",
    "coding in python is really less time consuming than other programming languages\n",
    "Python Features\n",
    "\n",
    "1) Easy to Learn and Use. Python is easy to learn and use. ...\n",
    "2) Expressive Language. Python language is\n",
    "more expressive means that\n",
    "it is more understandable and readable.\n",
    "3) Interpreted Language. ...\n",
    "4) Cross-platform Language. ...\n",
    "5) Free and Open Source. ...\n",
    "6) Object-Oriented Language. ...\n",
    "7) Extensible. ...\n",
    "8) Large Standard Library.\n",
    "\n",
    "Applications\n",
    "\n",
    "1) Web Applications.... 2) Desktop GUI Applications.... 3) Software Development.... 4) Scientific and Numeric.... 5) Business Applications.... 6) Console Based Application.... 7) Audio or Video based Applications.... 8) 3D CAD Applications. 9) AI 10) ML, DL 11) Data Analytics\n",
    "Good to Know\n",
    "\n",
    "    Functional Programming Features from C\n",
    "    Object Oriented Programming Features from C++\n",
    "    Scripting Language Features from Perl and Shell Script\n",
    "    Modular Programming Features from Modula-3\n",
    "\n",
    "Identifiers\n",
    "\n",
    "    names in python are called as identifiers.\n",
    "\n",
    "    Function name, variable name, module name, class name are identifiers in python\n",
    "\n",
    "    Rules:\n",
    "\n",
    "        Alphabet Symbols (Either Upper case OR Lower case)\n",
    "\n",
    "        If Identifier is start with Underscore (_) then it indicates it is private.\n",
    "\n",
    "        Identifier should not start with Digits.\n",
    "\n",
    "        Identifiers are case sensitive.\n",
    "\n",
    "        We cannot use reserved words as identifiers\n",
    "\n",
    "        Dollor ($) Symbol is not allowed in Python.\n",
    "\n",
    "        ex: Akash, akash,AKASH, _aKASH, _AKASH, _akash Wrong: 1_aksh, 1akash, 1AKASH\n",
    "\n"
   ]
  },
  {
   "cell_type": "markdown",
   "metadata": {},
   "source": [
    "### Identifiers"
   ]
  },
  {
   "cell_type": "code",
   "execution_count": 2,
   "metadata": {},
   "outputs": [
    {
     "name": "stdout",
     "output_type": "stream",
     "text": [
      "20\n",
      "10\n"
     ]
    }
   ],
   "source": [
    "x = 10\n",
    "y = 20\n",
    "\n",
    "_x = 20\n",
    "\n",
    "_x_1 = 20\n",
    "\n",
    "_1 = 10\n",
    "\n",
    "print(_x_1)\n",
    "print(_1)\n"
   ]
  },
  {
   "cell_type": "code",
   "execution_count": 3,
   "metadata": {},
   "outputs": [
    {
     "name": "stdout",
     "output_type": "stream",
     "text": [
      "Sagar\n",
      "Latake\n"
     ]
    }
   ],
   "source": [
    "first_name = 'Sagar'\n",
    "last_name = \"Latake\"\n",
    "\n",
    "print(first_name)\n",
    "print(last_name)\n",
    "\n"
   ]
  },
  {
   "cell_type": "markdown",
   "metadata": {},
   "source": [
    "## Special Notes\n",
    "\n",
    "    If identifier starts with _ symbol,then it is private\n",
    "    If identifier starts with __(2 underscore), indicate that it is a strongly private.\n",
    "    If the identifier starts and ends with two underscore symbols, then such identifiers are language defined special name,\n",
    "    which is also known as magic methods.\n",
    "    ex: __init__()\n",
    "        __DoIt__ \n"
   ]
  },
  {
   "cell_type": "markdown",
   "metadata": {},
   "source": [
    "## Keywords\n",
    "\n",
    "There are around 33 keywords:\n",
    "\n",
    "if,elif,else,while,for,break,continue,return,in,True,False,None,and, or,not,is,yield,try,except,finally,raise,del,with,assert,import,from,as,class,def,pass, global,nonlocal,lambda.\n"
   ]
  },
  {
   "cell_type": "code",
   "execution_count": 4,
   "metadata": {},
   "outputs": [
    {
     "name": "stdout",
     "output_type": "stream",
     "text": [
      "['False', 'None', 'True', 'and', 'as', 'assert', 'break', 'class', 'continue', 'def', 'del', 'elif', 'else', 'except', 'finally', 'for', 'from', 'global', 'if', 'import', 'in', 'is', 'lambda', 'nonlocal', 'not', 'or', 'pass', 'raise', 'return', 'try', 'while', 'with', 'yield']\n"
     ]
    },
    {
     "data": {
      "text/plain": [
       "33"
      ]
     },
     "execution_count": 4,
     "metadata": {},
     "output_type": "execute_result"
    }
   ],
   "source": [
    "# we can see all keywords from python using below code\n",
    "\n",
    "sa = 'Hi Hello'\n",
    "\n",
    "import keyword\n",
    "\n",
    "print(keyword.kwlist)\n",
    "\n",
    "\n",
    "\n",
    "len(keyword.kwlist)"
   ]
  },
  {
   "cell_type": "markdown",
   "metadata": {},
   "source": [
    "### Data Types in Python:\n",
    "\n",
    "    Data type of variable is the type of value inside that variable.\n",
    "    In python we do not need to mension the data type of variable, It automatically assigns data type.\n",
    "    int 2. float 3.complex 4.bool 5.str 6.bytes 7.bytearray 8.range 9.list 10.tuple 11.set 12.frozenset 13.dict 14.None\n",
    "\n"
   ]
  },
  {
   "cell_type": "raw",
   "metadata": {},
   "source": [
    "10- int\n",
    "\n",
    "10.20 float\n",
    "\n",
    "3+4j - complex\n",
    "\n",
    "True / False - ( 1 / 0) --- bool\n",
    "\n",
    "\"Hello this is python\"  --str"
   ]
  },
  {
   "cell_type": "markdown",
   "metadata": {},
   "source": [
    "### Data type of variable is the type of value inside that variable\n",
    "\n",
    "x = 10\n",
    "\n",
    "x = 20.23\n",
    "\n",
    "x = 3 + 4j\n",
    "\n",
    "x = True\n",
    "\n",
    "x = \"Hey Hello\"\n",
    "\n",
    "\n"
   ]
  },
  {
   "cell_type": "markdown",
   "metadata": {},
   "source": [
    "### Python automatically identify the the type of variable"
   ]
  },
  {
   "cell_type": "code",
   "execution_count": 1,
   "metadata": {},
   "outputs": [
    {
     "name": "stdout",
     "output_type": "stream",
     "text": [
      "Value of x:\n",
      "10\n",
      "type of x:\n",
      "<class 'int'>\n",
      "\n",
      "\n",
      "Value of y:\n",
      "20.23\n",
      "type of y:\n",
      "<class 'float'>\n",
      "\n",
      "\n",
      "Value of comp:\n",
      "(3+4j)\n",
      "Type of comp:\n",
      "<class 'complex'>\n",
      "\n",
      "\n",
      "Value of b:\n",
      "True\n",
      "Type of b:\n",
      "<class 'bool'>\n",
      "\n",
      "\n",
      "<class 'str'>\n"
     ]
    }
   ],
   "source": [
    "x = 10 # Declaration\n",
    "\n",
    "print(\"Value of x:\")\n",
    "print(x)\n",
    "print(\"type of x:\")\n",
    "print(type(x))\n",
    "\n",
    "\n",
    "print(\"\\n\")  # new line\n",
    "\n",
    "y = 20.23\n",
    "print(\"Value of y:\")\n",
    "print(y)\n",
    "print(\"type of y:\")\n",
    "print(type(y))\n",
    "\n",
    "print(\"\\n\")\n",
    "comp = 3 + 4j\n",
    "print(\"Value of comp:\")\n",
    "print(comp)\n",
    "print(\"Type of comp:\")\n",
    "print(type(comp))\n",
    "\n",
    "print(\"\\n\")\n",
    "b = True\n",
    "print(\"Value of b:\")\n",
    "print(b)\n",
    "print(\"Type of b:\")\n",
    "print(type(b))\n",
    "\n",
    "print(\"\\n\")\n",
    "\n",
    "str1 = \"Hey Hello\"\n",
    "print(type(str1))"
   ]
  },
  {
   "cell_type": "markdown",
   "metadata": {},
   "source": [
    "### Typecasting\n",
    "\n",
    "int, float, str, boolean, comlex, object.\n"
   ]
  },
  {
   "cell_type": "raw",
   "metadata": {},
   "source": [
    "# What is typecasting:\n",
    "\n",
    "Conversion of data from one type to another type.\n",
    "\n",
    "x = \"100\"\n",
    "\n",
    "name = \"sagar 100 sagar....!!!!\"\n",
    "\n",
    "\n",
    "eg. str1 = \"python is best\"\n",
    "str2 = \"100\"\n",
    "Note: we can convert str2 into float, int"
   ]
  },
  {
   "cell_type": "code",
   "execution_count": 6,
   "metadata": {},
   "outputs": [
    {
     "name": "stdout",
     "output_type": "stream",
     "text": [
      "Int to float:\n",
      "100\n",
      "<class 'int'>\n",
      "100.0\n",
      "<class 'float'>\n",
      "string to float: \n",
      "300\n",
      "<class 'str'>\n",
      "300.0\n",
      "<class 'float'>\n"
     ]
    }
   ],
   "source": [
    "# int/string to float conversion:\n",
    "print(\"Int to float:\")\n",
    "val = 100\n",
    "print(val)\n",
    "print(type(val))\n",
    "\n",
    "val_f = float(val)\n",
    "\n",
    "print(val_f)\n",
    "print(type(val_f))\n",
    "\n",
    "print(\"string to float: \")\n",
    "str1 = \"300\"\n",
    "print(str1)\n",
    "print(type(str1))\n",
    "\n",
    "str1_f = float(str1)\n",
    "\n",
    "print(str1_f)\n",
    "print(type(str1_f))"
   ]
  },
  {
   "cell_type": "code",
   "execution_count": 7,
   "metadata": {},
   "outputs": [
    {
     "name": "stdout",
     "output_type": "stream",
     "text": [
      "Float to int typecasting:\n",
      "200.9\n",
      "<class 'float'>\n",
      "200\n",
      "<class 'int'>\n",
      "String to int typecasting:\n",
      "100\n",
      "<class 'str'>\n",
      "100\n",
      "<class 'int'>\n"
     ]
    }
   ],
   "source": [
    "# float/string to int conversion\n",
    "\n",
    "print(\"Float to int typecasting:\")\n",
    "val = 200.9\n",
    "print(val)\n",
    "print(type(val))\n",
    "\n",
    "val_i = int(val)\n",
    "print(val_i)\n",
    "print(type(val_i))\n",
    "\n",
    "\n",
    "print(\"String to int typecasting:\")\n",
    "\n",
    "str1 = '100'\n",
    "print(str1)\n",
    "print(type(str1))\n",
    "\n",
    "str1_i = int(str1)\n",
    "print(str1_i)\n",
    "print(type(str1_i))"
   ]
  },
  {
   "cell_type": "code",
   "execution_count": 8,
   "metadata": {},
   "outputs": [
    {
     "name": "stdout",
     "output_type": "stream",
     "text": [
      "100.20\n",
      "<class 'str'>\n",
      "100.2\n",
      "100\n"
     ]
    }
   ],
   "source": [
    "# To convert string of float value, first convert it to float value and \n",
    "# then convert float value to int\n",
    "\n",
    "str2 = \"100.20\"\n",
    "print(str2)\n",
    "print(type(str2))\n",
    "#int(str2)\n",
    "str2_f = float(str2)\n",
    "print(str2_f)\n",
    "\n",
    "str2_i = int(str2_f)\n",
    "print(str2_i)\n",
    "\n",
    "\n",
    "\n",
    "#print(\"String to int:\")\n",
    "#print(str1)\n",
    "#print(type(str1))\n",
    "#var2 = int(str1)\n",
    "#print(var2)\n",
    "#print(type(var2))"
   ]
  },
  {
   "cell_type": "code",
   "execution_count": 9,
   "metadata": {},
   "outputs": [
    {
     "name": "stdout",
     "output_type": "stream",
     "text": [
      "100\n",
      "<class 'int'>\n",
      "100\n",
      "<class 'int'>\n",
      "200\n",
      "<class 'str'>\n",
      "200.0\n",
      "<class 'float'>\n",
      "Demonstration of string to float conversion:\n",
      "python\n"
     ]
    }
   ],
   "source": [
    "# int/string to float conversion:\n",
    "\n",
    "str1 = \"python\"\n",
    "var = 100\n",
    "str2 = \"200\"\n",
    "print(var)\n",
    "print(type(var))\n",
    "print(var)\n",
    "\n",
    "print(type(var))\n",
    "\n",
    "print(str2)\n",
    "print(type(str2))\n",
    "var3 = float(str2)\n",
    "print(var3)\n",
    "print(type(var3))\n",
    "\n",
    "print(\"Demonstration of string to float conversion:\")\n",
    "print(str1)\n",
    "#var2 = float(str1)"
   ]
  },
  {
   "cell_type": "code",
   "execution_count": 10,
   "metadata": {},
   "outputs": [
    {
     "name": "stdout",
     "output_type": "stream",
     "text": [
      "float to int:\n",
      "100.2\n",
      "<class 'float'>\n",
      "100\n",
      "<class 'int'>\n",
      "String to int:\n",
      "500\n",
      "<class 'str'>\n",
      "500\n",
      "<class 'int'>\n",
      "string to complex:\n",
      "(3+4j)\n",
      "<class 'complex'>\n"
     ]
    }
   ],
   "source": [
    "# float/string to int conversion\n",
    "\n",
    "var = 100.20\n",
    "str1 = \"200.30\"\n",
    "str2 = \"500\"\n",
    "str3 = \"python\"\n",
    "\n",
    "print(\"float to int:\")\n",
    "print(var)\n",
    "print(type(var))\n",
    "var1 = int(var)\n",
    "print(var1)\n",
    "print(type(var1))\n",
    "\n",
    "print(\"String to int:\")\n",
    "print(str2)\n",
    "print(type(str2))\n",
    "var3 = int(str2)\n",
    "print(var3)\n",
    "print(type(var3))\n",
    "\n",
    "#print(\"String to int:\")\n",
    "#print(str1)\n",
    "#print(type(str1))\n",
    "#var2 = int(str1)\n",
    "#print(var2)\n",
    "#print(type(var2))\n",
    "\n",
    "print(\"string to complex:\")\n",
    "cm = \"3+4j\"\n",
    "comp = complex(cm)\n",
    "print(comp)\n",
    "print(type(comp))\n",
    "\n",
    "\n",
    "#print(\"String to int:\")\n",
    "#print(str3)\n",
    "#print(type(str3))\n",
    "#var4 = int(str3)\n",
    "#print(var4)\n",
    "#print(type(var4))\n"
   ]
  },
  {
   "cell_type": "code",
   "execution_count": 11,
   "metadata": {},
   "outputs": [
    {
     "name": "stdout",
     "output_type": "stream",
     "text": [
      "float to string:\n",
      "100.23\n",
      "<class 'float'>\n",
      "100.23\n",
      "<class 'str'>\n",
      "int to string:\n",
      "20\n",
      "<class 'int'>\n",
      "20\n",
      "<class 'str'>\n",
      "Complex to string:\n",
      "(2+4j)\n",
      "<class 'complex'>\n",
      "(2+4j)\n",
      "<class 'str'>\n"
     ]
    }
   ],
   "source": [
    "# float, int to string\n",
    "\n",
    "var = 100.23\n",
    "var1 = 20\n",
    "comp = 2+4j\n",
    "\n",
    "\n",
    "print(\"float to string:\")\n",
    "print(var)\n",
    "print(type(var))\n",
    "var3 = str(var)\n",
    "print(var3)\n",
    "print(type(var3))\n",
    "\n",
    "print(\"int to string:\")\n",
    "print(var1)\n",
    "print(type(var1))\n",
    "var4 = str(var1)\n",
    "print(var4)\n",
    "print(type(var4))\n",
    "\n",
    "print(\"Complex to string:\")\n",
    "print(comp)\n",
    "print(type(comp))\n",
    "var5 = str(comp)\n",
    "print(var5)\n",
    "print(type(var5))"
   ]
  },
  {
   "cell_type": "markdown",
   "metadata": {},
   "source": [
    "### Other types to Complex"
   ]
  },
  {
   "cell_type": "code",
   "execution_count": 12,
   "metadata": {},
   "outputs": [
    {
     "name": "stdout",
     "output_type": "stream",
     "text": [
      "(4+0j)\n",
      "The real Part:\n",
      "4.0\n",
      "The imaginary Part:\n",
      "0.0\n",
      "(4+6j)\n",
      "The real Part:\n",
      "4.0\n",
      "The imaginary Part:\n",
      "6.0\n",
      "(20+0j)\n",
      "\n",
      "Create a complex number using complete string:\n",
      "3+4j\n",
      "<class 'str'>\n",
      "(3+4j)\n",
      "<class 'complex'>\n",
      "3.0\n",
      "4.0\n"
     ]
    }
   ],
   "source": [
    "# use complex() function for conversion\n",
    "comp = complex(4)\n",
    "print(comp)\n",
    "print(\"The real Part:\")\n",
    "print(comp.real)\n",
    "\n",
    "print(\"The imaginary Part:\")\n",
    "print(comp.imag)\n",
    "\n",
    "\n",
    "# Created complex number using int\n",
    "\n",
    "comp = complex(4,6)\n",
    "print(comp)\n",
    "print(\"The real Part:\")\n",
    "print(comp.real)\n",
    "\n",
    "print(\"The imaginary Part:\")\n",
    "print(comp.imag)\n",
    "\n",
    "\n",
    "# Create a complex number using float values\n",
    "\n",
    "# Assignment\n",
    "\n",
    "\n",
    "# Create a complex number using string\n",
    "\n",
    "\n",
    "str2 = \"20\"\n",
    "\n",
    "c = complex(str2)\n",
    "\n",
    "print(c)\n",
    "\n",
    "print(\"\\nCreate a complex number using complete string:\")\n",
    "str1 = \"3+4j\"\n",
    "print(str1)\n",
    "print(type(str1))\n",
    "c1 = complex(str1)\n",
    "print(c1)\n",
    "print(type(c1))\n",
    "print(c1.real)\n",
    "print(c1.imag)"
   ]
  },
  {
   "cell_type": "code",
   "execution_count": 13,
   "metadata": {},
   "outputs": [
    {
     "name": "stdout",
     "output_type": "stream",
     "text": [
      "(10+0j)\n"
     ]
    }
   ],
   "source": [
    "c = complex(10)\n",
    "print(c)"
   ]
  },
  {
   "cell_type": "code",
   "execution_count": 14,
   "metadata": {},
   "outputs": [
    {
     "name": "stdout",
     "output_type": "stream",
     "text": [
      "(10+5j)\n",
      "(10.2+4j)\n",
      "(1+0j)\n"
     ]
    }
   ],
   "source": [
    "print(complex(10,5)) # 10+5j\n",
    "print(complex(10.20,4))\n",
    "\n",
    "# Create a complex number using bool\n",
    "\n",
    "print(complex(True,False)) # 1+0j\n",
    "\n"
   ]
  },
  {
   "cell_type": "markdown",
   "metadata": {},
   "source": [
    "### Bool()\n",
    "\n",
    "1. True\n",
    "2. False"
   ]
  },
  {
   "cell_type": "code",
   "execution_count": 15,
   "metadata": {},
   "outputs": [
    {
     "name": "stdout",
     "output_type": "stream",
     "text": [
      "False\n",
      "1\n"
     ]
    }
   ],
   "source": [
    "x = True\n",
    "x = False\n",
    "\n",
    "print(x)\n",
    "\n",
    "\n",
    "print(int(True))"
   ]
  },
  {
   "cell_type": "code",
   "execution_count": 16,
   "metadata": {},
   "outputs": [
    {
     "name": "stdout",
     "output_type": "stream",
     "text": [
      "0\n"
     ]
    }
   ],
   "source": [
    "print(int(False))"
   ]
  },
  {
   "cell_type": "code",
   "execution_count": 17,
   "metadata": {},
   "outputs": [
    {
     "name": "stdout",
     "output_type": "stream",
     "text": [
      "1.0\n"
     ]
    }
   ],
   "source": [
    "print(float(True))"
   ]
  },
  {
   "cell_type": "code",
   "execution_count": 18,
   "metadata": {},
   "outputs": [
    {
     "name": "stdout",
     "output_type": "stream",
     "text": [
      "0.0\n"
     ]
    }
   ],
   "source": [
    "print(float(False))"
   ]
  },
  {
   "cell_type": "code",
   "execution_count": 19,
   "metadata": {},
   "outputs": [
    {
     "name": "stdout",
     "output_type": "stream",
     "text": [
      "(1+0j)\n"
     ]
    }
   ],
   "source": [
    "print(complex(True))"
   ]
  },
  {
   "cell_type": "code",
   "execution_count": 20,
   "metadata": {},
   "outputs": [
    {
     "name": "stdout",
     "output_type": "stream",
     "text": [
      "0j\n",
      "1j\n"
     ]
    }
   ],
   "source": [
    "c = complex(False)\n",
    "\n",
    "print(c)\n",
    "\n",
    "\n",
    "#c = 0+0j\n",
    "\n",
    "c1 = complex(False,True)\n",
    "\n",
    "# c1 = 0+ 1j\n",
    "\n",
    "print(c1)"
   ]
  },
  {
   "cell_type": "code",
   "execution_count": 21,
   "metadata": {},
   "outputs": [
    {
     "name": "stdout",
     "output_type": "stream",
     "text": [
      "<class 'bool'>\n",
      "True\n",
      "<class 'str'>\n",
      "<class 'bool'>\n",
      "False\n",
      "<class 'str'>\n"
     ]
    }
   ],
   "source": [
    "# Convert bool into str\n",
    "print(type(True))\n",
    "var = str(True)\n",
    "print(var)\n",
    "print(type(var))\n",
    "\n",
    "print(type(False))\n",
    "var = str(False)\n",
    "print(var)\n",
    "print(type(var))"
   ]
  },
  {
   "cell_type": "code",
   "execution_count": 22,
   "metadata": {},
   "outputs": [
    {
     "name": "stdout",
     "output_type": "stream",
     "text": [
      "True\n",
      "False\n"
     ]
    }
   ],
   "source": [
    "# float into bool\n",
    "\n",
    "x = bool(10.10)\n",
    "print(x)\n",
    "\n",
    "y = bool(0.0)\n",
    "print(y)"
   ]
  },
  {
   "cell_type": "code",
   "execution_count": 23,
   "metadata": {},
   "outputs": [
    {
     "name": "stdout",
     "output_type": "stream",
     "text": [
      "True\n",
      "False\n"
     ]
    }
   ],
   "source": [
    "print(bool(12))\n",
    "print(bool(0))"
   ]
  },
  {
   "cell_type": "code",
   "execution_count": 24,
   "metadata": {},
   "outputs": [
    {
     "name": "stdout",
     "output_type": "stream",
     "text": [
      "True\n",
      "False\n"
     ]
    }
   ],
   "source": [
    "# Conversion from string to bool\n",
    "\n",
    "str1 = \"Python\"\n",
    "str2 = \"\"\n",
    "\n",
    "x = bool(str1)\n",
    "print(x)\n",
    "\n",
    "y = bool(str2)\n",
    "print(y)\n"
   ]
  },
  {
   "cell_type": "code",
   "execution_count": 25,
   "metadata": {},
   "outputs": [
    {
     "name": "stdout",
     "output_type": "stream",
     "text": [
      "True\n",
      "True\n",
      "False\n"
     ]
    }
   ],
   "source": [
    "# Conversion of complex number into the bool\n",
    "\n",
    "x = 1+0j\n",
    "\n",
    "b = bool(x)\n",
    "print(b)\n",
    "\n",
    "\n",
    "x = 4 + 2j\n",
    "\n",
    "b = bool(x)\n",
    "print(b)\n",
    "\n",
    "x = 0 + 0j\n",
    "b = bool(x)\n",
    "print(b)"
   ]
  },
  {
   "cell_type": "markdown",
   "metadata": {},
   "source": [
    "### String\n",
    "\n",
    "operations: slicing, display\n"
   ]
  },
  {
   "cell_type": "markdown",
   "metadata": {},
   "source": [
    "#### String\n",
    "\n",
    "\n",
    "liscing is making peaces of a string using some separator\n",
    "\n",
    "[] is a slice opearator\n",
    "\n",
    "What is string:\n",
    "    Sequence of characters\n",
    "    ex. \"This is string\""
   ]
  },
  {
   "cell_type": "code",
   "execution_count": 26,
   "metadata": {},
   "outputs": [
    {
     "name": "stdout",
     "output_type": "stream",
     "text": [
      "This is python string...1111\n",
      "<class 'str'>\n",
      "['p', 'y', 't', 'h', 'o', 'n']\n"
     ]
    }
   ],
   "source": [
    "str1 = \"This is python string...1111\"\n",
    "print(str1)\n",
    "print(type(str1))\n",
    "\n",
    "# like your list\n",
    "\n",
    "l = ['p','y','t','h','o','n']\n",
    "print(l)"
   ]
  },
  {
   "cell_type": "code",
   "execution_count": 27,
   "metadata": {},
   "outputs": [
    {
     "name": "stdout",
     "output_type": "stream",
     "text": [
      "This is python string...1111\n",
      "T\n",
      "28\n",
      "1\n"
     ]
    }
   ],
   "source": [
    "# assignment\n",
    "# str1 = \"This tutorial is basically designed for beginers\"\n",
    "print(str1)\n",
    "print(str1[0])\n",
    "print(len(str1))\n",
    "\n",
    "print(str1[24])"
   ]
  },
  {
   "cell_type": "code",
   "execution_count": 28,
   "metadata": {},
   "outputs": [
    {
     "data": {
      "text/plain": [
       "'T'"
      ]
     },
     "execution_count": 28,
     "metadata": {},
     "output_type": "execute_result"
    }
   ],
   "source": [
    "str1[0]"
   ]
  },
  {
   "cell_type": "code",
   "execution_count": 29,
   "metadata": {},
   "outputs": [
    {
     "data": {
      "text/plain": [
       "'This is python string...1111'"
      ]
     },
     "execution_count": 29,
     "metadata": {},
     "output_type": "execute_result"
    }
   ],
   "source": [
    "# 0-28 nothing but the range of index\n",
    "\n",
    "str1[0:28]"
   ]
  },
  {
   "cell_type": "code",
   "execution_count": 30,
   "metadata": {},
   "outputs": [
    {
     "name": "stdout",
     "output_type": "stream",
     "text": [
      "This \n"
     ]
    },
    {
     "data": {
      "text/plain": [
       "'i'"
      ]
     },
     "execution_count": 30,
     "metadata": {},
     "output_type": "execute_result"
    }
   ],
   "source": [
    "print(str1[0:5])\n",
    "# in includes 0,1,2,3,4\n",
    "# str1[start : end]\n",
    "# end: not included\n",
    "str1[5]"
   ]
  },
  {
   "cell_type": "code",
   "execution_count": 31,
   "metadata": {},
   "outputs": [
    {
     "name": "stdout",
     "output_type": "stream",
     "text": [
      "is python string\n",
      "g\n"
     ]
    }
   ],
   "source": [
    "print(str1[5:21])\n",
    "print(str1[20])\n"
   ]
  },
  {
   "cell_type": "code",
   "execution_count": 32,
   "metadata": {},
   "outputs": [
    {
     "name": "stdout",
     "output_type": "stream",
     "text": [
      "This is python string...1111\n",
      "This is python string\n"
     ]
    }
   ],
   "source": [
    "print(str1)\n",
    "print(str1[:21])"
   ]
  },
  {
   "cell_type": "code",
   "execution_count": 33,
   "metadata": {},
   "outputs": [
    {
     "name": "stdout",
     "output_type": "stream",
     "text": [
      "This is python string...1111\n",
      "thon string\n",
      "This is python string...1111\n",
      "This is python string...\n"
     ]
    }
   ],
   "source": [
    "print(str1)\n",
    "print(str1[10:21])\n",
    "print(str1[0:])\n",
    "print(str1[0:24])"
   ]
  },
  {
   "cell_type": "code",
   "execution_count": 34,
   "metadata": {},
   "outputs": [
    {
     "name": "stdout",
     "output_type": "stream",
     "text": [
      "This is python string...1111\n",
      "T\n"
     ]
    }
   ],
   "source": [
    "# Negative index\n",
    "\n",
    "print(str1)\n",
    "\n",
    "print(str1[0])"
   ]
  },
  {
   "cell_type": "code",
   "execution_count": 35,
   "metadata": {},
   "outputs": [
    {
     "name": "stdout",
     "output_type": "stream",
     "text": [
      "1\n",
      "T\n"
     ]
    }
   ],
   "source": [
    "print(str1[-1])\n",
    "print(str1[-28])\n",
    "\n",
    "# Assignment : perform negative index operations."
   ]
  },
  {
   "cell_type": "code",
   "execution_count": 3,
   "metadata": {},
   "outputs": [
    {
     "data": {
      "text/plain": [
       "'Hey HelloHey HelloHey HelloHey Hello'"
      ]
     },
     "execution_count": 3,
     "metadata": {},
     "output_type": "execute_result"
    }
   ],
   "source": [
    "#string multiply\n",
    "\n",
    "str1 * 4\n"
   ]
  },
  {
   "cell_type": "code",
   "execution_count": 4,
   "metadata": {},
   "outputs": [
    {
     "name": "stdout",
     "output_type": "stream",
     "text": [
      "Id of x: 10897536\n",
      "Id of y: 10897536\n",
      "Id of z:  10897536\n"
     ]
    },
    {
     "data": {
      "text/plain": [
       "10897536"
      ]
     },
     "execution_count": 4,
     "metadata": {},
     "output_type": "execute_result"
    }
   ],
   "source": [
    "# Immutability\n",
    "# for int\n",
    "x = 100\n",
    "print(\"Id of x:\",id(x))\n",
    "y = 100\n",
    "\n",
    "print(\"Id of y:\",id(y))\n",
    "\n",
    "z = y\n",
    "\n",
    "print(\"Id of z: \",id(z))\n",
    "\n"
   ]
  },
  {
   "cell_type": "code",
   "execution_count": 38,
   "metadata": {},
   "outputs": [
    {
     "name": "stdout",
     "output_type": "stream",
     "text": [
      "Id of x: 140163981036424\n",
      "Id of y: 140163981036568\n",
      "Id of z:  140163981036568\n",
      "Id of y:  140163981036424\n"
     ]
    }
   ],
   "source": [
    "# for float\n",
    "\n",
    "x = 100.10\n",
    "print(\"Id of x:\",id(x))\n",
    "y = 100.10\n",
    "\n",
    "print(\"Id of y:\",id(y))\n",
    "\n",
    "z = y\n",
    "\n",
    "y = x\n",
    "\n",
    "print(\"Id of z: \",id(z))\n",
    "print(\"Id of y: \",id(y))\n"
   ]
  },
  {
   "cell_type": "markdown",
   "metadata": {},
   "source": [
    "### Bytes"
   ]
  },
  {
   "cell_type": "code",
   "execution_count": 39,
   "metadata": {},
   "outputs": [
    {
     "name": "stdout",
     "output_type": "stream",
     "text": [
      "b'\\n\\x16!(2\\xff'\n",
      "<class 'bytes'>\n",
      "10\n",
      "22\n",
      "33\n",
      "40\n",
      "50\n",
      "255\n",
      "Val of b[5] 255\n"
     ]
    }
   ],
   "source": [
    "# bytes can hold the values from 0 to 256\n",
    "# You cant change the value of bytes once it is created\n",
    "# Bytes is immutable\n",
    "\n",
    "b = bytes([10,22,33,40,50,255])\n",
    "\n",
    "print(b)\n",
    "\n",
    "print(type(b))\n",
    "\n",
    "for i in b:\n",
    "    print(i)\n",
    "\n",
    " # How to access   \n",
    "print(\"Val of b[5]\",b[5])\n",
    "\n",
    "# Try to modify\n",
    "\n",
    "# b[0] = 15"
   ]
  },
  {
   "cell_type": "markdown",
   "metadata": {},
   "source": [
    "### Bytearray\n",
    "\n",
    "1. The bytearray is similar to bytes\n",
    "2. But you can change the elements of bytearray\n",
    "3. bytearray are mutable (we can change the contents of object after creation)"
   ]
  },
  {
   "cell_type": "code",
   "execution_count": 40,
   "metadata": {},
   "outputs": [
    {
     "name": "stdout",
     "output_type": "stream",
     "text": [
      "<class 'bytearray'>\n",
      "bytearray(b'\\x0b\\x16!(2BN')\n",
      "11\n",
      "22\n",
      "33\n",
      "40\n",
      "50\n",
      "66\n",
      "78\n",
      "\n",
      " 11\n",
      "255\n",
      "\n",
      "\n",
      "255\n",
      "22\n",
      "33\n",
      "40\n",
      "50\n",
      "66\n",
      "78\n"
     ]
    }
   ],
   "source": [
    "# create bytearray\n",
    "\n",
    "ba = bytearray([11,22,33,40,50,66,78])\n",
    "\n",
    "print(type(ba))\n",
    "\n",
    "print(ba)\n",
    "\n",
    "for i in ba:\n",
    "    print(i)\n",
    "    \n",
    "# How access the bytearray\n",
    "\n",
    "print(\"\\n\",ba[0])\n",
    "\n",
    "ba[0] = 255   # value modification\n",
    "\n",
    "print(ba[0])\n",
    "\n",
    "\n",
    "print(\"\\n\")\n",
    "for i in ba:\n",
    "    print(i)"
   ]
  },
  {
   "cell_type": "markdown",
   "metadata": {},
   "source": [
    "## List"
   ]
  },
  {
   "cell_type": "raw",
   "metadata": {},
   "source": [
    "1. List stores multiple items with different data types.\n",
    "2. [] brackets are used to create list\n",
    "3. List is ordered, changeable and stores duplicates also.\n",
    "4. List is growable, elements are added at end of list."
   ]
  },
  {
   "cell_type": "code",
   "execution_count": 41,
   "metadata": {},
   "outputs": [
    {
     "name": "stdout",
     "output_type": "stream",
     "text": [
      "<class 'list'>\n",
      "[1, 2, 3, 4, 5, 6, 7, 8]\n"
     ]
    }
   ],
   "source": [
    "# Create List for int float string mix\n",
    "\n",
    "l_i = [1,2,3,4,5,6,7,8]\n",
    "\n",
    "print(type(l_i))\n",
    "print(l_i)\n"
   ]
  },
  {
   "cell_type": "code",
   "execution_count": 42,
   "metadata": {},
   "outputs": [
    {
     "name": "stdout",
     "output_type": "stream",
     "text": [
      "<class 'list'>\n",
      "[1.1, 2.2, 3.3, 4.4]\n"
     ]
    }
   ],
   "source": [
    "# float\n",
    "\n",
    "l_f = [1.1,2.2,3.3,4.4]\n",
    "\n",
    "print(type(l_f))\n",
    "print(l_f)"
   ]
  },
  {
   "cell_type": "code",
   "execution_count": 43,
   "metadata": {},
   "outputs": [],
   "source": [
    "# Assignment : create a list of string of fruits-12}"
   ]
  },
  {
   "cell_type": "code",
   "execution_count": 44,
   "metadata": {
    "scrolled": true
   },
   "outputs": [
    {
     "name": "stdout",
     "output_type": "stream",
     "text": [
      "<class 'list'>\n",
      "[1, 2, 'python', 'java', 2.2, 3.4]\n"
     ]
    }
   ],
   "source": [
    "# Mix list\n",
    "\n",
    "l_m = [1,2,\"python\",\"java\",2.2,3.4]\n",
    "print(type(l_m))\n",
    "print(l_m)"
   ]
  },
  {
   "cell_type": "code",
   "execution_count": 45,
   "metadata": {},
   "outputs": [
    {
     "data": {
      "text/plain": [
       "3.4"
      ]
     },
     "execution_count": 45,
     "metadata": {},
     "output_type": "execute_result"
    }
   ],
   "source": [
    "# Accesing list items\n",
    "\n",
    "\n",
    "list1 = [1,2,\"python\",\"java\",2.2,3.4]\n",
    "\n",
    "list1[5]\n"
   ]
  },
  {
   "cell_type": "code",
   "execution_count": 46,
   "metadata": {},
   "outputs": [
    {
     "name": "stdout",
     "output_type": "stream",
     "text": [
      "[1, 2, 3, 4, 5, 6, 7, 8, 9, 10]\n"
     ]
    }
   ],
   "source": [
    "# Slicicing of list + ve, -ve\n",
    "\n",
    "list1 = [1,2,3,4,5,6,7,8,9,10]\n",
    "\n",
    "print(list1)"
   ]
  },
  {
   "cell_type": "code",
   "execution_count": 47,
   "metadata": {},
   "outputs": [
    {
     "name": "stdout",
     "output_type": "stream",
     "text": [
      "[1, 2, 3, 4, 5]\n",
      "[4, 5, 6, 7]\n"
     ]
    }
   ],
   "source": [
    "# slicing\n",
    "\n",
    "print(list1[0:5])\n",
    "print(list1[3:7])"
   ]
  },
  {
   "cell_type": "code",
   "execution_count": 48,
   "metadata": {},
   "outputs": [
    {
     "name": "stdout",
     "output_type": "stream",
     "text": [
      "10\n",
      "[[4, 5, 6, 7, 8]]\n"
     ]
    }
   ],
   "source": [
    "# \n",
    "\n",
    "print(list1[-1])\n",
    "print([list1[-7:-2]])"
   ]
  },
  {
   "cell_type": "markdown",
   "metadata": {},
   "source": [
    "### Operations"
   ]
  },
  {
   "cell_type": "code",
   "execution_count": 49,
   "metadata": {},
   "outputs": [
    {
     "name": "stdout",
     "output_type": "stream",
     "text": [
      "[1, 2, 3, 4, 5, 6, 7, 8, 9, 10]\n",
      "[1, 2, 3, 4, 5, 6, 7, 8, 9, 10, 11]\n"
     ]
    }
   ],
   "source": [
    "# Apend\n",
    "\n",
    "print(list1)\n",
    "\n",
    "list1.append(11)\n",
    "print(list1)"
   ]
  },
  {
   "cell_type": "code",
   "execution_count": 50,
   "metadata": {},
   "outputs": [
    {
     "name": "stdout",
     "output_type": "stream",
     "text": [
      "[1, 2, 3, 4, 5, 6, 7, 8, 9, 10, 11]\n",
      "[1, 2, 3, 4, 5, 6, 7, 8, 9, 10]\n"
     ]
    }
   ],
   "source": [
    "# remove ny name and index\n",
    "print(list1)\n",
    "list1.remove(11)\n",
    "print(list1)"
   ]
  },
  {
   "cell_type": "code",
   "execution_count": 51,
   "metadata": {},
   "outputs": [
    {
     "name": "stdout",
     "output_type": "stream",
     "text": [
      "[1, 2, 3, 4, 6, 7, 8, 9, 10]\n"
     ]
    }
   ],
   "source": [
    "list1.remove(5)\n",
    "print(list1)"
   ]
  },
  {
   "cell_type": "raw",
   "metadata": {},
   "source": [
    "# Available operations on list\n",
    "\n",
    "list1.append\n",
    "list1.clear\n",
    "list1.copy\n",
    "list1.count\n",
    "list1.extend\n",
    "list1.index\n",
    "list1.insert\n",
    "list1.pop\n",
    "list1.remove\n",
    "list1.reverse\n",
    "list1.sort"
   ]
  },
  {
   "cell_type": "code",
   "execution_count": 52,
   "metadata": {},
   "outputs": [
    {
     "name": "stdout",
     "output_type": "stream",
     "text": [
      "[1, 2, 3, 4, 6, 7, 8, 9, 10]\n"
     ]
    }
   ],
   "source": [
    "# copy\n",
    "\n",
    "list2 = list1.copy()\n",
    "print(list2)"
   ]
  },
  {
   "cell_type": "code",
   "execution_count": 53,
   "metadata": {},
   "outputs": [
    {
     "name": "stdout",
     "output_type": "stream",
     "text": [
      "[1, 2, 3, 4, 6, 7, 8, 9, 10]\n",
      "[1, 2, 3, 4, 6, 7, 8, 9, 10, 20]\n",
      "[1, 2, 3, 4, 6, 7, 8, 9, 10, 20, 1, 2, 3, 4, 6, 7, 8, 9, 10]\n"
     ]
    }
   ],
   "source": [
    "# extend using list and single ement\n",
    "\n",
    "print(list1)\n",
    "\n",
    "list1.extend([20])\n",
    "print(list1)\n",
    "\n",
    "list1.extend(list2)\n",
    "print(list1)"
   ]
  },
  {
   "cell_type": "code",
   "execution_count": 55,
   "metadata": {},
   "outputs": [],
   "source": [
    "# index of value\n",
    "\n",
    "# print(list1.index(11))"
   ]
  },
  {
   "cell_type": "code",
   "execution_count": 56,
   "metadata": {},
   "outputs": [
    {
     "name": "stdout",
     "output_type": "stream",
     "text": [
      "[1, 2, 3, 4, 6, 7, 8, 9, 10, 20, 1, 2, 3, 4, 6, 7, 8, 9, 10]\n",
      "[1, 200, 2, 3, 4, 6, 7, 8, 9, 10, 20, 1, 2, 3, 4, 6, 7, 8, 9, 10]\n"
     ]
    }
   ],
   "source": [
    "# insert value (index, value)\n",
    "print(list1)\n",
    "list1.insert(1,200)\n",
    "print(list1)"
   ]
  },
  {
   "cell_type": "code",
   "execution_count": 57,
   "metadata": {},
   "outputs": [
    {
     "name": "stdout",
     "output_type": "stream",
     "text": [
      "[1, 200, 2, 3, 4, 6, 7, 8, 9, 10, 20, 1, 2, 3, 4, 6, 7, 8, 9, 10]\n",
      "[1, 200, 2, 3, 4, 6, 7, 8, 9, 10, 20, 1, 2, 3, 4, 6, 7, 8, 9]\n"
     ]
    }
   ],
   "source": [
    "# pop and pop(index)\n",
    "\n",
    "print(list1)\n",
    "list1.pop()\n",
    "print(list1)"
   ]
  },
  {
   "cell_type": "code",
   "execution_count": 58,
   "metadata": {},
   "outputs": [
    {
     "name": "stdout",
     "output_type": "stream",
     "text": [
      "[1, 200, 2, 3, 4, 6, 7, 8, 9, 10, 20, 1, 2, 3, 4, 6, 7, 8, 9]\n",
      "[1, 2, 3, 4, 6, 7, 8, 9, 10, 20, 1, 2, 3, 4, 6, 7, 8, 9]\n"
     ]
    }
   ],
   "source": [
    "print(list1)\n",
    "list1.pop(1)\n",
    "print(list1)"
   ]
  },
  {
   "cell_type": "code",
   "execution_count": 59,
   "metadata": {},
   "outputs": [
    {
     "name": "stdout",
     "output_type": "stream",
     "text": [
      "[1, 2, 3, 4, 6, 7, 8, 9, 10]\n",
      "[10, 9, 8, 7, 6, 4, 3, 2, 1]\n"
     ]
    }
   ],
   "source": [
    "# reverse\n",
    "\n",
    "print(list2)\n",
    "list2.reverse()\n",
    "print(list2)"
   ]
  },
  {
   "cell_type": "code",
   "execution_count": 60,
   "metadata": {},
   "outputs": [
    {
     "name": "stdout",
     "output_type": "stream",
     "text": [
      "[1, 2, 4, 3, 7, 4, 6]\n",
      "[7, 6, 4, 4, 3, 2, 1]\n"
     ]
    }
   ],
   "source": [
    "# sort(reverse=True/False)\n",
    "list1 = [1,2,4,3,7,4,6]\n",
    "\n",
    "print(list1)\n",
    "list1.sort(reverse = True)\n",
    "print(list1)\n"
   ]
  },
  {
   "cell_type": "raw",
   "metadata": {},
   "source": [
    "print(list1)\n",
    "\n",
    "list1[2:4] = [0, 10]\n",
    "\n",
    "\n",
    "print(list1)"
   ]
  },
  {
   "cell_type": "code",
   "execution_count": 61,
   "metadata": {},
   "outputs": [
    {
     "name": "stdout",
     "output_type": "stream",
     "text": [
      "[7, 6, 4, 4, 3, 2, 1]\n",
      "[7, 6, 0, 0, 3, 2, 1]\n"
     ]
    }
   ],
   "source": [
    "print(list1)\n",
    "\n",
    "list1[2:4] = [0, 0]\n",
    "\n",
    "\n",
    "print(list1)"
   ]
  },
  {
   "cell_type": "markdown",
   "metadata": {},
   "source": [
    "## Tuple"
   ]
  },
  {
   "cell_type": "markdown",
   "metadata": {},
   "source": [
    "1. Tuple is ordered and unchangeble\n",
    "2. Immutable (you cant change the elements or cant add elements in tuple)\n",
    "3. () are used to represent the tuple\n",
    "4. Allow duplicates\n",
    "5. tuples are read only version of your list except list is growable"
   ]
  },
  {
   "cell_type": "code",
   "execution_count": 62,
   "metadata": {},
   "outputs": [
    {
     "name": "stdout",
     "output_type": "stream",
     "text": [
      "(1, 2, 3, 4, 5, 5, 6)\n"
     ]
    }
   ],
   "source": [
    "tup = tuple((1,2,3,4,5,5,6))\n",
    "print(tup)"
   ]
  },
  {
   "cell_type": "code",
   "execution_count": 63,
   "metadata": {},
   "outputs": [
    {
     "data": {
      "text/plain": [
       "2"
      ]
     },
     "execution_count": 63,
     "metadata": {},
     "output_type": "execute_result"
    }
   ],
   "source": [
    "tup.count(5)"
   ]
  },
  {
   "cell_type": "code",
   "execution_count": 64,
   "metadata": {},
   "outputs": [
    {
     "data": {
      "text/plain": [
       "4"
      ]
     },
     "execution_count": 64,
     "metadata": {},
     "output_type": "execute_result"
    }
   ],
   "source": [
    "tup.index(5)"
   ]
  },
  {
   "cell_type": "code",
   "execution_count": 65,
   "metadata": {},
   "outputs": [
    {
     "name": "stdout",
     "output_type": "stream",
     "text": [
      "(1, 2, 3, 4, 5, 5, 6)\n",
      "<class 'tuple'>\n",
      "[1, 2, 3, 4, 5, 5, 6]\n",
      "<class 'list'>\n"
     ]
    }
   ],
   "source": [
    "# i want to add elemet in my tuple\n",
    "\n",
    "print(tup)\n",
    "print(type(tup))\n",
    "\n",
    "l_tup = list(tup)\n",
    "\n",
    "print(l_tup)\n",
    "print(type(l_tup))\n"
   ]
  },
  {
   "cell_type": "code",
   "execution_count": 66,
   "metadata": {},
   "outputs": [
    {
     "name": "stdout",
     "output_type": "stream",
     "text": [
      "[1, 2, 3, 4, 5, 5, 6, 10]\n"
     ]
    }
   ],
   "source": [
    "l_tup.append(10)\n",
    "print(l_tup)"
   ]
  },
  {
   "cell_type": "code",
   "execution_count": 67,
   "metadata": {},
   "outputs": [
    {
     "name": "stdout",
     "output_type": "stream",
     "text": [
      "(1, 2, 3, 4, 5, 5, 6, 10)\n"
     ]
    }
   ],
   "source": [
    "tup = tuple(l_tup)\n",
    "print(tup)"
   ]
  },
  {
   "cell_type": "raw",
   "metadata": {},
   "source": [
    "# Available operations on tuple\n",
    "\n",
    "list1.append # add elemnt at last\n",
    "list1.clear # remove all element from your list\n",
    "list1.copy # copy\n",
    "list1.count #it will count a value\n",
    "list1.extend # it will add multiple element to list\n",
    "list1.index # it return you an index of value\n",
    "list1.insert #You can insert a value at specific location\n",
    "list1.pop #this will remove last element / specific location\n",
    "list1.remove # remove value\n",
    "list1.reverse # reverse your list\n",
    "list1.sort # reverse = True - sort your list in ascending or Descending order."
   ]
  },
  {
   "cell_type": "code",
   "execution_count": 68,
   "metadata": {},
   "outputs": [
    {
     "name": "stdout",
     "output_type": "stream",
     "text": [
      "(1, 2, 3, 4, 5, 5, 6, 10)\n",
      "[1, 2, 3, 4, 5, 5, 6, 10]\n",
      "[1, 2, 3, 4, 5, 5, 6, 10, 21, 31, 41, 51]\n",
      "(1, 2, 3, 4, 5, 5, 6, 10, 21, 31, 41, 51)\n"
     ]
    }
   ],
   "source": [
    "print(tup)\n",
    "\n",
    "#Add (21,31,41,51)\n",
    "\n",
    "list1 = list(tup) # typecasting\n",
    "\n",
    "print(list1)\n",
    "\n",
    "list1.extend([21,31,41,51])\n",
    "\n",
    "print(list1)\n",
    "\n",
    "tup = tuple(list1)  # typecasting\n",
    "\n",
    "print(tup)"
   ]
  },
  {
   "cell_type": "markdown",
   "metadata": {},
   "source": [
    "##### Process:\n",
    "    \n",
    "    1. to convert your tuple into list\n",
    "    2. perform your required operation\n",
    "    3. convert your list into tuple"
   ]
  },
  {
   "cell_type": "code",
   "execution_count": 69,
   "metadata": {},
   "outputs": [
    {
     "name": "stdout",
     "output_type": "stream",
     "text": [
      "('apple', 'apple', 'banana', 'cherry', 'orange', 'kiwi', 'melon', 'mango')\n"
     ]
    }
   ],
   "source": [
    "tup = (\"apple\",'apple', \"banana\", \"cherry\", \"orange\", \"kiwi\", \"melon\", \"mango\")\n",
    "print(tup)"
   ]
  },
  {
   "cell_type": "code",
   "execution_count": 70,
   "metadata": {},
   "outputs": [
    {
     "name": "stdout",
     "output_type": "stream",
     "text": [
      "(10.1, 20.2, 30.3, 40.4, 50.5)\n"
     ]
    }
   ],
   "source": [
    "tup = (10.1,20.2,30.3,40.4,50.5)\n",
    "print(tup)"
   ]
  },
  {
   "cell_type": "code",
   "execution_count": 71,
   "metadata": {},
   "outputs": [
    {
     "name": "stdout",
     "output_type": "stream",
     "text": [
      "(10.1, 20.2, 30.3, 40.4, 50.5)\n"
     ]
    }
   ],
   "source": [
    "# how to acces the elements of tuple\n",
    "\n",
    "print(tup)"
   ]
  },
  {
   "cell_type": "code",
   "execution_count": 72,
   "metadata": {},
   "outputs": [
    {
     "data": {
      "text/plain": [
       "30.3"
      ]
     },
     "execution_count": 72,
     "metadata": {},
     "output_type": "execute_result"
    }
   ],
   "source": [
    "tup[2]"
   ]
  },
  {
   "cell_type": "code",
   "execution_count": 73,
   "metadata": {},
   "outputs": [],
   "source": [
    "# tup[2] = 'papaya'"
   ]
  },
  {
   "cell_type": "code",
   "execution_count": 74,
   "metadata": {},
   "outputs": [
    {
     "data": {
      "text/plain": [
       "(10.1, 20.2, 30.3, 40.4, 50.5)"
      ]
     },
     "execution_count": 74,
     "metadata": {},
     "output_type": "execute_result"
    }
   ],
   "source": [
    "# slicing of tuple [start, end]\n",
    "\n",
    "tup[0:]"
   ]
  },
  {
   "cell_type": "code",
   "execution_count": 75,
   "metadata": {},
   "outputs": [
    {
     "data": {
      "text/plain": [
       "()"
      ]
     },
     "execution_count": 75,
     "metadata": {},
     "output_type": "execute_result"
    }
   ],
   "source": [
    "tup[5:]"
   ]
  },
  {
   "cell_type": "code",
   "execution_count": 76,
   "metadata": {},
   "outputs": [
    {
     "data": {
      "text/plain": [
       "(10.1, 20.2, 30.3, 40.4, 50.5)"
      ]
     },
     "execution_count": 76,
     "metadata": {},
     "output_type": "execute_result"
    }
   ],
   "source": [
    "tup[0:5]"
   ]
  },
  {
   "cell_type": "code",
   "execution_count": 77,
   "metadata": {},
   "outputs": [
    {
     "name": "stdout",
     "output_type": "stream",
     "text": [
      "(10.1, 20.2, 30.3, 40.4, 50.5)\n"
     ]
    },
    {
     "data": {
      "text/plain": [
       "30.3"
      ]
     },
     "execution_count": 77,
     "metadata": {},
     "output_type": "execute_result"
    }
   ],
   "source": [
    "print(tup)\n",
    "tup[-3]"
   ]
  },
  {
   "cell_type": "code",
   "execution_count": 78,
   "metadata": {},
   "outputs": [
    {
     "data": {
      "text/plain": [
       "(20.2, 30.3, 40.4)"
      ]
     },
     "execution_count": 78,
     "metadata": {},
     "output_type": "execute_result"
    }
   ],
   "source": [
    "\n",
    "tup[-4:-1]\n"
   ]
  },
  {
   "cell_type": "code",
   "execution_count": 79,
   "metadata": {},
   "outputs": [
    {
     "data": {
      "text/plain": [
       "3"
      ]
     },
     "execution_count": 79,
     "metadata": {},
     "output_type": "execute_result"
    }
   ],
   "source": [
    "len(tup[-4:-1])"
   ]
  },
  {
   "cell_type": "code",
   "execution_count": 80,
   "metadata": {},
   "outputs": [
    {
     "name": "stdout",
     "output_type": "stream",
     "text": [
      "[1, 2, 3, 4, 5, 5, 6, 10, 21, 31, 41, 51]\n"
     ]
    }
   ],
   "source": [
    "print(list1)"
   ]
  },
  {
   "cell_type": "code",
   "execution_count": 81,
   "metadata": {},
   "outputs": [
    {
     "name": "stdout",
     "output_type": "stream",
     "text": [
      "[1, 2, 10, 20, 30]\n"
     ]
    }
   ],
   "source": [
    "# Misbahaviour of list\n",
    "list1[2:] = [10,20,30]\n",
    "print(list1)"
   ]
  },
  {
   "cell_type": "markdown",
   "metadata": {},
   "source": [
    "### Set"
   ]
  },
  {
   "cell_type": "raw",
   "metadata": {},
   "source": [
    "1. set is unordered collections of elements\n",
    "2. It is mutable\n",
    "3. It is growable\n",
    "4. Set items are unchangeable\n",
    "5. {} are used to represent set\n",
    "6. Index concept is not applicable\n",
    "7. duplicates are not allowed"
   ]
  },
  {
   "cell_type": "code",
   "execution_count": 82,
   "metadata": {},
   "outputs": [
    {
     "name": "stdout",
     "output_type": "stream",
     "text": [
      "<class 'set'>\n",
      "{1, 2, 3, 4, 'vaibhav', 'pradip', 'akash'}\n"
     ]
    }
   ],
   "source": [
    "s = {1,2,3,4,\"vaibhav\", \"akash\", 'pradip'}\n",
    "print(type(s))\n",
    "\n",
    "print(s)"
   ]
  },
  {
   "cell_type": "code",
   "execution_count": 83,
   "metadata": {},
   "outputs": [
    {
     "name": "stdout",
     "output_type": "stream",
     "text": [
      "7\n"
     ]
    }
   ],
   "source": [
    "print(len(s))"
   ]
  },
  {
   "cell_type": "code",
   "execution_count": 84,
   "metadata": {},
   "outputs": [
    {
     "name": "stdout",
     "output_type": "stream",
     "text": [
      "{1, 2, 3, 4}\n",
      "<class 'set'>\n",
      "{'mango', 'apple', 'cherry', 'banana'}\n"
     ]
    }
   ],
   "source": [
    "# set() constructor\n",
    "s1 = set([1,2,3,4])\n",
    "print(s1)\n",
    "\n",
    "set1 = set([\"apple\",\"mango\",\"cherry\", \"banana\"])\n",
    "print(type(set1))\n",
    "print(set1)\n"
   ]
  },
  {
   "cell_type": "code",
   "execution_count": 85,
   "metadata": {},
   "outputs": [
    {
     "name": "stdout",
     "output_type": "stream",
     "text": [
      "{'mango', 'apple', 'cherry', 'banana'}\n"
     ]
    },
    {
     "data": {
      "text/plain": [
       "False"
      ]
     },
     "execution_count": 85,
     "metadata": {},
     "output_type": "execute_result"
    }
   ],
   "source": [
    "# accessing set\n",
    "print(set1)\n",
    "\n",
    "\"s\" in set1 \n"
   ]
  },
  {
   "cell_type": "code",
   "execution_count": 95,
   "metadata": {},
   "outputs": [
    {
     "name": "stdout",
     "output_type": "stream",
     "text": [
      "{1, 'cherry', 3, 'banana', 'papaya', 'pineapple', 'mango'}\n",
      "{'apple', 1, 'cherry', 3, 'banana', 'papaya', 'pineapple', 'mango'}\n"
     ]
    }
   ],
   "source": [
    "# Additing elements to the set\n",
    "\n",
    "# once set is created u can not change elements value, \n",
    "# but u can add values\n",
    "\n",
    "print(set1)\n",
    "set1.add(\"apple\")\n",
    "print(set1)"
   ]
  },
  {
   "cell_type": "code",
   "execution_count": 99,
   "metadata": {},
   "outputs": [
    {
     "name": "stdout",
     "output_type": "stream",
     "text": [
      "{1, 3, 100, 'banana', 'papaya', 200, 300, 'mango', 'cherry', 'pineapple', 'apple'}\n",
      "{200, 100, 300}\n",
      "{1, 3, 100, 'banana', 'papaya', 200, 10, 300, 'mango', 'cherry', 20, 'pineapple', 'apple', 30}\n"
     ]
    }
   ],
   "source": [
    "# using update you can add any iterable items like \n",
    "# set, list,tuple, dict-keys\n",
    "set2 = {100, 200, 300}\n",
    "# dict1 = {'a': 97}\n",
    "tup = (10,20,30)\n",
    "\n",
    "print(set1)\n",
    "print(set2)\n",
    "set1.update(set2)\n",
    "set1.update(tup)\n",
    "print(set1)\n"
   ]
  },
  {
   "cell_type": "code",
   "execution_count": 108,
   "metadata": {},
   "outputs": [
    {
     "name": "stdout",
     "output_type": "stream",
     "text": [
      "Remove using remove():\n",
      " {1, 3, 100, 200, 10, 300, 'mango', 'cherry', 20, 'pineapple', 'apple', 30}\n",
      "{1, 3, 100, 200, 10, 300, 'mango', 'cherry', 20, 'pineapple', 'apple', 30} \n",
      "\n",
      "{1, 3, 100, 200, 10, 300, 'mango', 'cherry', 20, 'pineapple', 'apple', 30}\n",
      "{1, 3, 100, 200, 10, 300, 'mango', 'cherry', 20, 'pineapple', 'apple', 30}\n",
      "Poped element is: 3\n",
      "{1, 100, 200, 10, 300, 'mango', 'cherry', 20, 'pineapple', 'apple', 30}\n"
     ]
    }
   ],
   "source": [
    "# remove(), discard(), pop()\n",
    "print(\"Remove using remove():\\n\",set1)\n",
    "\n",
    "# remove() method raise an error if element not present\n",
    "#set1.remove(\"banana\")\n",
    "print(set1,\"\\n\")\n",
    "\n",
    "# discard(): it does not raise an error if element does not exist\n",
    "set1.discard(\"papaya\")\n",
    "print(set1)\n",
    "\n",
    "# pop(): pop removes an arbitrary element from set and returns it\n",
    "\n",
    "print(set1)\n",
    "ele = set1.pop()\n",
    "print(\"Poped element is:\",ele)\n",
    "print(set1)"
   ]
  },
  {
   "cell_type": "code",
   "execution_count": 118,
   "metadata": {},
   "outputs": [
    {
     "name": "stdout",
     "output_type": "stream",
     "text": [
      "{1, 2, 3, 4}\n",
      "{3, 4, 5, 6, 7}\n",
      "{1, 2, 3, 4, 5, 6, 7}\n"
     ]
    }
   ],
   "source": [
    "# union\n",
    "\n",
    "# adds elements of two sets and create new set\n",
    "s1 = {1,2,3,4}\n",
    "s2 = {3,4,5,6,7}\n",
    "\n",
    "print(s1)\n",
    "print(s2)\n",
    "\n",
    "res = s1.union(s2)\n",
    "print(res)\n",
    "# update method work for union only but adds element to calling set"
   ]
  },
  {
   "cell_type": "code",
   "execution_count": 119,
   "metadata": {},
   "outputs": [
    {
     "name": "stdout",
     "output_type": "stream",
     "text": [
      "{1, 2, 3, 4}\n",
      "{3, 4, 5, 6, 7}\n",
      "{1, 10, 2, 20, 30}\n",
      "{3, 4}\n",
      "{1, 2}\n"
     ]
    }
   ],
   "source": [
    "#\n",
    "print(s1)\n",
    "print(s2)\n",
    "\n",
    "s3 = {1,2,10,20,30}\n",
    "print(s3)\n",
    "res = s1.intersection(s2)\n",
    "print(res)\n",
    "# keeps duplicates in s1 \n",
    "s1.intersection_update(s3)\n",
    "print(s1)"
   ]
  },
  {
   "cell_type": "code",
   "execution_count": 91,
   "metadata": {},
   "outputs": [
    {
     "name": "stdout",
     "output_type": "stream",
     "text": [
      "{1, 3}\n",
      "{1, 'cherry', 3, 'banana', 'papaya', 'pineapple', 'mango'}\n",
      "{1, 3}\n",
      "Symmetric Difference:\n",
      "\n",
      "Symmetric difference:\n",
      " {1, 2, 4, 6, 7, 8, 9}\n",
      "difference:\n",
      " {1, 2, 4, 6}\n"
     ]
    }
   ],
   "source": [
    "# keeps elements which are not present in other set\n",
    "s_1 ={1,2,3,4,5,6}\n",
    "s_2 = {3,5,7,8,9}\n",
    "\n",
    "print(s)\n",
    "print(set1)\n",
    "#s.symmetric_difference_update(set1)\n",
    "\n",
    "print(s) \n",
    "\n",
    "\n",
    "# returns new set\n",
    "\n",
    "print(\"Symmetric Difference:\\n\")\n",
    "\n",
    "k = s_1.symmetric_difference(s_2) \n",
    "# return elements which are present in s_1 not in s_2 + present in s_2 but not in s_1\n",
    "v = s_1.difference(s_2) \n",
    "# returns new set with elements present in s_1 but not in s_2\n",
    "print(\"Symmetric difference:\\n\",k)\n",
    "print(\"difference:\\n\",v) "
   ]
  },
  {
   "cell_type": "code",
   "execution_count": 92,
   "metadata": {},
   "outputs": [
    {
     "name": "stdout",
     "output_type": "stream",
     "text": [
      "False\n",
      "S:\n",
      "\n",
      "{1, 3}\n",
      "Set1:\n",
      "\n",
      "{1, 'cherry', 3, 'banana', 'papaya', 'pineapple', 'mango'}\n",
      "False\n",
      "True\n"
     ]
    }
   ],
   "source": [
    "#isdisjoint()Returns whether two sets have a intersection or not\n",
    "#issubset()Returns whether another set contains this set or not\n",
    "#issuperset()Returns whether this set contains another set or not\n",
    "s1 = {1,2,3,4,5,6}\n",
    "s2= {1,2,3}\n",
    "print(s.isdisjoint(set1))\n",
    "print(\"S:\\n\")\n",
    "print(s)\n",
    "print(\"Set1:\\n\")\n",
    "print(set1)\n",
    "print(set1.issubset(s))\n",
    "print(set1.issuperset(s))"
   ]
  },
  {
   "cell_type": "code",
   "execution_count": 93,
   "metadata": {},
   "outputs": [
    {
     "name": "stdout",
     "output_type": "stream",
     "text": [
      "{1, 3}\n"
     ]
    }
   ],
   "source": [
    "# del and clear() method removes the set completely\n",
    "\n",
    "# uncomment to run it and see result\n",
    "print(s)\n",
    "#del s1\n",
    "#print(s1)"
   ]
  },
  {
   "cell_type": "markdown",
   "metadata": {},
   "source": [
    "### Dictionary\n",
    "\n",
    "\n",
    "1. stores data in key:value pair\n",
    "2. It is ordered, changeable and does not allow duplicates.\n",
    "3. { } are used to write dictionaries\n",
    "4. Items are reffered by using key\n",
    "5. From Python version 3.7, dictionaries are ordered. "
   ]
  },
  {
   "cell_type": "code",
   "execution_count": 13,
   "metadata": {},
   "outputs": [
    {
     "name": "stdout",
     "output_type": "stream",
     "text": [
      "{1: 'Vaibhav', 2: 'Akshay', 3: 'Akash'}\n"
     ]
    }
   ],
   "source": [
    "# DREATION DICTIONARY\n",
    "dict1 = { \n",
    "\n",
    "    1 : \"Vaibhav\",\n",
    "    2 : \"Akshay\",\n",
    "    3 : \"Akash\" \n",
    "}\n",
    "\n",
    "print(dict1)\n"
   ]
  },
  {
   "cell_type": "markdown",
   "metadata": {},
   "source": [
    "#### Acess"
   ]
  },
  {
   "cell_type": "code",
   "execution_count": 22,
   "metadata": {},
   "outputs": [
    {
     "name": "stdout",
     "output_type": "stream",
     "text": [
      "Vaibhav\n",
      "Akash\n",
      "Akshay\n",
      "Acess dicts using get() method: \n",
      "Vaibhav\n"
     ]
    }
   ],
   "source": [
    "# Directly acess using key\n",
    "# using get method\n",
    "\n",
    "# using keys\n",
    "print(dict1[1])\n",
    "print(dict1[3])\n",
    "print(dict1[2])\n",
    "\n",
    "# using get method\n",
    "print(\"Acess dicts using get() method: \")\n",
    "val = dict1.get(1)\n",
    "print(val)"
   ]
  },
  {
   "cell_type": "code",
   "execution_count": 26,
   "metadata": {},
   "outputs": [
    {
     "name": "stdout",
     "output_type": "stream",
     "text": [
      "{'marks': 89.9, 'name': 'Akshay', 'class': 'TE', 'roll_no': 10}\n",
      "[10, 5, 4, 2, 25]\n",
      "Akshay\n",
      "89.9\n"
     ]
    }
   ],
   "source": [
    "stud = {\n",
    "    \"roll_no\" : 10,\n",
    "    \"name\" : \"Akshay\",\n",
    "    \"class\" : \"TE\",\n",
    "    \"marks\" : 89.90\n",
    "}\n",
    "print(stud) # sets  are unordered\n",
    "\n",
    "l = [10,5,4,2,25] # lists, tuples are ordered\n",
    "print(l)\n",
    "\n",
    "# acess the elements\n",
    "\n",
    "val = stud['name']\n",
    "print(val)\n",
    "\n",
    "print(stud['marks'])"
   ]
  },
  {
   "cell_type": "code",
   "execution_count": 32,
   "metadata": {},
   "outputs": [
    {
     "name": "stdout",
     "output_type": "stream",
     "text": [
      "{'marks': 89.9, 'name': 'Akshay', 'class': 'TE', 'roll_no': 10}\n",
      "Keys:\n",
      "\n",
      "dict_keys(['marks', 'name', 'class', 'roll_no'])\n",
      "Values: \n",
      "\n",
      "dict_values([89.9, 'Akshay', 'TE', 10])\n"
     ]
    }
   ],
   "source": [
    "# acess all keys\n",
    "\n",
    "print(stud)\n",
    "print(\"Keys:\\n\")\n",
    "k = stud.keys()\n",
    "print(k)\n",
    "\n",
    "print(\"Values: \\n\")\n",
    "val = stud.values()\n",
    "print(val)"
   ]
  },
  {
   "cell_type": "code",
   "execution_count": 39,
   "metadata": {},
   "outputs": [
    {
     "name": "stdout",
     "output_type": "stream",
     "text": [
      "{'city': 'Pune', 'mobile': 9975923975, 'roll_no': 10, 'lname': 'Patil', 'marks': 89.9, 'class': 'TE', 'name': 'Akshay'}\n",
      "{'city': 'Pune', 'mobile': 9975923975, 'roll_no': 10, 'lname': 'Patil', 'marks': 89.9, 'class': 'TE', 'name': 'Akshay'}\n",
      "dict_keys(['city', 'mobile', 'roll_no', 'lname', 'marks', 'class', 'name'])\n",
      "dict_values(['Pune', 9975923975, 10, 'Patil', 89.9, 'TE', 'Akshay'])\n",
      "No. of keys: 7\n"
     ]
    }
   ],
   "source": [
    "# add new item\n",
    "print(stud)\n",
    "\n",
    "stud['lname'] = 'Patil'\n",
    "\n",
    "stud['city'] = \"Pune\"\n",
    "\n",
    "stud['mobile'] = 9975923975\n",
    "print(stud)\n",
    "\n",
    "print(stud.keys())\n",
    "length = len(stud.keys())\n",
    "print(stud.values())\n",
    "print(\"No. of keys:\",length)"
   ]
  },
  {
   "cell_type": "code",
   "execution_count": 40,
   "metadata": {},
   "outputs": [
    {
     "data": {
      "text/plain": [
       "dict_items([('city', 'Pune'), ('mobile', 9975923975), ('roll_no', 10), ('lname', 'Patil'), ('marks', 89.9), ('class', 'TE'), ('name', 'Akshay')])"
      ]
     },
     "execution_count": 40,
     "metadata": {},
     "output_type": "execute_result"
    }
   ],
   "source": [
    "# How to acess the key, value from dict\n",
    "\n",
    "stud.items()"
   ]
  },
  {
   "cell_type": "code",
   "execution_count": 42,
   "metadata": {},
   "outputs": [
    {
     "name": "stdout",
     "output_type": "stream",
     "text": [
      "dict_items([('city', 'Pune'), ('mobile', 9975923975), ('roll_no', 10), ('lname', 'Patil'), ('marks', 89.9), ('class', 'TE'), ('name', 'Akshay')])\n",
      "\n",
      " dict_items([('city', 'Pune'), ('mobile', 9975923975), ('roll_no', 10), ('lname', 'Patil'), ('marks', 91.0), ('class', 'BE'), ('name', 'Akshay')])\n"
     ]
    }
   ],
   "source": [
    "# change value\n",
    "print(stud.items())\n",
    "\n",
    "stud['class'] = 'BE'\n",
    "\n",
    "stud['marks'] = 91.0\n",
    "\n",
    "print(\"\\n\", stud.items())"
   ]
  },
  {
   "cell_type": "code",
   "execution_count": 43,
   "metadata": {},
   "outputs": [
    {
     "name": "stdout",
     "output_type": "stream",
     "text": [
      "dict_items([('city', 'Pune'), ('mobile', 9975923975), ('roll_no', 10), ('lname', 'Patil'), ('marks', 91.0), ('class', 'BE'), ('name', 'Akshay')])\n",
      "\n",
      " dict_items([('subject', 'maths'), ('city', 'Pune'), ('mobile', 9975923975), ('roll_no', 10), ('lname', 'Patil'), ('marks', 91.0), ('email', 'a@b.com'), ('class', 'BE'), ('name', 'Akshay')])\n"
     ]
    }
   ],
   "source": [
    "# update(): add one more key:value pair\n",
    "\n",
    "print(stud.items())\n",
    "stud.update({\n",
    "    \"subject\": 'maths',\n",
    "    \"email\" : 'a@b.com'\n",
    "})\n",
    "\n",
    "print(\"\\n\", stud.items())"
   ]
  },
  {
   "cell_type": "markdown",
   "metadata": {},
   "source": [
    "### Forzenset"
   ]
  },
  {
   "cell_type": "code",
   "execution_count": 6,
   "metadata": {},
   "outputs": [
    {
     "name": "stdout",
     "output_type": "stream",
     "text": [
      "<class 'set'>\n",
      "{1, 2, 3, 4, 5, 6}\n",
      "frozenset({1, 2, 3, 4, 5, 6})\n",
      "<class 'frozenset'>\n",
      "frozenset({1, 2, 3, 4, 5, 6})\n",
      "<class 'frozenset'>\n"
     ]
    }
   ],
   "source": [
    "# frozen set is same as set but it is immutable\n",
    "set_1 = {1,2,3,4,5,6}\n",
    "\n",
    "\n",
    "print(type(set_1))\n",
    "print(set_1)\n",
    "\n",
    "s = frozenset(set_1)\n",
    "\n",
    "print(s)\n",
    "\n",
    "print(type(s))\n",
    "# supported methods for frozen set\n",
    "\n",
    "s1 = s.copy()\n",
    "'''\n",
    "s.difference()\n",
    "s.intersection()\n",
    "s.isdisjoint()\n",
    "s.issubset()\n",
    "s.issuperset()\n",
    "s.symmetric_difference()\n",
    "s.union()\n",
    "'''\n",
    "print(s1)\n",
    "print(type(s1))"
   ]
  },
  {
   "cell_type": "markdown",
   "metadata": {},
   "source": [
    "### Operators"
   ]
  },
  {
   "cell_type": "raw",
   "metadata": {},
   "source": [
    "Python operators:\n",
    "\n",
    "    1. Arithmetic operators\n",
    "    2. Assignment operators\n",
    "    3. Comparison operators\n",
    "    4. Logical operators\n",
    "    5. Identity operators\n",
    "    6. Membership operators\n",
    "    7. Bitwise operators"
   ]
  },
  {
   "cell_type": "markdown",
   "metadata": {},
   "source": [
    "#### 1. Arithmetic operators"
   ]
  },
  {
   "cell_type": "raw",
   "metadata": {},
   "source": [
    "1. + Addition x + y\n",
    "2. - Subtraction x - y \n",
    "3. * Multiplication x * y \n",
    "4. / Division x / y \n",
    "5. % Modulus x % y \n",
    "6. ** Exponentiation x ** y \n",
    "7. // Floor division x // y"
   ]
  },
  {
   "cell_type": "code",
   "execution_count": 13,
   "metadata": {},
   "outputs": [
    {
     "name": "stdout",
     "output_type": "stream",
     "text": [
      "Val1=  10\n",
      "Val2=  22\n",
      "Addition:\n",
      "Add:  32\n",
      "Substraction:\n",
      "Sub:  12\n",
      "Multiplication:\n",
      "Mul:  220\n",
      "Division:\n",
      "Div:  0.45454545454545453\n",
      "Modulus:\n",
      "Mod:  2\n",
      "Exponent:\n",
      "Exp:  26559922791424\n",
      "Floor Division:\n",
      "Floor Div:  2\n"
     ]
    }
   ],
   "source": [
    "val1 = 10\n",
    "val2 = 22\n",
    "print(\"Val1= \",val1)\n",
    "print(\"Val2= \",val2)\n",
    "print(\"Addition:\")\n",
    "\n",
    "res = val1 + val2\n",
    "\n",
    "print(\"Add: \",res)\n",
    "\n",
    "\n",
    "print(\"Substraction:\")\n",
    "\n",
    "res = val2 - val1\n",
    "\n",
    "print(\"Sub: \",res)\n",
    "\n",
    "print(\"Multiplication:\")\n",
    "\n",
    "res = val1 * val2\n",
    "\n",
    "print(\"Mul: \",res)\n",
    "\n",
    "\n",
    "print(\"Division:\")\n",
    "res = val1 / val2\n",
    "\n",
    "print(\"Div: \", res)\n",
    "\n",
    "print(\"Modulus:\")\n",
    "\n",
    "res = val2 % val1\n",
    "\n",
    "print(\"Mod: \",res)\n",
    "\n",
    "print(\"Exponent:\")\n",
    "\n",
    "res = val2 ** val1\n",
    "print(\"Exp: \", res)\n",
    "\n",
    "print(\"Floor Division:\")\n",
    "\n",
    "res = val2 // val1\n",
    "\n",
    "print(\"Floor Div: \",res)"
   ]
  },
  {
   "cell_type": "markdown",
   "metadata": {},
   "source": [
    "#### 2. Assignment Operators"
   ]
  },
  {
   "cell_type": "raw",
   "metadata": {},
   "source": [
    "1.  = x = 5 x = 5 \n",
    "2. += x += 4 x = x + 4\n",
    "3. -= x -= 5 x = x - 5 \n",
    "4. *= x *= 8 x = x * 8 \n",
    "5. /= x /= 7 x = x / 7 \n",
    "6. %= x %= 5 x = x % 5 \n",
    "7. //= x //= 3 x = x // 3 \n",
    "8. **= x **= 2 x = x ** 2\n",
    "9. &= x &= 2 x = x & 2\n",
    "10. |= x |= 2 x = x | 2\n",
    "11. ^= x ^= 4 x = x ^ 4\n",
    "12. >>= x >>= 4 x = x >> 4\n",
    "13. <<= x <<= 5 x = x << 5"
   ]
  },
  {
   "cell_type": "code",
   "execution_count": 26,
   "metadata": {},
   "outputs": [
    {
     "data": {
      "text/plain": [
       "5"
      ]
     },
     "execution_count": 26,
     "metadata": {},
     "output_type": "execute_result"
    }
   ],
   "source": [
    "# simple assigment\n",
    "x = 5\n",
    "x"
   ]
  },
  {
   "cell_type": "code",
   "execution_count": 27,
   "metadata": {},
   "outputs": [
    {
     "data": {
      "text/plain": [
       "105"
      ]
     },
     "execution_count": 27,
     "metadata": {},
     "output_type": "execute_result"
    }
   ],
   "source": [
    "# add and assign\n",
    "x += 100\n",
    "x"
   ]
  },
  {
   "cell_type": "code",
   "execution_count": 28,
   "metadata": {},
   "outputs": [
    {
     "data": {
      "text/plain": [
       "55"
      ]
     },
     "execution_count": 28,
     "metadata": {},
     "output_type": "execute_result"
    }
   ],
   "source": [
    "# sustract and assign\n",
    "\n",
    "x -= 50\n",
    "x"
   ]
  },
  {
   "cell_type": "code",
   "execution_count": 29,
   "metadata": {},
   "outputs": [
    {
     "data": {
      "text/plain": [
       "110"
      ]
     },
     "execution_count": 29,
     "metadata": {},
     "output_type": "execute_result"
    }
   ],
   "source": [
    "# multiplication and assign\n",
    "\n",
    "x *= 2\n",
    "x"
   ]
  },
  {
   "cell_type": "code",
   "execution_count": 30,
   "metadata": {},
   "outputs": [
    {
     "data": {
      "text/plain": [
       "11.0"
      ]
     },
     "execution_count": 30,
     "metadata": {},
     "output_type": "execute_result"
    }
   ],
   "source": [
    "# div and assign\n",
    "\n",
    "x /= 10\n",
    "x"
   ]
  },
  {
   "cell_type": "code",
   "execution_count": 31,
   "metadata": {},
   "outputs": [
    {
     "data": {
      "text/plain": [
       "11.0"
      ]
     },
     "execution_count": 31,
     "metadata": {},
     "output_type": "execute_result"
    }
   ],
   "source": [
    "res = 110 / 10\n",
    "res"
   ]
  },
  {
   "cell_type": "code",
   "execution_count": 32,
   "metadata": {},
   "outputs": [
    {
     "data": {
      "text/plain": [
       "2.0"
      ]
     },
     "execution_count": 32,
     "metadata": {},
     "output_type": "execute_result"
    }
   ],
   "source": [
    "# floor div and assign\n",
    "\n",
    "x //= 4\n",
    "\n",
    "x"
   ]
  },
  {
   "cell_type": "code",
   "execution_count": 33,
   "metadata": {},
   "outputs": [
    {
     "data": {
      "text/plain": [
       "2.75"
      ]
     },
     "execution_count": 33,
     "metadata": {},
     "output_type": "execute_result"
    }
   ],
   "source": [
    "res = 11 / 4\n",
    "res\n"
   ]
  },
  {
   "cell_type": "code",
   "execution_count": 34,
   "metadata": {},
   "outputs": [
    {
     "data": {
      "text/plain": [
       "2"
      ]
     },
     "execution_count": 34,
     "metadata": {},
     "output_type": "execute_result"
    }
   ],
   "source": [
    "res = 11 // 4\n",
    "res"
   ]
  },
  {
   "cell_type": "code",
   "execution_count": 35,
   "metadata": {},
   "outputs": [
    {
     "data": {
      "text/plain": [
       "1024.0"
      ]
     },
     "execution_count": 35,
     "metadata": {},
     "output_type": "execute_result"
    }
   ],
   "source": [
    "# exponent and assign\n",
    "\n",
    "x **= 10\n",
    "x"
   ]
  },
  {
   "cell_type": "code",
   "execution_count": 36,
   "metadata": {},
   "outputs": [
    {
     "data": {
      "text/plain": [
       "1.0"
      ]
     },
     "execution_count": 36,
     "metadata": {},
     "output_type": "execute_result"
    }
   ],
   "source": [
    "# modulo and Assign\n",
    "\n",
    "x %= 3\n",
    "\n",
    "x"
   ]
  },
  {
   "cell_type": "code",
   "execution_count": 39,
   "metadata": {},
   "outputs": [
    {
     "data": {
      "text/plain": [
       "4"
      ]
     },
     "execution_count": 39,
     "metadata": {},
     "output_type": "execute_result"
    }
   ],
   "source": [
    "1024 % 10"
   ]
  },
  {
   "cell_type": "markdown",
   "metadata": {},
   "source": [
    "#### 3. Comparison Operators"
   ]
  },
  {
   "cell_type": "raw",
   "metadata": {},
   "source": [
    "1. == Equal x == y => checks the equality of operands, returns the True\n",
    "Ex. 6 == 6  -> True\n",
    "6 == 7 -> False\n",
    "\n",
    "2. != Not equal x != y\n",
    "Ex. 5 != 5   -> False\n",
    "5 != 6    -> True\n",
    "\n",
    "\n",
    "3. >  Greater than x > y\n",
    "Ex. 4 > 5    -> False\n",
    "5 > 2  -> True\n",
    "\n",
    "4. < Less than x < y \n",
    "Ex. 4 < 5    -> True\n",
    "5 < 2  -> False\n",
    "\n",
    "\n",
    "5. >= Greater than or equal to x >= y \n",
    "Ex.\n",
    "5 >= 5    -> True\n",
    "\n",
    "6 >= 5    -> True\n",
    "\n",
    "4 >=5     -> False\n",
    "\n",
    "6. <= Less than or equal to x <= y\n",
    "\n",
    "Ex.\n",
    "5 <= 5    -> True\n",
    "\n",
    "6 <= 5    -> False\n",
    "\n",
    "4 <= 5     -> True"
   ]
  },
  {
   "cell_type": "code",
   "execution_count": 16,
   "metadata": {},
   "outputs": [
    {
     "name": "stdout",
     "output_type": "stream",
     "text": [
      "Eqiality:\n",
      "False\n",
      "True\n",
      "Not Equal:\n",
      "True\n",
      "False\n",
      "Greater Than:\n",
      "True\n",
      "False\n",
      "Less Than:\n",
      "False\n",
      "False\n",
      "True\n",
      "Greater Than Equal to:\n",
      "True\n",
      "True\n",
      "Less Than equal to:\n",
      "False\n",
      "True\n",
      "True\n"
     ]
    }
   ],
   "source": [
    "a = 20\n",
    "b = 10\n",
    "c = 10\n",
    "\n",
    "print(\"Eqiality:\")\n",
    "\n",
    "print(a == b)\n",
    "print(b == c)\n",
    "\n",
    "print(\"Not Equal:\")\n",
    "\n",
    "print(a != b)\n",
    "print(b != c)\n",
    "\n",
    "print('Greater Than:')\n",
    "print( a > b)\n",
    "print(b > c)\n",
    "\n",
    "\n",
    "print('Less Than:')\n",
    "print( a < b)\n",
    "print(b < c)\n",
    "print(b < a)\n",
    "\n",
    "print('Greater Than Equal to:')\n",
    "print( a >= b)\n",
    "print(b >= c)\n",
    "\n",
    "\n",
    "print('Less Than equal to:')\n",
    "print( a <= b)\n",
    "print(b <= c)\n",
    "print(b <= a)"
   ]
  },
  {
   "cell_type": "markdown",
   "metadata": {},
   "source": [
    "#### 4. Logical Operators"
   ]
  },
  {
   "cell_type": "raw",
   "metadata": {},
   "source": [
    "1. and: returns true if both conditions are ture\n",
    "\n",
    "Ex.  x = 3\n",
    "x < 5 -> True\n",
    "\n",
    "x < 4  -> True\n",
    "\n",
    "(x < 5) and  (x < 4)   ====> True\n",
    "  True  and True       ====> True\n",
    "  \n",
    "  \n",
    "(x < 5) and  (x > 4)    ====> False  \n",
    "  True  and False       ====> False\n",
    "\n",
    "2. or returns true if any one conditions is ture\n",
    "\n",
    "Ex.  x = 3\n",
    "x < 5 -> True\n",
    "\n",
    "x < 4  -> True\n",
    "\n",
    "(x < 5) or  (x < 4)   ====> True\n",
    "  True  or True       ====> True\n",
    "  \n",
    "  \n",
    "(x < 5) or  (x > 4)     ====> True  \n",
    "  True  or False        ====> True\n",
    "\n",
    "\n",
    "3. not Reverse the result, returns False if the result is true \n",
    "\n",
    "not (x < 5)  ===>  False\n",
    "\n",
    "not True   ===> False\n",
    "\n"
   ]
  },
  {
   "cell_type": "code",
   "execution_count": 29,
   "metadata": {},
   "outputs": [
    {
     "name": "stdout",
     "output_type": "stream",
     "text": [
      "True\n",
      "True\n",
      "False\n",
      "True\n",
      "False\n",
      "True\n",
      "False\n",
      "False\n"
     ]
    }
   ],
   "source": [
    "x = 3\n",
    "\n",
    "print( x < 5)\n",
    "print(x < 4)\n",
    "print( x > 7)\n",
    "\n",
    "print((x < 5) and  (x < 4))\n",
    "print((x < 5) and  (x > 4))\n",
    "\n",
    "print((x < 5) or  (x < 4))\n",
    "print((x > 5) or  (x > 4))\n",
    "\n",
    "\n",
    "print(not (x < 5))"
   ]
  },
  {
   "cell_type": "markdown",
   "metadata": {},
   "source": [
    "#### 5. Identity Operators"
   ]
  },
  {
   "cell_type": "raw",
   "metadata": {},
   "source": [
    "1. is : Returns True if both variables are the same object \n",
    "ex. x is y\n",
    "\n",
    "2. is not : Returns True if both variables are not the same object x is not y"
   ]
  },
  {
   "cell_type": "code",
   "execution_count": 5,
   "metadata": {},
   "outputs": [
    {
     "name": "stdout",
     "output_type": "stream",
     "text": [
      "Value of x:  10\n",
      "id of x: 10894656\n",
      "Value fo y: 10\n",
      "id of y: 10894656\n",
      "True\n",
      "X id is: 140404981745680\n",
      "y id is: 140404981745728\n",
      "True\n"
     ]
    }
   ],
   "source": [
    "x = 10\n",
    "y = 10\n",
    "\n",
    "print(\"Value of x: \",x)\n",
    "print(\"id of x:\", id(x))\n",
    "\n",
    "print('Value fo y:', y)\n",
    "print(\"id of y:\", id(y))\n",
    "print(x is y)\n",
    "\n",
    "\n",
    "x = 10.10\n",
    "y = 10.10\n",
    "\n",
    "\n",
    "print(\"X id is:\",id(x))\n",
    "\n",
    "print(\"y id is:\",id(y))\n",
    "print(x is not y)"
   ]
  },
  {
   "cell_type": "markdown",
   "metadata": {},
   "source": [
    "#### 6. Membership Operators"
   ]
  },
  {
   "cell_type": "raw",
   "metadata": {},
   "source": [
    "1. in: Returns True if a sequence with the specified value is present in the object,  \n",
    "ex. x in y\n",
    "2. not in: Returns True if a sequence with the specified value is not present in the object,  \n",
    "ex. x not in y"
   ]
  },
  {
   "cell_type": "code",
   "execution_count": 10,
   "metadata": {},
   "outputs": [
    {
     "name": "stdout",
     "output_type": "stream",
     "text": [
      "[10, 20, 30, 40, 50]\n",
      "True\n",
      "False\n",
      "False\n",
      "True\n"
     ]
    }
   ],
   "source": [
    "list1 = [10,20,30,40,50]\n",
    "print(list1)\n",
    "\n",
    "print(10 in list1)\n",
    "\n",
    "print(15 in list1)\n",
    "\n",
    "print(30 not in list1)\n",
    "\n",
    "print(15 not in list1)"
   ]
  },
  {
   "cell_type": "markdown",
   "metadata": {},
   "source": [
    "#### 7. Bitwise Operators"
   ]
  },
  {
   "cell_type": "raw",
   "metadata": {},
   "source": [
    "1. &  AND Sets each bit to 1 if both bits are 1\n",
    "2. | OR Sets each bit to 1 if one of two bits is 1\n",
    "3. ^ XOR Sets each bit to 1 if only one of two bits is 1\n",
    "4. ~  NOT Inverts all the bits\n",
    "5. << Zero fill left shift Shift left by pushing zeros in from the right and let the leftmost bits fall off\n",
    "\n",
    "6. >> Signed right shift Shift right by pushing copies of the leftmost bit in from the left, and let the rightmost bits fall off"
   ]
  },
  {
   "cell_type": "raw",
   "metadata": {},
   "source": [
    "                1. &:  \n",
    "                ex. 1 & 1 => 1\n",
    "                    1 & 0 => 0\n",
    "                    0 & 1 => 0\n",
    "                    0 & 0 => 0\n",
    "                2. |:\n",
    "                    1 | 1 => 1\n",
    "                    1 | 0 => 1\n",
    "                    0 | 1 => 1\n",
    "                    0 | 0 => 0\n",
    "                3. ^:\n",
    "                    1 & 1 => 0\n",
    "                    1 & 0 => 1\n",
    "                    0 & 1 => 1\n",
    "                    0 & 0 => 0\n",
    "                4. ~:\n",
    "                     1 => 0\n",
    "                     0 => 1\n",
    "                    \n",
    "                \n",
    "                256  128  64  32  16   8  4  2  1 \n",
    "                                          0  0  0 = 0\n",
    "                                          0  0  1 = 1\n",
    "                                          0  1  0 = 2\n",
    "                                          0  1  1 = 3\n",
    "                                          1  0  0 = 4\n",
    "                                          1  0  1 = 5\n",
    "                                          1  1  0 = 6\n",
    "                                          1  1  1 = 7\n",
    "                                        \n",
    "                                          \n",
    "                                          Left Shift by 2 bits\n",
    "                                           1  1  1 = 7\n",
    "                                     1  1  1  0  0 = 28\n",
    "                                          \n",
    "                                          Right shift by 2 bits\n",
    "                                            1  1  1 = 7\n",
    "                                            0  0  1 = 1"
   ]
  },
  {
   "cell_type": "code",
   "execution_count": 19,
   "metadata": {},
   "outputs": [
    {
     "name": "stdout",
     "output_type": "stream",
     "text": [
      "Bitwise and \n",
      "4\n",
      "Bitwise or\n",
      "5\n",
      "Bitwise XOR\n",
      "1\n",
      "Bitwise Not\n",
      "-5\n",
      "Left Shift:\n",
      "\n",
      "28\n",
      "Right Shift:\n",
      "\n",
      "1\n",
      "\n",
      " 0o7\n",
      "\n",
      " 0x7\n"
     ]
    }
   ],
   "source": [
    "print(\"Bitwise and \")\n",
    "x = 4        # 1 0 0\n",
    "y = 5        # 1 0 1\n",
    "z = x & y    # 1 0 0 = 4\n",
    "\n",
    "print(z)\n",
    "\n",
    "print('Bitwise or')\n",
    "x = 4        # 1 0 0\n",
    "y = 5        # 1 0 1\n",
    "z = x | y    # 1 0 1 = 5\n",
    "\n",
    "print(z)\n",
    "print('Bitwise XOR')\n",
    "x = 4        # 1 0 0\n",
    "y = 5        # 1 0 1\n",
    "z = x ^ y    # 0 0 1 = 1\n",
    "print(z)\n",
    "print(\"Bitwise Not\")\n",
    "\n",
    "x = 4         # 1 0 0\n",
    "z = ~ 4       # 0 0 1\n",
    "print(z)\n",
    "\n",
    "x = 7\n",
    "z = x << 2\n",
    "print(\"Left Shift:\\n\")\n",
    "print(z)\n",
    "\n",
    "x = 7\n",
    "z = x >> 2\n",
    "print(\"Right Shift:\\n\")\n",
    "print(z)\n",
    "\n",
    "print(\"\\n\",oct(x))\n",
    "print(\"\\n\",hex(x))"
   ]
  },
  {
   "cell_type": "markdown",
   "metadata": {},
   "source": [
    "### Conditional Statements & Loops"
   ]
  },
  {
   "cell_type": "raw",
   "metadata": {},
   "source": [
    "1. If ... Else\n",
    "2. If..elif...Else\n",
    "3. While Loops\n",
    "4. For Loops"
   ]
  },
  {
   "cell_type": "code",
   "execution_count": null,
   "metadata": {},
   "outputs": [],
   "source": [
    "Syntax: \n",
    "    \n",
    "if <condition> :\n",
    "       \n",
    "    print(\"When condition is true\")\n",
    "    statements-1\n",
    "    statements-1\n",
    "    statements-1\n",
    "else:\n",
    "    print('When condition is false')\n",
    "    statements-1\n",
    "    statements-1\n",
    "    statements-1"
   ]
  },
  {
   "cell_type": "code",
   "execution_count": 14,
   "metadata": {},
   "outputs": [
    {
     "name": "stdout",
     "output_type": "stream",
     "text": [
      "x is greater than y\n"
     ]
    }
   ],
   "source": [
    "# a>b\n",
    "x = 100\n",
    "y = 20\n",
    "# find largest number\n",
    "\n",
    "if x < y:\n",
    "    print(\"X is less than y\")\n",
    "\n",
    "else:\n",
    "    print(\"x is greater than y\")"
   ]
  },
  {
   "cell_type": "code",
   "execution_count": 19,
   "metadata": {},
   "outputs": [
    {
     "name": "stdout",
     "output_type": "stream",
     "text": [
      "A is less than B\n"
     ]
    }
   ],
   "source": [
    "a = 10\n",
    "b = 10\n",
    "\n",
    "if a < b:\n",
    "    print('A is greater than B')\n",
    "elif a > b:\n",
    "    print('A and B are equal')\n",
    "elif a != b:\n",
    "    print('sample')\n",
    "elif a != b:\n",
    "    print('A and B are equal')\n",
    "    \n",
    "else:\n",
    "    print('A is less than B')"
   ]
  },
  {
   "cell_type": "code",
   "execution_count": 21,
   "metadata": {},
   "outputs": [
    {
     "name": "stdout",
     "output_type": "stream",
     "text": [
      "y is greater than x\n"
     ]
    }
   ],
   "source": [
    "# a>b, a==b, a<b\n",
    "\n",
    "x = 20\n",
    "y = 30\n",
    "\n",
    "if x > y:\n",
    "    print(\"x is larger\")\n",
    "elif x == y:\n",
    "    print(\"x and y are equal\")\n",
    "else:\n",
    "    print('y is greater than x')"
   ]
  },
  {
   "cell_type": "code",
   "execution_count": 23,
   "metadata": {},
   "outputs": [
    {
     "name": "stdout",
     "output_type": "stream",
     "text": [
      "y is grteater than x\n"
     ]
    }
   ],
   "source": [
    "# shaort hand if a > b: print(\"a is greater than b\")\n",
    "\n",
    "x = 10\n",
    "y = 20\n",
    "\n",
    "if y > x: print('y is grteater than x')"
   ]
  },
  {
   "cell_type": "code",
   "execution_count": 26,
   "metadata": {},
   "outputs": [
    {
     "name": "stdout",
     "output_type": "stream",
     "text": [
      "x is greater than y\n"
     ]
    }
   ],
   "source": [
    "# short hand if else print(\"A\") if a > b else print(\"B\") \n",
    "\n",
    "x = 20\n",
    "y = 10\n",
    "\n",
    "print('x is less than y') if x < y else print('x is greater than y')"
   ]
  },
  {
   "cell_type": "raw",
   "metadata": {},
   "source": [
    "# you can add more conditions here in if else\n",
    "\n",
    "write a python program which will take percentage as input from \n",
    "user and returns its grade (dist, first class, 2nd class, pass class)"
   ]
  },
  {
   "cell_type": "code",
   "execution_count": 8,
   "metadata": {},
   "outputs": [],
   "source": [
    "# write more than one conditions use and and or"
   ]
  },
  {
   "cell_type": "code",
   "execution_count": 29,
   "metadata": {},
   "outputs": [
    {
     "name": "stdout",
     "output_type": "stream",
     "text": [
      "Enter the number:20\n",
      "Number is less than 100\n"
     ]
    }
   ],
   "source": [
    "# nested if .. else\n",
    "\n",
    "x = int(input('Enter the number:'))\n",
    "\n",
    "if x > 100:\n",
    "    if x > 150:\n",
    "        print(\"Number is greater than 100 and 150\")\n",
    "    elif x ==150:\n",
    "        print(\"Number is equal to 150\")\n",
    "    else:\n",
    "        print(\"number is greater than 100 and less than 150\")\n",
    "elif x == 100:\n",
    "    print(\"Number is equal to 100\")\n",
    "else:\n",
    "    print(\"Number is less than 100\")"
   ]
  },
  {
   "cell_type": "code",
   "execution_count": 28,
   "metadata": {},
   "outputs": [],
   "source": [
    "# pass staement\n",
    "\n",
    "x = 10\n",
    "y = 20\n",
    "\n",
    "if y > x:\n",
    "    pass"
   ]
  },
  {
   "cell_type": "code",
   "execution_count": null,
   "metadata": {},
   "outputs": [],
   "source": []
  }
 ],
 "metadata": {
  "kernelspec": {
   "display_name": "Python 3",
   "language": "python",
   "name": "python3"
  },
  "language_info": {
   "codemirror_mode": {
    "name": "ipython",
    "version": 3
   },
   "file_extension": ".py",
   "mimetype": "text/x-python",
   "name": "python",
   "nbconvert_exporter": "python",
   "pygments_lexer": "ipython3",
   "version": "3.5.2"
  }
 },
 "nbformat": 4,
 "nbformat_minor": 4
}
