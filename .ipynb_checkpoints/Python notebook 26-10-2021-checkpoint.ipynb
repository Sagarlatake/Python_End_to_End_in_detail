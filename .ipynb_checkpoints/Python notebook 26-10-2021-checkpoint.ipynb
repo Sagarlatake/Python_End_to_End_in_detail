{
 "cells": [
  {
   "cell_type": "markdown",
   "metadata": {},
   "source": [
    "# Python End to End in detail"
   ]
  },
  {
   "cell_type": "markdown",
   "metadata": {},
   "source": [
    "Basic:\n",
    "It is a general purpose high level programming language.\n",
    "\n",
    "Python was developed by Guido Van Rossam at National Research Institute at Netherlands.\n",
    "\n",
    "official relaese date of python is 20th feb 1991\n"
   ]
  },
  {
   "cell_type": "code",
   "execution_count": 1,
   "metadata": {},
   "outputs": [
    {
     "name": "stdout",
     "output_type": "stream",
     "text": [
      "Hello\n",
      "Simple Statement\n"
     ]
    }
   ],
   "source": [
    "# Printing Hello \n",
    "\n",
    "print(\"Hello\")\n",
    "\n",
    "\n",
    "print(\"Simple Statement\")\n",
    "\n"
   ]
  },
  {
   "cell_type": "markdown",
   "metadata": {},
   "source": [
    "# Note:\n",
    "\n",
    "It is very simple to print hello in python, as compared to other programming languages\n",
    "\n",
    "coding in python is really less time consuming than other programming languages"
   ]
  },
  {
   "cell_type": "markdown",
   "metadata": {},
   "source": [
    "# Python Features\n",
    "\n",
    "    1) Easy to Learn and Use. Python is easy to learn and use. ...\n",
    "    2) Expressive Language. Python language is\n",
    "    more expressive means that\n",
    "    it is more understandable and readable.\n",
    "    3) Interpreted Language. ...\n",
    "    4) Cross-platform Language. ...\n",
    "    5) Free and Open Source. ...\n",
    "    6) Object-Oriented Language. ...\n",
    "    7) Extensible. ...\n",
    "    8) Large Standard Library.\n",
    "\n",
    "# Applications\n",
    "\n",
    "1) Web Applications....\n",
    "2) Desktop GUI Applications....\n",
    "3) Software Development....\n",
    "4) Scientific and Numeric....\n",
    "5) Business Applications....\n",
    "6) Console Based Application....\n",
    "7) Audio or Video based Applications....\n",
    "8) 3D CAD Applications.\n",
    "9) AI\n",
    "10) ML, DL\n",
    "11) Data Analytics\n",
    "\n",
    "# Good to Know\n",
    "\n",
    "1. Functional Programming Features from C\n",
    "2. Object Oriented Programming Features from C++\n",
    "3. Scripting Language Features from Perl and Shell Script\n",
    "4. Modular Programming Features from Modula-3\n"
   ]
  },
  {
   "cell_type": "markdown",
   "metadata": {},
   "source": [
    "# Identifiers\n",
    "1. names in python are called as identifiers.\n",
    "2. Function name, variable name, module name, class name are identifiers in python\n",
    "3. Rules:\n",
    "\n",
    "    1. Alphabet Symbols (Either Upper case OR Lower case)\n",
    "    2. If Identifier is start with Underscore (_) then it indicates it is private.\n",
    "    3. Identifier should not start with Digits.\n",
    "    4. Identifiers are case sensitive.\n",
    "    5. We cannot use reserved words as identifiers\n",
    "    6. Dollor ($) Symbol is not allowed in Python."
   ]
  },
  {
   "cell_type": "code",
   "execution_count": 2,
   "metadata": {},
   "outputs": [
    {
     "name": "stdout",
     "output_type": "stream",
     "text": [
      "vaibhav\n",
      "rahul\n"
     ]
    }
   ],
   "source": [
    "name = 'vaibhav'\n",
    "Name = 'rahul'\n",
    "\n",
    "print(name)\n",
    "\n",
    "print(Name)\n",
    "\n"
   ]
  },
  {
   "cell_type": "markdown",
   "metadata": {},
   "source": [
    "# Special Notes\n",
    "\n",
    "1. If identifier starts with _ symbol,then it is private\n",
    "2. If identifier starts with __(2 underscore), indicate that it is a strongly private.\n",
    "3. If the identifier starts and ends with two underscore symbols, then such identifiers are\n",
    "language defined special name, \n",
    "# which is also known as magic methods.\n",
    "ex:   [ __DoIt__  ]"
   ]
  },
  {
   "cell_type": "code",
   "execution_count": 3,
   "metadata": {},
   "outputs": [
    {
     "name": "stdout",
     "output_type": "stream",
     "text": [
      "<class 'int'>\n"
     ]
    }
   ],
   "source": [
    "# Example of identifiers\n",
    "\n",
    "a = 10\n",
    "var = 20.2\n",
    "str_1 = \"python\"\n",
    "_1_sag = 10.20\n",
    "print(type(a))\n"
   ]
  },
  {
   "cell_type": "markdown",
   "metadata": {},
   "source": [
    "# Keywords\n",
    "\n",
    "There are around 33 keywords:\n",
    "\n",
    "if,elif,else,while,for,break,continue,return,in,True,False,None,and, or,not,is,yield,try,except,finally,raise,del,with,assert,import,from,as,class,def,pass,\n",
    "global,nonlocal,lambda."
   ]
  },
  {
   "cell_type": "code",
   "execution_count": 4,
   "metadata": {},
   "outputs": [
    {
     "name": "stdout",
     "output_type": "stream",
     "text": [
      "['False', 'None', 'True', 'and', 'as', 'assert', 'break', 'class', 'continue', 'def', 'del', 'elif', 'else', 'except', 'finally', 'for', 'from', 'global', 'if', 'import', 'in', 'is', 'lambda', 'nonlocal', 'not', 'or', 'pass', 'raise', 'return', 'try', 'while', 'with', 'yield']\n"
     ]
    }
   ],
   "source": [
    "# we can see all keywords from python using below code\n",
    "import keyword\n",
    "print(keyword.kwlist)\n",
    "\n",
    "#len(keyword.kwlist)"
   ]
  },
  {
   "cell_type": "markdown",
   "metadata": {},
   "source": [
    "# Data Types in Python:\n",
    "\n",
    "1. Data type of variable is the type of value inside that variable.\n",
    "2. In python we do not need to mension the data type of variable, It automatically assigns data type.\n",
    "1. int   2. float   3.complex   4.bool   5.str    6.bytes    7.bytearray    8.range    9.list   10.tuple   11.set      12.frozenset    13.dict    14.None\n"
   ]
  },
  {
   "cell_type": "code",
   "execution_count": 5,
   "metadata": {},
   "outputs": [
    {
     "name": "stdout",
     "output_type": "stream",
     "text": [
      "Output:\n",
      "10\n",
      "<class 'int'>\n"
     ]
    }
   ],
   "source": [
    "# int\n",
    "\n",
    "var = 10  # decimal\n",
    "\n",
    "# we can declare octal and Hex value also\n",
    "print(\"Output:\")\n",
    "print(var)\n",
    "print(type(var))"
   ]
  },
  {
   "cell_type": "code",
   "execution_count": 6,
   "metadata": {},
   "outputs": [
    {
     "name": "stdout",
     "output_type": "stream",
     "text": [
      "Output:\n",
      "10.2\n",
      "<class 'float'>\n"
     ]
    }
   ],
   "source": [
    "# Float\n",
    "\n",
    "var = 10.20\n",
    "\n",
    "print(\"Output:\")\n",
    "print(var)\n",
    "print(type(var))"
   ]
  },
  {
   "cell_type": "code",
   "execution_count": 7,
   "metadata": {},
   "outputs": [
    {
     "name": "stdout",
     "output_type": "stream",
     "text": [
      "Output:\n",
      "(3+4j)\n",
      "<class 'complex'>\n",
      "Printing Real and Imaginary part\n",
      "3.0\n",
      "4.0\n"
     ]
    }
   ],
   "source": [
    "# Complex\n",
    "var = 3+4j\n",
    "\n",
    "# 3 is real part, 4j is imaginary part, j^2 = -1\n",
    "print(\"Output:\")\n",
    "print(var)\n",
    "print(type(var))\n",
    "print(\"Printing Real and Imaginary part\")\n",
    "print(var.real)\n",
    "print(var.imag)"
   ]
  },
  {
   "cell_type": "code",
   "execution_count": 8,
   "metadata": {},
   "outputs": [
    {
     "name": "stdout",
     "output_type": "stream",
     "text": [
      "Output:\n",
      "True\n",
      "<class 'bool'>\n"
     ]
    }
   ],
   "source": [
    "# boolean\n",
    "var = True\n",
    "print(\"Output:\")\n",
    "print(var)\n",
    "print(type(var))"
   ]
  },
  {
   "cell_type": "code",
   "execution_count": 9,
   "metadata": {},
   "outputs": [
    {
     "name": "stdout",
     "output_type": "stream",
     "text": [
      "Output:\n",
      "python3.9\n",
      "<class 'str'>\n"
     ]
    }
   ],
   "source": [
    "# String data type\n",
    "var = \"python3.9\"\n",
    "# when take input from user: values are considered as \"string\"\n",
    "print(\"Output:\")\n",
    "print(var)\n",
    "print(type(var))"
   ]
  },
  {
   "cell_type": "markdown",
   "metadata": {},
   "source": [
    "# Typecasting\n",
    "int,\n",
    "float,\n",
    "str,\n",
    "boolean,\n",
    "comlex,\n",
    "object."
   ]
  },
  {
   "cell_type": "raw",
   "metadata": {},
   "source": [
    "# What is typecasting:\n",
    "\n",
    "Conversion of data from one type to another type.\n",
    "eg. str1 = \"python is best\"\n",
    "str2 = \"100\"\n",
    "Note: we can convert str2 into float, int"
   ]
  },
  {
   "cell_type": "code",
   "execution_count": 10,
   "metadata": {},
   "outputs": [
    {
     "name": "stdout",
     "output_type": "stream",
     "text": [
      "100\n",
      "<class 'int'>\n",
      "100\n",
      "<class 'int'>\n",
      "200\n",
      "<class 'str'>\n",
      "200.0\n",
      "<class 'float'>\n",
      "Demonstration of string to float conversion:\n",
      "python\n"
     ]
    }
   ],
   "source": [
    "# int/string to float conversion:\n",
    "\n",
    "str1 = \"python\"\n",
    "var = 100\n",
    "str2 = \"200\"\n",
    "print(var)\n",
    "print(type(var))\n",
    "print(var)\n",
    "\n",
    "print(type(var))\n",
    "\n",
    "print(str2)\n",
    "print(type(str2))\n",
    "var3 = float(str2)\n",
    "print(var3)\n",
    "print(type(var3))\n",
    "\n",
    "print(\"Demonstration of string to float conversion:\")\n",
    "print(str1)\n",
    "#var2 = float(str1)"
   ]
  },
  {
   "cell_type": "code",
   "execution_count": 11,
   "metadata": {},
   "outputs": [
    {
     "name": "stdout",
     "output_type": "stream",
     "text": [
      "float to int:\n",
      "100.2\n",
      "<class 'float'>\n",
      "100\n",
      "<class 'int'>\n",
      "String to int:\n",
      "500\n",
      "<class 'str'>\n",
      "500\n",
      "<class 'int'>\n",
      "string to complex:\n",
      "(3+4j)\n",
      "<class 'complex'>\n"
     ]
    }
   ],
   "source": [
    "# float/string to int conversion\n",
    "\n",
    "var = 100.20\n",
    "str1 = \"200.30\"\n",
    "str2 = \"500\"\n",
    "str3 = \"python\"\n",
    "\n",
    "print(\"float to int:\")\n",
    "print(var)\n",
    "print(type(var))\n",
    "var1 = int(var)\n",
    "print(var1)\n",
    "print(type(var1))\n",
    "\n",
    "print(\"String to int:\")\n",
    "print(str2)\n",
    "print(type(str2))\n",
    "var3 = int(str2)\n",
    "print(var3)\n",
    "print(type(var3))\n",
    "\n",
    "#print(\"String to int:\")\n",
    "#print(str1)\n",
    "#print(type(str1))\n",
    "#var2 = int(str1)\n",
    "#print(var2)\n",
    "#print(type(var2))\n",
    "\n",
    "print(\"string to complex:\")\n",
    "cm = \"3+4j\"\n",
    "comp = complex(cm)\n",
    "print(comp)\n",
    "print(type(comp))\n",
    "\n",
    "\n",
    "#print(\"String to int:\")\n",
    "#print(str3)\n",
    "#print(type(str3))\n",
    "#var4 = int(str3)\n",
    "#print(var4)\n",
    "#print(type(var4))\n"
   ]
  },
  {
   "cell_type": "code",
   "execution_count": 12,
   "metadata": {},
   "outputs": [
    {
     "name": "stdout",
     "output_type": "stream",
     "text": [
      "float to string:\n",
      "100.23\n",
      "<class 'float'>\n",
      "100.23\n",
      "<class 'str'>\n",
      "int to string:\n",
      "20\n",
      "<class 'int'>\n",
      "20\n",
      "<class 'str'>\n",
      "Complex to string:\n",
      "(2+4j)\n",
      "<class 'complex'>\n",
      "(2+4j)\n",
      "<class 'str'>\n"
     ]
    }
   ],
   "source": [
    "# float, int to string\n",
    "\n",
    "var = 100.23\n",
    "var1 = 20\n",
    "comp = 2+4j\n",
    "print(\"float to string:\")\n",
    "print(var)\n",
    "print(type(var))\n",
    "var3 = str(var)\n",
    "print(var3)\n",
    "print(type(var3))\n",
    "\n",
    "print(\"int to string:\")\n",
    "print(var1)\n",
    "print(type(var1))\n",
    "var4 = str(var1)\n",
    "print(var4)\n",
    "print(type(var4))\n",
    "\n",
    "print(\"Complex to string:\")\n",
    "print(comp)\n",
    "print(type(comp))\n",
    "var5 = str(comp)\n",
    "print(var5)\n",
    "print(type(var5))"
   ]
  },
  {
   "cell_type": "markdown",
   "metadata": {},
   "source": [
    "# Other types to Complex"
   ]
  },
  {
   "cell_type": "code",
   "execution_count": 13,
   "metadata": {},
   "outputs": [
    {
     "name": "stdout",
     "output_type": "stream",
     "text": [
      "(10+0j)\n",
      "(12.4+0j)\n",
      "(10.23+0j)\n"
     ]
    }
   ],
   "source": [
    "# use complex() function for conversion\n",
    "\n",
    "var = 10\n",
    "\n",
    "print(complex(var))\n",
    "\n",
    "var1 = 12.4\n",
    "\n",
    "print(complex(var1))\n",
    "\n",
    "var3 = \"10.23\"\n",
    "print(complex(var3))\n"
   ]
  },
  {
   "cell_type": "code",
   "execution_count": 14,
   "metadata": {},
   "outputs": [
    {
     "name": "stdout",
     "output_type": "stream",
     "text": [
      "(10+5j)\n",
      "(10.2+4j)\n",
      "(1+0j)\n"
     ]
    }
   ],
   "source": [
    "print(complex(10,5)) # 10+5j\n",
    "print(complex(10.20,4))\n",
    "\n",
    "print(complex(True,False)) # 1+0j"
   ]
  },
  {
   "cell_type": "markdown",
   "metadata": {},
   "source": [
    "# Bool()"
   ]
  },
  {
   "cell_type": "code",
   "execution_count": 15,
   "metadata": {},
   "outputs": [
    {
     "name": "stdout",
     "output_type": "stream",
     "text": [
      "1\n"
     ]
    }
   ],
   "source": [
    "print(int(True))"
   ]
  },
  {
   "cell_type": "code",
   "execution_count": 16,
   "metadata": {},
   "outputs": [
    {
     "name": "stdout",
     "output_type": "stream",
     "text": [
      "0\n"
     ]
    }
   ],
   "source": [
    "print(int(False))"
   ]
  },
  {
   "cell_type": "code",
   "execution_count": 17,
   "metadata": {},
   "outputs": [
    {
     "name": "stdout",
     "output_type": "stream",
     "text": [
      "1.0\n"
     ]
    }
   ],
   "source": [
    "print(float(True))"
   ]
  },
  {
   "cell_type": "code",
   "execution_count": 18,
   "metadata": {},
   "outputs": [
    {
     "name": "stdout",
     "output_type": "stream",
     "text": [
      "0.0\n"
     ]
    }
   ],
   "source": [
    "print(float(False))"
   ]
  },
  {
   "cell_type": "code",
   "execution_count": 19,
   "metadata": {},
   "outputs": [
    {
     "name": "stdout",
     "output_type": "stream",
     "text": [
      "(1+0j)\n"
     ]
    }
   ],
   "source": [
    "print(complex(True))"
   ]
  },
  {
   "cell_type": "code",
   "execution_count": 20,
   "metadata": {},
   "outputs": [
    {
     "name": "stdout",
     "output_type": "stream",
     "text": [
      "0j\n",
      "0j\n"
     ]
    }
   ],
   "source": [
    "print(complex(False))\n",
    "\n",
    "c = 0+0j\n",
    "\n",
    "print(c)"
   ]
  },
  {
   "cell_type": "code",
   "execution_count": 21,
   "metadata": {},
   "outputs": [
    {
     "name": "stdout",
     "output_type": "stream",
     "text": [
      "True\n",
      "False\n"
     ]
    }
   ],
   "source": [
    "\n",
    "print(str(True))\n",
    "print(str(False))"
   ]
  },
  {
   "cell_type": "code",
   "execution_count": 22,
   "metadata": {},
   "outputs": [
    {
     "name": "stdout",
     "output_type": "stream",
     "text": [
      "True\n",
      "False\n"
     ]
    }
   ],
   "source": [
    "print(bool(3.1))\n",
    "print(bool(0.0))"
   ]
  },
  {
   "cell_type": "code",
   "execution_count": 23,
   "metadata": {},
   "outputs": [
    {
     "name": "stdout",
     "output_type": "stream",
     "text": [
      "True\n",
      "False\n"
     ]
    }
   ],
   "source": [
    "print(bool(1))\n",
    "print(bool(0))"
   ]
  },
  {
   "cell_type": "code",
   "execution_count": 24,
   "metadata": {},
   "outputs": [
    {
     "name": "stdout",
     "output_type": "stream",
     "text": [
      "False\n",
      "False\n",
      "True\n",
      "True\n"
     ]
    }
   ],
   "source": [
    "print(bool(\"\"))\n",
    "print(bool())\n",
    "print(bool(\"h\"))\n",
    "print(bool(11))"
   ]
  },
  {
   "cell_type": "code",
   "execution_count": 25,
   "metadata": {},
   "outputs": [
    {
     "name": "stdout",
     "output_type": "stream",
     "text": [
      "True\n",
      "True\n",
      "True\n",
      "False\n"
     ]
    }
   ],
   "source": [
    "print(bool(1+2j))\n",
    "print(bool(1+0j))\n",
    "print(bool(0+2j))\n",
    "print(bool(0+0j))"
   ]
  },
  {
   "cell_type": "markdown",
   "metadata": {},
   "source": [
    "# String Slicing\n",
    "\n",
    "operations: slicing"
   ]
  },
  {
   "cell_type": "raw",
   "metadata": {},
   "source": [
    "# liscing is making peaces of a string using some separator\n",
    "# [] is a slice opearator"
   ]
  },
  {
   "cell_type": "code",
   "execution_count": 26,
   "metadata": {},
   "outputs": [],
   "source": [
    "# assignment\n",
    "str1 = \"This tutorial is basically designed for beginers\"\n"
   ]
  },
  {
   "cell_type": "code",
   "execution_count": 27,
   "metadata": {},
   "outputs": [],
   "source": [
    "# take simple string\n",
    "\n",
    "str2 = \"Python\""
   ]
  },
  {
   "cell_type": "code",
   "execution_count": 28,
   "metadata": {},
   "outputs": [
    {
     "data": {
      "text/plain": [
       "'P'"
      ]
     },
     "execution_count": 28,
     "metadata": {},
     "output_type": "execute_result"
    }
   ],
   "source": [
    "str2[0]"
   ]
  },
  {
   "cell_type": "code",
   "execution_count": 29,
   "metadata": {},
   "outputs": [
    {
     "data": {
      "text/plain": [
       "'n'"
      ]
     },
     "execution_count": 29,
     "metadata": {},
     "output_type": "execute_result"
    }
   ],
   "source": [
    "str2[5]"
   ]
  },
  {
   "cell_type": "code",
   "execution_count": 30,
   "metadata": {},
   "outputs": [
    {
     "data": {
      "text/plain": [
       "'Python'"
      ]
     },
     "execution_count": 30,
     "metadata": {},
     "output_type": "execute_result"
    }
   ],
   "source": [
    "str2"
   ]
  },
  {
   "cell_type": "code",
   "execution_count": 31,
   "metadata": {},
   "outputs": [
    {
     "data": {
      "text/plain": [
       "'y'"
      ]
     },
     "execution_count": 31,
     "metadata": {},
     "output_type": "execute_result"
    }
   ],
   "source": [
    "str2[1]"
   ]
  },
  {
   "cell_type": "code",
   "execution_count": 32,
   "metadata": {},
   "outputs": [
    {
     "data": {
      "text/plain": [
       "'Python'"
      ]
     },
     "execution_count": 32,
     "metadata": {},
     "output_type": "execute_result"
    }
   ],
   "source": [
    "str2[0:]"
   ]
  },
  {
   "cell_type": "code",
   "execution_count": 33,
   "metadata": {},
   "outputs": [
    {
     "data": {
      "text/plain": [
       "'Pyth'"
      ]
     },
     "execution_count": 33,
     "metadata": {},
     "output_type": "execute_result"
    }
   ],
   "source": [
    "str2[:4]\n",
    "# str2[-6:]"
   ]
  },
  {
   "cell_type": "code",
   "execution_count": 34,
   "metadata": {},
   "outputs": [
    {
     "data": {
      "text/plain": [
       "str"
      ]
     },
     "execution_count": 34,
     "metadata": {},
     "output_type": "execute_result"
    }
   ],
   "source": [
    "type(str2)"
   ]
  },
  {
   "cell_type": "code",
   "execution_count": 35,
   "metadata": {},
   "outputs": [
    {
     "data": {
      "text/plain": [
       "'n'"
      ]
     },
     "execution_count": 35,
     "metadata": {},
     "output_type": "execute_result"
    }
   ],
   "source": [
    "str2[-1]"
   ]
  },
  {
   "cell_type": "code",
   "execution_count": 36,
   "metadata": {},
   "outputs": [
    {
     "data": {
      "text/plain": [
       "'on'"
      ]
     },
     "execution_count": 36,
     "metadata": {},
     "output_type": "execute_result"
    }
   ],
   "source": [
    "str2[-2:]  "
   ]
  },
  {
   "cell_type": "code",
   "execution_count": 37,
   "metadata": {},
   "outputs": [
    {
     "data": {
      "text/plain": [
       "'n'"
      ]
     },
     "execution_count": 37,
     "metadata": {},
     "output_type": "execute_result"
    }
   ],
   "source": [
    "str2[-1:]"
   ]
  },
  {
   "cell_type": "code",
   "execution_count": 38,
   "metadata": {},
   "outputs": [
    {
     "data": {
      "text/plain": [
       "'hon'"
      ]
     },
     "execution_count": 38,
     "metadata": {},
     "output_type": "execute_result"
    }
   ],
   "source": [
    "str2[-3:]"
   ]
  },
  {
   "cell_type": "code",
   "execution_count": 39,
   "metadata": {},
   "outputs": [
    {
     "data": {
      "text/plain": [
       "'ho'"
      ]
     },
     "execution_count": 39,
     "metadata": {},
     "output_type": "execute_result"
    }
   ],
   "source": [
    "str2[-3:-1]"
   ]
  },
  {
   "cell_type": "code",
   "execution_count": 40,
   "metadata": {},
   "outputs": [
    {
     "data": {
      "text/plain": [
       "'This tutorial is basically designed for beginersThis tutorial is basically designed for beginersThis tutorial is basically designed for beginers'"
      ]
     },
     "execution_count": 40,
     "metadata": {},
     "output_type": "execute_result"
    }
   ],
   "source": [
    "str3 = str2[:4]\n",
    "str1*3"
   ]
  },
  {
   "cell_type": "markdown",
   "metadata": {},
   "source": [
    "# Immutability"
   ]
  },
  {
   "cell_type": "raw",
   "metadata": {},
   "source": [
    "# In python once an object is created, we are not allowed to change\n",
    "# the content, If you want to change the content PVM will create a \n",
    "# new object for it."
   ]
  },
  {
   "cell_type": "code",
   "execution_count": 41,
   "metadata": {},
   "outputs": [
    {
     "name": "stdout",
     "output_type": "stream",
     "text": [
      "10897536\n",
      "and \n",
      " 10897536\n",
      "True\n",
      "140192314358688\n",
      "and \n",
      " 140192314358808\n",
      "140192314358832\n",
      "False\n"
     ]
    }
   ],
   "source": [
    "var = 100\n",
    "var1 = var\n",
    "\n",
    "print(id(var))\n",
    "print(\"and \\n\",id(var1))\n",
    "\n",
    "print(var is var1)\n",
    "\n",
    "\n",
    "var = 200.10\n",
    "var1 = 200.10\n",
    "var2 = 200.10\n",
    "\n",
    "print(id(var))\n",
    "print(\"and \\n\",id(var1))\n",
    "\n",
    "print(id(var2))\n",
    "\n",
    "print(var is var1)"
   ]
  },
  {
   "cell_type": "code",
   "execution_count": 42,
   "metadata": {},
   "outputs": [
    {
     "name": "stdout",
     "output_type": "stream",
     "text": [
      "False\n",
      "140192296610736\n",
      "and \n",
      " 140192296609488\n"
     ]
    }
   ],
   "source": [
    "var = 10+20j\n",
    "var1 = 10+20j\n",
    "print(var is var1)\n",
    "print(id(var))\n",
    "print(\"and \\n\",id(var1))\n",
    "# ID are different"
   ]
  },
  {
   "cell_type": "raw",
   "metadata": {},
   "source": [
    "Assignment: Try same for string and boolean types"
   ]
  },
  {
   "cell_type": "markdown",
   "metadata": {},
   "source": [
    "# bytes and bytearray Data Types:"
   ]
  },
  {
   "cell_type": "code",
   "execution_count": 43,
   "metadata": {},
   "outputs": [
    {
     "name": "stdout",
     "output_type": "stream",
     "text": [
      "<class 'list'>\n",
      "<class 'bytes'>\n",
      "10\n",
      "20\n",
      "30\n",
      "40\n",
      "50\n",
      "60\n"
     ]
    }
   ],
   "source": [
    "# bytes can hold the values from 0 to 256\n",
    "# You cant change the value of bytes once it is created\n",
    "\n",
    "\n",
    "a = [10,20,30,40,50,60]\n",
    "print(type(a))\n",
    "\n",
    "b = bytes(a)\n",
    "\n",
    "print(type(b))\n",
    "#b[0]=100\n",
    "# it will raise error:\n",
    "# bytes' object does not support item assignment\n",
    "\n",
    "\n",
    "for i in b:\n",
    "    print(i)\n",
    "\n"
   ]
  },
  {
   "cell_type": "code",
   "execution_count": 44,
   "metadata": {},
   "outputs": [
    {
     "name": "stdout",
     "output_type": "stream",
     "text": [
      "<class 'list'>\n",
      "<class 'bytearray'>\n",
      "10\n",
      "20\n",
      "30\n",
      "40\n",
      "50\n",
      "60\n",
      "New List:\n",
      "10\n",
      "150\n",
      "30\n",
      "40\n",
      "50\n",
      "60\n",
      "This is difference\n"
     ]
    }
   ],
   "source": [
    "# bytearray\n",
    "\n",
    "# You can change the value of bytearray after creatation also\n",
    "\n",
    "\n",
    "a = [10,20,30,40,50,60]\n",
    "print(type(a))\n",
    "\n",
    "b = bytearray(a)\n",
    "\n",
    "print(type(b))\n",
    "\n",
    "for i in b:\n",
    "    print(i)\n",
    "\n",
    "b[1]= 150\n",
    "print(\"New List:\")\n",
    "for i in b:\n",
    "    print(i)\n",
    "print(\"This is difference\")"
   ]
  },
  {
   "cell_type": "markdown",
   "metadata": {},
   "source": [
    "# Data Types"
   ]
  },
  {
   "cell_type": "raw",
   "metadata": {},
   "source": [
    "Text Type=>str\n",
    "Numeric Type=>int, float, complex\n",
    "Sequence Type=>list, tuple, range\n",
    "Mapping Type=>dict\n",
    "Set Type=>set, frozenset\n",
    "Boolean Type=>bool\n",
    "Binary Types=>bytes, bytearray, Memoryview"
   ]
  },
  {
   "cell_type": "markdown",
   "metadata": {},
   "source": [
    "# 1. List "
   ]
  },
  {
   "cell_type": "raw",
   "metadata": {},
   "source": [
    "1. List stores multiple items with different data types.\n",
    "2. [] brackets are used to create list\n",
    "3. List is ordered, changeable and stores duplicates also.\n",
    "4. List is growable, elements are added at end of list."
   ]
  },
  {
   "cell_type": "code",
   "execution_count": 45,
   "metadata": {},
   "outputs": [
    {
     "name": "stdout",
     "output_type": "stream",
     "text": [
      "[1, 2, 3, 4, 5]\n",
      "[10.2, 20.1, 30.3, 40.0, 50.21]\n",
      "['Nitin', 'Datta', 'Rahul', 'Padmaja']\n",
      "[1, 10.2, 'Nitin']\n"
     ]
    }
   ],
   "source": [
    "# ex\n",
    "list1 = [1,2,3,4,5]\n",
    "list2 = [10.2,20.1,30.3,40.0,50.21]\n",
    "list3 = ['Nitin', 'Datta', 'Rahul', 'Padmaja']\n",
    "list4 = [1,10.2,'Nitin']\n",
    "\n",
    "print(list1)\n",
    "print(list2)\n",
    "print(list3)\n",
    "print(list4)"
   ]
  },
  {
   "cell_type": "raw",
   "metadata": {},
   "source": [
    "# Accesing list items"
   ]
  },
  {
   "cell_type": "code",
   "execution_count": 46,
   "metadata": {},
   "outputs": [
    {
     "name": "stdout",
     "output_type": "stream",
     "text": [
      "<class 'list'>\n"
     ]
    },
    {
     "data": {
      "text/plain": [
       "list"
      ]
     },
     "execution_count": 46,
     "metadata": {},
     "output_type": "execute_result"
    }
   ],
   "source": [
    "print(type(list1))\n",
    "type(list1)"
   ]
  },
  {
   "cell_type": "code",
   "execution_count": 47,
   "metadata": {},
   "outputs": [
    {
     "name": "stdout",
     "output_type": "stream",
     "text": [
      "1\n",
      "20.1\n",
      "Nitin\n",
      "[1, 2, 3, 4, 5]\n",
      "[10.2, 20.1, 30.3, 40.0, 50.21]\n",
      "['Nitin', 'Datta', 'Rahul', 'Padmaja']\n",
      "[1, 10.2, 'Nitin']\n",
      "************\n",
      "[1, 2, 3, 4, 5]\n"
     ]
    },
    {
     "data": {
      "text/plain": [
       "2"
      ]
     },
     "execution_count": 47,
     "metadata": {},
     "output_type": "execute_result"
    }
   ],
   "source": [
    "print(list1[0])\n",
    "print(list2[1])\n",
    "print(list3[0])\n",
    "print(list1)\n",
    "print(list2)\n",
    "print(list3)\n",
    "print(list4)\n",
    "\n",
    "print(\"************\")\n",
    "print(list1)\n",
    "list1[1]"
   ]
  },
  {
   "cell_type": "code",
   "execution_count": 48,
   "metadata": {},
   "outputs": [
    {
     "data": {
      "text/plain": [
       "[10.2, 20.1, 30.3, 40.0, 50.21]"
      ]
     },
     "execution_count": 48,
     "metadata": {},
     "output_type": "execute_result"
    }
   ],
   "source": [
    "list2[0: 10]"
   ]
  },
  {
   "cell_type": "code",
   "execution_count": 49,
   "metadata": {},
   "outputs": [
    {
     "data": {
      "text/plain": [
       "[10.2, 20.1, 30.3]"
      ]
     },
     "execution_count": 49,
     "metadata": {},
     "output_type": "execute_result"
    }
   ],
   "source": [
    "list2[0:-2]"
   ]
  },
  {
   "cell_type": "code",
   "execution_count": 50,
   "metadata": {},
   "outputs": [
    {
     "name": "stdout",
     "output_type": "stream",
     "text": [
      "length of list1:\n",
      "5\n"
     ]
    },
    {
     "data": {
      "text/plain": [
       "4"
      ]
     },
     "execution_count": 50,
     "metadata": {},
     "output_type": "execute_result"
    }
   ],
   "source": [
    "print('length of list1:')\n",
    "print(len(list1))\n",
    "\n",
    "\n",
    "len(list3)"
   ]
  },
  {
   "cell_type": "code",
   "execution_count": 51,
   "metadata": {},
   "outputs": [
    {
     "name": "stdout",
     "output_type": "stream",
     "text": [
      "[1, 2, 3, 4, 5]\n",
      "[1, 2, 3, 4, 5, 'sagar']\n"
     ]
    }
   ],
   "source": [
    "print(list1)\n",
    "list1.append(\"sagar\")\n",
    "print(list1)\n",
    "\n"
   ]
  },
  {
   "cell_type": "code",
   "execution_count": 52,
   "metadata": {},
   "outputs": [
    {
     "name": "stdout",
     "output_type": "stream",
     "text": [
      "[1, 2, 3, 4, 5, 'sagar']\n",
      "[1, 2, 3, 4, 5]\n"
     ]
    }
   ],
   "source": [
    "print(list1)\n",
    "list1.remove(\"sagar\")\n",
    "print(list1)"
   ]
  },
  {
   "cell_type": "code",
   "execution_count": 53,
   "metadata": {},
   "outputs": [
    {
     "name": "stdout",
     "output_type": "stream",
     "text": [
      "[1, 2, 3, 4, 5]\n",
      "[1, 2, 4, 5]\n"
     ]
    }
   ],
   "source": [
    "print(list1)\n",
    "list1.remove(3)\n",
    "print(list1)\n"
   ]
  },
  {
   "cell_type": "raw",
   "metadata": {},
   "source": [
    "# Available operations on list\n",
    "\n",
    "list1.append\n",
    "list1.clear\n",
    "list1.copy\n",
    "list1.count\n",
    "list1.extend\n",
    "list1.index\n",
    "list1.insert\n",
    "list1.pop\n",
    "list1.remove\n",
    "list1.reverse\n",
    "list1.sort\n"
   ]
  },
  {
   "cell_type": "code",
   "execution_count": null,
   "metadata": {},
   "outputs": [],
   "source": []
  },
  {
   "cell_type": "raw",
   "metadata": {},
   "source": [
    "#Change Values:"
   ]
  },
  {
   "cell_type": "code",
   "execution_count": 54,
   "metadata": {},
   "outputs": [
    {
     "name": "stdout",
     "output_type": "stream",
     "text": [
      "[1, 2, 4, 5]\n",
      "[1, 2, 4, 5, 6]\n"
     ]
    }
   ],
   "source": [
    "print(list1)\n",
    "list1.append(6)\n",
    "print(list1)"
   ]
  },
  {
   "cell_type": "code",
   "execution_count": 55,
   "metadata": {},
   "outputs": [
    {
     "name": "stdout",
     "output_type": "stream",
     "text": [
      "[1, 2, 4, 5, 6]\n",
      "[1, 2, 4, 5]\n"
     ]
    }
   ],
   "source": [
    "print(list1)\n",
    "list1.remove(6)\n",
    "print(list1)"
   ]
  },
  {
   "cell_type": "code",
   "execution_count": 56,
   "metadata": {},
   "outputs": [
    {
     "name": "stdout",
     "output_type": "stream",
     "text": [
      "[1, 2, 4, 5]\n"
     ]
    }
   ],
   "source": [
    "list_1 = list1.copy()\n",
    "print(list_1)"
   ]
  },
  {
   "cell_type": "code",
   "execution_count": 57,
   "metadata": {},
   "outputs": [
    {
     "name": "stdout",
     "output_type": "stream",
     "text": [
      "[1, 2, 4, 5]\n",
      "[1, 2, 4, 5, 1, 'Sagar', 'apple', 'banana']\n"
     ]
    }
   ],
   "source": [
    "print(list1)\n",
    "\n",
    "list1.extend([1,\"Sagar\"])\n",
    "l = ['apple', 'banana']\n",
    "list1.extend(l)\n",
    "print(list1)"
   ]
  },
  {
   "cell_type": "code",
   "execution_count": 58,
   "metadata": {},
   "outputs": [
    {
     "name": "stdout",
     "output_type": "stream",
     "text": [
      "6\n"
     ]
    }
   ],
   "source": [
    "print(list1.index('apple'))"
   ]
  },
  {
   "cell_type": "code",
   "execution_count": 59,
   "metadata": {},
   "outputs": [
    {
     "name": "stdout",
     "output_type": "stream",
     "text": [
      "[1, 2, 4, 5, 1, 'Sagar', 'apple', 'banana']\n",
      "[1, 2, 4, 100, 5, 1, 'Sagar', 'apple', 'banana']\n"
     ]
    }
   ],
   "source": [
    "print(list1)\n",
    "list1.insert(3,100) # list1.insert(index, value_to_insert)\n",
    "print(list1)"
   ]
  },
  {
   "cell_type": "code",
   "execution_count": 60,
   "metadata": {},
   "outputs": [
    {
     "name": "stdout",
     "output_type": "stream",
     "text": [
      "[1, 2, 4, 100, 5, 1, 'Sagar', 'apple', 'banana']\n",
      "[1, 4, 100, 5, 1, 'Sagar', 'apple', 'banana']\n",
      "[1, 4, 100, 5, 1, 'Sagar', 'apple']\n"
     ]
    }
   ],
   "source": [
    "print(list1)\n",
    "list1.pop(1) # pop element at this location list1.pop(location/index)\n",
    "print(list1)\n",
    "list1.pop() # pop last element\n",
    "print(list1)"
   ]
  },
  {
   "cell_type": "code",
   "execution_count": 61,
   "metadata": {},
   "outputs": [
    {
     "name": "stdout",
     "output_type": "stream",
     "text": [
      "[1, 4, 100, 5, 1, 'Sagar', 'apple']\n",
      "['apple', 'Sagar', 1, 5, 100, 4, 1]\n"
     ]
    }
   ],
   "source": [
    "print(list1)\n",
    "list1.reverse()\n",
    "print(list1)"
   ]
  },
  {
   "cell_type": "code",
   "execution_count": 62,
   "metadata": {},
   "outputs": [
    {
     "name": "stdout",
     "output_type": "stream",
     "text": [
      "[100, 2, 200, 88, 99, 20]\n",
      "Ascending\n",
      "[2, 20, 88, 99, 100, 200]\n",
      "Descending\n",
      "[200, 100, 99, 88, 20, 2]\n"
     ]
    }
   ],
   "source": [
    "list_1 = [100,2,200,88,99,20]\n",
    "print(list_1)\n",
    "print(\"Ascending\")\n",
    "list_1.sort(reverse=False) # Ascending\n",
    "print(list_1)\n",
    "print(\"Descending\")\n",
    "list_1.sort(reverse=True) # Descending\n",
    "print(list_1)"
   ]
  },
  {
   "cell_type": "code",
   "execution_count": 63,
   "metadata": {},
   "outputs": [
    {
     "name": "stdout",
     "output_type": "stream",
     "text": [
      "['apple', 'Sagar', 1, 5, 100, 4, 1]\n",
      "['apple', 'XYZ', 1, 5, 100, 4, 1]\n"
     ]
    }
   ],
   "source": [
    "print(list1)\n",
    "list1[1] = \"XYZ\"\n",
    "print(list1)"
   ]
  },
  {
   "cell_type": "code",
   "execution_count": 64,
   "metadata": {},
   "outputs": [
    {
     "name": "stdout",
     "output_type": "stream",
     "text": [
      "['apple', 'XYZ', 1, 5, 100, 4, 1]\n",
      "['apple', 'XYZ', 'Nitin_1', 'Rahul_1', 100, 4, 1]\n"
     ]
    }
   ],
   "source": [
    "print(list1)\n",
    "list1[2:4] = ['Nitin_1', 'Rahul_1']\n",
    "print(list1)"
   ]
  },
  {
   "cell_type": "code",
   "execution_count": 65,
   "metadata": {},
   "outputs": [
    {
     "name": "stdout",
     "output_type": "stream",
     "text": [
      "7\n",
      "['apple', 'XYZ', 'Nitin_1', 'Rahul_1', 100, 4, 1]\n"
     ]
    }
   ],
   "source": [
    "print(len(list1))\n",
    "#list1[9] = 'Padmaja'\n",
    "print(list1)"
   ]
  },
  {
   "cell_type": "markdown",
   "metadata": {},
   "source": [
    "# Tuple"
   ]
  },
  {
   "cell_type": "raw",
   "metadata": {},
   "source": [
    "1. Tuple is ordered and unchangeble\n",
    "2. Immutable (you cant change the elements or cant add elements in tuple)\n",
    "3. () are used to represent the tuple\n",
    "4. Allow duplicates\n",
    "5. tuples are read only version of your list except list is growable"
   ]
  },
  {
   "cell_type": "code",
   "execution_count": 66,
   "metadata": {},
   "outputs": [
    {
     "name": "stdout",
     "output_type": "stream",
     "text": [
      "('apple', 'apple', 'banana', 'cherry', 'orange', 'kiwi', 'melon', 'mango')\n"
     ]
    }
   ],
   "source": [
    " tup = (\"apple\",'apple', \"banana\", \"cherry\", \"orange\", \"kiwi\", \"melon\", \"mango\")\n",
    "print(tup)"
   ]
  },
  {
   "cell_type": "code",
   "execution_count": 67,
   "metadata": {},
   "outputs": [
    {
     "name": "stdout",
     "output_type": "stream",
     "text": [
      "8\n"
     ]
    },
    {
     "data": {
      "text/plain": [
       "2"
      ]
     },
     "execution_count": 67,
     "metadata": {},
     "output_type": "execute_result"
    }
   ],
   "source": [
    "print(len(tup))\n",
    "tup.count('apple')\n",
    "tup.index('banana')"
   ]
  },
  {
   "cell_type": "code",
   "execution_count": 68,
   "metadata": {},
   "outputs": [
    {
     "name": "stdout",
     "output_type": "stream",
     "text": [
      "<class 'str'>\n",
      "<class 'tuple'>\n"
     ]
    }
   ],
   "source": [
    "tup1 = (\"apple\")\n",
    "print(type(tup1))\n",
    "\n",
    "tup1 = (\"apple\",)\n",
    "print(type(tup1))"
   ]
  },
  {
   "cell_type": "code",
   "execution_count": 69,
   "metadata": {},
   "outputs": [
    {
     "name": "stdout",
     "output_type": "stream",
     "text": [
      "('abc', 34, True, 40, 'male')\n"
     ]
    }
   ],
   "source": [
    "tup2 = (\"abc\", 34, True, 40, \"male\")\n",
    "print(tup2)"
   ]
  },
  {
   "cell_type": "code",
   "execution_count": 70,
   "metadata": {},
   "outputs": [
    {
     "name": "stdout",
     "output_type": "stream",
     "text": [
      "(10, 20, 30)\n"
     ]
    }
   ],
   "source": [
    "tup3 = tuple((10,20,30)) # tuple() constructor\n",
    "print(tup3)"
   ]
  },
  {
   "cell_type": "code",
   "execution_count": 71,
   "metadata": {},
   "outputs": [
    {
     "name": "stdout",
     "output_type": "stream",
     "text": [
      "('apple', 'apple', 'banana', 'cherry', 'orange', 'kiwi', 'melon', 'mango')\n"
     ]
    },
    {
     "data": {
      "text/plain": [
       "'apple'"
      ]
     },
     "execution_count": 71,
     "metadata": {},
     "output_type": "execute_result"
    }
   ],
   "source": [
    "# access\n",
    "print(tup)\n",
    "tup[1]"
   ]
  },
  {
   "cell_type": "code",
   "execution_count": 72,
   "metadata": {},
   "outputs": [
    {
     "name": "stdout",
     "output_type": "stream",
     "text": [
      "('apple', 'apple', 'banana', 'cherry', 'orange', 'kiwi', 'melon', 'mango')\n"
     ]
    },
    {
     "data": {
      "text/plain": [
       "'melon'"
      ]
     },
     "execution_count": 72,
     "metadata": {},
     "output_type": "execute_result"
    }
   ],
   "source": [
    "print(tup)\n",
    "tup[-2]"
   ]
  },
  {
   "cell_type": "code",
   "execution_count": 73,
   "metadata": {},
   "outputs": [
    {
     "data": {
      "text/plain": [
       "('apple', 'apple')"
      ]
     },
     "execution_count": 73,
     "metadata": {},
     "output_type": "execute_result"
    }
   ],
   "source": [
    "# range of items\n",
    "tup[0:2]"
   ]
  },
  {
   "cell_type": "code",
   "execution_count": 74,
   "metadata": {},
   "outputs": [
    {
     "name": "stdout",
     "output_type": "stream",
     "text": [
      "('apple', 'apple', 'banana', 'cherry', 'orange', 'kiwi', 'melon', 'mango')\n",
      "<class 'tuple'>\n",
      "['apple', 'apple', 'banana', 'cherry', 'orange', 'kiwi', 'melon', 'mango']\n",
      "<class 'list'>\n",
      "['apple', 'apple', 'potato', 'cherry', 'orange', 'kiwi', 'melon', 'mango']\n",
      "('apple', 'apple', 'potato', 'cherry', 'orange', 'kiwi', 'melon', 'mango')\n"
     ]
    }
   ],
   "source": [
    "# change tuple value using list\n",
    "# Do here\n",
    "print(tup)\n",
    "print(type(tup))\n",
    "var = list(tup)\n",
    "print(var)\n",
    "print(type(var))\n",
    "\n",
    "# change value\n",
    "\n",
    "var[2] = 'potato'\n",
    "print(var)\n",
    "\n",
    "# convert back to tuple\n",
    "\n",
    "tup = tuple(var)\n",
    "print(tup)\n"
   ]
  },
  {
   "cell_type": "code",
   "execution_count": 75,
   "metadata": {},
   "outputs": [
    {
     "name": "stdout",
     "output_type": "stream",
     "text": [
      "('apple', 'apple', 'potato', 'cherry', 'orange', 'kiwi', 'melon', 'mango')\n",
      "<class 'tuple'>\n",
      "['apple', 'apple', 'potato', 'cherry', 'orange', 'kiwi', 'melon', 'mango']\n",
      "<class 'list'>\n",
      "('apple', 'apple', 'tomato', 'potato', 'cherry', 'orange', 'kiwi', 'melon', 'mango')\n"
     ]
    }
   ],
   "source": [
    "# Add items\n",
    "print(tup)\n",
    "print(type(tup))\n",
    "var = list(tup)\n",
    "print(var)\n",
    "print(type(var))\n",
    "\n",
    "var.insert(2,'tomato')\n",
    "\n",
    "tup = tuple(var)\n",
    "print(tup)\n",
    "\n",
    "# convert back to tuple\n"
   ]
  },
  {
   "cell_type": "code",
   "execution_count": 76,
   "metadata": {},
   "outputs": [],
   "source": [
    "# tuple concat +"
   ]
  },
  {
   "cell_type": "code",
   "execution_count": 77,
   "metadata": {},
   "outputs": [],
   "source": [
    "# remove items using list"
   ]
  },
  {
   "cell_type": "code",
   "execution_count": 78,
   "metadata": {},
   "outputs": [],
   "source": [
    "# Complete deletion of tuple using del tuple_name"
   ]
  },
  {
   "cell_type": "code",
   "execution_count": 79,
   "metadata": {},
   "outputs": [
    {
     "name": "stdout",
     "output_type": "stream",
     "text": [
      "apple\n",
      "banana\n",
      "['cherry', 'strawberry', 'raspberry']\n"
     ]
    }
   ],
   "source": [
    "# Use of asterisk\n",
    "fruits = (\"apple\", \"banana\", \"cherry\", \"strawberry\", \"raspberry\")\n",
    "\n",
    "(green, yellow, *red) = fruits\n",
    "\n",
    "print(green)\n",
    "print(yellow)\n",
    "print(red)\n"
   ]
  },
  {
   "cell_type": "code",
   "execution_count": 80,
   "metadata": {},
   "outputs": [
    {
     "name": "stdout",
     "output_type": "stream",
     "text": [
      "apple\n",
      "['mango', 'papaya', 'pineapple']\n",
      "cherry\n"
     ]
    }
   ],
   "source": [
    " fruits = (\"apple\", \"mango\", \"papaya\", \"pineapple\", \"cherry\")\n",
    "\n",
    "(green, *tropic, red) = fruits\n",
    "\n",
    "print(green)\n",
    "print(tropic)\n",
    "print(red)"
   ]
  },
  {
   "cell_type": "code",
   "execution_count": 81,
   "metadata": {},
   "outputs": [
    {
     "name": "stdout",
     "output_type": "stream",
     "text": [
      "('apple', 'apple', 'tomato', 'potato', 'cherry', 'orange', 'kiwi', 'melon', 'mango')\n",
      "1\n",
      "('apple', 'apple', 'tomato', 'potato', 'cherry', 'orange', 'kiwi', 'melon', 'mango')\n",
      "3\n"
     ]
    }
   ],
   "source": [
    "# Methods: count() and index()\n",
    "print(tup)\n",
    "cnt = tup.count('tomato')\n",
    "print(cnt)\n",
    "\n",
    "print(tup)\n",
    "ind = tup.index('potato')\n",
    "print(ind)"
   ]
  },
  {
   "cell_type": "code",
   "execution_count": 82,
   "metadata": {},
   "outputs": [],
   "source": [
    "# Try assigning values to tuples\n",
    "# tup[0] = 'grapes'\n",
    "# TypeError: 'tuple' object does not support item assignment\n"
   ]
  },
  {
   "cell_type": "markdown",
   "metadata": {},
   "source": [
    "# Set"
   ]
  },
  {
   "cell_type": "raw",
   "metadata": {},
   "source": [
    "1. set is unordered collections of elements\n",
    "2. It is mutable\n",
    "3. It is growable\n",
    "4. Set items are unchangeable\n",
    "5. {} are used to represent set\n",
    "6. Index concept is not applicable\n",
    "7. duplicates are not allowed"
   ]
  },
  {
   "cell_type": "code",
   "execution_count": 83,
   "metadata": {},
   "outputs": [
    {
     "name": "stdout",
     "output_type": "stream",
     "text": [
      "{'nitin', 1, 2, 3, 'sagar', 'cherry'}\n",
      "<class 'set'>\n"
     ]
    }
   ],
   "source": [
    "s = {1,2,3,'sagar', 'nitin', 'cherry'}\n",
    "print(s)\n",
    "print(type(s))\n",
    "\n"
   ]
  },
  {
   "cell_type": "code",
   "execution_count": 84,
   "metadata": {},
   "outputs": [
    {
     "name": "stdout",
     "output_type": "stream",
     "text": [
      "6\n"
     ]
    }
   ],
   "source": [
    "print(len(s))"
   ]
  },
  {
   "cell_type": "code",
   "execution_count": 85,
   "metadata": {},
   "outputs": [
    {
     "name": "stdout",
     "output_type": "stream",
     "text": [
      "{'apple', 'banana', 'cherry'}\n",
      "<class 'set'>\n"
     ]
    }
   ],
   "source": [
    "# set() constructor\n",
    "set1 = set((\"apple\", \"banana\", \"cherry\"))\n",
    "print(set1)\n",
    "print(type(set1))"
   ]
  },
  {
   "cell_type": "code",
   "execution_count": 86,
   "metadata": {},
   "outputs": [
    {
     "name": "stdout",
     "output_type": "stream",
     "text": [
      "False\n",
      "True\n"
     ]
    }
   ],
   "source": [
    "# accessing set\n",
    "val= \"banana\" in s\n",
    "\n",
    "print(val)\n",
    "\n",
    "print(1 in s)\n"
   ]
  },
  {
   "cell_type": "code",
   "execution_count": 87,
   "metadata": {},
   "outputs": [
    {
     "name": "stdout",
     "output_type": "stream",
     "text": [
      "{'apple', 'banana', 'cherry'}\n",
      "{'apple', 'orange', 'banana', 'cherry'}\n"
     ]
    }
   ],
   "source": [
    "# once set is created u can not change elements value, \n",
    "# but u can add values\n",
    "print(set1)\n",
    "set1.add('orange')\n",
    "print(set1)"
   ]
  },
  {
   "cell_type": "code",
   "execution_count": 88,
   "metadata": {},
   "outputs": [
    {
     "name": "stdout",
     "output_type": "stream",
     "text": [
      "{'apple', 'pineapple', 'mango', 'cherry', 'banana', 'papaya', 'orange'}\n",
      "{'apple', 1, 2, 3, 'pineapple', 'mango', 'cherry', 'banana', 'papaya', 'orange'}\n"
     ]
    }
   ],
   "source": [
    "# using update you can add any iterable items like set, list,tuple, dict-keys\n",
    "set2 = {\"pineapple\", \"mango\", \"papaya\"}\n",
    "#dict1 = {'a': 97}\n",
    "tup = (1,2,3)\n",
    "\n",
    "set1.update(set2)\n",
    "print(set1)\n",
    "set1.update(tup)\n",
    "\n",
    "print(set1)"
   ]
  },
  {
   "cell_type": "code",
   "execution_count": 89,
   "metadata": {},
   "outputs": [
    {
     "name": "stdout",
     "output_type": "stream",
     "text": [
      "Remove using remove():\n",
      " {'apple', 1, 2, 3, 'pineapple', 'mango', 'cherry', 'banana', 'papaya', 'orange'}\n",
      "{'apple', 1, 2, 3, 'pineapple', 'mango', 'cherry', 'banana', 'papaya', 'orange'}\n",
      "Remove using discard():\n",
      " {'apple', 1, 2, 3, 'pineapple', 'mango', 'cherry', 'banana', 'papaya', 'orange'}\n",
      "{'apple', 1, 3, 'pineapple', 'mango', 'cherry', 'banana', 'papaya', 'orange'}\n",
      "Remove using pop():\n",
      " {'apple', 1, 3, 'pineapple', 'mango', 'cherry', 'banana', 'papaya', 'orange'}\n",
      "{1, 3, 'pineapple', 'mango', 'cherry', 'banana', 'papaya', 'orange'}\n",
      "apple\n"
     ]
    }
   ],
   "source": [
    "# remove(), discard(), pop()\n",
    "print(\"Remove using remove():\\n\",set1)\n",
    "#set1.remove('banana')\n",
    "print(set1)\n",
    "\n",
    "print(\"Remove using discard():\\n\",set1)\n",
    "set1.discard(2)\n",
    "print(set1)\n",
    "\n",
    "print(\"Remove using pop():\\n\",set1)\n",
    "res = set1.pop()\n",
    "print(set1)\n",
    "print(res)"
   ]
  },
  {
   "cell_type": "code",
   "execution_count": 90,
   "metadata": {},
   "outputs": [
    {
     "name": "stdout",
     "output_type": "stream",
     "text": [
      "{'nitin', 1, 2, 3, 'sagar', 'cherry'}\n",
      "\n",
      "{'nitin', 1, 2, 3, 'pineapple', 'sagar', 'orange', 'mango', 'banana', 'papaya', 'cherry'}\n"
     ]
    }
   ],
   "source": [
    "# union\n",
    "\n",
    "# adds elements of two sets and create new set\n",
    "\n",
    "print(s)\n",
    "print()\n",
    "s1 = s.union(set1)\n",
    "print(s1)\n",
    "\n",
    "# update method word for union only but adds element to calling set"
   ]
  },
  {
   "cell_type": "code",
   "execution_count": 91,
   "metadata": {},
   "outputs": [
    {
     "name": "stdout",
     "output_type": "stream",
     "text": [
      "{'nitin', 1, 2, 3, 'sagar', 'cherry'}\n",
      "{1, 3, 'pineapple', 'mango', 'cherry', 'banana', 'papaya', 'orange'}\n",
      "itersection:\n",
      " {1, 3, 'cherry'}\n",
      "itersection Update:\n",
      " {1, 3, 'cherry'}\n"
     ]
    }
   ],
   "source": [
    "#\n",
    "print(s)\n",
    "print(set1)\n",
    "intr = s.intersection(set1)\n",
    "print(\"itersection:\\n\",intr)\n",
    "\n",
    "# keeps duplicates in s1 \n",
    "s.intersection_update(set1)\n",
    "print(\"itersection Update:\\n\",s)\n"
   ]
  },
  {
   "cell_type": "code",
   "execution_count": 92,
   "metadata": {},
   "outputs": [
    {
     "name": "stdout",
     "output_type": "stream",
     "text": [
      "{1, 3, 'cherry'}\n",
      "{1, 3, 'pineapple', 'mango', 'cherry', 'banana', 'papaya', 'orange'}\n",
      "{1, 3, 'cherry'}\n",
      "Symmetric Difference:\n",
      "\n",
      "Symmetric difference:\n",
      " {1, 2, 4, 6, 7, 8, 9}\n",
      "difference:\n",
      " {1, 2, 4, 6}\n"
     ]
    }
   ],
   "source": [
    "# keeps elements which are not present in other set\n",
    "s_1 ={1,2,3,4,5,6}\n",
    "s_2 = {3,5,7,8,9}\n",
    "\n",
    "print(s)\n",
    "print(set1)\n",
    "#s.symmetric_difference_update(set1)\n",
    "\n",
    "print(s) \n",
    "\n",
    "\n",
    "# returns new set\n",
    "\n",
    "print(\"Symmetric Difference:\\n\")\n",
    "\n",
    "k = s_1.symmetric_difference(s_2) \n",
    "# return elements which are present in s_1 not in s_2 + present in s_2 but not in s_1\n",
    "v = s_1.difference(s_2) \n",
    "# returns new set with elements present in s_1 but not in s_2\n",
    "print(\"Symmetric difference:\\n\",k)\n",
    "print(\"difference:\\n\",v) "
   ]
  },
  {
   "cell_type": "code",
   "execution_count": 93,
   "metadata": {},
   "outputs": [
    {
     "name": "stdout",
     "output_type": "stream",
     "text": [
      "False\n",
      "S:\n",
      "\n",
      "{1, 3, 'cherry'}\n",
      "Set1:\n",
      "\n",
      "{1, 3, 'pineapple', 'mango', 'cherry', 'banana', 'papaya', 'orange'}\n",
      "False\n",
      "True\n"
     ]
    }
   ],
   "source": [
    "#isdisjoint()Returns whether two sets have a intersection or not\n",
    "#issubset()Returns whether another set contains this set or not\n",
    "#issuperset()Returns whether this set contains another set or not\n",
    "\n",
    "print(s.isdisjoint(set1))\n",
    "print(\"S:\\n\")\n",
    "print(s)\n",
    "print(\"Set1:\\n\")\n",
    "print(set1)\n",
    "print(set1.issubset(s))\n",
    "print(set1.issuperset(s))"
   ]
  },
  {
   "cell_type": "code",
   "execution_count": 94,
   "metadata": {},
   "outputs": [
    {
     "name": "stdout",
     "output_type": "stream",
     "text": [
      "{1, 3, 'cherry'}\n"
     ]
    }
   ],
   "source": [
    "# del and clear() method removes the set completely\n",
    "\n",
    "# uncomment to run it and see result\n",
    "print(s)\n",
    "#del s1\n",
    "#print(s1)"
   ]
  },
  {
   "cell_type": "markdown",
   "metadata": {},
   "source": [
    "# frozenset"
   ]
  },
  {
   "cell_type": "code",
   "execution_count": 95,
   "metadata": {},
   "outputs": [
    {
     "name": "stdout",
     "output_type": "stream",
     "text": [
      "<class 'set'>\n",
      "frozenset({1, 3, 'pineapple', 'orange', 'mango', 'banana', 'papaya', 'cherry'})\n",
      "<class 'frozenset'>\n",
      "frozenset({1, 3, 'pineapple', 'orange', 'mango', 'banana', 'papaya', 'cherry'})\n",
      "<class 'frozenset'>\n"
     ]
    }
   ],
   "source": [
    "# frozen set is same as set but it is immutable\n",
    "\n",
    "print(type(set1))\n",
    "s = frozenset(set1)\n",
    "print(s)\n",
    "print(type(s))\n",
    "# supported methods for frozen set\n",
    "\n",
    "s1 = s.copy()\n",
    "'''\n",
    "s.difference()\n",
    "s.intersection()\n",
    "s.isdisjoint()\n",
    "s.issubset()\n",
    "s.issuperset()\n",
    "s.symmetric_difference()\n",
    "s.union()\n",
    "'''\n",
    "print(s1)\n",
    "print(type(s1))"
   ]
  },
  {
   "cell_type": "markdown",
   "metadata": {},
   "source": [
    "# Dictionary"
   ]
  },
  {
   "cell_type": "raw",
   "metadata": {},
   "source": [
    "1. stores data in key:value pair\n",
    "2. It is ordered, changeable and does not allow duplicates.\n",
    "3. {} are used to write dictionaries\n",
    "4. Items are reffered by using key\n",
    "5. From Python version 3.7, dictionaries are ordered. "
   ]
  },
  {
   "cell_type": "code",
   "execution_count": 96,
   "metadata": {},
   "outputs": [
    {
     "name": "stdout",
     "output_type": "stream",
     "text": [
      "{1: 'a', 2: 'b', 3: 'c'}\n",
      "<class 'dict'>\n"
     ]
    }
   ],
   "source": [
    "d = {\n",
    "    1: 'a',\n",
    "    2: 'b',\n",
    "    3: 'c'   \n",
    "    }\n",
    "\n",
    "dict1 = {\n",
    "    'name' : 'Nitn',\n",
    "    'mobile' : 9975923975,\n",
    "    'address' : 'sangola',\n",
    "    'job' : 'Data',\n",
    "    'salary' : 550000.20,\n",
    "    1 : 10000\n",
    "    \n",
    "}\n",
    "print(d)\n",
    "\n",
    "print(type(dict1))"
   ]
  },
  {
   "cell_type": "code",
   "execution_count": 97,
   "metadata": {},
   "outputs": [
    {
     "name": "stdout",
     "output_type": "stream",
     "text": [
      "Nitn\n",
      "{1: 'a', 2: 'b', 3: 'c'}\n"
     ]
    },
    {
     "data": {
      "text/plain": [
       "'c'"
      ]
     },
     "execution_count": 97,
     "metadata": {},
     "output_type": "execute_result"
    }
   ],
   "source": [
    "print(dict1['name'])\n",
    "dict1['mobile']\n",
    "dict1['job']\n",
    "print(d)\n",
    "d[3]"
   ]
  },
  {
   "cell_type": "code",
   "execution_count": 98,
   "metadata": {},
   "outputs": [
    {
     "name": "stdout",
     "output_type": "stream",
     "text": [
      "6\n"
     ]
    },
    {
     "data": {
      "text/plain": [
       "3"
      ]
     },
     "execution_count": 98,
     "metadata": {},
     "output_type": "execute_result"
    }
   ],
   "source": [
    "print(len(dict1))\n",
    "\n",
    "len(d)"
   ]
  },
  {
   "cell_type": "code",
   "execution_count": 99,
   "metadata": {},
   "outputs": [
    {
     "name": "stdout",
     "output_type": "stream",
     "text": [
      "<class 'dict'>\n"
     ]
    },
    {
     "data": {
      "text/plain": [
       "dict"
      ]
     },
     "execution_count": 99,
     "metadata": {},
     "output_type": "execute_result"
    }
   ],
   "source": [
    "print(type(dict1))\n",
    "type(d)"
   ]
  },
  {
   "cell_type": "code",
   "execution_count": 100,
   "metadata": {},
   "outputs": [
    {
     "name": "stdout",
     "output_type": "stream",
     "text": [
      "550000.2\n",
      "Data\n",
      "b\n",
      "c\n"
     ]
    }
   ],
   "source": [
    "# accesing elemnts\n",
    "\n",
    "print(dict1['salary'])\n",
    "\n",
    "s = dict1.get('job')\n",
    "print(s)\n",
    "dict1['address']\n",
    "dict1.get('salary')\n",
    "\n",
    "\n",
    "print(d[2])\n",
    "r = d.get(3)\n",
    "print(r)"
   ]
  },
  {
   "cell_type": "code",
   "execution_count": 101,
   "metadata": {},
   "outputs": [
    {
     "name": "stdout",
     "output_type": "stream",
     "text": [
      "dict_keys([1, 'address', 'name', 'salary', 'job', 'mobile'])\n"
     ]
    },
    {
     "data": {
      "text/plain": [
       "dict_values(['a', 'b', 'c'])"
      ]
     },
     "execution_count": 101,
     "metadata": {},
     "output_type": "execute_result"
    }
   ],
   "source": [
    "print(dict1.keys())\n",
    "dict1.values()\n",
    "\n",
    "d.keys()\n",
    "d.values()"
   ]
  },
  {
   "cell_type": "code",
   "execution_count": 102,
   "metadata": {},
   "outputs": [
    {
     "name": "stdout",
     "output_type": "stream",
     "text": [
      "dict_keys([1, 'alt_mo', 'address', 'name', 'salary', 'c_address', 'job', 'mobile'])\n",
      "dict_values([10000, 7778778899, 'sangola', 'Nitn', 550000.2, 'Pune', 'Data', 9975923975])\n",
      "dict_keys([1, 'alt_mo', 'address', 'name', 'salary', 'c_address', 'job', 'email', 'mobile'])\n",
      "dict_values([10000, 7778778899, 'sangola', 'Nitn', 550000.2, 'Pune', 'Data', 'nitin@gmail.com', 9975923975])\n",
      "{1: 'a', 2: 'b', 3: 'c', 4: 'd'}\n"
     ]
    }
   ],
   "source": [
    "\n",
    "\n",
    "# add new item\n",
    "dict1['c_address'] = 'Pune'\n",
    "\n",
    "\n",
    "dict1['alt_mo'] = 7778778899\n",
    "print(dict1.keys())\n",
    "print(dict1.values())\n",
    "\n",
    "\n",
    "\n",
    "dict1['email'] = 'nitin@gmail.com'\n",
    "print(dict1.keys())\n",
    "print(dict1.values())\n",
    "\n",
    "d[4] = 'd'\n",
    "\n",
    "print(d)\n"
   ]
  },
  {
   "cell_type": "code",
   "execution_count": 103,
   "metadata": {},
   "outputs": [
    {
     "name": "stdout",
     "output_type": "stream",
     "text": [
      "dict_values([10000, 7778778899, 'sangola', 'Nitn', 550000.2, 'Pune', 'Data', 'nitin@gmail.com', 9975923975])\n"
     ]
    }
   ],
   "source": [
    "# values\n",
    "print(dict1.values())"
   ]
  },
  {
   "cell_type": "code",
   "execution_count": 104,
   "metadata": {},
   "outputs": [
    {
     "name": "stdout",
     "output_type": "stream",
     "text": [
      "{1: 'a', 2: 'b', 3: 'c', 4: 'd'}\n"
     ]
    },
    {
     "data": {
      "text/plain": [
       "dict_items([(1, 'a'), (2, 'b'), (3, 'c'), (4, 'd')])"
      ]
     },
     "execution_count": 104,
     "metadata": {},
     "output_type": "execute_result"
    }
   ],
   "source": [
    "dict1.items()\n",
    "print(d)\n",
    "d.items()"
   ]
  },
  {
   "cell_type": "code",
   "execution_count": 105,
   "metadata": {},
   "outputs": [
    {
     "name": "stdout",
     "output_type": "stream",
     "text": [
      "{1: 'a', 2: 'b', 3: 'c', 4: 'd'}\n"
     ]
    },
    {
     "data": {
      "text/plain": [
       "True"
      ]
     },
     "execution_count": 105,
     "metadata": {},
     "output_type": "execute_result"
    }
   ],
   "source": [
    "#print(dict1.items())\n",
    "#print(dict1)\n",
    "print(d)\n",
    "\n",
    "4 in d\n"
   ]
  },
  {
   "cell_type": "code",
   "execution_count": 106,
   "metadata": {},
   "outputs": [
    {
     "name": "stdout",
     "output_type": "stream",
     "text": [
      "True\n"
     ]
    }
   ],
   "source": [
    "print('name' in dict1)\n",
    "\n"
   ]
  },
  {
   "cell_type": "code",
   "execution_count": 107,
   "metadata": {},
   "outputs": [
    {
     "name": "stdout",
     "output_type": "stream",
     "text": [
      "{1: 'a', 2: 'b', 3: 'c', 4: 'd'}\n"
     ]
    },
    {
     "data": {
      "text/plain": [
       "dict_values(['a', 'b', 'cc', 'd'])"
      ]
     },
     "execution_count": 107,
     "metadata": {},
     "output_type": "execute_result"
    }
   ],
   "source": [
    "# change value\n",
    "#print(dict1)\n",
    "dict1['height'] = 180\n",
    "#print(dict1)\n",
    "\n",
    "print(d)\n",
    "d[3] = 'cc'\n",
    "d.values()"
   ]
  },
  {
   "cell_type": "code",
   "execution_count": 108,
   "metadata": {},
   "outputs": [
    {
     "name": "stdout",
     "output_type": "stream",
     "text": [
      "{1: 'a', 2: 'b', 3: 'cc', 4: 'd'}\n",
      "dict_items([(1, 'apple'), (2, 'b'), (3, 'cc'), (4, 'd'), (5, 'e')])\n"
     ]
    }
   ],
   "source": [
    "# update\n",
    "#print(dict1)\n",
    "#dict1.update({'frined':'rahul',\n",
    "#            'city':'Indapur'})\n",
    "#print(dict1)\n",
    "\n",
    "print(d)\n",
    "d.update({\n",
    "    1: 'apple',\n",
    "    5: 'e'\n",
    "})\n",
    "\n",
    "print(d.items())\n"
   ]
  },
  {
   "cell_type": "code",
   "execution_count": 109,
   "metadata": {},
   "outputs": [
    {
     "name": "stdout",
     "output_type": "stream",
     "text": [
      "<class 'dict'>\n"
     ]
    }
   ],
   "source": [
    "print(type(dict1))"
   ]
  },
  {
   "cell_type": "code",
   "execution_count": 110,
   "metadata": {},
   "outputs": [],
   "source": [
    "# Remove item\n",
    "#print(dict1)\n",
    "#dict1.pop('c_address')\n",
    "#print(dict1)\n",
    "#dict1.popitem()\n",
    "#print(d)\n",
    "#d.popitem()\n"
   ]
  },
  {
   "cell_type": "code",
   "execution_count": 111,
   "metadata": {},
   "outputs": [
    {
     "name": "stdout",
     "output_type": "stream",
     "text": [
      "{1: 10000, 'alt_mo': 7778778899, 'address': 'sangola', 'name': 'Nitn', 'salary': 550000.2, 'c_address': 'Pune', 'job': 'Data', 'email': 'nitin@gmail.com', 'height': 180, 'mobile': 9975923975}\n",
      "{1: 10000, 'alt_mo': 7778778899, 'address': 'sangola', 'name': 'Nitn', 'salary': 550000.2, 'c_address': 'Pune', 'job': 'Data', 'email': 'nitin@gmail.com', 'height': 180, 'mobile': 9975923975}\n",
      "{1: 'a', 2: 'b', 3: 'c', 4: 'd', 5: 'e'}\n"
     ]
    },
    {
     "data": {
      "text/plain": [
       "dict_items([(1, 'a'), (2, 'b'), (4, 'd'), (5, 'e')])"
      ]
     },
     "execution_count": 111,
     "metadata": {},
     "output_type": "execute_result"
    }
   ],
   "source": [
    "# del can remove items as well as removes the dictionary\n",
    "print(dict1)\n",
    "#del dict1['job']\n",
    "print(dict1)\n",
    "#del dict1\n",
    "\n",
    "d[1] = 'a'\n",
    "d[2] = 'b'\n",
    "d[3] = 'c'\n",
    "print(d)\n",
    "\n",
    "del d[3]\n",
    "d.items()"
   ]
  },
  {
   "cell_type": "code",
   "execution_count": 112,
   "metadata": {},
   "outputs": [
    {
     "name": "stdout",
     "output_type": "stream",
     "text": [
      "{1: 10000, 'alt_mo': 7778778899, 'address': 'sangola', 'name': 'Nitn', 'salary': 550000.2, 'c_address': 'Pune', 'job': 'Data', 'email': 'nitin@gmail.com', 'height': 180, 'mobile': 9975923975}\n",
      "{}\n"
     ]
    }
   ],
   "source": [
    "# clear() method and del keyword are used to remove and empty the dict\n",
    "\n",
    "print(dict1)\n",
    "dict1.clear()\n",
    "print(dict1)"
   ]
  },
  {
   "cell_type": "code",
   "execution_count": 113,
   "metadata": {},
   "outputs": [
    {
     "name": "stdout",
     "output_type": "stream",
     "text": [
      "{}\n",
      "{}\n",
      "{'mobile': 9975923975}\n"
     ]
    }
   ],
   "source": [
    "# copy dictionary\n",
    "\n",
    "dict_1 = dict1 # this is reference to your dict not copy of dict1\n",
    "print(dict1)\n",
    "print(dict_1)\n",
    "\n",
    "dict_1['mobile'] = 9975923975 # added to dict_1 , same reflected in dict1\n",
    "print(dict1)"
   ]
  },
  {
   "cell_type": "code",
   "execution_count": 114,
   "metadata": {},
   "outputs": [
    {
     "name": "stdout",
     "output_type": "stream",
     "text": [
      "{'mobile': 9975923975}\n",
      "{'random': 'val', 'mobile': 9975923975}\n",
      "{'mobile': 9975923975}\n"
     ]
    }
   ],
   "source": [
    "# copy() method\n",
    "\n",
    "print(dict1)\n",
    "dict2 = dict1.copy()\n",
    "dict2['random'] = 'val'\n",
    "print(dict2) # random added \n",
    "print(dict1) # not reflected in dict1"
   ]
  },
  {
   "cell_type": "code",
   "execution_count": 115,
   "metadata": {},
   "outputs": [
    {
     "name": "stdout",
     "output_type": "stream",
     "text": [
      "{'mobile': 9975923975}\n"
     ]
    }
   ],
   "source": [
    "# dict() for copy\n",
    "\n",
    "dict3 = dict(dict1)\n",
    "print(dict3)\n"
   ]
  },
  {
   "cell_type": "code",
   "execution_count": 116,
   "metadata": {},
   "outputs": [
    {
     "name": "stdout",
     "output_type": "stream",
     "text": [
      "{'f_key': {'p_name': 'Parent_name', 'p_key': {'s_key': {'g_name': 'Grand_son_name'}, 's_name': 'Son_name'}}}\n"
     ]
    }
   ],
   "source": [
    "\n",
    "grandson = {\n",
    "    'g_name':'Grand_son_name'\n",
    "}\n",
    "son = {\n",
    "     's_key' : grandson,\n",
    "    's_name': 'Son_name',\n",
    "}\n",
    "\n",
    "\n",
    "parent = {\n",
    "    'p_key' : son,\n",
    "    'p_name': 'Parent_name',\n",
    "    \n",
    "         }\n",
    "\n",
    "\n",
    "family = {\n",
    "    'f_key' : parent, \n",
    "}\n",
    "\n",
    "print(family)"
   ]
  },
  {
   "cell_type": "code",
   "execution_count": 117,
   "metadata": {},
   "outputs": [
    {
     "data": {
      "text/plain": [
       "{'f_key': {'p_key': {'s_key': {'g_name': 'Grand_son_name'},\n",
       "   's_name': 'Son_name'},\n",
       "  'p_name': 'Parent_name'}}"
      ]
     },
     "execution_count": 117,
     "metadata": {},
     "output_type": "execute_result"
    }
   ],
   "source": [
    "family\n"
   ]
  },
  {
   "cell_type": "code",
   "execution_count": 118,
   "metadata": {},
   "outputs": [
    {
     "data": {
      "text/plain": [
       "{'p_key': {'s_key': {'g_name': 'Grand_son_name'}, 's_name': 'Son_name'},\n",
       " 'p_name': 'Parent_name'}"
      ]
     },
     "execution_count": 118,
     "metadata": {},
     "output_type": "execute_result"
    }
   ],
   "source": [
    "# access parent directory\n",
    "family['f_key']"
   ]
  },
  {
   "cell_type": "code",
   "execution_count": 119,
   "metadata": {},
   "outputs": [
    {
     "data": {
      "text/plain": [
       "{'s_key': {'g_name': 'Grand_son_name'}, 's_name': 'Son_name'}"
      ]
     },
     "execution_count": 119,
     "metadata": {},
     "output_type": "execute_result"
    }
   ],
   "source": [
    "# access child directory\n",
    "family['f_key']['p_key']"
   ]
  },
  {
   "cell_type": "code",
   "execution_count": 120,
   "metadata": {},
   "outputs": [
    {
     "data": {
      "text/plain": [
       "{'g_name': 'Grand_son_name'}"
      ]
     },
     "execution_count": 120,
     "metadata": {},
     "output_type": "execute_result"
    }
   ],
   "source": [
    "# access grand child\n",
    "family['f_key']['p_key']['s_key']"
   ]
  },
  {
   "cell_type": "code",
   "execution_count": 121,
   "metadata": {},
   "outputs": [
    {
     "data": {
      "text/plain": [
       "'Grand_son_name'"
      ]
     },
     "execution_count": 121,
     "metadata": {},
     "output_type": "execute_result"
    }
   ],
   "source": [
    "family['f_key']['p_key']['s_key']['g_name']"
   ]
  },
  {
   "cell_type": "markdown",
   "metadata": {},
   "source": [
    "# Operators"
   ]
  },
  {
   "cell_type": "raw",
   "metadata": {},
   "source": [
    "Python operators:\n",
    "\n",
    "    1. Arithmetic operators\n",
    "    2. Assignment operators\n",
    "    3. Comparison operators\n",
    "    4. Logical operators\n",
    "    5. Identity operators\n",
    "    6. Membership operators\n",
    "    7. Bitwise operators"
   ]
  },
  {
   "cell_type": "code",
   "execution_count": 122,
   "metadata": {},
   "outputs": [],
   "source": [
    "# 1. Arithmetic operators"
   ]
  },
  {
   "cell_type": "raw",
   "metadata": {},
   "source": [
    "1. + Addition x + y\n",
    "2. - Subtraction x - y \n",
    "3. * Multiplication x * y \n",
    "4. / Division x / y \n",
    "5. % Modulus x % y \n",
    "6. ** Exponentiation x ** y \n",
    "7. // Floor division x // y"
   ]
  },
  {
   "cell_type": "code",
   "execution_count": 123,
   "metadata": {},
   "outputs": [
    {
     "name": "stdout",
     "output_type": "stream",
     "text": [
      "***Addition***\n",
      "sum: \t 30.4\n",
      "***Sustraction***\n",
      "Substraction: \t 10.0\n",
      "***Multiplication***\n",
      "Mul: \t 206.04\n",
      "***Division***\n",
      "Div: \t 1.9803921568627452\n",
      "***Modulo***\n",
      "Mod: \t 10.0\n",
      "***Floor Division***\n",
      "Floor Div: \t 1.0\n"
     ]
    }
   ],
   "source": [
    "# addition\n",
    "print('***Addition***')\n",
    "var1 = 10.20\n",
    "var2 = 20.20\n",
    "res = var1 + var2\n",
    "print('sum: \\t',res)\n",
    "\n",
    "print('***Sustraction***')\n",
    "var1 = 10.20\n",
    "var2 = 20.20\n",
    "res = var2 - var1\n",
    "print('Substraction: \\t',res)\n",
    "\n",
    "print('***Multiplication***')\n",
    "var1 = 10.20\n",
    "var2 = 20.20\n",
    "res = var1 * var2\n",
    "print('Mul: \\t',res)\n",
    "\n",
    "\n",
    "print('***Division***')\n",
    "var1 = 10.20\n",
    "var2 = 20.20\n",
    "res = var2 / var1\n",
    "print('Div: \\t',res)\n",
    "\n",
    "\n",
    "print('***Modulo***')\n",
    "var1 = 10.20\n",
    "var2 = 20.20\n",
    "res = var2 % var1\n",
    "print('Mod: \\t',res)\n",
    "\n",
    "\n",
    "print('***Floor Division***')\n",
    "var1 = 10.20\n",
    "var2 = 20.20\n",
    "res = var2 // var1\n",
    "print('Floor Div: \\t',res)"
   ]
  },
  {
   "cell_type": "raw",
   "metadata": {},
   "source": [
    "# 2. Assignment Operators"
   ]
  },
  {
   "cell_type": "raw",
   "metadata": {},
   "source": [
    "1.  = x = 5 x = 5 \n",
    "2. += x += 4 x = x + 4\n",
    "3. -= x -= 5 x = x - 5 \n",
    "4. *= x *= 8 x = x * 8 \n",
    "5. /= x /= 7 x = x / 7 \n",
    "6. %= x %= 5 x = x % 5 \n",
    "7. //= x //= 3 x = x // 3 \n",
    "8. **= x **= 2 x = x ** 2\n",
    "9. &= x &= 2 x = x & 2\n",
    "10. |= x |= 2 x = x | 2\n",
    "11. ^= x ^= 4 x = x ^ 4\n",
    "12. >>= x >>= 4 x = x >> 4\n",
    "13. <<= x <<= 5 x = x << 5"
   ]
  },
  {
   "cell_type": "code",
   "execution_count": 124,
   "metadata": {},
   "outputs": [
    {
     "name": "stdout",
     "output_type": "stream",
     "text": [
      "55\n",
      "65\n",
      "55\n",
      "550\n",
      "55.0\n",
      "5.0\n",
      "0.0\n",
      "125\n"
     ]
    }
   ],
   "source": [
    "var = 55\n",
    "print(var)\n",
    "var += 10    # var = var + 10\n",
    "print(var)\n",
    "\n",
    "var -= 10    \n",
    "print(var)\n",
    "\n",
    "var *= 10   \n",
    "print(var)\n",
    "\n",
    "\n",
    "var /= 10   \n",
    "print(var)\n",
    "\n",
    "\n",
    "var %= 10   \n",
    "print(var)\n",
    "\n",
    "\n",
    "var //= 10   \n",
    "print(var)\n",
    "\n",
    "var = 5\n",
    "\n",
    "var **= 3   \n",
    "print(var)"
   ]
  },
  {
   "cell_type": "code",
   "execution_count": 125,
   "metadata": {},
   "outputs": [
    {
     "name": "stdout",
     "output_type": "stream",
     "text": [
      "Value of x is: \t 10\n",
      "prior x is:  10\n",
      "post x is:  20\n",
      "1\n"
     ]
    }
   ],
   "source": [
    "x = 10\n",
    "print('Value of x is: \\t',x)\n",
    "\n",
    "\n",
    "print('prior x is: ',x)\n",
    "x += 10\n",
    "print('post x is: ',x)\n",
    "\n",
    "y =2 and 1\n",
    "\n",
    "# returns x or y if both are true\n",
    "print(y)"
   ]
  },
  {
   "cell_type": "code",
   "execution_count": 126,
   "metadata": {},
   "outputs": [],
   "source": [
    "# 3. Comparison Operators"
   ]
  },
  {
   "cell_type": "raw",
   "metadata": {},
   "source": [
    "1. == Equal x == y\n",
    "2. != Not equal x != y\n",
    "3. > Greater than x > y\n",
    "4. < Less than x < y \n",
    "5. >= Greater than or equal to x >= y \n",
    "6. <= Less than or equal to x <= y"
   ]
  },
  {
   "cell_type": "code",
   "execution_count": 127,
   "metadata": {},
   "outputs": [
    {
     "name": "stdout",
     "output_type": "stream",
     "text": [
      "False\n",
      "True\n",
      "True\n",
      "False\n",
      "True\n",
      "False\n"
     ]
    }
   ],
   "source": [
    "a = 20\n",
    "b = 10\n",
    "\n",
    "print(a == b)\n",
    "\n",
    "print(a != b)\n",
    "\n",
    "print(a > b)\n",
    "\n",
    "print(a < b)\n",
    "\n",
    "print(a >= b)\n",
    "\n",
    "print(a <= b)"
   ]
  },
  {
   "cell_type": "code",
   "execution_count": 128,
   "metadata": {},
   "outputs": [],
   "source": [
    "# 4. Logical Operators"
   ]
  },
  {
   "cell_type": "raw",
   "metadata": {},
   "source": [
    "1. or Returns True if one of the statements is true x < 5 or x < 4\n",
    "\n",
    "2. not Reverse the result, returns False if the result is true not(x < 5 and x < 10)"
   ]
  },
  {
   "cell_type": "code",
   "execution_count": 129,
   "metadata": {},
   "outputs": [
    {
     "name": "stdout",
     "output_type": "stream",
     "text": [
      "and Oprerator:\n",
      "\n",
      "\n",
      "Dictinction:\n",
      "False\n",
      "First Class:\n",
      "False\n",
      "2nd Class:\n",
      "True\n",
      "or operator:\n",
      "\n",
      "\n",
      "False\n",
      "not operator:\n",
      "\n",
      "\n",
      "True\n"
     ]
    },
    {
     "data": {
      "text/plain": [
       "False"
      ]
     },
     "execution_count": 129,
     "metadata": {},
     "output_type": "execute_result"
    }
   ],
   "source": [
    "# Dist- above 75 %, 1st - above 67 to less than equal 75 \n",
    "print(\"and Oprerator:\\n\\n\")\n",
    "\n",
    "score = 66\n",
    "print(\"Dictinction:\")\n",
    "print(score > 75)\n",
    "\n",
    "print(\"First Class:\")\n",
    "print(score > 67 and score<= 75)\n",
    "\n",
    "print(\"2nd Class:\")\n",
    "\n",
    "print(score <= 67 and score > 58)\n",
    "\n",
    "print(\"or operator:\\n\\n\")\n",
    "var1 = 10 \n",
    "var2 = 5\n",
    "print(var1<5 or var2>10)\n",
    "\n",
    "\n",
    "print('not operator:\\n\\n')\n",
    "\n",
    "print(not (var1<5 or var2>10))\n",
    "\n",
    "var1<5 or var2>10"
   ]
  },
  {
   "cell_type": "code",
   "execution_count": 130,
   "metadata": {},
   "outputs": [],
   "source": [
    "# 5. Identity Operators"
   ]
  },
  {
   "cell_type": "raw",
   "metadata": {},
   "source": [
    "is  Returns True if both variables are the same object x is y\n",
    "\n",
    "is not Returns True if both variables are not the same object x is not y"
   ]
  },
  {
   "cell_type": "code",
   "execution_count": 131,
   "metadata": {},
   "outputs": [
    {
     "name": "stdout",
     "output_type": "stream",
     "text": [
      "X id is: 10894656\n",
      "y id is: 10894656\n",
      "True\n",
      "X id is: 140192296473992\n",
      "y id is: 140192296473872\n",
      "True\n"
     ]
    }
   ],
   "source": [
    "x = 10\n",
    "y = 10\n",
    "\n",
    "\n",
    "print(\"X id is:\",id(x))\n",
    "print(\"y id is:\",id(y))\n",
    "print(x is y)\n",
    "\n",
    "\n",
    "x = 10.10\n",
    "y = 10.10\n",
    "\n",
    "\n",
    "print(\"X id is:\",id(x))\n",
    "print(\"y id is:\",id(y))\n",
    "print(x is not y)"
   ]
  },
  {
   "cell_type": "code",
   "execution_count": 132,
   "metadata": {},
   "outputs": [],
   "source": [
    "# 6. Membership Operators"
   ]
  },
  {
   "cell_type": "raw",
   "metadata": {},
   "source": [
    "1. in Returns True if a sequence with the specified value is present in the object x in y\n",
    "2. not in Returns True if a sequence with the specified value is not present in the object x not in y"
   ]
  },
  {
   "cell_type": "code",
   "execution_count": 133,
   "metadata": {},
   "outputs": [
    {
     "name": "stdout",
     "output_type": "stream",
     "text": [
      "True\n",
      "True\n",
      "False\n"
     ]
    }
   ],
   "source": [
    "rollno = [1,2,3,4,5]\n",
    "\n",
    "print(4 in rollno)\n",
    "\n",
    "print(6 not in rollno)\n",
    "\n",
    "print(5 not in rollno)"
   ]
  },
  {
   "cell_type": "code",
   "execution_count": 134,
   "metadata": {},
   "outputs": [],
   "source": [
    "# 7. Bitwise Operators"
   ]
  },
  {
   "cell_type": "raw",
   "metadata": {},
   "source": [
    "1. &  AND Sets each bit to 1 if both bits are 1\n",
    "2. | OR Sets each bit to 1 if one of two bits is 1\n",
    "3. ^ XOR Sets each bit to 1 if only one of two bits is 1\n",
    "4. ~  NOT Inverts all the bits\n",
    "5. << Zero fill left shift Shift left by pushing zeros in from the right and let the leftmost bits fall off\n",
    "6. >> Signed right shift Shift right by pushing copies of the leftmost bit in from the left, and let the rightmost bits fall off"
   ]
  },
  {
   "cell_type": "raw",
   "metadata": {},
   "source": [
    "                256  128  64  32  16   8  4  2  1 \n",
    "                                          0  0  0 = 0\n",
    "                                          0  0  1 = 1\n",
    "                                          0  1  0 = 2\n",
    "                                          0  1  1 = 3\n",
    "                                          1  0  0 = 4\n",
    "                                          1  0  1 = 5\n",
    "                                          1  1  0 = 6\n",
    "                                          1  1  1 = 7\n",
    "                                        \n",
    "                                          \n",
    "                                          Right Shift by 2 bits\n",
    "                                          0  0  1 = 1\n",
    "                                          \n",
    "                                          Left shift by 2 bits\n",
    "                                     1  1 1  0  0 = 28\n",
    "                                \n",
    "                                        "
   ]
  },
  {
   "cell_type": "code",
   "execution_count": 135,
   "metadata": {},
   "outputs": [
    {
     "name": "stdout",
     "output_type": "stream",
     "text": [
      "Bitwise and \n",
      "4\n",
      "Bitwise or\n",
      "5\n",
      "Left Shift:\n",
      "\n",
      "28\n",
      "Right Shift:\n",
      "\n",
      "1\n",
      "\n",
      " 0o7\n",
      "\n",
      " 0x7\n"
     ]
    }
   ],
   "source": [
    "x = 4        # 1 0 0\n",
    "y = 5        # 1 0 1\n",
    "z = x & y    # 1 0 0 = 4\n",
    "print(\"Bitwise and \")\n",
    "print(z)\n",
    "\n",
    "x = 4        # 1 0 0\n",
    "y = 5        # 1 0 1\n",
    "z = x | y    # 1 0 1 = 5\n",
    "print('Bitwise or')\n",
    "print(z)\n",
    "\n",
    "\n",
    "x = 7\n",
    "z = x << 2\n",
    "print(\"Left Shift:\\n\")\n",
    "print(z)\n",
    "\n",
    "x = 7\n",
    "z = x >> 2\n",
    "print(\"Right Shift:\\n\")\n",
    "print(z)\n",
    "\n",
    "print(\"\\n\",oct(x))\n",
    "print(\"\\n\",hex(x))"
   ]
  },
  {
   "cell_type": "markdown",
   "metadata": {},
   "source": [
    "# Conditional Statements & Loops"
   ]
  },
  {
   "cell_type": "raw",
   "metadata": {},
   "source": [
    "1. If ... Else\n",
    "2. If..elif...Else\n",
    "3. While Loops\n",
    "4. For Loops"
   ]
  },
  {
   "cell_type": "code",
   "execution_count": 136,
   "metadata": {},
   "outputs": [
    {
     "name": "stdout",
     "output_type": "stream",
     "text": [
      "False\n",
      "Larger element is:  20\n"
     ]
    }
   ],
   "source": [
    "# a>b\n",
    "x = 10\n",
    "y = 20\n",
    "# find largest number\n",
    "\n",
    "print(x > y)\n",
    "\n",
    "if x > y:\n",
    "    print(\"Larger element is:\", x)\n",
    "else:\n",
    "    print(\"Larger element is: \",y)"
   ]
  },
  {
   "cell_type": "code",
   "execution_count": 137,
   "metadata": {},
   "outputs": [
    {
     "name": "stdout",
     "output_type": "stream",
     "text": [
      "y is greater than x\n"
     ]
    }
   ],
   "source": [
    "# a>b, a==b, a<b\n",
    "\n",
    "x = 20\n",
    "y = 30\n",
    "\n",
    "if x > y:\n",
    "    print(\"x is larger\")\n",
    "elif x == y:\n",
    "    print(\"x and y are equal\")\n",
    "else:\n",
    "    print('y is greater than x')"
   ]
  },
  {
   "cell_type": "code",
   "execution_count": 138,
   "metadata": {},
   "outputs": [
    {
     "name": "stdout",
     "output_type": "stream",
     "text": [
      "y is greater number\n"
     ]
    }
   ],
   "source": [
    "# shaort hand if a > b: print(\"a is greater than b\")\n",
    "\n",
    "x = 10\n",
    "y = 20\n",
    "\n",
    "if y > x: print(\"y is greater number\")\n"
   ]
  },
  {
   "cell_type": "code",
   "execution_count": 139,
   "metadata": {},
   "outputs": [
    {
     "name": "stdout",
     "output_type": "stream",
     "text": [
      "x is greater\n"
     ]
    }
   ],
   "source": [
    "# short hand if else print(\"A\") if a > b else print(\"B\") \n",
    "\n",
    "x = 20\n",
    "y = 10\n",
    "\n",
    "print(\"x is greater\") if x > y else print(\"y is greater\")\n",
    "\n"
   ]
  },
  {
   "cell_type": "raw",
   "metadata": {},
   "source": [
    "# you can add more conditions here in if else\n",
    "\n",
    "write a python program which will take percentage as input from \n",
    "user and returns its grade (dist, first class, 2nd class, pass class)"
   ]
  },
  {
   "cell_type": "code",
   "execution_count": 140,
   "metadata": {},
   "outputs": [],
   "source": [
    "# write more than one conditions use and and or"
   ]
  },
  {
   "cell_type": "code",
   "execution_count": 141,
   "metadata": {},
   "outputs": [
    {
     "name": "stdout",
     "output_type": "stream",
     "text": [
      "Number is equal to 150\n"
     ]
    }
   ],
   "source": [
    "# nested if .. else\n",
    "\n",
    "x = 150\n",
    "if x > 100:\n",
    "    if x > 150:\n",
    "        print(\"Number is greater than 100 and 150\")\n",
    "    elif x ==150:\n",
    "        print(\"Number is equal to 150\")\n",
    "    else:\n",
    "        print(\"number is greater than 100 and less than 150\")\n",
    "elif x == 100:\n",
    "    print(\"Number is equal to 100\")\n",
    "else:\n",
    "    print(\"Number is less than 100\")"
   ]
  },
  {
   "cell_type": "code",
   "execution_count": 142,
   "metadata": {},
   "outputs": [],
   "source": [
    "# pass staement\n",
    "\n",
    "x = 10\n",
    "y = 20\n",
    "\n",
    "if y > x:\n",
    "    pass\n",
    "        "
   ]
  },
  {
   "cell_type": "markdown",
   "metadata": {},
   "source": [
    "# while Loop"
   ]
  },
  {
   "cell_type": "code",
   "execution_count": 143,
   "metadata": {},
   "outputs": [
    {
     "name": "stdout",
     "output_type": "stream",
     "text": [
      "1\n",
      "2\n",
      "3\n",
      "4\n",
      "5\n",
      "6\n",
      "7\n",
      "8\n",
      "9\n",
      "10\n",
      "11\n",
      "12\n",
      "13\n",
      "14\n",
      "15\n",
      "16\n",
      "17\n",
      "18\n",
      "19\n",
      "20\n",
      "21\n",
      "22\n",
      "23\n",
      "24\n",
      "25\n",
      "26\n",
      "27\n",
      "28\n",
      "29\n",
      "30\n",
      "31\n",
      "32\n",
      "33\n",
      "34\n",
      "35\n",
      "36\n",
      "37\n",
      "38\n",
      "39\n",
      "40\n",
      "41\n",
      "42\n",
      "43\n",
      "44\n",
      "45\n",
      "46\n",
      "47\n",
      "48\n",
      "49\n",
      "50\n",
      "51\n",
      "52\n",
      "53\n",
      "54\n",
      "55\n",
      "56\n",
      "57\n",
      "58\n",
      "59\n",
      "60\n",
      "61\n",
      "62\n",
      "63\n",
      "64\n",
      "65\n",
      "66\n",
      "67\n",
      "68\n",
      "69\n",
      "70\n",
      "71\n",
      "72\n",
      "73\n",
      "74\n",
      "75\n",
      "76\n",
      "77\n",
      "78\n",
      "79\n",
      "80\n",
      "81\n",
      "82\n",
      "83\n",
      "84\n",
      "85\n",
      "86\n",
      "87\n",
      "88\n",
      "89\n",
      "90\n",
      "91\n",
      "92\n",
      "93\n",
      "94\n",
      "95\n",
      "96\n",
      "97\n",
      "98\n",
      "99\n",
      "100\n"
     ]
    }
   ],
   "source": [
    "# print series of numbers\n",
    "x = 1\n",
    "while x<=100:\n",
    "    print(x)\n",
    "    x = x + 1"
   ]
  },
  {
   "cell_type": "code",
   "execution_count": 144,
   "metadata": {},
   "outputs": [
    {
     "name": "stdout",
     "output_type": "stream",
     "text": [
      "0\n",
      "1\n",
      "2\n",
      "3\n",
      "4\n",
      "5\n",
      "6\n",
      "7\n",
      "8\n",
      "9\n",
      "10\n",
      "11\n",
      "12\n",
      "13\n",
      "14\n",
      "15\n",
      "16\n",
      "17\n",
      "18\n",
      "19\n",
      "20\n",
      "21\n",
      "22\n",
      "23\n",
      "24\n",
      "25\n",
      "26\n",
      "27\n",
      "28\n",
      "29\n",
      "30\n",
      "31\n",
      "32\n",
      "33\n",
      "34\n",
      "35\n",
      "36\n",
      "37\n",
      "38\n",
      "39\n",
      "40\n",
      "41\n",
      "42\n",
      "43\n",
      "44\n",
      "45\n",
      "46\n",
      "47\n",
      "48\n",
      "49\n",
      "50\n"
     ]
    }
   ],
   "source": [
    "# break statement\n",
    "\n",
    "x = 0\n",
    "while x < 100:\n",
    "    print(x)\n",
    "    if x == 50:\n",
    "        break\n",
    "    x += 1"
   ]
  },
  {
   "cell_type": "code",
   "execution_count": 145,
   "metadata": {},
   "outputs": [
    {
     "name": "stdout",
     "output_type": "stream",
     "text": [
      "0\n",
      "1\n",
      "2\n",
      "3\n",
      "4\n",
      "5\n",
      "6\n",
      "7\n",
      "8\n",
      "9\n",
      "10\n",
      "11\n",
      "12\n",
      "13\n",
      "14\n",
      "15\n",
      "16\n",
      "17\n",
      "18\n",
      "19\n",
      "20\n",
      "21\n",
      "22\n",
      "23\n",
      "24\n",
      "25\n",
      "26\n",
      "27\n",
      "28\n",
      "29\n",
      "30\n",
      "31\n",
      "32\n",
      "33\n",
      "34\n",
      "35\n",
      "36\n",
      "37\n",
      "38\n",
      "39\n",
      "40\n",
      "41\n",
      "42\n",
      "43\n",
      "44\n",
      "45\n",
      "46\n",
      "47\n",
      "48\n",
      "49\n",
      "51\n",
      "52\n",
      "53\n",
      "54\n",
      "55\n",
      "56\n",
      "57\n",
      "58\n",
      "59\n",
      "60\n",
      "61\n",
      "62\n",
      "63\n",
      "64\n",
      "65\n",
      "66\n",
      "67\n",
      "68\n",
      "69\n",
      "70\n",
      "71\n",
      "72\n",
      "73\n",
      "74\n",
      "75\n",
      "76\n",
      "77\n",
      "78\n",
      "79\n",
      "80\n",
      "81\n",
      "82\n",
      "83\n",
      "84\n",
      "85\n",
      "86\n",
      "87\n",
      "88\n",
      "89\n",
      "90\n",
      "91\n",
      "92\n",
      "93\n",
      "94\n",
      "95\n",
      "96\n",
      "97\n",
      "98\n"
     ]
    }
   ],
   "source": [
    "# Continue stmt\n",
    "\n",
    "\n",
    "x = 0\n",
    "while x < 100:\n",
    "    \n",
    "    if x == 50 or x == 99:\n",
    "        x += 1\n",
    "        \n",
    "        continue\n",
    "                \n",
    "    print(x)\n",
    "    x += 1\n",
    "   \n"
   ]
  },
  {
   "cell_type": "code",
   "execution_count": 146,
   "metadata": {},
   "outputs": [
    {
     "name": "stdout",
     "output_type": "stream",
     "text": [
      "0\n",
      "1\n",
      "2\n",
      "3\n",
      "4\n",
      "5\n",
      "6\n",
      "7\n",
      "8\n",
      "9\n",
      "10\n",
      "11\n",
      "12\n",
      "13\n",
      "14\n",
      "15\n",
      "16\n",
      "17\n",
      "18\n",
      "19\n",
      "20\n",
      "21\n",
      "22\n",
      "23\n",
      "24\n",
      "25\n",
      "26\n",
      "27\n",
      "28\n",
      "29\n",
      "30\n",
      "31\n",
      "32\n",
      "33\n",
      "34\n",
      "35\n",
      "36\n",
      "37\n",
      "38\n",
      "39\n",
      "40\n",
      "41\n",
      "42\n",
      "43\n",
      "44\n",
      "45\n",
      "46\n",
      "47\n",
      "48\n",
      "49\n",
      "51\n",
      "52\n",
      "53\n",
      "54\n",
      "55\n",
      "56\n",
      "57\n",
      "58\n",
      "59\n",
      "60\n",
      "61\n",
      "62\n",
      "63\n",
      "64\n",
      "65\n",
      "66\n",
      "67\n",
      "68\n",
      "69\n",
      "70\n",
      "71\n",
      "72\n",
      "73\n",
      "74\n",
      "75\n",
      "76\n",
      "77\n",
      "78\n",
      "79\n",
      "80\n",
      "81\n",
      "82\n",
      "83\n",
      "84\n",
      "85\n",
      "86\n",
      "87\n",
      "88\n",
      "89\n",
      "90\n",
      "91\n",
      "92\n",
      "93\n",
      "94\n",
      "95\n",
      "96\n",
      "97\n",
      "98\n",
      "99\n",
      "There is no more statement to execute\n"
     ]
    }
   ],
   "source": [
    "# else below while\n",
    "\n",
    "x = 0\n",
    "while x < 100:\n",
    "    \n",
    "    if x == 50:\n",
    "        x += 1\n",
    "        continue\n",
    "                \n",
    "    print(x)\n",
    "    x += 1\n",
    "else:\n",
    "    print(\"There is no more statement to execute\")"
   ]
  },
  {
   "cell_type": "code",
   "execution_count": 147,
   "metadata": {},
   "outputs": [
    {
     "name": "stdout",
     "output_type": "stream",
     "text": [
      "['mango', 'cherry', 'papaya', 'bluberry', 'apple', 'banana']\n",
      "while on List:-\n",
      "mango\n",
      "cherry\n",
      "papaya\n",
      "bluberry\n",
      "apple\n",
      "banana\n"
     ]
    }
   ],
   "source": [
    "# while on list and tuple\n",
    "\n",
    "list1 = [\"mango\",\"cherry\",\"papaya\",\"bluberry\",\"apple\",\"banana\"]\n",
    "\n",
    "print(list1)\n",
    "\n",
    "print(\"while on List:-\")\n",
    "\n",
    "x = 0\n",
    "while x < len(list1):\n",
    "    print(list1[x])\n",
    "    x += 1"
   ]
  },
  {
   "cell_type": "code",
   "execution_count": 148,
   "metadata": {},
   "outputs": [
    {
     "name": "stdout",
     "output_type": "stream",
     "text": [
      "['mango', 'cherry', 'papaya', 'bluberry', 'apple', 'banana']\n",
      "while on Tuple:-\n",
      "mango\n",
      "cherry\n",
      "papaya\n",
      "bluberry\n",
      "apple\n",
      "banana\n"
     ]
    }
   ],
   "source": [
    "tup = [\"mango\",\"cherry\",\"papaya\",\"bluberry\",\"apple\",\"banana\"]\n",
    "\n",
    "print(tup)\n",
    "\n",
    "print(\"while on Tuple:-\")\n",
    "\n",
    "x = 0\n",
    "while x < len(tup):\n",
    "    print(tup[x])\n",
    "    x += 1"
   ]
  },
  {
   "cell_type": "markdown",
   "metadata": {},
   "source": [
    "# For Loop"
   ]
  },
  {
   "cell_type": "markdown",
   "metadata": {},
   "source": [
    "for iterates over a list, tuple, set, dict and string"
   ]
  },
  {
   "cell_type": "code",
   "execution_count": 149,
   "metadata": {},
   "outputs": [
    {
     "name": "stdout",
     "output_type": "stream",
     "text": [
      "['mango', 'cherry', 'papaya', 'bluberry', 'apple', 'banana']\n",
      "for on list:-\n",
      "mango\n",
      "cherry\n",
      "papaya\n",
      "bluberry\n",
      "apple\n",
      "banana\n"
     ]
    }
   ],
   "source": [
    "# list\n",
    "\n",
    "list1 = [\"mango\",\"cherry\",\"papaya\",\"bluberry\",\"apple\",\"banana\"]\n",
    "\n",
    "print(list1)\n",
    "\n",
    "print(\"for on list:-\")\n",
    "\n",
    "for x in list1:\n",
    "    print(x)\n",
    "    "
   ]
  },
  {
   "cell_type": "code",
   "execution_count": 150,
   "metadata": {},
   "outputs": [
    {
     "name": "stdout",
     "output_type": "stream",
     "text": [
      "This is pythoin\n",
      "for on str1:-\n",
      "T\n",
      "h\n",
      "i\n",
      "s\n",
      " \n",
      "i\n",
      "s\n",
      " \n",
      "p\n",
      "y\n",
      "t\n",
      "h\n",
      "o\n",
      "i\n",
      "n\n"
     ]
    }
   ],
   "source": [
    "# String\n",
    "\n",
    "str1 = \"This is pythoin\"\n",
    "\n",
    "print(str1)\n",
    "\n",
    "print(\"for on str1:-\")\n",
    "\n",
    "for x in str1:\n",
    "    print(x)\n",
    "  "
   ]
  },
  {
   "cell_type": "code",
   "execution_count": 151,
   "metadata": {},
   "outputs": [
    {
     "name": "stdout",
     "output_type": "stream",
     "text": [
      "('mango', 'cherry', 'papaya', 'bluberry', 'apple', 'banana')\n",
      "for on Tuple:-\n",
      "mango\n",
      "cherry\n",
      "papaya\n",
      "bluberry\n",
      "apple\n",
      "banana\n"
     ]
    }
   ],
   "source": [
    "# Tuple\n",
    "\n",
    "tup = (\"mango\",\"cherry\",\"papaya\",\"bluberry\",\"apple\",\"banana\")\n",
    "\n",
    "print(tup)\n",
    "\n",
    "print(\"for on Tuple:-\")\n",
    "\n",
    "for x in tup:\n",
    "    print(x)\n",
    "    "
   ]
  },
  {
   "cell_type": "code",
   "execution_count": 152,
   "metadata": {},
   "outputs": [
    {
     "name": "stdout",
     "output_type": "stream",
     "text": [
      "{1: 10000, 'address': 'sangola', 'name': 'Nitn', 'salary': 550000.2, 'job': 'Data', 'mobile': 9975923975}\n",
      "for on dict printing keys:\n",
      "1\n",
      "address\n",
      "name\n",
      "salary\n",
      "job\n",
      "mobile\n",
      "for on dict printing keys:\n",
      "1\n",
      "address\n",
      "name\n",
      "salary\n",
      "job\n",
      "mobile\n",
      "for on dict printing values:\n",
      "10000\n",
      "sangola\n",
      "Nitn\n",
      "550000.2\n",
      "Data\n",
      "9975923975\n",
      "for on dict printing values:\n",
      "( 1 , 10000 )\n",
      "( address , sangola )\n",
      "( name , Nitn )\n",
      "( salary , 550000.2 )\n",
      "( job , Data )\n",
      "( mobile , 9975923975 )\n"
     ]
    }
   ],
   "source": [
    "# Dict\n",
    "\n",
    "dict1 = {\n",
    "    'name' : 'Nitn',\n",
    "    'mobile' : 9975923975,\n",
    "    'address' : 'sangola',\n",
    "    'job' : 'Data',\n",
    "    'salary' : 550000.20,\n",
    "    1 : 10000\n",
    "    \n",
    "}\n",
    "\n",
    "print(dict1)\n",
    "\n",
    "print(\"for on dict printing keys:\")\n",
    "for x in dict1:\n",
    "    print(x)\n",
    "    \n",
    "print(\"for on dict printing keys:\")\n",
    "for x in dict1.keys():\n",
    "    print(x)\n",
    "    \n",
    "print(\"for on dict printing values:\")\n",
    "for x in dict1.values():\n",
    "    print(x)\n",
    "\n",
    "print(\"for on dict printing values:\")\n",
    "for x,y in dict1.items():\n",
    "    print(\"(\",x,\",\",y,\")\")"
   ]
  },
  {
   "cell_type": "code",
   "execution_count": 153,
   "metadata": {},
   "outputs": [
    {
     "name": "stdout",
     "output_type": "stream",
     "text": [
      "{'apple', 'bluberry', 'mango', 'banana', 'papaya', 'cherry'}\n",
      "for on set:-\n",
      "apple\n",
      "bluberry\n",
      "mango\n",
      "banana\n",
      "papaya\n",
      "cherry\n"
     ]
    }
   ],
   "source": [
    "# set\n",
    "\n",
    "set1 = {\"mango\",\"cherry\",\"papaya\",\"bluberry\",\"apple\",\"banana\"}\n",
    "\n",
    "print(set1)\n",
    "\n",
    "print(\"for on set:-\")\n",
    "\n",
    "for x in set1:\n",
    "    print(x)\n"
   ]
  },
  {
   "cell_type": "markdown",
   "metadata": {},
   "source": [
    "# range"
   ]
  },
  {
   "cell_type": "raw",
   "metadata": {},
   "source": [
    "returns a sequence of numbers, starting from 0 by default, and increments by 1 (by default), \n",
    "and ends at a specified number"
   ]
  },
  {
   "cell_type": "code",
   "execution_count": 154,
   "metadata": {},
   "outputs": [
    {
     "name": "stdout",
     "output_type": "stream",
     "text": [
      "0\n",
      "1\n",
      "2\n",
      "3\n",
      "4\n",
      "5\n",
      "6\n",
      "7\n",
      "8\n",
      "9\n"
     ]
    }
   ],
   "source": [
    "#for i in range(10):\n",
    "\n",
    "for i in range(10):\n",
    "    print(i)"
   ]
  },
  {
   "cell_type": "code",
   "execution_count": 155,
   "metadata": {},
   "outputs": [
    {
     "name": "stdout",
     "output_type": "stream",
     "text": [
      "20\n",
      "21\n",
      "22\n",
      "23\n",
      "24\n",
      "25\n",
      "26\n",
      "27\n",
      "28\n",
      "29\n"
     ]
    }
   ],
   "source": [
    "# range(1,10)- starting from 1, to 9, exclude 10\n",
    "\n",
    "for i in range(20,30):\n",
    "    print(i)"
   ]
  },
  {
   "cell_type": "code",
   "execution_count": 156,
   "metadata": {},
   "outputs": [
    {
     "name": "stdout",
     "output_type": "stream",
     "text": [
      "100\n",
      "110\n",
      "120\n",
      "130\n",
      "140\n",
      "150\n",
      "160\n",
      "170\n",
      "180\n",
      "190\n"
     ]
    }
   ],
   "source": [
    "# range(10,100,5)\n",
    "\n",
    "for i in range(100,200,10):\n",
    "    print(i)"
   ]
  },
  {
   "cell_type": "code",
   "execution_count": 157,
   "metadata": {},
   "outputs": [
    {
     "name": "stdout",
     "output_type": "stream",
     "text": [
      "100\n",
      "110\n",
      "120\n",
      "130\n",
      "140\n",
      "150\n",
      "160\n",
      "170\n",
      "180\n",
      "190\n",
      "There is nothing to print in for now\n"
     ]
    }
   ],
   "source": [
    "# else in for\n",
    "\n",
    "for i in range(100,200,10):\n",
    "    print(i)\n",
    "else:\n",
    "    print(\"There is nothing to print in for now\")"
   ]
  },
  {
   "cell_type": "code",
   "execution_count": 158,
   "metadata": {},
   "outputs": [],
   "source": [
    "# take two list or tuples and use nested for loop"
   ]
  },
  {
   "cell_type": "code",
   "execution_count": 159,
   "metadata": {},
   "outputs": [
    {
     "name": "stdout",
     "output_type": "stream",
     "text": [
      "list is : [10, 20, 30, 40, 50, 60, 70, 80, 90]\n",
      "30\n",
      "60\n",
      "90\n",
      "40\n",
      "80\n",
      "50\n",
      "20\n",
      "70\n",
      "10\n"
     ]
    }
   ],
   "source": [
    "#wrinting and removing every third element from a list\n",
    "\n",
    "list1 = [10,20,30,40,50,60,70,80,90]\n",
    "\n",
    "print(\"list is :\",list1)\n",
    "index = 0\n",
    "pos = 3-1\n",
    "l = len(list1)\n",
    "while l>0:\n",
    "    index = (pos + index) % l\n",
    "    print(list1.pop(index))\n",
    "    l = l - 1"
   ]
  },
  {
   "cell_type": "raw",
   "metadata": {},
   "source": [
    "# Create a interger list by taking iunput from user\n",
    "\n",
    "list1 = []\n",
    "\n",
    "list_size = input(\"Enter the size of list: \")\n",
    "lsize = int(list_size)\n",
    "\n",
    "while lsize > 0:\n",
    "    val = input(\"Enter the value: \")\n",
    "    val1 = int(val)\n",
    "    list1.append(val1)\n",
    "    lsize -= 1\n",
    "\n",
    "print(\"The created list is: \",list1)\n"
   ]
  },
  {
   "cell_type": "raw",
   "metadata": {},
   "source": [
    "tup = ()\n",
    "\n",
    "tup_size = int(input(\"Enter the size of tuple\"))\n",
    "list1 = list(tup)\n",
    "\n",
    "while tup_size>0:\n",
    "    \n",
    "    val = int(input(\"Enter the vale:\"))\n",
    "    \n",
    "    list1.append(val)\n",
    "    tup_size = tup_size -1\n",
    "\n",
    "tup = tuple(list1)\n",
    "   \n",
    "print(tup)\n"
   ]
  },
  {
   "cell_type": "raw",
   "metadata": {},
   "source": [
    "s = set({})\n",
    "\n",
    "set_size = int(input(\"Enter the size of set:\"))\n",
    "\n",
    "while set_size>0:\n",
    "    val = input(\"Enter the value: \")\n",
    "    s.add(val)\n",
    "    set_size -= 1\n",
    "print(\"Created set is : \",s)\n"
   ]
  },
  {
   "cell_type": "raw",
   "metadata": {},
   "source": [
    "# Assignment\n",
    "\n",
    "*\n",
    "* *\n",
    "* * *\n",
    "* * * *\n",
    "* * * * *\n",
    "* * * * * *\n",
    "\n",
    "write a python program to print above structure."
   ]
  },
  {
   "cell_type": "raw",
   "metadata": {},
   "source": [
    "# Assignment\n",
    "      *\n",
    "     * *\n",
    "    * * *\n",
    "   * * * *\n",
    "  * * * * *\n",
    " * * * * * *\n",
    "* * * * * * *\n",
    "\n",
    "write a python program to print stars as shown above."
   ]
  },
  {
   "cell_type": "markdown",
   "metadata": {},
   "source": [
    "# Function"
   ]
  },
  {
   "cell_type": "raw",
   "metadata": {},
   "source": [
    "1. function is a block of statement which will get executed when \n",
    "we call that fuction."
   ]
  },
  {
   "cell_type": "raw",
   "metadata": {},
   "source": [
    "#create a data of 5 students containing first name and last name\n",
    "list1 = []\n",
    "\n",
    "\n",
    "def StudDetails():# definition of a function\n",
    "    for i in range(0,3):\n",
    "        fname = input(\"Enter the first name: \")\n",
    "        lname = input(\"Enter the last name: \")\n",
    "        print(\"name of student is : \", fname, \" \",lname)\n",
    "        name = fname + lname\n",
    "        list1.append(name)\n",
    "\n",
    "print(\"Making a call to function: \")\n",
    "\n",
    "StudDetails() # calling a function\n",
    "\n",
    "print(\"List of the students: \",list1)"
   ]
  },
  {
   "cell_type": "code",
   "execution_count": 160,
   "metadata": {},
   "outputs": [
    {
     "name": "stdout",
     "output_type": "stream",
     "text": [
      "Here this is normal execution block\n",
      "Calling my function..\n",
      "I am inside the function..!\n",
      "function execution is over\n"
     ]
    }
   ],
   "source": [
    "print(\"Here this is normal execution block\")\n",
    "\n",
    "def Myfun():\n",
    "    print(\"I am inside the function..!\")\n",
    "\n",
    "print(\"Calling my function..\")\n",
    "Myfun()\n",
    "print(\"function execution is over\")\n"
   ]
  },
  {
   "cell_type": "code",
   "execution_count": 161,
   "metadata": {},
   "outputs": [
    {
     "name": "stdout",
     "output_type": "stream",
     "text": [
      "Nitin Khot\n"
     ]
    }
   ],
   "source": [
    "# Arguments\n",
    "\n",
    "def MyName(val):\n",
    "    print(val)\n",
    "    \n",
    "\n",
    "val = \"Nitin Khot\"\n",
    "MyName(val)"
   ]
  },
  {
   "cell_type": "code",
   "execution_count": 162,
   "metadata": {},
   "outputs": [
    {
     "name": "stdout",
     "output_type": "stream",
     "text": [
      "Do addition using function:\n",
      "Addition is : 300\n"
     ]
    }
   ],
   "source": [
    "# return values\n",
    "\n",
    "def Add(x,y):\n",
    "    ad = x + y\n",
    "    return ad\n",
    "\n",
    "print(\"Do addition using function:\")\n",
    "a = 100\n",
    "b = 200\n",
    "\n",
    "result = Add(a,b)\n",
    "\n",
    "print(\"Addition is :\",result)"
   ]
  },
  {
   "cell_type": "code",
   "execution_count": 163,
   "metadata": {},
   "outputs": [
    {
     "name": "stdout",
     "output_type": "stream",
     "text": [
      "Do multiplication\n",
      "Multiplication is :  200\n"
     ]
    }
   ],
   "source": [
    "\n",
    "def Multiply(a,b):\n",
    "    m = a * b\n",
    "    return m\n",
    "\n",
    "print(\"Do multiplication\")\n",
    "\n",
    "x = 10\n",
    "y = 20\n",
    "\n",
    "res = Multiply(x,y)\n",
    "\n",
    "print(\"Multiplication is : \",res)\n",
    "\n"
   ]
  },
  {
   "cell_type": "code",
   "execution_count": 164,
   "metadata": {},
   "outputs": [
    {
     "name": "stdout",
     "output_type": "stream",
     "text": [
      "The letter at 2nd loc is   ('A', 'B', 'C', 'D')\n"
     ]
    }
   ],
   "source": [
    "# UNKNOWN PARAMETERS\n",
    "def my_function(*letter):\n",
    "  print(\"The letter at 2nd loc is  \",letter)\n",
    "\n",
    "my_function(\"A\", \"B\", \"C\",\"D\") \n"
   ]
  },
  {
   "cell_type": "code",
   "execution_count": 165,
   "metadata": {},
   "outputs": [
    {
     "name": "stdout",
     "output_type": "stream",
     "text": [
      "The youngest child is  sam\n"
     ]
    }
   ],
   "source": [
    "# argument as key value pair where order does not matter\n",
    "def my_function(child2, child3, child1):\n",
    "  print(\"The youngest child is \", child1)\n",
    "\n",
    "my_function(child1 = \"sam\", child2 = \"mac\", child3 = \"kat\") "
   ]
  },
  {
   "cell_type": "code",
   "execution_count": 166,
   "metadata": {},
   "outputs": [
    {
     "name": "stdout",
     "output_type": "stream",
     "text": [
      "His last name is  Nitin\n"
     ]
    }
   ],
   "source": [
    "# if dont know number of para then add ** before identifier\n",
    "def my_function(**name):\n",
    "  print(\"His last name is \",name['fname'])\n",
    "\n",
    "my_function(fname = \"Nitin\", lname = \"Khot\") "
   ]
  },
  {
   "cell_type": "code",
   "execution_count": 167,
   "metadata": {},
   "outputs": [
    {
     "name": "stdout",
     "output_type": "stream",
     "text": [
      "Alternate email of student:\n",
      "Alternate email is :  abc@gmail.com\n",
      "Alternate email is :  a@b.com\n",
      "Alternate email is :  deafault@email.com\n"
     ]
    }
   ],
   "source": [
    "def AltEmail(email = \"deafault@email.com\"):\n",
    "    print(\"Alternate email is : \",email)\n",
    "\n",
    "print(\"Alternate email of student:\")\n",
    "\n",
    "AltEmail(\"abc@gmail.com\")\n",
    "AltEmail(\"a@b.com\")\n",
    "AltEmail()\n"
   ]
  },
  {
   "cell_type": "raw",
   "metadata": {},
   "source": [
    "# write a program to swap any two values from a list using \n",
    "# function Swap()\n",
    "input:\n",
    "list1 = [1,2,3,7,4,5,8,10]\n",
    "output:\n",
    "list1 = [1,2,10,7,4,5,8,3]"
   ]
  },
  {
   "cell_type": "raw",
   "metadata": {},
   "source": [
    "# pass list as arument and get the sum of list\n",
    "list1 = [1,2,3,7,4,5,8,10]"
   ]
  },
  {
   "cell_type": "raw",
   "metadata": {},
   "source": [
    "# pass tuple and count numbe of element in tuple\n",
    "\n",
    "tup = (1,2,3,7,4,5,8,10)"
   ]
  },
  {
   "cell_type": "markdown",
   "metadata": {},
   "source": [
    "## Lambda Function"
   ]
  },
  {
   "cell_type": "raw",
   "metadata": {},
   "source": [
    "1. lambda is a small anonymous function.\n",
    "\n",
    "2. lambda function can take any number of arguments, \n",
    "but can only have one expression.\n",
    "\n",
    "Syntax:\n",
    "\n",
    "lambda arguments : expression\n",
    "\n",
    "\n",
    "Why Lambda?\n",
    "\n",
    "Lambda is anonymous and small function but it is very powerful.\n",
    "we can know its power if we use it inside other function\n"
   ]
  },
  {
   "cell_type": "code",
   "execution_count": 183,
   "metadata": {},
   "outputs": [
    {
     "name": "stdout",
     "output_type": "stream",
     "text": [
      "Square of 4 is: \n",
      "16\n",
      "Square of 10 is: \n"
     ]
    },
    {
     "data": {
      "text/plain": [
       "100"
      ]
     },
     "execution_count": 183,
     "metadata": {},
     "output_type": "execute_result"
    }
   ],
   "source": [
    "# a lambda function which takes an argument and returns a square of \n",
    "# that number \n",
    "\n",
    "square = lambda a: a ** 2\n",
    "\n",
    "print(\"Square of 4 is: \")\n",
    "\n",
    "square(4)\n",
    "\n",
    "print(square(4))\n",
    "\n",
    "print(\"Square of 10 is: \")\n",
    "square(10)"
   ]
  },
  {
   "cell_type": "code",
   "execution_count": 186,
   "metadata": {},
   "outputs": [
    {
     "name": "stdout",
     "output_type": "stream",
     "text": [
      "Add four numbers: 2,3,4 and 5: Sum is:\n"
     ]
    },
    {
     "data": {
      "text/plain": [
       "80"
      ]
     },
     "execution_count": 186,
     "metadata": {},
     "output_type": "execute_result"
    }
   ],
   "source": [
    "# Any number of arguments\n",
    "\n",
    "add = lambda a,b,c,d : a + b + c + d\n",
    "\n",
    "print(\"Add four numbers: 2,3,4 and 5: Sum is:\")\n",
    "\n",
    "add(12,13,40,15)\n"
   ]
  },
  {
   "cell_type": "code",
   "execution_count": 198,
   "metadata": {},
   "outputs": [
    {
     "name": "stdout",
     "output_type": "stream",
     "text": [
      "Value of N is : 5\n",
      "100\n"
     ]
    }
   ],
   "source": [
    "# why lambda is powerful?\n",
    "\n",
    "# use it lambda inside another function \n",
    "# lets understand that it is added with some other unknown number\n",
    "\n",
    "def myfun(n):\n",
    "    print(\"Value of N is :\",n)\n",
    "    \n",
    "    return (lambda a : a * n)\n",
    "\n",
    "# add 10 with other number which is unknown\n",
    "# myfunc(10) # this will not give any result as it will be multiplied with none\n",
    "\n",
    "# now call our lambda function inside other function\n",
    "\n",
    "# myfun(10)\n",
    "\n",
    "otherfun = myfun(5)\n",
    "\n",
    "print(otherfun(20))\n",
    "\n",
    "# you can create calling function in many ways\n",
    "\n",
    "#otherfun_1 = myfun(10)\n",
    "#print(otherfun_1(20))"
   ]
  },
  {
   "cell_type": "markdown",
   "metadata": {},
   "source": [
    "## Python Class "
   ]
  },
  {
   "cell_type": "raw",
   "metadata": {},
   "source": [
    "In python everything is object, which has its properties and methods / function\n",
    "\n",
    "Python is object oriented programming language.\n",
    "\n",
    "class is blueprint of an object, from which objects can be created.\n",
    "\n",
    "syntax:\n",
    "\n",
    "class ClassName:\n",
    "    class body"
   ]
  },
  {
   "cell_type": "code",
   "execution_count": 204,
   "metadata": {},
   "outputs": [],
   "source": [
    "# create a class student\n",
    "class Stud:\n",
    "    name = \"Nitin\"\n",
    "\n"
   ]
  },
  {
   "cell_type": "code",
   "execution_count": 205,
   "metadata": {},
   "outputs": [
    {
     "name": "stdout",
     "output_type": "stream",
     "text": [
      "Nitin\n"
     ]
    }
   ],
   "source": [
    "# create object of class student\n",
    "\n",
    "s1 = Stud()\n",
    "\n",
    "print(s1.name)"
   ]
  },
  {
   "cell_type": "code",
   "execution_count": 210,
   "metadata": {},
   "outputs": [
    {
     "name": "stdout",
     "output_type": "stream",
     "text": [
      "Rahul   BE-Comp   13\n",
      "Vaibhav   BE-Mech   2\n",
      "Nitin   BE-Comp   14\n"
     ]
    }
   ],
   "source": [
    "# How the real class works\n",
    "\n",
    "# __init__() Function\n",
    "\n",
    "# 1. All classes will have a method called __init__()\n",
    "# 2. This function gets called when an object is being created.\n",
    "# 3. This function is used to assign the values to the properties of \n",
    "#    the class\n",
    "# 4. It means that, we can do all operations which are neccessary \n",
    "#    to do at the time of the object creation.\n",
    "# 5. __init__() method get called automatiucally when an object is \n",
    "#    initiated\n",
    "\n",
    "\n",
    "\n",
    "\n",
    "class Student:\n",
    "  def __init__(self, name, clas, rollno):\n",
    "    self.name = name\n",
    "    self.clas = clas\n",
    "    self.rollno = rollno\n",
    "\n",
    "r = Student(\"Rahul\", \"BE-Comp\", 13) # object creation\n",
    "v = Student(\"Vaibhav\", \"BE-Mech\", 2)\n",
    "n = Student(\"Nitin\", \"BE-Comp\", 14)\n",
    "\n",
    "print(r.name,\" \",r.clas,\" \", r.rollno)\n",
    "print(v.name,\" \",v.clas,\" \", v.rollno)\n",
    "print(n.name,\" \", n.clas, \" \",n.rollno)\n"
   ]
  },
  {
   "cell_type": "code",
   "execution_count": 213,
   "metadata": {},
   "outputs": [
    {
     "name": "stdout",
     "output_type": "stream",
     "text": [
      "Name of student is:  Rahul\n",
      "Clas of student is:  BE\n",
      "Roll No of the students:  13\n",
      "Vaibhav Details:\n",
      "Name of student is:  Vaibhav\n",
      "Clas of student is:  BE-Mech\n",
      "Roll No of the students:  2\n"
     ]
    }
   ],
   "source": [
    "# methods in class\n",
    "# self:\n",
    "# self is default parameter to be used to access \n",
    "# the values in current object\n",
    "# we can give any name instead of the self but it has to be the 1st parameter\n",
    "\n",
    "\n",
    "\n",
    "class Student:\n",
    "    def __init__(self, name, clas, rollno):\n",
    "        self.name = name\n",
    "        self.clas = clas\n",
    "        self.rollno = rollno\n",
    "    \n",
    "    def Display(self):\n",
    "        print(\"Name of student is: \",self.name)\n",
    "        print(\"Clas of student is: \",self.clas)\n",
    "        print(\"Roll No of the students: \",self.rollno)\n",
    "\n",
    "  \n",
    "\n",
    "r = Student(\"Rahul\", \"BE\", 13)\n",
    "v = Student(\"Vaibhav\",\"BE-Mech\", 2)\n",
    "\n",
    "r.Display()\n",
    "print(\"Vaibhav Details:\")\n",
    "v.Display()\n",
    " "
   ]
  },
  {
   "cell_type": "code",
   "execution_count": 176,
   "metadata": {},
   "outputs": [
    {
     "name": "stdout",
     "output_type": "stream",
     "text": [
      "Name of student is:  Rahul\n",
      "Clas of student is:  BE\n",
      "Roll No of the students:  13\n",
      "\n",
      "\n",
      "Calling Display from ChangeName():\n",
      " \n",
      "Name of student is:  Dattatray\n",
      "Clas of student is:  BE\n",
      "Roll No of the students:  13\n"
     ]
    }
   ],
   "source": [
    "# accessing values and modifying it\n",
    "\n",
    "\n",
    "\n",
    "class Student:\n",
    "    def __init__(self, name, clas, rollno):\n",
    "        self.name = name\n",
    "        self.clas = clas\n",
    "        self.rollno = rollno\n",
    "    \n",
    "    def Display(self):\n",
    "        print(\"Name of student is: \",s.name)\n",
    "        print(\"Clas of student is: \",s.clas)\n",
    "        print(\"Roll No of the students: \",s.rollno)\n",
    "      \n",
    "    \n",
    "    def ChangeName(self,ch_name):\n",
    "        self.name = ch_name\n",
    "        print(\"\\n\")\n",
    "        print(\"Calling Display from ChangeName():\\n \")\n",
    "        self.Display()\n",
    "\n",
    "  \n",
    "\n",
    "r = Student(\"Rahul\", \"BE\", 13)\n",
    "\n",
    "r.Display()\n",
    "\n",
    "nm = \"Dattatray\"\n",
    "\n",
    "r.ChangeName(nm)\n",
    "\n"
   ]
  },
  {
   "cell_type": "code",
   "execution_count": null,
   "metadata": {},
   "outputs": [],
   "source": []
  }
 ],
 "metadata": {
  "kernelspec": {
   "display_name": "Python 3",
   "language": "python",
   "name": "python3"
  },
  "language_info": {
   "codemirror_mode": {
    "name": "ipython",
    "version": 3
   },
   "file_extension": ".py",
   "mimetype": "text/x-python",
   "name": "python",
   "nbconvert_exporter": "python",
   "pygments_lexer": "ipython3",
   "version": "3.5.2"
  }
 },
 "nbformat": 4,
 "nbformat_minor": 4
}
