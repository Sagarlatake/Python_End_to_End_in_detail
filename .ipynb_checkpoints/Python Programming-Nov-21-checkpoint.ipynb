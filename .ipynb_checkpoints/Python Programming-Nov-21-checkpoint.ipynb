{
 "cells": [
  {
   "cell_type": "markdown",
   "metadata": {},
   "source": [
    "# Python Programming"
   ]
  },
  {
   "cell_type": "raw",
   "metadata": {},
   "source": [
    "Basic: It is a general purpose high level programming language.\n",
    "\n",
    "Python was developed by Guido Van Rossam at National Research Institute at Netherlands.\n",
    "\n",
    "official relaese date of python is 20th feb 1991\n"
   ]
  },
  {
   "cell_type": "code",
   "execution_count": 2,
   "metadata": {},
   "outputs": [
    {
     "name": "stdout",
     "output_type": "stream",
     "text": [
      "Hello\n",
      "Simple Statement\n"
     ]
    }
   ],
   "source": [
    "# Printing Hello \n",
    "\n",
    "print(\"Hello\")\n",
    "\n",
    "\n",
    "print(\"Simple Statement\")\n"
   ]
  },
  {
   "cell_type": "raw",
   "metadata": {},
   "source": [
    "Note:\n",
    "\n",
    "It is very simple to print hello in python, as compared to other programming languages\n",
    "\n",
    "coding in python is really less time consuming than other programming languages\n",
    "Python Features\n",
    "\n",
    "1) Easy to Learn and Use. Python is easy to learn and use. ...\n",
    "2) Expressive Language. Python language is\n",
    "more expressive means that\n",
    "it is more understandable and readable.\n",
    "3) Interpreted Language. ...\n",
    "4) Cross-platform Language. ...\n",
    "5) Free and Open Source. ...\n",
    "6) Object-Oriented Language. ...\n",
    "7) Extensible. ...\n",
    "8) Large Standard Library.\n",
    "\n",
    "Applications\n",
    "\n",
    "1) Web Applications.... 2) Desktop GUI Applications.... 3) Software Development.... 4) Scientific and Numeric.... 5) Business Applications.... 6) Console Based Application.... 7) Audio or Video based Applications.... 8) 3D CAD Applications. 9) AI 10) ML, DL 11) Data Analytics\n",
    "Good to Know\n",
    "\n",
    "    Functional Programming Features from C\n",
    "    Object Oriented Programming Features from C++\n",
    "    Scripting Language Features from Perl and Shell Script\n",
    "    Modular Programming Features from Modula-3\n",
    "\n",
    "Identifiers\n",
    "\n",
    "    names in python are called as identifiers.\n",
    "\n",
    "    Function name, variable name, module name, class name are identifiers in python\n",
    "\n",
    "    Rules:\n",
    "\n",
    "        Alphabet Symbols (Either Upper case OR Lower case)\n",
    "\n",
    "        If Identifier is start with Underscore (_) then it indicates it is private.\n",
    "\n",
    "        Identifier should not start with Digits.\n",
    "\n",
    "        Identifiers are case sensitive.\n",
    "\n",
    "        We cannot use reserved words as identifiers\n",
    "\n",
    "        Dollor ($) Symbol is not allowed in Python.\n",
    "\n",
    "        ex: Akash, akash,AKASH, _aKASH, _AKASH, _akash Wrong: 1_aksh, 1akash, 1AKASH\n",
    "\n"
   ]
  },
  {
   "cell_type": "markdown",
   "metadata": {},
   "source": [
    "### Identifiers"
   ]
  },
  {
   "cell_type": "code",
   "execution_count": 14,
   "metadata": {},
   "outputs": [
    {
     "name": "stdout",
     "output_type": "stream",
     "text": [
      "20\n",
      "10\n"
     ]
    }
   ],
   "source": [
    "x = 10\n",
    "y = 20\n",
    "\n",
    "_x = 20\n",
    "\n",
    "_x_1 = 20\n",
    "\n",
    "_1 = 10\n",
    "\n",
    "print(_x_1)\n",
    "print(_1)\n"
   ]
  },
  {
   "cell_type": "code",
   "execution_count": 18,
   "metadata": {},
   "outputs": [
    {
     "name": "stdout",
     "output_type": "stream",
     "text": [
      "Sagar\n",
      "Latake\n"
     ]
    }
   ],
   "source": [
    "first_name = 'Sagar'\n",
    "last_name = \"Latake\"\n",
    "\n",
    "print(first_name)\n",
    "print(last_name)\n",
    "\n"
   ]
  },
  {
   "cell_type": "markdown",
   "metadata": {},
   "source": [
    "## Special Notes\n",
    "\n",
    "    If identifier starts with _ symbol,then it is private\n",
    "    If identifier starts with __(2 underscore), indicate that it is a strongly private.\n",
    "    If the identifier starts and ends with two underscore symbols, then such identifiers are language defined special name,\n",
    "    which is also known as magic methods.\n",
    "    ex: __init__()\n",
    "        __DoIt__ \n"
   ]
  },
  {
   "cell_type": "markdown",
   "metadata": {},
   "source": [
    "## Keywords\n",
    "\n",
    "There are around 33 keywords:\n",
    "\n",
    "if,elif,else,while,for,break,continue,return,in,True,False,None,and, or,not,is,yield,try,except,finally,raise,del,with,assert,import,from,as,class,def,pass, global,nonlocal,lambda.\n"
   ]
  },
  {
   "cell_type": "code",
   "execution_count": 4,
   "metadata": {},
   "outputs": [
    {
     "name": "stdout",
     "output_type": "stream",
     "text": [
      "['False', 'None', 'True', 'and', 'as', 'assert', 'break', 'class', 'continue', 'def', 'del', 'elif', 'else', 'except', 'finally', 'for', 'from', 'global', 'if', 'import', 'in', 'is', 'lambda', 'nonlocal', 'not', 'or', 'pass', 'raise', 'return', 'try', 'while', 'with', 'yield']\n"
     ]
    },
    {
     "data": {
      "text/plain": [
       "33"
      ]
     },
     "execution_count": 4,
     "metadata": {},
     "output_type": "execute_result"
    }
   ],
   "source": [
    "# we can see all keywords from python using below code\n",
    "\n",
    "sa = 'Hi Hello'\n",
    "\n",
    "import keyword\n",
    "\n",
    "print(keyword.kwlist)\n",
    "\n",
    "\n",
    "\n",
    "len(keyword.kwlist)"
   ]
  },
  {
   "cell_type": "markdown",
   "metadata": {},
   "source": [
    "### Data Types in Python:\n",
    "\n",
    "    Data type of variable is the type of value inside that variable.\n",
    "    In python we do not need to mension the data type of variable, It automatically assigns data type.\n",
    "    int 2. float 3.complex 4.bool 5.str 6.bytes 7.bytearray 8.range 9.list 10.tuple 11.set 12.frozenset 13.dict 14.None\n",
    "\n"
   ]
  },
  {
   "cell_type": "raw",
   "metadata": {},
   "source": [
    "10- int\n",
    "\n",
    "10.20 float\n",
    "\n",
    "3+4j - complex\n",
    "\n",
    "True / False - ( 1 / 0) --- bool\n",
    "\n",
    "\"Hello this is python\"  --str"
   ]
  },
  {
   "cell_type": "markdown",
   "metadata": {},
   "source": [
    "### Data type of variable is the type of value inside that variable\n",
    "\n",
    "x = 10\n",
    "\n",
    "x = 20.23\n",
    "\n",
    "x = 3 + 4j\n",
    "\n",
    "x = True\n",
    "\n",
    "x = \"Hey Hello\"\n",
    "\n",
    "\n"
   ]
  },
  {
   "cell_type": "markdown",
   "metadata": {},
   "source": [
    "### Python automatically identify the the type of variable"
   ]
  },
  {
   "cell_type": "code",
   "execution_count": 21,
   "metadata": {},
   "outputs": [
    {
     "name": "stdout",
     "output_type": "stream",
     "text": [
      "Value of x:\n",
      "10\n",
      "type of x:\n",
      "<class 'int'>\n",
      "\n",
      "\n",
      "Value of y:\n",
      "20.23\n",
      "type of y:\n",
      "<class 'float'>\n",
      "\n",
      "\n",
      "Value of comp:\n",
      "(3+4j)\n",
      "Type of comp:\n",
      "<class 'complex'>\n",
      "\n",
      "\n",
      "Value of b:\n",
      "True\n",
      "Type of b:\n",
      "<class 'bool'>\n",
      "\n",
      "\n",
      "<class 'str'>\n"
     ]
    }
   ],
   "source": [
    "x = 10 # Declaration\n",
    "\n",
    "print(\"Value of x:\")\n",
    "print(x)\n",
    "print(\"type of x:\")\n",
    "print(type(x))\n",
    "\n",
    "\n",
    "print(\"\\n\")  # new line\n",
    "\n",
    "y = 20.23\n",
    "print(\"Value of y:\")\n",
    "print(y)\n",
    "print(\"type of y:\")\n",
    "print(type(y))\n",
    "\n",
    "print(\"\\n\")\n",
    "comp = 3 + 4j\n",
    "print(\"Value of comp:\")\n",
    "print(comp)\n",
    "print(\"Type of comp:\")\n",
    "print(type(comp))\n",
    "\n",
    "print(\"\\n\")\n",
    "b = True\n",
    "print(\"Value of b:\")\n",
    "print(b)\n",
    "print(\"Type of b:\")\n",
    "print(type(b))\n",
    "\n",
    "print(\"\\n\")\n",
    "\n",
    "str1 = \"Hey Hello\"\n",
    "print(type(str1))"
   ]
  },
  {
   "cell_type": "code",
   "execution_count": null,
   "metadata": {},
   "outputs": [],
   "source": []
  }
 ],
 "metadata": {
  "kernelspec": {
   "display_name": "Python 3",
   "language": "python",
   "name": "python3"
  },
  "language_info": {
   "codemirror_mode": {
    "name": "ipython",
    "version": 3
   },
   "file_extension": ".py",
   "mimetype": "text/x-python",
   "name": "python",
   "nbconvert_exporter": "python",
   "pygments_lexer": "ipython3",
   "version": "3.5.2"
  }
 },
 "nbformat": 4,
 "nbformat_minor": 4
}
