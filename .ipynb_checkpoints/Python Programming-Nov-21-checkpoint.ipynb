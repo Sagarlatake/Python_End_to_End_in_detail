{
 "cells": [
  {
   "cell_type": "markdown",
   "metadata": {},
   "source": [
    "# Python Programming"
   ]
  },
  {
   "cell_type": "raw",
   "metadata": {},
   "source": [
    "Basic: It is a general purpose high level programming language.\n",
    "\n",
    "Python was developed by Guido Van Rossam at National Research Institute at Netherlands.\n",
    "\n",
    "official relaese date of python is 20th feb 1991\n"
   ]
  },
  {
   "cell_type": "code",
   "execution_count": 2,
   "metadata": {},
   "outputs": [
    {
     "name": "stdout",
     "output_type": "stream",
     "text": [
      "Hello\n",
      "Simple Statement\n"
     ]
    }
   ],
   "source": [
    "# Printing Hello \n",
    "\n",
    "print(\"Hello\")\n",
    "\n",
    "\n",
    "print(\"Simple Statement\")\n"
   ]
  },
  {
   "cell_type": "raw",
   "metadata": {},
   "source": [
    "Note:\n",
    "\n",
    "It is very simple to print hello in python, as compared to other programming languages\n",
    "\n",
    "coding in python is really less time consuming than other programming languages\n",
    "Python Features\n",
    "\n",
    "1) Easy to Learn and Use. Python is easy to learn and use. ...\n",
    "2) Expressive Language. Python language is\n",
    "more expressive means that\n",
    "it is more understandable and readable.\n",
    "3) Interpreted Language. ...\n",
    "4) Cross-platform Language. ...\n",
    "5) Free and Open Source. ...\n",
    "6) Object-Oriented Language. ...\n",
    "7) Extensible. ...\n",
    "8) Large Standard Library.\n",
    "\n",
    "Applications\n",
    "\n",
    "1) Web Applications.... 2) Desktop GUI Applications.... 3) Software Development.... 4) Scientific and Numeric.... 5) Business Applications.... 6) Console Based Application.... 7) Audio or Video based Applications.... 8) 3D CAD Applications. 9) AI 10) ML, DL 11) Data Analytics\n",
    "Good to Know\n",
    "\n",
    "    Functional Programming Features from C\n",
    "    Object Oriented Programming Features from C++\n",
    "    Scripting Language Features from Perl and Shell Script\n",
    "    Modular Programming Features from Modula-3\n",
    "\n",
    "Identifiers\n",
    "\n",
    "    names in python are called as identifiers.\n",
    "\n",
    "    Function name, variable name, module name, class name are identifiers in python\n",
    "\n",
    "    Rules:\n",
    "\n",
    "        Alphabet Symbols (Either Upper case OR Lower case)\n",
    "\n",
    "        If Identifier is start with Underscore (_) then it indicates it is private.\n",
    "\n",
    "        Identifier should not start with Digits.\n",
    "\n",
    "        Identifiers are case sensitive.\n",
    "\n",
    "        We cannot use reserved words as identifiers\n",
    "\n",
    "        Dollor ($) Symbol is not allowed in Python.\n",
    "\n",
    "        ex: Akash, akash,AKASH, _aKASH, _AKASH, _akash Wrong: 1_aksh, 1akash, 1AKASH\n",
    "\n"
   ]
  },
  {
   "cell_type": "markdown",
   "metadata": {},
   "source": [
    "### Identifiers"
   ]
  },
  {
   "cell_type": "code",
   "execution_count": 14,
   "metadata": {},
   "outputs": [
    {
     "name": "stdout",
     "output_type": "stream",
     "text": [
      "20\n",
      "10\n"
     ]
    }
   ],
   "source": [
    "x = 10\n",
    "y = 20\n",
    "\n",
    "_x = 20\n",
    "\n",
    "_x_1 = 20\n",
    "\n",
    "_1 = 10\n",
    "\n",
    "print(_x_1)\n",
    "print(_1)\n"
   ]
  },
  {
   "cell_type": "code",
   "execution_count": null,
   "metadata": {},
   "outputs": [],
   "source": []
  }
 ],
 "metadata": {
  "kernelspec": {
   "display_name": "Python 3",
   "language": "python",
   "name": "python3"
  },
  "language_info": {
   "codemirror_mode": {
    "name": "ipython",
    "version": 3
   },
   "file_extension": ".py",
   "mimetype": "text/x-python",
   "name": "python",
   "nbconvert_exporter": "python",
   "pygments_lexer": "ipython3",
   "version": "3.5.2"
  }
 },
 "nbformat": 4,
 "nbformat_minor": 4
}
