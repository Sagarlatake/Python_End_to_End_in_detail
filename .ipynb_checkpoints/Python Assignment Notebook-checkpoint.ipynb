{
 "cells": [
  {
   "cell_type": "markdown",
   "metadata": {},
   "source": [
    "# Python Assignment Notebook"
   ]
  },
  {
   "cell_type": "raw",
   "metadata": {},
   "source": [
    "1. \n",
    "\n",
    "*\n",
    "* *\n",
    "* * *\n",
    "* * * *\n",
    "* * * * *\n",
    "* * * * * *\n",
    "\n",
    "write a python program to print above above pyramid."
   ]
  },
  {
   "cell_type": "code",
   "execution_count": 11,
   "metadata": {},
   "outputs": [
    {
     "name": "stdout",
     "output_type": "stream",
     "text": [
      "Enter no. of lines:5\n",
      "* \n",
      "\n",
      "* * \n",
      "\n",
      "* * * \n",
      "\n",
      "* * * * \n",
      "\n",
      "* * * * * \n",
      "\n"
     ]
    }
   ],
   "source": [
    "def Triangle_r():\n",
    "    lines = int(input(\"Enter no. of lines:\"))\n",
    "    for i in range(1,lines+1):\n",
    "        \n",
    "        x = 0 \n",
    "        while(x<i):\n",
    "            print(\"*\",end=\" \")\n",
    "            x += 1\n",
    "        print('\\n')\n",
    "\n",
    "            \n",
    "Triangle_r()"
   ]
  },
  {
   "cell_type": "raw",
   "metadata": {},
   "source": [
    "2.    *\n",
    "     * *\n",
    "    * * *\n",
    "   * * * *\n",
    "  * * * * *\n",
    " * * * * * *\n",
    "* * * * * * *\n",
    "\n",
    "write a python program to print pytramid as shown above."
   ]
  },
  {
   "cell_type": "code",
   "execution_count": 17,
   "metadata": {},
   "outputs": [
    {
     "name": "stdout",
     "output_type": "stream",
     "text": [
      "Enter no. of lines:10\n",
      "          * \n",
      "\n",
      "         * * \n",
      "\n",
      "        * * * \n",
      "\n",
      "       * * * * \n",
      "\n",
      "      * * * * * \n",
      "\n",
      "     * * * * * * \n",
      "\n",
      "    * * * * * * * \n",
      "\n",
      "   * * * * * * * * \n",
      "\n",
      "  * * * * * * * * * \n",
      "\n",
      " * * * * * * * * * * \n",
      "\n"
     ]
    }
   ],
   "source": [
    "def Triangle_r():\n",
    "    lines = int(input(\"Enter no. of lines:\"))\n",
    "    ln = (lines+1)\n",
    "    \n",
    "    for x in range(1,ln):\n",
    "        i = ln-x\n",
    "        while(i>0):\n",
    "            print(\" \",end=\"\")\n",
    "            i -= 1\n",
    "    \n",
    "        j = 0\n",
    "        while(j < x):\n",
    "            print(\"*\",end=\" \")\n",
    "            j += 1\n",
    "        print(\"\\n\")\n",
    "    \n",
    "        \n",
    "        \n",
    "            \n",
    "Triangle_r()"
   ]
  },
  {
   "cell_type": "raw",
   "metadata": {},
   "source": [
    "3. Write a program to find a square root of number\n"
   ]
  },
  {
   "cell_type": "code",
   "execution_count": 22,
   "metadata": {},
   "outputs": [
    {
     "name": "stdout",
     "output_type": "stream",
     "text": [
      "4.0\n",
      "10.0\n"
     ]
    }
   ],
   "source": [
    "def SquareRoot(x):\n",
    "    return x**0.5\n",
    "\n",
    "print(SquareRoot(16))\n",
    "\n",
    "import math\n",
    "no = 100\n",
    "x = math.sqrt(no)\n",
    "print(x)"
   ]
  },
  {
   "cell_type": "code",
   "execution_count": 29,
   "metadata": {},
   "outputs": [
    {
     "name": "stdout",
     "output_type": "stream",
     "text": [
      "The square root of (4+16j) is : 3.20 + 2.50j\n"
     ]
    }
   ],
   "source": [
    "# Find square root of real or complex numbers\n",
    "# Importing the complex math module\n",
    "import cmath\n",
    "\n",
    "no = 4+16j\n",
    "\n",
    "no_srt = cmath.sqrt(no)\n",
    "\n",
    "print(\"The square root of {0} is : {1:0.2f} + {2:0.2f}j\".format(no,no_srt.real,no_srt.imag))"
   ]
  },
  {
   "cell_type": "raw",
   "metadata": {},
   "source": [
    "5.print the following number pattern\n",
    "        1 \n",
    "        2 3 \n",
    "        4 5 6 \n",
    "        7 8 9 10 \n",
    "        11 12 13 14 15 "
   ]
  },
  {
   "cell_type": "code",
   "execution_count": 35,
   "metadata": {},
   "outputs": [
    {
     "name": "stdout",
     "output_type": "stream",
     "text": [
      "Enter number of lines:5\n",
      "1 \n",
      "\n",
      "2 3 \n",
      "\n",
      "4 5 6 \n",
      "\n",
      "7 8 9 10 \n",
      "\n",
      "11 12 13 14 15 \n",
      "\n"
     ]
    }
   ],
   "source": [
    "def NumberPattern():\n",
    "    ln = int(input(\"Enter number of lines:\"))\n",
    "    num = 1\n",
    "    for i in range(1,ln+1):\n",
    "        x = 1\n",
    "        while(x <= i):\n",
    "            print(num,end=\" \")\n",
    "            num += 1\n",
    "            x += 1\n",
    "        print(\"\\n\")\n",
    "\n",
    "\n",
    "NumberPattern()    "
   ]
  },
  {
   "cell_type": "raw",
   "metadata": {},
   "source": [
    "6. Solve the quadratic equation ax**2 + bx + c = 0\n",
    "\n",
    "                a = 1\n",
    "                b = 5\n",
    "                c = 6"
   ]
  },
  {
   "cell_type": "code",
   "execution_count": 37,
   "metadata": {},
   "outputs": [
    {
     "name": "stdout",
     "output_type": "stream",
     "text": [
      "First root is x1 = (-2+0j) and 2nd root is x2 = (-3+0j) \n"
     ]
    }
   ],
   "source": [
    "import cmath\n",
    "\n",
    "a = 1\n",
    "b = 5\n",
    "c = 6\n",
    "\n",
    "# dicriminent = Sqrt(b**2-4*a*c)\n",
    "\n",
    "d = cmath.sqrt(b**2 - 4*a*c)\n",
    "\n",
    "# x1 = (-b + d)/ 2*a\n",
    "# x2 = (-b - d)/ 2*a\n",
    "\n",
    "\n",
    "x1 = (-b + d)/2*a\n",
    "x2 = (-b - d)/2*a\n",
    "\n",
    "print('First root is x1 = {0} and 2nd root is x2 = {1} '.format(x1,x2))"
   ]
  },
  {
   "cell_type": "code",
   "execution_count": null,
   "metadata": {},
   "outputs": [],
   "source": []
  }
 ],
 "metadata": {
  "kernelspec": {
   "display_name": "Python 3",
   "language": "python",
   "name": "python3"
  },
  "language_info": {
   "codemirror_mode": {
    "name": "ipython",
    "version": 3
   },
   "file_extension": ".py",
   "mimetype": "text/x-python",
   "name": "python",
   "nbconvert_exporter": "python",
   "pygments_lexer": "ipython3",
   "version": "3.5.2"
  }
 },
 "nbformat": 4,
 "nbformat_minor": 4
}
