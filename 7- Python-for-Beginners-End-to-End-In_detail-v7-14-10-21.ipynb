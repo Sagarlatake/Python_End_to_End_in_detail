{
 "cells": [
  {
   "cell_type": "markdown",
   "metadata": {},
   "source": [
    "# Python End to End in detail"
   ]
  },
  {
   "cell_type": "markdown",
   "metadata": {},
   "source": [
    "Basic:\n",
    "It is a general purpose high level programming language.\n",
    "\n",
    "Python was developed by Guido Van Rossam at National Research Institute at Netherlands.\n",
    "\n",
    "official relaese date of python is 20th feb 1991\n"
   ]
  },
  {
   "cell_type": "code",
   "execution_count": 1,
   "metadata": {},
   "outputs": [
    {
     "name": "stdout",
     "output_type": "stream",
     "text": [
      "Hello\n"
     ]
    }
   ],
   "source": [
    "# Printing Hello \n",
    "\n",
    "print(\"Hello\")"
   ]
  },
  {
   "cell_type": "markdown",
   "metadata": {},
   "source": [
    "# Note:\n",
    "\n",
    "It is very simple to print hello in python, as compared to othe rprogramming languages\n",
    "\n",
    "coding in python is really less time consuming than other programming languages"
   ]
  },
  {
   "cell_type": "markdown",
   "metadata": {},
   "source": [
    "# Python Features\n",
    "\n",
    "    1) Easy to Learn and Use. Python is easy to learn and use. ...\n",
    "    2) Expressive Language. Python language is\n",
    "    more expressive means that\n",
    "    it is more understandable and readable.\n",
    "    3) Interpreted Language. ...\n",
    "    4) Cross-platform Language. ...\n",
    "    5) Free and Open Source. ...\n",
    "    6) Object-Oriented Language. ...\n",
    "    7) Extensible. ...\n",
    "    8) Large Standard Library.\n",
    "\n",
    "# Applications\n",
    "\n",
    "1) Web Applications....\n",
    "2) Desktop GUI Applications....\n",
    "3) Software Development....\n",
    "4) Scientific and Numeric....\n",
    "5) Business Applications....\n",
    "6) Console Based Application....\n",
    "7) Audio or Video based Applications....\n",
    "8) 3D CAD Applications.\n",
    "9) AI\n",
    "10) ML, DL\n",
    "11) Data Analytics\n",
    "\n",
    "# Good to Know\n",
    "\n",
    "1. Functional Programming Features from C\n",
    "2. Object Oriented Programming Features from C++\n",
    "3. Scripting Language Features from Perl and Shell Script\n",
    "4. Modular Programming Features from Modula-3\n"
   ]
  },
  {
   "cell_type": "markdown",
   "metadata": {},
   "source": [
    "# Identifiers\n",
    "1. names in python are called as identifiers.\n",
    "2. Function name, variable name, module name, class name are identifiers in python\n",
    "3. Rules:\n",
    "\n",
    "    1. Alphabet Symbols (Either Upper case OR Lower case)\n",
    "    2. If Identifier is start with Underscore (_) then it indicates it is private.\n",
    "    3. Identifier should not start with Digits.\n",
    "    4. Identifiers are case sensitive.\n",
    "    5. We cannot use reserved words as identifiers\n",
    "    6. Dollor ($) Symbol is not allowed in Python."
   ]
  },
  {
   "cell_type": "markdown",
   "metadata": {},
   "source": [
    "# Special Notes\n",
    "\n",
    "1. If identifier starts with _ symbol,then it is private\n",
    "2. If identifier starts with __(2 underscore), indicate that it is a strongly private.\n",
    "3. If the identifier starts and ends with two underscore symbols, then such identifiers are\n",
    "language defined special name, \n",
    "# which is also known as magic methods.\n",
    "ex:   [ __DoIt__  ]"
   ]
  },
  {
   "cell_type": "code",
   "execution_count": 2,
   "metadata": {},
   "outputs": [],
   "source": [
    "# Example of identifiers\n",
    "\n",
    "a = 10\n",
    "var = 20.2\n",
    "str_1 = \"python\"\n"
   ]
  },
  {
   "cell_type": "markdown",
   "metadata": {},
   "source": [
    "# Keywords\n",
    "\n",
    "There are around 33 keywords:\n",
    "\n",
    "if,elif,else,while,for,break,continue,return,in,True,False,None,and, or,not,is,yield\n",
    "try,except,finally,raise,del,with,assert,import,from,as,class,def,pass,global\n",
    "nonlocal,lambda."
   ]
  },
  {
   "cell_type": "code",
   "execution_count": 3,
   "metadata": {},
   "outputs": [
    {
     "data": {
      "text/plain": [
       "['False',\n",
       " 'None',\n",
       " 'True',\n",
       " 'and',\n",
       " 'as',\n",
       " 'assert',\n",
       " 'break',\n",
       " 'class',\n",
       " 'continue',\n",
       " 'def',\n",
       " 'del',\n",
       " 'elif',\n",
       " 'else',\n",
       " 'except',\n",
       " 'finally',\n",
       " 'for',\n",
       " 'from',\n",
       " 'global',\n",
       " 'if',\n",
       " 'import',\n",
       " 'in',\n",
       " 'is',\n",
       " 'lambda',\n",
       " 'nonlocal',\n",
       " 'not',\n",
       " 'or',\n",
       " 'pass',\n",
       " 'raise',\n",
       " 'return',\n",
       " 'try',\n",
       " 'while',\n",
       " 'with',\n",
       " 'yield']"
      ]
     },
     "execution_count": 3,
     "metadata": {},
     "output_type": "execute_result"
    }
   ],
   "source": [
    "# we can see all keywords from python using below code\n",
    "import keyword\n",
    "keyword.kwlist\n",
    "#len(keyword.kwlist)"
   ]
  },
  {
   "cell_type": "markdown",
   "metadata": {},
   "source": [
    "# Data Types in Python:\n",
    "\n",
    "1. Data type of variable is the type of value inside that variable.\n",
    "2. In python we do not need to mension the data type of variable, It automatically assigns data type.\n",
    "1. int   2. float   3.complex   4.bool   5.str    6.bytes    7.bytearray    8.range    9.list   10.tuple   11.set      12.frozenset    13.dict    14.None\n"
   ]
  },
  {
   "cell_type": "code",
   "execution_count": 4,
   "metadata": {},
   "outputs": [
    {
     "name": "stdout",
     "output_type": "stream",
     "text": [
      "Output:\n",
      "10\n",
      "<class 'int'>\n"
     ]
    }
   ],
   "source": [
    "# int\n",
    "\n",
    "var = 10  # decimal\n",
    "\n",
    "# we can declare octal and Hex value also\n",
    "print(\"Output:\")\n",
    "print(var)\n",
    "print(type(var))"
   ]
  },
  {
   "cell_type": "code",
   "execution_count": 5,
   "metadata": {},
   "outputs": [
    {
     "name": "stdout",
     "output_type": "stream",
     "text": [
      "Output:\n",
      "10.2\n",
      "<class 'float'>\n"
     ]
    }
   ],
   "source": [
    "# Float\n",
    "\n",
    "var = 10.20\n",
    "\n",
    "print(\"Output:\")\n",
    "print(var)\n",
    "print(type(var))"
   ]
  },
  {
   "cell_type": "code",
   "execution_count": 6,
   "metadata": {},
   "outputs": [
    {
     "name": "stdout",
     "output_type": "stream",
     "text": [
      "Output:\n",
      "(3+4j)\n",
      "<class 'complex'>\n",
      "Printing Real and Imaginary part\n",
      "3.0\n",
      "4.0\n"
     ]
    }
   ],
   "source": [
    "# Complex\n",
    "var = 3+4j\n",
    "# 3 is real part, 4j is imaginary part, j^2 = -1\n",
    "print(\"Output:\")\n",
    "print(var)\n",
    "print(type(var))\n",
    "print(\"Printing Real and Imaginary part\")\n",
    "print(var.real)\n",
    "print(var.imag)"
   ]
  },
  {
   "cell_type": "code",
   "execution_count": 7,
   "metadata": {},
   "outputs": [
    {
     "name": "stdout",
     "output_type": "stream",
     "text": [
      "Output:\n",
      "True\n",
      "<class 'bool'>\n"
     ]
    }
   ],
   "source": [
    "# boolean\n",
    "var = True\n",
    "print(\"Output:\")\n",
    "print(var)\n",
    "print(type(var))"
   ]
  },
  {
   "cell_type": "code",
   "execution_count": 8,
   "metadata": {},
   "outputs": [
    {
     "name": "stdout",
     "output_type": "stream",
     "text": [
      "Output:\n",
      "python3.9\n",
      "<class 'str'>\n"
     ]
    }
   ],
   "source": [
    "# String data type\n",
    "var = \"python3.9\"\n",
    "print(\"Output:\")\n",
    "print(var)\n",
    "print(type(var))"
   ]
  },
  {
   "cell_type": "markdown",
   "metadata": {},
   "source": [
    "# Typecasting\n",
    "int,\n",
    "float,\n",
    "str,\n",
    "boolean,\n",
    "comlex,\n",
    "object."
   ]
  },
  {
   "cell_type": "raw",
   "metadata": {},
   "source": [
    "# What is typecasting:\n",
    "\n",
    "Conversion of data from one type to another type.\n",
    "eg. str1 = \"python is best\"\n",
    "str2 = \"100\"\n",
    "Note: we can convert str2 into float, int"
   ]
  },
  {
   "cell_type": "code",
   "execution_count": 9,
   "metadata": {},
   "outputs": [
    {
     "name": "stdout",
     "output_type": "stream",
     "text": [
      "100\n",
      "<class 'int'>\n",
      "100.0\n",
      "<class 'float'>\n",
      "200\n",
      "<class 'str'>\n",
      "200.0\n",
      "<class 'float'>\n",
      "Demonstration of string to float conversion:\n",
      "python\n"
     ]
    }
   ],
   "source": [
    "# int/string to float conversion:\n",
    "\n",
    "str1 = \"python\"\n",
    "var = 100\n",
    "str2 = \"200\"\n",
    "print(var)\n",
    "print(type(var))\n",
    "\n",
    "var1 = float(var)\n",
    "\n",
    "print(var1)\n",
    "\n",
    "print(type(var1))\n",
    "\n",
    "print(str2)\n",
    "print(type(str2))\n",
    "var3 = float(str2)\n",
    "print(var3)\n",
    "print(type(var3))\n",
    "\n",
    "print(\"Demonstration of string to float conversion:\")\n",
    "print(str1)\n",
    "#var2 = float(str1)"
   ]
  },
  {
   "cell_type": "code",
   "execution_count": 10,
   "metadata": {},
   "outputs": [
    {
     "name": "stdout",
     "output_type": "stream",
     "text": [
      "float to int:\n",
      "100.2\n",
      "<class 'float'>\n",
      "100\n",
      "<class 'int'>\n",
      "String to int:\n",
      "500\n",
      "<class 'str'>\n",
      "500\n",
      "<class 'int'>\n",
      "string to complex:\n",
      "(3+4j)\n",
      "<class 'complex'>\n"
     ]
    }
   ],
   "source": [
    "# float/string to int conversion\n",
    "\n",
    "var = 100.20\n",
    "str1 = \"200.30\"\n",
    "str2 = \"500\"\n",
    "str3 = \"python\"\n",
    "\n",
    "print(\"float to int:\")\n",
    "print(var)\n",
    "print(type(var))\n",
    "var1 = int(var)\n",
    "print(var1)\n",
    "print(type(var1))\n",
    "\n",
    "print(\"String to int:\")\n",
    "print(str2)\n",
    "print(type(str2))\n",
    "var3 = int(str2)\n",
    "print(var3)\n",
    "print(type(var3))\n",
    "\n",
    "#print(\"String to int:\")\n",
    "#print(str1)\n",
    "#print(type(str1))\n",
    "#var2 = int(str1)\n",
    "#print(var2)\n",
    "#print(type(var2))\n",
    "\n",
    "print(\"string to complex:\")\n",
    "cm = \"3+4j\"\n",
    "comp = complex(cm)\n",
    "print(comp)\n",
    "print(type(comp))\n",
    "\n",
    "\n",
    "#print(\"String to int:\")\n",
    "#print(str3)\n",
    "#print(type(str3))\n",
    "#var4 = int(str3)\n",
    "#print(var4)\n",
    "#print(type(var4))\n"
   ]
  },
  {
   "cell_type": "code",
   "execution_count": 11,
   "metadata": {},
   "outputs": [
    {
     "name": "stdout",
     "output_type": "stream",
     "text": [
      "float to string:\n",
      "100.23\n",
      "<class 'float'>\n",
      "100.23\n",
      "<class 'str'>\n",
      "int to string:\n",
      "20\n",
      "<class 'int'>\n",
      "20\n",
      "<class 'str'>\n",
      "Complex to string:\n",
      "(2+4j)\n",
      "<class 'complex'>\n",
      "(2+4j)\n",
      "<class 'str'>\n"
     ]
    }
   ],
   "source": [
    "# float, int to string\n",
    "\n",
    "var = 100.23\n",
    "var1 = 20\n",
    "comp = 2+4j\n",
    "print(\"float to string:\")\n",
    "print(var)\n",
    "print(type(var))\n",
    "var3 = str(var)\n",
    "print(var3)\n",
    "print(type(var3))\n",
    "\n",
    "print(\"int to string:\")\n",
    "print(var1)\n",
    "print(type(var1))\n",
    "var4 = str(var1)\n",
    "print(var4)\n",
    "print(type(var4))\n",
    "\n",
    "print(\"Complex to string:\")\n",
    "print(comp)\n",
    "print(type(comp))\n",
    "var5 = str(comp)\n",
    "print(var5)\n",
    "print(type(var5))"
   ]
  },
  {
   "cell_type": "markdown",
   "metadata": {},
   "source": [
    "# Other types to Complex"
   ]
  },
  {
   "cell_type": "code",
   "execution_count": 12,
   "metadata": {},
   "outputs": [
    {
     "name": "stdout",
     "output_type": "stream",
     "text": [
      "(10+0j)\n",
      "(12.4+0j)\n",
      "(10.23+0j)\n"
     ]
    }
   ],
   "source": [
    "# use complex() function for conversion\n",
    "\n",
    "var = 10\n",
    "\n",
    "print(complex(var))\n",
    "\n",
    "var1 = 12.4\n",
    "\n",
    "print(complex(var1))\n",
    "\n",
    "var3 = \"10.23\"\n",
    "print(complex(var3))\n"
   ]
  },
  {
   "cell_type": "code",
   "execution_count": 13,
   "metadata": {},
   "outputs": [
    {
     "name": "stdout",
     "output_type": "stream",
     "text": [
      "(10+5j)\n",
      "(10.2+4j)\n",
      "(1+0j)\n"
     ]
    }
   ],
   "source": [
    "print(complex(10,5)) # 10+5j\n",
    "print(complex(10.20,4))\n",
    "\n",
    "print(complex(True,False)) # 1+0j"
   ]
  },
  {
   "cell_type": "markdown",
   "metadata": {},
   "source": [
    "# Bool()"
   ]
  },
  {
   "cell_type": "code",
   "execution_count": 14,
   "metadata": {},
   "outputs": [
    {
     "name": "stdout",
     "output_type": "stream",
     "text": [
      "1\n"
     ]
    }
   ],
   "source": [
    "print(int(True))"
   ]
  },
  {
   "cell_type": "code",
   "execution_count": 15,
   "metadata": {},
   "outputs": [
    {
     "name": "stdout",
     "output_type": "stream",
     "text": [
      "0\n"
     ]
    }
   ],
   "source": [
    "print(int(False))"
   ]
  },
  {
   "cell_type": "code",
   "execution_count": 16,
   "metadata": {},
   "outputs": [
    {
     "name": "stdout",
     "output_type": "stream",
     "text": [
      "1.0\n"
     ]
    }
   ],
   "source": [
    "print(float(True))"
   ]
  },
  {
   "cell_type": "code",
   "execution_count": 17,
   "metadata": {},
   "outputs": [
    {
     "name": "stdout",
     "output_type": "stream",
     "text": [
      "0.0\n"
     ]
    }
   ],
   "source": [
    "print(float(False))"
   ]
  },
  {
   "cell_type": "code",
   "execution_count": 18,
   "metadata": {},
   "outputs": [
    {
     "name": "stdout",
     "output_type": "stream",
     "text": [
      "(1+0j)\n"
     ]
    }
   ],
   "source": [
    "print(complex(True))"
   ]
  },
  {
   "cell_type": "code",
   "execution_count": 19,
   "metadata": {},
   "outputs": [
    {
     "name": "stdout",
     "output_type": "stream",
     "text": [
      "0j\n",
      "0j\n"
     ]
    }
   ],
   "source": [
    "print(complex(False))\n",
    "\n",
    "c = 0+0j\n",
    "\n",
    "print(c)"
   ]
  },
  {
   "cell_type": "code",
   "execution_count": 20,
   "metadata": {},
   "outputs": [
    {
     "name": "stdout",
     "output_type": "stream",
     "text": [
      "True\n",
      "False\n"
     ]
    }
   ],
   "source": [
    "\n",
    "print(str(True))\n",
    "print(str(False))"
   ]
  },
  {
   "cell_type": "code",
   "execution_count": 21,
   "metadata": {},
   "outputs": [
    {
     "name": "stdout",
     "output_type": "stream",
     "text": [
      "True\n",
      "False\n"
     ]
    }
   ],
   "source": [
    "print(bool(3.1))\n",
    "print(bool(0.0))"
   ]
  },
  {
   "cell_type": "code",
   "execution_count": 22,
   "metadata": {},
   "outputs": [
    {
     "name": "stdout",
     "output_type": "stream",
     "text": [
      "True\n",
      "False\n"
     ]
    }
   ],
   "source": [
    "print(bool(1))\n",
    "print(bool(0))"
   ]
  },
  {
   "cell_type": "code",
   "execution_count": 23,
   "metadata": {},
   "outputs": [
    {
     "name": "stdout",
     "output_type": "stream",
     "text": [
      "False\n",
      "False\n",
      "True\n",
      "True\n"
     ]
    }
   ],
   "source": [
    "print(bool(\"\"))\n",
    "print(bool())\n",
    "print(bool(\"h\"))\n",
    "print(bool(11))"
   ]
  },
  {
   "cell_type": "code",
   "execution_count": 24,
   "metadata": {},
   "outputs": [
    {
     "name": "stdout",
     "output_type": "stream",
     "text": [
      "True\n",
      "True\n",
      "True\n",
      "False\n"
     ]
    }
   ],
   "source": [
    "print(bool(1+2j))\n",
    "print(bool(1+0j))\n",
    "print(bool(0+2j))\n",
    "print(bool(0+0j))"
   ]
  },
  {
   "cell_type": "markdown",
   "metadata": {},
   "source": [
    "# String Slicing\n",
    "\n",
    "operations: slicing"
   ]
  },
  {
   "cell_type": "raw",
   "metadata": {},
   "source": [
    "# liscing is making peaces of a string using some separator\n",
    "# [] is a slice opearator"
   ]
  },
  {
   "cell_type": "code",
   "execution_count": 25,
   "metadata": {},
   "outputs": [],
   "source": [
    "# assignment\n",
    "str1 = \"This tutorial is basically designed for beginers\"\n"
   ]
  },
  {
   "cell_type": "code",
   "execution_count": 26,
   "metadata": {},
   "outputs": [],
   "source": [
    "# take simple string\n",
    "\n",
    "str2 = \"Python\""
   ]
  },
  {
   "cell_type": "code",
   "execution_count": 27,
   "metadata": {},
   "outputs": [
    {
     "data": {
      "text/plain": [
       "'P'"
      ]
     },
     "execution_count": 27,
     "metadata": {},
     "output_type": "execute_result"
    }
   ],
   "source": [
    "str2[0]"
   ]
  },
  {
   "cell_type": "code",
   "execution_count": 28,
   "metadata": {},
   "outputs": [
    {
     "data": {
      "text/plain": [
       "'n'"
      ]
     },
     "execution_count": 28,
     "metadata": {},
     "output_type": "execute_result"
    }
   ],
   "source": [
    "str2[5]"
   ]
  },
  {
   "cell_type": "code",
   "execution_count": 29,
   "metadata": {},
   "outputs": [
    {
     "data": {
      "text/plain": [
       "'Python'"
      ]
     },
     "execution_count": 29,
     "metadata": {},
     "output_type": "execute_result"
    }
   ],
   "source": [
    "str2"
   ]
  },
  {
   "cell_type": "code",
   "execution_count": 30,
   "metadata": {},
   "outputs": [
    {
     "data": {
      "text/plain": [
       "'y'"
      ]
     },
     "execution_count": 30,
     "metadata": {},
     "output_type": "execute_result"
    }
   ],
   "source": [
    "str2[1]"
   ]
  },
  {
   "cell_type": "code",
   "execution_count": 31,
   "metadata": {},
   "outputs": [
    {
     "data": {
      "text/plain": [
       "'Python'"
      ]
     },
     "execution_count": 31,
     "metadata": {},
     "output_type": "execute_result"
    }
   ],
   "source": [
    "str2[0:]"
   ]
  },
  {
   "cell_type": "code",
   "execution_count": 32,
   "metadata": {},
   "outputs": [
    {
     "data": {
      "text/plain": [
       "'Pyth'"
      ]
     },
     "execution_count": 32,
     "metadata": {},
     "output_type": "execute_result"
    }
   ],
   "source": [
    "str2[:4]"
   ]
  },
  {
   "cell_type": "code",
   "execution_count": 33,
   "metadata": {},
   "outputs": [
    {
     "data": {
      "text/plain": [
       "str"
      ]
     },
     "execution_count": 33,
     "metadata": {},
     "output_type": "execute_result"
    }
   ],
   "source": [
    "type(str2)"
   ]
  },
  {
   "cell_type": "code",
   "execution_count": 34,
   "metadata": {},
   "outputs": [
    {
     "data": {
      "text/plain": [
       "'n'"
      ]
     },
     "execution_count": 34,
     "metadata": {},
     "output_type": "execute_result"
    }
   ],
   "source": [
    "str2[-1]"
   ]
  },
  {
   "cell_type": "code",
   "execution_count": 35,
   "metadata": {},
   "outputs": [
    {
     "data": {
      "text/plain": [
       "'on'"
      ]
     },
     "execution_count": 35,
     "metadata": {},
     "output_type": "execute_result"
    }
   ],
   "source": [
    "str2[-2:]  "
   ]
  },
  {
   "cell_type": "code",
   "execution_count": 36,
   "metadata": {},
   "outputs": [
    {
     "data": {
      "text/plain": [
       "'n'"
      ]
     },
     "execution_count": 36,
     "metadata": {},
     "output_type": "execute_result"
    }
   ],
   "source": [
    "str2[-1:]"
   ]
  },
  {
   "cell_type": "code",
   "execution_count": 37,
   "metadata": {},
   "outputs": [
    {
     "data": {
      "text/plain": [
       "'hon'"
      ]
     },
     "execution_count": 37,
     "metadata": {},
     "output_type": "execute_result"
    }
   ],
   "source": [
    "str2[-3:]"
   ]
  },
  {
   "cell_type": "code",
   "execution_count": 38,
   "metadata": {},
   "outputs": [
    {
     "data": {
      "text/plain": [
       "'ho'"
      ]
     },
     "execution_count": 38,
     "metadata": {},
     "output_type": "execute_result"
    }
   ],
   "source": [
    "str2[-3:-1]"
   ]
  },
  {
   "cell_type": "code",
   "execution_count": 39,
   "metadata": {},
   "outputs": [
    {
     "data": {
      "text/plain": [
       "'PythPythPyth'"
      ]
     },
     "execution_count": 39,
     "metadata": {},
     "output_type": "execute_result"
    }
   ],
   "source": [
    "str3 = str2[:4]\n",
    "str3*3"
   ]
  },
  {
   "cell_type": "markdown",
   "metadata": {},
   "source": [
    "# Immutability"
   ]
  },
  {
   "cell_type": "raw",
   "metadata": {},
   "source": [
    "# In python once an object is created, we are not allowed to change\n",
    "# the content, If you want to change the content PVM will create a \n",
    "# new object for it."
   ]
  },
  {
   "cell_type": "code",
   "execution_count": 40,
   "metadata": {},
   "outputs": [
    {
     "name": "stdout",
     "output_type": "stream",
     "text": [
      "10897536\n",
      "and \n",
      " 10897536\n",
      "True\n",
      "139851020016616\n",
      "and \n",
      " 139851020016544\n",
      "139851020016640\n",
      "False\n"
     ]
    }
   ],
   "source": [
    "var = 100\n",
    "var1 = var\n",
    "\n",
    "print(id(var))\n",
    "print(\"and \\n\",id(var1))\n",
    "\n",
    "print(var is var1)\n",
    "\n",
    "\n",
    "var = 200.1\n",
    "var1 = 200.1\n",
    "var2 = 200.1\n",
    "\n",
    "print(id(var))\n",
    "print(\"and \\n\",id(var1))\n",
    "\n",
    "print(id(var2))\n",
    "\n",
    "print(var is var1)"
   ]
  },
  {
   "cell_type": "code",
   "execution_count": 41,
   "metadata": {},
   "outputs": [
    {
     "name": "stdout",
     "output_type": "stream",
     "text": [
      "False\n",
      "139850985482960\n",
      "and \n",
      " 139850985483152\n"
     ]
    }
   ],
   "source": [
    "var = 10+20j\n",
    "var1 = 10+20j\n",
    "print(var is var1)\n",
    "print(id(var))\n",
    "print(\"and \\n\",id(var1))\n",
    "# ID are different"
   ]
  },
  {
   "cell_type": "raw",
   "metadata": {},
   "source": [
    "Assignment: Try same for string and boolean types"
   ]
  },
  {
   "cell_type": "markdown",
   "metadata": {},
   "source": [
    "# bytes and bytearray Data Types:"
   ]
  },
  {
   "cell_type": "code",
   "execution_count": 42,
   "metadata": {},
   "outputs": [
    {
     "name": "stdout",
     "output_type": "stream",
     "text": [
      "<class 'list'>\n",
      "<class 'bytes'>\n",
      "10\n",
      "20\n",
      "30\n",
      "40\n",
      "50\n",
      "60\n"
     ]
    }
   ],
   "source": [
    "# bytes can hold the values from 0 to 256\n",
    "# You cant change the value of bytes once it is created\n",
    "\n",
    "\n",
    "a = [10,20,30,40,50,60]\n",
    "print(type(a))\n",
    "\n",
    "b = bytes(a)\n",
    "\n",
    "print(type(b))\n",
    "#b[0]=100\n",
    "# it will raise error:\n",
    "# bytes' object does not support item assignment\n",
    "\n",
    "\n",
    "for i in b:\n",
    "    print(i)\n",
    "\n"
   ]
  },
  {
   "cell_type": "code",
   "execution_count": 43,
   "metadata": {},
   "outputs": [
    {
     "name": "stdout",
     "output_type": "stream",
     "text": [
      "<class 'list'>\n",
      "<class 'bytearray'>\n",
      "10\n",
      "20\n",
      "30\n",
      "40\n",
      "50\n",
      "60\n",
      "New List:\n",
      "10\n",
      "150\n",
      "30\n",
      "40\n",
      "50\n",
      "60\n",
      "Thst is difference\n"
     ]
    }
   ],
   "source": [
    "# bytearray\n",
    "\n",
    "# You can change the value of bytearray after creatation also\n",
    "\n",
    "\n",
    "a = [10,20,30,40,50,60]\n",
    "print(type(a))\n",
    "\n",
    "b = bytearray(a)\n",
    "\n",
    "print(type(b))\n",
    "\n",
    "for i in b:\n",
    "    print(i)\n",
    "\n",
    "b[1]= 150\n",
    "print(\"New List:\")\n",
    "for i in b:\n",
    "    print(i)\n",
    "print(\"Thst is difference\")"
   ]
  },
  {
   "cell_type": "markdown",
   "metadata": {},
   "source": [
    "# Data Types"
   ]
  },
  {
   "cell_type": "raw",
   "metadata": {},
   "source": [
    "Text Type=>str\n",
    "Numeric Type=>int, float, complex\n",
    "Sequence Type=>list, tuple, range\n",
    "Mapping Type=>dict\n",
    "Set Type=>set, frozenset\n",
    "Boolean Type=>bool\n",
    "Binary Types=>bytes, bytearray, Memoryview"
   ]
  },
  {
   "cell_type": "markdown",
   "metadata": {},
   "source": [
    "# 1. List "
   ]
  },
  {
   "cell_type": "raw",
   "metadata": {},
   "source": [
    "1. List stores multiple items with different data types.\n",
    "2. [] brackets are used to create list\n",
    "3. List is ordered, changeable and stores duplicates also.\n",
    "4. List is growable, elements are added at end of list."
   ]
  },
  {
   "cell_type": "code",
   "execution_count": 44,
   "metadata": {},
   "outputs": [
    {
     "name": "stdout",
     "output_type": "stream",
     "text": [
      "[1, 2, 3, 4, 5]\n",
      "[10.2, 20.1, 30.3, 40.0, 50.21]\n",
      "['Nitin', 'Datta', 'Rahul', 'Padmaja']\n",
      "[1, 10.2, 'Nitin']\n"
     ]
    }
   ],
   "source": [
    "# ex\n",
    "list1 = [1,2,3,4,5]\n",
    "list2 = [10.2,20.1,30.3,40.0,50.21]\n",
    "list3 = ['Nitin', 'Datta', 'Rahul', 'Padmaja']\n",
    "list4 = [1,10.2,'Nitin']\n",
    "\n",
    "print(list1)\n",
    "print(list2)\n",
    "print(list3)\n",
    "print(list4)"
   ]
  },
  {
   "cell_type": "raw",
   "metadata": {},
   "source": [
    "# Accesing list items"
   ]
  },
  {
   "cell_type": "code",
   "execution_count": 45,
   "metadata": {},
   "outputs": [
    {
     "name": "stdout",
     "output_type": "stream",
     "text": [
      "<class 'list'>\n"
     ]
    }
   ],
   "source": [
    "print(type(list1))\n"
   ]
  },
  {
   "cell_type": "code",
   "execution_count": 46,
   "metadata": {},
   "outputs": [
    {
     "name": "stdout",
     "output_type": "stream",
     "text": [
      "1\n",
      "20.1\n",
      "Nitin\n",
      "[1, 2, 3, 4, 5]\n",
      "[10.2, 20.1, 30.3, 40.0, 50.21]\n",
      "['Nitin', 'Datta', 'Rahul', 'Padmaja']\n",
      "[1, 10.2, 'Nitin']\n"
     ]
    }
   ],
   "source": [
    "print(list1[0])\n",
    "print(list2[1])\n",
    "print(list3[0])\n",
    "print(list1)\n",
    "print(list2)\n",
    "print(list3)\n",
    "print(list4)"
   ]
  },
  {
   "cell_type": "code",
   "execution_count": 47,
   "metadata": {},
   "outputs": [
    {
     "data": {
      "text/plain": [
       "[10.2, 20.1, 30.3, 40.0, 50.21]"
      ]
     },
     "execution_count": 47,
     "metadata": {},
     "output_type": "execute_result"
    }
   ],
   "source": [
    "list2[0:5]"
   ]
  },
  {
   "cell_type": "code",
   "execution_count": 48,
   "metadata": {},
   "outputs": [
    {
     "data": {
      "text/plain": [
       "[10.2, 20.1, 30.3]"
      ]
     },
     "execution_count": 48,
     "metadata": {},
     "output_type": "execute_result"
    }
   ],
   "source": [
    "list2[0:-2]"
   ]
  },
  {
   "cell_type": "code",
   "execution_count": 49,
   "metadata": {},
   "outputs": [
    {
     "name": "stdout",
     "output_type": "stream",
     "text": [
      "length of list1:\n",
      "5\n"
     ]
    }
   ],
   "source": [
    "print('length of list1:')\n",
    "print(len(list1))"
   ]
  },
  {
   "cell_type": "code",
   "execution_count": 50,
   "metadata": {},
   "outputs": [
    {
     "name": "stdout",
     "output_type": "stream",
     "text": [
      "[1, 2, 3, 4, 5]\n",
      "[1, 2, 3, 4, 5, 'sagar']\n"
     ]
    }
   ],
   "source": [
    "print(list1)\n",
    "list1.append(\"sagar\")\n",
    "print(list1)\n"
   ]
  },
  {
   "cell_type": "code",
   "execution_count": 51,
   "metadata": {},
   "outputs": [
    {
     "name": "stdout",
     "output_type": "stream",
     "text": [
      "[1, 2, 3, 4, 5, 'sagar']\n",
      "[1, 2, 3, 4, 5]\n"
     ]
    }
   ],
   "source": [
    "print(list1)\n",
    "list1.remove(\"sagar\")\n",
    "print(list1)"
   ]
  },
  {
   "cell_type": "code",
   "execution_count": 52,
   "metadata": {},
   "outputs": [
    {
     "name": "stdout",
     "output_type": "stream",
     "text": [
      "[1, 2, 3, 4, 5]\n",
      "[1, 2, 4, 5]\n"
     ]
    }
   ],
   "source": [
    "print(list1)\n",
    "list1.remove(3)\n",
    "print(list1)\n"
   ]
  },
  {
   "cell_type": "raw",
   "metadata": {},
   "source": [
    "# Available operations on list\n",
    "\n",
    "list1.append\n",
    "list1.clear\n",
    "list1.copy\n",
    "list1.count\n",
    "list1.extend\n",
    "list1.index\n",
    "list1.insert\n",
    "list1.pop\n",
    "list1.remove\n",
    "list1.reverse\n",
    "list1.sort\n"
   ]
  },
  {
   "cell_type": "code",
   "execution_count": null,
   "metadata": {},
   "outputs": [],
   "source": []
  },
  {
   "cell_type": "raw",
   "metadata": {},
   "source": [
    "#Change Values:"
   ]
  },
  {
   "cell_type": "code",
   "execution_count": 53,
   "metadata": {},
   "outputs": [
    {
     "name": "stdout",
     "output_type": "stream",
     "text": [
      "[1, 2, 4, 5]\n",
      "[1, 2, 4, 5, 6]\n"
     ]
    }
   ],
   "source": [
    "print(list1)\n",
    "list1.append(6)\n",
    "print(list1)"
   ]
  },
  {
   "cell_type": "code",
   "execution_count": 54,
   "metadata": {},
   "outputs": [
    {
     "name": "stdout",
     "output_type": "stream",
     "text": [
      "[1, 2, 4, 5, 6]\n",
      "[1, 2, 4, 5]\n"
     ]
    }
   ],
   "source": [
    "print(list1)\n",
    "list1.remove(6)\n",
    "print(list1)"
   ]
  },
  {
   "cell_type": "code",
   "execution_count": 55,
   "metadata": {},
   "outputs": [
    {
     "name": "stdout",
     "output_type": "stream",
     "text": [
      "[1, 2, 4, 5]\n"
     ]
    }
   ],
   "source": [
    "list_1 = list1.copy()\n",
    "print(list_1)"
   ]
  },
  {
   "cell_type": "code",
   "execution_count": 56,
   "metadata": {},
   "outputs": [
    {
     "name": "stdout",
     "output_type": "stream",
     "text": [
      "[1, 2, 4, 5]\n",
      "[1, 2, 4, 5, 1, 'Sagar', 'apple', 'banana']\n"
     ]
    }
   ],
   "source": [
    "print(list1)\n",
    "\n",
    "list1.extend([1,\"Sagar\"])\n",
    "l = ['apple', 'banana']\n",
    "list1.extend(l)\n",
    "print(list1)"
   ]
  },
  {
   "cell_type": "code",
   "execution_count": 57,
   "metadata": {},
   "outputs": [
    {
     "name": "stdout",
     "output_type": "stream",
     "text": [
      "6\n"
     ]
    }
   ],
   "source": [
    "print(list1.index('apple'))"
   ]
  },
  {
   "cell_type": "code",
   "execution_count": 58,
   "metadata": {},
   "outputs": [
    {
     "name": "stdout",
     "output_type": "stream",
     "text": [
      "[1, 2, 4, 5, 1, 'Sagar', 'apple', 'banana']\n",
      "[1, 2, 4, 100, 5, 1, 'Sagar', 'apple', 'banana']\n"
     ]
    }
   ],
   "source": [
    "print(list1)\n",
    "list1.insert(3,100) # list1.insert(index, value_to_insert)\n",
    "print(list1)"
   ]
  },
  {
   "cell_type": "code",
   "execution_count": 59,
   "metadata": {},
   "outputs": [
    {
     "name": "stdout",
     "output_type": "stream",
     "text": [
      "[1, 2, 4, 100, 5, 1, 'Sagar', 'apple', 'banana']\n",
      "[1, 4, 100, 5, 1, 'Sagar', 'apple', 'banana']\n",
      "[1, 4, 100, 5, 1, 'Sagar', 'apple']\n"
     ]
    }
   ],
   "source": [
    "print(list1)\n",
    "list1.pop(1) # pop element at this location list1.pop(location/index)\n",
    "print(list1)\n",
    "list1.pop() # pop last element\n",
    "print(list1)"
   ]
  },
  {
   "cell_type": "code",
   "execution_count": 60,
   "metadata": {},
   "outputs": [
    {
     "name": "stdout",
     "output_type": "stream",
     "text": [
      "[1, 4, 100, 5, 1, 'Sagar', 'apple']\n",
      "['apple', 'Sagar', 1, 5, 100, 4, 1]\n"
     ]
    }
   ],
   "source": [
    "print(list1)\n",
    "list1.reverse()\n",
    "print(list1)"
   ]
  },
  {
   "cell_type": "code",
   "execution_count": 61,
   "metadata": {},
   "outputs": [
    {
     "name": "stdout",
     "output_type": "stream",
     "text": [
      "[100, 2, 200, 88, 99, 20]\n",
      "Ascending\n",
      "[2, 20, 88, 99, 100, 200]\n",
      "Descending\n",
      "[200, 100, 99, 88, 20, 2]\n"
     ]
    }
   ],
   "source": [
    "list_1 = [100,2,200,88,99,20]\n",
    "print(list_1)\n",
    "print(\"Ascending\")\n",
    "list_1.sort(reverse=False) # Ascending\n",
    "print(list_1)\n",
    "print(\"Descending\")\n",
    "list_1.sort(reverse=True) # Descending\n",
    "print(list_1)"
   ]
  },
  {
   "cell_type": "code",
   "execution_count": 62,
   "metadata": {},
   "outputs": [
    {
     "name": "stdout",
     "output_type": "stream",
     "text": [
      "['apple', 'Sagar', 1, 5, 100, 4, 1]\n",
      "['apple', 'XYZ', 1, 5, 100, 4, 1]\n"
     ]
    }
   ],
   "source": [
    "print(list1)\n",
    "list1[1] = \"XYZ\"\n",
    "print(list1)"
   ]
  },
  {
   "cell_type": "code",
   "execution_count": 63,
   "metadata": {},
   "outputs": [
    {
     "name": "stdout",
     "output_type": "stream",
     "text": [
      "['apple', 'XYZ', 1, 5, 100, 4, 1]\n",
      "['apple', 'XYZ', 'Nitin_1', 'Rahul_1', 100, 4, 1]\n"
     ]
    }
   ],
   "source": [
    "print(list1)\n",
    "list1[2:4] = ['Nitin_1', 'Rahul_1']\n",
    "print(list1)"
   ]
  },
  {
   "cell_type": "code",
   "execution_count": 64,
   "metadata": {},
   "outputs": [
    {
     "name": "stdout",
     "output_type": "stream",
     "text": [
      "7\n",
      "['apple', 'XYZ', 'Nitin_1', 'Rahul_1', 100, 4, 1]\n"
     ]
    }
   ],
   "source": [
    "print(len(list1))\n",
    "#list1[9] = 'Padmaja'\n",
    "print(list1)"
   ]
  },
  {
   "cell_type": "markdown",
   "metadata": {},
   "source": [
    "# Tuple"
   ]
  },
  {
   "cell_type": "raw",
   "metadata": {},
   "source": [
    "1. Tuple is ordered and unchangeble\n",
    "2. Immutable (you cant change the elements or cant add elements in tuple)\n",
    "3. () are used to represent the tuple\n",
    "4. Allow duplicates\n",
    "5. tuples are read only version of your list except list is growable"
   ]
  },
  {
   "cell_type": "code",
   "execution_count": 65,
   "metadata": {},
   "outputs": [
    {
     "name": "stdout",
     "output_type": "stream",
     "text": [
      "('apple', 'banana', 'cherry', 'orange', 'kiwi', 'melon', 'mango')\n"
     ]
    }
   ],
   "source": [
    " tup = (\"apple\", \"banana\", \"cherry\", \"orange\", \"kiwi\", \"melon\", \"mango\")\n",
    "print(tup)"
   ]
  },
  {
   "cell_type": "code",
   "execution_count": 66,
   "metadata": {},
   "outputs": [
    {
     "data": {
      "text/plain": [
       "7"
      ]
     },
     "execution_count": 66,
     "metadata": {},
     "output_type": "execute_result"
    }
   ],
   "source": [
    "len(tup)"
   ]
  },
  {
   "cell_type": "code",
   "execution_count": 67,
   "metadata": {},
   "outputs": [
    {
     "name": "stdout",
     "output_type": "stream",
     "text": [
      "<class 'str'>\n",
      "<class 'tuple'>\n"
     ]
    }
   ],
   "source": [
    "tup1 = (\"apple\")\n",
    "print(type(tup1))\n",
    "\n",
    "tup1 = (\"apple\",)\n",
    "print(type(tup1))"
   ]
  },
  {
   "cell_type": "code",
   "execution_count": 68,
   "metadata": {},
   "outputs": [
    {
     "name": "stdout",
     "output_type": "stream",
     "text": [
      "('abc', 34, True, 40, 'male')\n"
     ]
    }
   ],
   "source": [
    "tup2 = (\"abc\", 34, True, 40, \"male\")\n",
    "print(tup2)"
   ]
  },
  {
   "cell_type": "code",
   "execution_count": 69,
   "metadata": {},
   "outputs": [
    {
     "name": "stdout",
     "output_type": "stream",
     "text": [
      "(10, 20, 30)\n"
     ]
    }
   ],
   "source": [
    "tup3 = tuple((10,20,30)) # tuple() constructor\n",
    "print(tup3)"
   ]
  },
  {
   "cell_type": "code",
   "execution_count": 70,
   "metadata": {},
   "outputs": [
    {
     "name": "stdout",
     "output_type": "stream",
     "text": [
      "('apple', 'banana', 'cherry', 'orange', 'kiwi', 'melon', 'mango')\n"
     ]
    },
    {
     "data": {
      "text/plain": [
       "'banana'"
      ]
     },
     "execution_count": 70,
     "metadata": {},
     "output_type": "execute_result"
    }
   ],
   "source": [
    "# access\n",
    "print(tup)\n",
    "tup[1]"
   ]
  },
  {
   "cell_type": "code",
   "execution_count": 71,
   "metadata": {},
   "outputs": [
    {
     "name": "stdout",
     "output_type": "stream",
     "text": [
      "('apple', 'banana', 'cherry', 'orange', 'kiwi', 'melon', 'mango')\n"
     ]
    },
    {
     "data": {
      "text/plain": [
       "'melon'"
      ]
     },
     "execution_count": 71,
     "metadata": {},
     "output_type": "execute_result"
    }
   ],
   "source": [
    "print(tup)\n",
    "tup[-2]"
   ]
  },
  {
   "cell_type": "code",
   "execution_count": 72,
   "metadata": {},
   "outputs": [
    {
     "data": {
      "text/plain": [
       "('apple', 'banana')"
      ]
     },
     "execution_count": 72,
     "metadata": {},
     "output_type": "execute_result"
    }
   ],
   "source": [
    "# range of items\n",
    "tup[0:2]"
   ]
  },
  {
   "cell_type": "code",
   "execution_count": 73,
   "metadata": {},
   "outputs": [
    {
     "name": "stdout",
     "output_type": "stream",
     "text": [
      "('apple', 'banana', 'cherry', 'orange', 'kiwi', 'melon', 'mango')\n",
      "<class 'tuple'>\n",
      "['apple', 'banana', 'cherry', 'orange', 'kiwi', 'melon', 'mango']\n",
      "<class 'list'>\n",
      "['apple', 'banana', 'potato', 'orange', 'kiwi', 'melon', 'mango']\n",
      "('apple', 'banana', 'potato', 'orange', 'kiwi', 'melon', 'mango')\n"
     ]
    }
   ],
   "source": [
    "# change tuple value using list\n",
    "# Do here\n",
    "print(tup)\n",
    "print(type(tup))\n",
    "var = list(tup)\n",
    "print(var)\n",
    "print(type(var))\n",
    "\n",
    "# change value\n",
    "\n",
    "var[2] = 'potato'\n",
    "print(var)\n",
    "\n",
    "# convert back to tuple\n",
    "\n",
    "tup = tuple(var)\n",
    "print(tup)\n"
   ]
  },
  {
   "cell_type": "code",
   "execution_count": 74,
   "metadata": {},
   "outputs": [
    {
     "name": "stdout",
     "output_type": "stream",
     "text": [
      "('apple', 'banana', 'potato', 'orange', 'kiwi', 'melon', 'mango')\n",
      "<class 'tuple'>\n",
      "['apple', 'banana', 'potato', 'orange', 'kiwi', 'melon', 'mango']\n",
      "<class 'list'>\n",
      "('apple', 'banana', 'tomato', 'potato', 'orange', 'kiwi', 'melon', 'mango')\n"
     ]
    }
   ],
   "source": [
    "# Add items\n",
    "print(tup)\n",
    "print(type(tup))\n",
    "var = list(tup)\n",
    "print(var)\n",
    "print(type(var))\n",
    "\n",
    "var.insert(2,'tomato')\n",
    "\n",
    "tup = tuple(var)\n",
    "print(tup)\n",
    "\n",
    "# convert back to tuple\n"
   ]
  },
  {
   "cell_type": "code",
   "execution_count": 75,
   "metadata": {},
   "outputs": [],
   "source": [
    "# tuple concat +"
   ]
  },
  {
   "cell_type": "code",
   "execution_count": 76,
   "metadata": {},
   "outputs": [],
   "source": [
    "# remove items using list"
   ]
  },
  {
   "cell_type": "code",
   "execution_count": 77,
   "metadata": {},
   "outputs": [],
   "source": [
    "# Complete deletion of tuple using del tuple_name"
   ]
  },
  {
   "cell_type": "code",
   "execution_count": 78,
   "metadata": {},
   "outputs": [
    {
     "name": "stdout",
     "output_type": "stream",
     "text": [
      "apple\n",
      "banana\n",
      "['cherry', 'strawberry', 'raspberry']\n"
     ]
    }
   ],
   "source": [
    "# Use of asterisk\n",
    "fruits = (\"apple\", \"banana\", \"cherry\", \"strawberry\", \"raspberry\")\n",
    "\n",
    "(green, yellow, *red) = fruits\n",
    "\n",
    "print(green)\n",
    "print(yellow)\n",
    "print(red)\n"
   ]
  },
  {
   "cell_type": "code",
   "execution_count": 79,
   "metadata": {},
   "outputs": [
    {
     "name": "stdout",
     "output_type": "stream",
     "text": [
      "apple\n",
      "['mango', 'papaya', 'pineapple']\n",
      "cherry\n"
     ]
    }
   ],
   "source": [
    " fruits = (\"apple\", \"mango\", \"papaya\", \"pineapple\", \"cherry\")\n",
    "\n",
    "(green, *tropic, red) = fruits\n",
    "\n",
    "print(green)\n",
    "print(tropic)\n",
    "print(red)"
   ]
  },
  {
   "cell_type": "code",
   "execution_count": 80,
   "metadata": {},
   "outputs": [
    {
     "name": "stdout",
     "output_type": "stream",
     "text": [
      "('apple', 'banana', 'tomato', 'potato', 'orange', 'kiwi', 'melon', 'mango')\n",
      "1\n",
      "('apple', 'banana', 'tomato', 'potato', 'orange', 'kiwi', 'melon', 'mango')\n",
      "3\n"
     ]
    }
   ],
   "source": [
    "# Methods: count() and index()\n",
    "print(tup)\n",
    "cnt = tup.count('tomato')\n",
    "print(cnt)\n",
    "\n",
    "print(tup)\n",
    "ind = tup.index('potato')\n",
    "print(ind)"
   ]
  },
  {
   "cell_type": "code",
   "execution_count": 81,
   "metadata": {},
   "outputs": [],
   "source": [
    "# Try assigning values to tuples\n",
    "# tup[0] = 'grapes'\n",
    "# TypeError: 'tuple' object does not support item assignment\n"
   ]
  },
  {
   "cell_type": "markdown",
   "metadata": {},
   "source": [
    "# Set"
   ]
  },
  {
   "cell_type": "raw",
   "metadata": {},
   "source": [
    "1. set is unordered collections of elements\n",
    "2. It is mutable\n",
    "3. It is growable\n",
    "4. Set items are unchangeable\n",
    "5. {} are used to represent set\n",
    "6. Index concept is not applicable\n",
    "7. duplicates are not allowed"
   ]
  },
  {
   "cell_type": "code",
   "execution_count": 82,
   "metadata": {},
   "outputs": [
    {
     "name": "stdout",
     "output_type": "stream",
     "text": [
      "{1, 2, 3, 'nitin', 'sagar', 'cherry'}\n",
      "<class 'set'>\n"
     ]
    }
   ],
   "source": [
    "s = {1,2,3,'sagar', 'nitin', 'cherry'}\n",
    "print(s)\n",
    "print(type(s))"
   ]
  },
  {
   "cell_type": "code",
   "execution_count": 83,
   "metadata": {},
   "outputs": [
    {
     "name": "stdout",
     "output_type": "stream",
     "text": [
      "6\n"
     ]
    }
   ],
   "source": [
    "print(len(s))"
   ]
  },
  {
   "cell_type": "code",
   "execution_count": 84,
   "metadata": {},
   "outputs": [
    {
     "name": "stdout",
     "output_type": "stream",
     "text": [
      "{'apple', 'banana', 'cherry'}\n",
      "<class 'set'>\n"
     ]
    }
   ],
   "source": [
    "# set() constructor\n",
    "set1 = set((\"apple\", \"banana\", \"cherry\"))\n",
    "print(set1)\n",
    "print(type(set1))"
   ]
  },
  {
   "cell_type": "code",
   "execution_count": 85,
   "metadata": {},
   "outputs": [
    {
     "name": "stdout",
     "output_type": "stream",
     "text": [
      "False\n",
      "True\n"
     ]
    }
   ],
   "source": [
    "# accessing set\n",
    "val = \"banana\" in s\n",
    "\n",
    "print(val)\n",
    "\n",
    "print(1 in s)\n"
   ]
  },
  {
   "cell_type": "code",
   "execution_count": 86,
   "metadata": {},
   "outputs": [
    {
     "name": "stdout",
     "output_type": "stream",
     "text": [
      "{'apple', 'banana', 'cherry'}\n",
      "{'apple', 'banana', 'orange', 'cherry'}\n"
     ]
    }
   ],
   "source": [
    "# once set is created u can not change elements value, \n",
    "# but u can add values\n",
    "print(set1)\n",
    "set1.add('orange')\n",
    "print(set1)"
   ]
  },
  {
   "cell_type": "code",
   "execution_count": 89,
   "metadata": {},
   "outputs": [
    {
     "name": "stdout",
     "output_type": "stream",
     "text": [
      "{1, 'banana', 2, 3, 'mango', 'cherry', 'apple', 'orange', 'pineapple', 'papaya'}\n",
      "{1, 'banana', 2, 3, 'mango', 'cherry', 'apple', 'orange', 'pineapple', 'papaya'}\n"
     ]
    }
   ],
   "source": [
    "# using update you can add any iterable items like set, list,tuple, dict-keys\n",
    "set2 = {\"pineapple\", \"mango\", \"papaya\"}\n",
    "#dict1 = {'a': 97}\n",
    "tup = (1,2,3)\n",
    "\n",
    "set1.update(set2)\n",
    "print(set1)\n",
    "set1.update(tup)\n",
    "\n",
    "print(set1)"
   ]
  },
  {
   "cell_type": "code",
   "execution_count": 90,
   "metadata": {},
   "outputs": [
    {
     "name": "stdout",
     "output_type": "stream",
     "text": [
      "Remove using remove():\n",
      " {1, 'banana', 2, 3, 'mango', 'cherry', 'apple', 'orange', 'pineapple', 'papaya'}\n",
      "{1, 'banana', 2, 3, 'mango', 'cherry', 'apple', 'orange', 'pineapple', 'papaya'}\n",
      "Remove using discard():\n",
      " {1, 'banana', 2, 3, 'mango', 'cherry', 'apple', 'orange', 'pineapple', 'papaya'}\n",
      "{1, 'banana', 3, 'mango', 'cherry', 'apple', 'orange', 'pineapple', 'papaya'}\n",
      "Remove using pop():\n",
      " {1, 'banana', 3, 'mango', 'cherry', 'apple', 'orange', 'pineapple', 'papaya'}\n",
      "{'banana', 3, 'mango', 'cherry', 'apple', 'orange', 'pineapple', 'papaya'}\n",
      "1\n"
     ]
    }
   ],
   "source": [
    "# remove(), discard(), pop()\n",
    "print(\"Remove using remove():\\n\",set1)\n",
    "#set1.remove('banana')\n",
    "print(set1)\n",
    "\n",
    "print(\"Remove using discard():\\n\",set1)\n",
    "set1.discard(2)\n",
    "print(set1)\n",
    "\n",
    "print(\"Remove using pop():\\n\",set1)\n",
    "res = set1.pop()\n",
    "print(set1)\n",
    "print(res)"
   ]
  },
  {
   "cell_type": "code",
   "execution_count": 91,
   "metadata": {},
   "outputs": [
    {
     "name": "stdout",
     "output_type": "stream",
     "text": [
      "{1, 2, 3, 'nitin', 'sagar', 'cherry'}\n",
      "\n",
      "{1, 2, 3, 'banana', 'nitin', 'sagar', 'cherry', 'mango', 'apple', 'orange', 'pineapple', 'papaya'}\n"
     ]
    }
   ],
   "source": [
    "# union\n",
    "\n",
    "# adds elements of two sets and create new set\n",
    "\n",
    "print(s)\n",
    "print()\n",
    "s = s.union(set1)\n",
    "print(s)\n",
    "\n",
    "# update method word for union only but adds element to calling set"
   ]
  },
  {
   "cell_type": "code",
   "execution_count": 92,
   "metadata": {},
   "outputs": [
    {
     "name": "stdout",
     "output_type": "stream",
     "text": [
      "{1, 2, 3, 'banana', 'nitin', 'sagar', 'cherry', 'mango', 'apple', 'orange', 'pineapple', 'papaya'}\n",
      "{'banana', 3, 'mango', 'cherry', 'apple', 'orange', 'pineapple', 'papaya'}\n",
      "itersection:\n",
      " {'banana', 3, 'mango', 'cherry', 'apple', 'orange', 'pineapple', 'papaya'}\n",
      "itersection Update:\n",
      " {'banana', 3, 'mango', 'cherry', 'apple', 'orange', 'pineapple', 'papaya'}\n"
     ]
    }
   ],
   "source": [
    "#\n",
    "print(s)\n",
    "print(set1)\n",
    "intr = s.intersection(set1)\n",
    "print(\"itersection:\\n\",intr)\n",
    "\n",
    "# keeps duplicates in s1 \n",
    "s.intersection_update(set1)\n",
    "print(\"itersection Update:\\n\",s)\n"
   ]
  },
  {
   "cell_type": "code",
   "execution_count": 93,
   "metadata": {},
   "outputs": [
    {
     "name": "stdout",
     "output_type": "stream",
     "text": [
      "{'banana', 3, 'mango', 'cherry', 'apple', 'orange', 'pineapple', 'papaya'}\n",
      "{'banana', 3, 'mango', 'cherry', 'apple', 'orange', 'pineapple', 'papaya'}\n",
      "{'banana', 3, 'mango', 'cherry', 'apple', 'orange', 'pineapple', 'papaya'}\n",
      "Symmetric Difference:\n",
      "\n",
      "Symmetric difference:\n",
      " {1, 2, 4, 6, 7, 8, 9}\n",
      "difference:\n",
      " {1, 2, 4, 6}\n"
     ]
    }
   ],
   "source": [
    "# keeps elements which are not present in other set\n",
    "s_1 ={1,2,3,4,5,6}\n",
    "s_2 = {3,5,7,8,9}\n",
    "\n",
    "print(s)\n",
    "print(set1)\n",
    "#s.symmetric_difference_update(set1)\n",
    "\n",
    "print(s) \n",
    "\n",
    "\n",
    "# returns new set\n",
    "\n",
    "print(\"Symmetric Difference:\\n\")\n",
    "\n",
    "k = s_1.symmetric_difference(s_2) \n",
    "# return elements which are present in s_1 not in s_2 + present in s_2 but not in s_1\n",
    "v = s_1.difference(s_2) \n",
    "# returns new set with elements present in s_1 but not in s_2\n",
    "print(\"Symmetric difference:\\n\",k)\n",
    "print(\"difference:\\n\",v) "
   ]
  },
  {
   "cell_type": "code",
   "execution_count": 94,
   "metadata": {},
   "outputs": [
    {
     "name": "stdout",
     "output_type": "stream",
     "text": [
      "False\n",
      "True\n",
      "True\n"
     ]
    }
   ],
   "source": [
    "#isdisjoint()Returns whether two sets have a intersection or not\n",
    "#issubset()Returns whether another set contains this set or not\n",
    "#issuperset()Returns whether this set contains another set or not\n",
    "\n",
    "print(s.isdisjoint(set1))\n",
    "print(s.issubset(set1))\n",
    "print(set1.issuperset(s))"
   ]
  },
  {
   "cell_type": "code",
   "execution_count": 95,
   "metadata": {},
   "outputs": [
    {
     "name": "stdout",
     "output_type": "stream",
     "text": [
      "{'banana', 3, 'mango', 'cherry', 'apple', 'orange', 'pineapple', 'papaya'}\n"
     ]
    }
   ],
   "source": [
    "# del and clear() method removes the set completely\n",
    "\n",
    "# uncomment to run it and see result\n",
    "print(s)\n",
    "#del s1\n",
    "#print(s1)"
   ]
  },
  {
   "cell_type": "markdown",
   "metadata": {},
   "source": [
    "# frozenset"
   ]
  },
  {
   "cell_type": "code",
   "execution_count": 137,
   "metadata": {},
   "outputs": [
    {
     "name": "stdout",
     "output_type": "stream",
     "text": [
      "<class 'set'>\n",
      "frozenset({'banana', 3, 'mango', 'cherry', 'apple', 'orange', 'pineapple', 'papaya'})\n",
      "<class 'frozenset'>\n",
      "frozenset({'banana', 3, 'mango', 'cherry', 'apple', 'orange', 'pineapple', 'papaya'})\n",
      "<class 'frozenset'>\n"
     ]
    }
   ],
   "source": [
    "# frozen set is same as set but it is immutable\n",
    "\n",
    "print(type(set1))\n",
    "s = frozenset(set1)\n",
    "print(s)\n",
    "print(type(s))\n",
    "# supported methods for frozen set\n",
    "\n",
    "s1 = s.copy()\n",
    "'''\n",
    "s.difference()\n",
    "s.intersection()\n",
    "s.isdisjoint()\n",
    "s.issubset()\n",
    "s.issuperset()\n",
    "s.symmetric_difference()\n",
    "s.union()\n",
    "'''\n",
    "print(s1)\n",
    "print(type(s1))"
   ]
  },
  {
   "cell_type": "markdown",
   "metadata": {},
   "source": [
    "# Dictionary"
   ]
  },
  {
   "cell_type": "raw",
   "metadata": {},
   "source": [
    "1. stores data in key:value pair\n",
    "2. It is ordered, changeable and does not allow duplicates.\n",
    "3. {} are used to write dictionaries\n",
    "4. Items are reffered by using key\n",
    "5. From Python version 3.7, dictionaries are ordered. "
   ]
  },
  {
   "cell_type": "code",
   "execution_count": 139,
   "metadata": {},
   "outputs": [
    {
     "name": "stdout",
     "output_type": "stream",
     "text": [
      "{'mobile': 9975923975, 'address': 'sangola', 'salary': 550000, 'job': 'Data', 'name': 'Nitn'}\n"
     ]
    }
   ],
   "source": [
    "dict1 = {\n",
    "    'name' : 'Nitn',\n",
    "    'mobile' : 9975923975,\n",
    "    'address' : 'sangola',\n",
    "    'job' : 'Data',\n",
    "    'salary' : 550000\n",
    "    \n",
    "}\n",
    "print(dict1)"
   ]
  },
  {
   "cell_type": "code",
   "execution_count": 141,
   "metadata": {},
   "outputs": [
    {
     "name": "stdout",
     "output_type": "stream",
     "text": [
      "Nitn\n"
     ]
    },
    {
     "data": {
      "text/plain": [
       "9975923975"
      ]
     },
     "execution_count": 141,
     "metadata": {},
     "output_type": "execute_result"
    }
   ],
   "source": [
    "print(dict1['name'])\n",
    "dict1['mobile']"
   ]
  },
  {
   "cell_type": "code",
   "execution_count": 142,
   "metadata": {},
   "outputs": [
    {
     "name": "stdout",
     "output_type": "stream",
     "text": [
      "5\n"
     ]
    }
   ],
   "source": [
    "print(len(dict1))"
   ]
  },
  {
   "cell_type": "code",
   "execution_count": 143,
   "metadata": {},
   "outputs": [
    {
     "name": "stdout",
     "output_type": "stream",
     "text": [
      "<class 'dict'>\n"
     ]
    }
   ],
   "source": [
    "print(type(dict1))"
   ]
  },
  {
   "cell_type": "code",
   "execution_count": 148,
   "metadata": {},
   "outputs": [
    {
     "name": "stdout",
     "output_type": "stream",
     "text": [
      "550000\n",
      "Data\n"
     ]
    },
    {
     "data": {
      "text/plain": [
       "550000"
      ]
     },
     "execution_count": 148,
     "metadata": {},
     "output_type": "execute_result"
    }
   ],
   "source": [
    "# accesing elemnts\n",
    "\n",
    "print(dict1['salary'])\n",
    "\n",
    "s = dict1.get('job')\n",
    "print(s)\n",
    "dict1['address']\n",
    "dict1.get('salary')"
   ]
  },
  {
   "cell_type": "code",
   "execution_count": 150,
   "metadata": {},
   "outputs": [
    {
     "name": "stdout",
     "output_type": "stream",
     "text": [
      "dict_keys(['mobile', 'address', 'salary', 'job', 'name'])\n"
     ]
    }
   ],
   "source": [
    "print(dict1.keys())\n"
   ]
  },
  {
   "cell_type": "code",
   "execution_count": 152,
   "metadata": {},
   "outputs": [
    {
     "name": "stdout",
     "output_type": "stream",
     "text": [
      "dict_keys(['mobile', 'job', 'salary', 'address', 'c_address', 'name', 'email'])\n",
      "dict_values([9975923975, 'Data', 550000, 'sangola', 'Pune', 'Nitn', 'nitin@gmail.com'])\n"
     ]
    }
   ],
   "source": [
    "# add new item\n",
    "dict1['c_address'] = 'Pune'\n",
    "\n",
    "dict1['email'] = 'nitin@gmail.com'\n",
    "print(dict1.keys())\n",
    "print(dict1.values())"
   ]
  },
  {
   "cell_type": "code",
   "execution_count": 153,
   "metadata": {},
   "outputs": [
    {
     "name": "stdout",
     "output_type": "stream",
     "text": [
      "dict_values([9975923975, 'Data', 550000, 'sangola', 'Pune', 'Nitn', 'nitin@gmail.com'])\n"
     ]
    }
   ],
   "source": [
    "# values\n",
    "print(dict1.values())"
   ]
  },
  {
   "cell_type": "code",
   "execution_count": 154,
   "metadata": {},
   "outputs": [
    {
     "data": {
      "text/plain": [
       "dict_items([('mobile', 9975923975), ('job', 'Data'), ('salary', 550000), ('address', 'sangola'), ('c_address', 'Pune'), ('name', 'Nitn'), ('email', 'nitin@gmail.com')])"
      ]
     },
     "execution_count": 154,
     "metadata": {},
     "output_type": "execute_result"
    }
   ],
   "source": [
    "dict1.items()"
   ]
  },
  {
   "cell_type": "code",
   "execution_count": 166,
   "metadata": {},
   "outputs": [
    {
     "name": "stdout",
     "output_type": "stream",
     "text": [
      "dict_items([('mobile', 9975923975), ('job', 'Data'), ('salary', 550000), ('address', 'sangola'), ('c_address', 'Pune'), ('name', 'Nitn'), ('height', 167), ('email', 'nitin@gmail.com')])\n",
      "{'mobile': 9975923975, 'job': 'Data', 'salary': 550000, 'address': 'sangola', 'c_address': 'Pune', 'name': 'Nitn', 'height': 167, 'email': 'nitin@gmail.com'}\n"
     ]
    }
   ],
   "source": [
    "print(dict1.items())\n",
    "print(dict1)"
   ]
  },
  {
   "cell_type": "code",
   "execution_count": 163,
   "metadata": {},
   "outputs": [
    {
     "name": "stdout",
     "output_type": "stream",
     "text": [
      "True\n"
     ]
    }
   ],
   "source": [
    "print('name' in dict1)"
   ]
  },
  {
   "cell_type": "code",
   "execution_count": 165,
   "metadata": {},
   "outputs": [
    {
     "name": "stdout",
     "output_type": "stream",
     "text": [
      "{'mobile': 9975923975, 'job': 'Data', 'salary': 550000, 'address': 'sangola', 'c_address': 'Pune', 'name': 'Nitn', 'height': 170, 'email': 'nitin@gmail.com'}\n",
      "{'mobile': 9975923975, 'job': 'Data', 'salary': 550000, 'address': 'sangola', 'c_address': 'Pune', 'name': 'Nitn', 'height': 167, 'email': 'nitin@gmail.com'}\n"
     ]
    }
   ],
   "source": [
    "# change value\n",
    "print(dict1)\n",
    "dict1['height'] = 167\n",
    "print(dict1)"
   ]
  },
  {
   "cell_type": "code",
   "execution_count": 112,
   "metadata": {},
   "outputs": [
    {
     "name": "stdout",
     "output_type": "stream",
     "text": [
      "{'mobile': 9975923975, 'job': 'Data', 'salary': 550000, 'address': 'sangola', 'c_address': 'Pune', 'name': 'sagar'}\n",
      "{'mobile': 9975923975, 'job': 'Data', 'salary': 550000, 'address': 'sangola', 'c_address': 'Pune', 'name': 'sagar', 'frined': 'rahul'}\n"
     ]
    }
   ],
   "source": [
    "print(dict1)\n",
    "dict1.update({'frined':'rahul'})\n",
    "print(dict1)"
   ]
  },
  {
   "cell_type": "code",
   "execution_count": 113,
   "metadata": {},
   "outputs": [
    {
     "name": "stdout",
     "output_type": "stream",
     "text": [
      "<class 'dict'>\n"
     ]
    }
   ],
   "source": [
    "print(type(dict1))"
   ]
  },
  {
   "cell_type": "code",
   "execution_count": 171,
   "metadata": {},
   "outputs": [
    {
     "name": "stdout",
     "output_type": "stream",
     "text": [
      "{'mobile': 9975923975, 'job': 'Data', 'salary': 550000, 'address': 'sangola', 'name': 'Nitn', 'height': 167, 'email': 'nitin@gmail.com'}\n",
      "{'mobile': 9975923975, 'job': 'Data', 'salary': 550000, 'address': 'sangola', 'name': 'Nitn', 'height': 167, 'email': 'nitin@gmail.com'}\n"
     ]
    },
    {
     "data": {
      "text/plain": [
       "('mobile', 9975923975)"
      ]
     },
     "execution_count": 171,
     "metadata": {},
     "output_type": "execute_result"
    }
   ],
   "source": [
    "# Remove item\n",
    "print(dict1)\n",
    "#dict1.pop('c_address')\n",
    "print(dict1)\n",
    "dict1.popitem()"
   ]
  },
  {
   "cell_type": "code",
   "execution_count": 172,
   "metadata": {},
   "outputs": [
    {
     "name": "stdout",
     "output_type": "stream",
     "text": [
      "{'job': 'Data', 'salary': 550000, 'address': 'sangola', 'name': 'Nitn', 'height': 167, 'email': 'nitin@gmail.com'}\n",
      "{'salary': 550000, 'address': 'sangola', 'name': 'Nitn', 'height': 167, 'email': 'nitin@gmail.com'}\n"
     ]
    }
   ],
   "source": [
    "# del can remove items as well as removes the dictionary\n",
    "print(dict1)\n",
    "del dict1['job']\n",
    "print(dict1)\n",
    "#del dict1\n"
   ]
  },
  {
   "cell_type": "code",
   "execution_count": 119,
   "metadata": {},
   "outputs": [],
   "source": [
    "# clear() method and del keyword are used to remove and empty the dict"
   ]
  },
  {
   "cell_type": "code",
   "execution_count": 173,
   "metadata": {},
   "outputs": [
    {
     "name": "stdout",
     "output_type": "stream",
     "text": [
      "{'salary': 550000, 'address': 'sangola', 'name': 'Nitn', 'height': 167, 'email': 'nitin@gmail.com'}\n",
      "{'salary': 550000, 'address': 'sangola', 'name': 'Nitn', 'height': 167, 'email': 'nitin@gmail.com'}\n",
      "{'mobile': 9975923975, 'salary': 550000, 'address': 'sangola', 'name': 'Nitn', 'height': 167, 'email': 'nitin@gmail.com'}\n"
     ]
    }
   ],
   "source": [
    "# copy dictionary\n",
    "\n",
    "dict_1 = dict1 # this is reference to your dict not copy of dict1\n",
    "print(dict1)\n",
    "print(dict_1)\n",
    "\n",
    "dict_1['mobile'] = 9975923975 # added to dict_1 , same reflected in dict1\n",
    "print(dict1)"
   ]
  },
  {
   "cell_type": "code",
   "execution_count": 174,
   "metadata": {},
   "outputs": [
    {
     "name": "stdout",
     "output_type": "stream",
     "text": [
      "{'mobile': 9975923975, 'salary': 550000, 'address': 'sangola', 'name': 'Nitn', 'height': 167, 'email': 'nitin@gmail.com'}\n",
      "{'mobile': 9975923975, 'random': 'val', 'salary': 550000, 'name': 'Nitn', 'address': 'sangola', 'height': 167, 'email': 'nitin@gmail.com'}\n",
      "{'mobile': 9975923975, 'salary': 550000, 'address': 'sangola', 'name': 'Nitn', 'height': 167, 'email': 'nitin@gmail.com'}\n"
     ]
    }
   ],
   "source": [
    "# copy() method\n",
    "\n",
    "print(dict1)\n",
    "dict2 = dict1.copy()\n",
    "dict2['random'] = 'val'\n",
    "print(dict2) # random added \n",
    "print(dict1) # not reflected in dict1"
   ]
  },
  {
   "cell_type": "code",
   "execution_count": 175,
   "metadata": {},
   "outputs": [
    {
     "name": "stdout",
     "output_type": "stream",
     "text": [
      "{'mobile': 9975923975, 'salary': 550000, 'name': 'Nitn', 'address': 'sangola', 'height': 167, 'email': 'nitin@gmail.com'}\n"
     ]
    }
   ],
   "source": [
    "# dict() for copy\n",
    "\n",
    "dict3 = dict(dict1)\n",
    "print(dict3)\n"
   ]
  },
  {
   "cell_type": "code",
   "execution_count": 130,
   "metadata": {},
   "outputs": [
    {
     "name": "stdout",
     "output_type": "stream",
     "text": [
      "{'l_3': {'g_d_l': 'gd1', 'gs': 'gs1'}, 'l_1': {'mother': 'm1', 'father': 'f1'}, 'l_2': {'d_in_l': 'd1', 'son': 's1'}}\n"
     ]
    }
   ],
   "source": [
    "parent = {\n",
    "    'father': 'f1',\n",
    "    'mother': 'm1'\n",
    "         }\n",
    "son = {\n",
    "    'son' : 's1',\n",
    "    'd_in_l' : 'd1'\n",
    "}\n",
    "\n",
    "grandson = {\n",
    "    'gs' : 'gs1',\n",
    "    'g_d_l' : 'gd1'\n",
    "}\n",
    "\n",
    "family = {\n",
    "    'l_1' : parent,\n",
    "    'l_2' : son,\n",
    "    'l_3' : grandson\n",
    "}\n",
    "\n",
    "print(family)"
   ]
  },
  {
   "cell_type": "code",
   "execution_count": 135,
   "metadata": {},
   "outputs": [
    {
     "data": {
      "text/plain": [
       "{'father': 'f1', 'mother': 'm1'}"
      ]
     },
     "execution_count": 135,
     "metadata": {},
     "output_type": "execute_result"
    }
   ],
   "source": [
    "family['l_1']\n"
   ]
  },
  {
   "cell_type": "code",
   "execution_count": null,
   "metadata": {},
   "outputs": [],
   "source": []
  }
 ],
 "metadata": {
  "kernelspec": {
   "display_name": "Python 3",
   "language": "python",
   "name": "python3"
  },
  "language_info": {
   "codemirror_mode": {
    "name": "ipython",
    "version": 3
   },
   "file_extension": ".py",
   "mimetype": "text/x-python",
   "name": "python",
   "nbconvert_exporter": "python",
   "pygments_lexer": "ipython3",
   "version": "3.5.2"
  }
 },
 "nbformat": 4,
 "nbformat_minor": 4
}
