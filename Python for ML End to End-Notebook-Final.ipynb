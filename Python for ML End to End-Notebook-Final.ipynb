{
 "cells": [
  {
   "cell_type": "markdown",
   "metadata": {},
   "source": [
    "# Python End to End in detail"
   ]
  },
  {
   "cell_type": "code",
   "execution_count": null,
   "metadata": {},
   "outputs": [],
   "source": [
    "1. Python: Programming Language\n",
    "2. Numpy : library- Mathematical cal.\n",
    "3. Pandas : Library- To hold data\n",
    "4. Statistics and Maths: Concepts \n",
    "5. Machine Learning: Algorithms\n",
    "6. Deep Learning: Kears and Tensorflow\n",
    "7. NLP\n",
    "8. SQL \n",
    "9. Git and Github\n",
    "10. Building git profile, Linked IN Profile, Naukri Profile, Resume building\n",
    "11. Internship : 6 months.\n",
    "\n"
   ]
  },
  {
   "cell_type": "markdown",
   "metadata": {},
   "source": [
    "Basic:\n",
    "It is a general purpose high level programming language.\n",
    "\n",
    "Python was developed by Guido Van Rossam at National Research Institute at Netherlands.\n",
    "\n",
    "official relaese date of python is 20th feb 1991\n"
   ]
  },
  {
   "cell_type": "code",
   "execution_count": 11,
   "metadata": {},
   "outputs": [
    {
     "name": "stdout",
     "output_type": "stream",
     "text": [
      "Hi\n",
      "Hello\n",
      "Sagar\n"
     ]
    }
   ],
   "source": [
    "# Printing Hello \n",
    "\n",
    "print('Hi')\n",
    "print('Hello')\n",
    "print('Sagar')\n",
    "\n"
   ]
  },
  {
   "cell_type": "raw",
   "metadata": {},
   "source": [
    "for C Language:\n",
    "--- Compiled Languages\n",
    "\n",
    "write - xyz.c\n",
    "compile- xyz.c----> Errors will be show here\n",
    "Run- xyz.c----> Will get executed\n",
    "\n",
    "--- Intepreted Languages\n",
    "\n",
    "Run--> It will stop execution when it finds an error or exception.\n",
    "\n",
    "\n"
   ]
  },
  {
   "cell_type": "markdown",
   "metadata": {},
   "source": [
    "# Note:\n",
    "\n",
    "It is very simple to print hello in python, as compared to other programming languages\n",
    "\n",
    "coding in python is really less time consuming than other programming languages"
   ]
  },
  {
   "cell_type": "markdown",
   "metadata": {},
   "source": [
    "# Python Features\n",
    "\n",
    "    1) Easy to Learn and Use. \n",
    "    2) Expressive Language. Python language is\n",
    "    more expressive means that\n",
    "    it is more understandable and readable.\n",
    "    3) Interpreted Language. ...\n",
    "    4) Cross-platform Language. ...\n",
    "    5) Free and Open Source. ...\n",
    "    6) Object-Oriented Language. ...\n",
    "    7) Extensible. ...\n",
    "    8) Large Standard Library.\n",
    "\n",
    "# Applications\n",
    "\n",
    "1) Web Applications....\n",
    "2) Desktop GUI Applications....\n",
    "3) Software Development....\n",
    "4) Scientific and Numeric....\n",
    "5) Business Applications....\n",
    "6) Console Based Application....\n",
    "7) Audio or Video based Applications....\n",
    "8) 3D CAD Applications.\n",
    "9) AI\n",
    "10) ML, DL\n",
    "11) Data Analytics\n",
    "\n",
    "# Good to Know\n",
    "\n",
    "1. Functional Programming Features from C\n",
    "2. Object Oriented Programming Features from C++\n",
    "3. Scripting Language Features from Perl and Shell Script\n",
    "4. Modular Programming Features from Modula-3\n"
   ]
  },
  {
   "cell_type": "markdown",
   "metadata": {},
   "source": [
    "# Identifiers\n",
    "1. names in python are called as identifiers.\n",
    "2. Function name, variable name, module name, class name are identifiers in python\n",
    "3. Rules:\n",
    "\n",
    "    1. Alphabet Symbols (Either Upper case OR Lower case)\n",
    "    2. If Identifier is start with Underscore (_) then it indicates it is private.\n",
    "    3. Identifier should not start with Digits.\n",
    "    4. Identifiers are case sensitive.\n",
    "    5. We cannot use reserved words as identifiers\n",
    "    6. Dollor ($) Symbol is not allowed in Python.\n",
    "    \n",
    "    ex: Akash, akash,AKASH, _aKASH, _AKASH, _akash\n",
    "    Wrong: 1_aksh, 1akash, 1AKASH"
   ]
  },
  {
   "cell_type": "code",
   "execution_count": 18,
   "metadata": {},
   "outputs": [
    {
     "name": "stdout",
     "output_type": "stream",
     "text": [
      "Hey guys I am taking session on python\n",
      "THis is zzz\n",
      "Kaviraj\n",
      "Arde\n",
      "10000\n",
      "This is a python Language\n",
      "vaibhav\n",
      "rahul\n"
     ]
    }
   ],
   "source": [
    "name = 'vaibhav'\n",
    "Name = 'rahul'\n",
    "python = 'This is a python Language'\n",
    "\n",
    "x = 10000\n",
    "\n",
    "fname = 'Kaviraj'\n",
    "lname =  \"Arde\"\n",
    "y = 'Hey guys I am taking session on python'\n",
    "z = \"THis is zzz\"\n",
    "print(y)\n",
    "print(z)\n",
    "\n",
    "\n",
    "print(fname)\n",
    "print(lname)\n",
    "print(x)\n",
    "print(python)\n",
    "\n",
    "\n",
    "print(name)\n",
    "\n",
    "print(Name)\n",
    "\n"
   ]
  },
  {
   "cell_type": "markdown",
   "metadata": {},
   "source": [
    "# Special Notes\n",
    "\n",
    "1. If identifier starts with _ symbol,then it is private\n",
    "2. If identifier starts with __(2 underscore), indicate that it is a strongly private.\n",
    "3. If the identifier starts and ends with two underscore symbols, then such identifiers are\n",
    "language defined special name, \n",
    "# which is also known as magic methods.\n",
    "ex:   [ __DoIt__  ]"
   ]
  },
  {
   "cell_type": "code",
   "execution_count": 6,
   "metadata": {},
   "outputs": [
    {
     "name": "stdout",
     "output_type": "stream",
     "text": [
      "10\n",
      "<class 'int'>\n",
      "Sagar\n",
      "<class 'str'>\n",
      "This is python\n",
      "<class 'str'>\n"
     ]
    }
   ],
   "source": [
    "# Example of identifiers\n",
    "a = 10\n",
    "print(a)\n",
    "print(type(a))\n",
    "\n",
    "\n",
    "fname = 'Sagar'\n",
    "print(fname)\n",
    "print(type(fname))\n",
    "\n",
    "\n",
    "a = 'This is python'\n",
    "print(a)\n",
    "print(type(a))"
   ]
  },
  {
   "cell_type": "code",
   "execution_count": 1,
   "metadata": {},
   "outputs": [
    {
     "ename": "SyntaxError",
     "evalue": "invalid syntax (<ipython-input-1-854294b6df1f>, line 1)",
     "output_type": "error",
     "traceback": [
      "\u001b[0;36m  File \u001b[0;32m\"<ipython-input-1-854294b6df1f>\"\u001b[0;36m, line \u001b[0;32m1\u001b[0m\n\u001b[0;31m    Keywords are the system reserved words which can be used by user and can not be re-declared by user\u001b[0m\n\u001b[0m               ^\u001b[0m\n\u001b[0;31mSyntaxError\u001b[0m\u001b[0;31m:\u001b[0m invalid syntax\n"
     ]
    }
   ],
   "source": []
  },
  {
   "cell_type": "markdown",
   "metadata": {},
   "source": [
    "# Keywords\n",
    "\n",
    "Def:\n",
    "Keywords are the system reserved words which can be used by user and can not be re-declared by user\n",
    "\n",
    "\n",
    "There are around 33 keywords:\n",
    "\n",
    "if,elif,else,while,for,break,continue,return,in,True,False,None,and, or,not,is,yield,try,except,finally,raise,del,with,assert,import,from,as,class,def,pass,\n",
    "global,nonlocal,lambda."
   ]
  },
  {
   "cell_type": "code",
   "execution_count": 9,
   "metadata": {},
   "outputs": [
    {
     "name": "stdout",
     "output_type": "stream",
     "text": [
      "['False', 'None', 'True', 'and', 'as', 'assert', 'break', 'class', 'continue', 'def', 'del', 'elif', 'else', 'except', 'finally', 'for', 'from', 'global', 'if', 'import', 'in', 'is', 'lambda', 'nonlocal', 'not', 'or', 'pass', 'raise', 'return', 'try', 'while', 'with', 'yield']\n"
     ]
    },
    {
     "data": {
      "text/plain": [
       "33"
      ]
     },
     "execution_count": 9,
     "metadata": {},
     "output_type": "execute_result"
    }
   ],
   "source": [
    "# we can see all keywords from python using below code\n",
    "import keyword\n",
    "print(keyword.kwlist)\n",
    "\n",
    "len(keyword.kwlist)"
   ]
  },
  {
   "cell_type": "markdown",
   "metadata": {},
   "source": [
    "# Data Types in Python:\n",
    "\n",
    "1. Data type of variable is the type of value inside that variable.\n",
    "2. In python we do not need to mension the data type of variable, It automatically assigns data type.\n",
    "1. int   2. float   3.complex   4.bool   5.str    6.bytes    7.bytearray    8.range    9.list   10.tuple   11.set      12.frozenset    13.dict    14.None\n"
   ]
  },
  {
   "cell_type": "code",
   "execution_count": 10,
   "metadata": {},
   "outputs": [
    {
     "name": "stdout",
     "output_type": "stream",
     "text": [
      "Output:\n",
      "10\n",
      "<class 'int'>\n"
     ]
    }
   ],
   "source": [
    "# int\n",
    "\n",
    "var = 10  # decimal\n",
    "\n",
    "# we can declare octal and Hex value also\n",
    "print(\"Output:\")\n",
    "print(var)\n",
    "print(type(var))"
   ]
  },
  {
   "cell_type": "code",
   "execution_count": 12,
   "metadata": {},
   "outputs": [
    {
     "name": "stdout",
     "output_type": "stream",
     "text": [
      "Output:\n",
      "101.22\n",
      "<class 'float'>\n"
     ]
    }
   ],
   "source": [
    "# Float\n",
    "\n",
    "var = 101.22\n",
    "\n",
    "print(\"Output:\")\n",
    "print(var)\n",
    "print(type(var))"
   ]
  },
  {
   "cell_type": "code",
   "execution_count": 18,
   "metadata": {},
   "outputs": [
    {
     "name": "stdout",
     "output_type": "stream",
     "text": [
      "Output:\n",
      "(3+4j)\n",
      "<class 'complex'>\n",
      "Real: 3.0\n",
      "<class 'float'>\n",
      "Imaginary: 4.0\n"
     ]
    }
   ],
   "source": [
    "# Complex\n",
    "var = 3+4j\n",
    "\n",
    "# 3 is real part, 4j is imaginary part, j^2 = -1\n",
    "print('Output:')\n",
    "print(var)\n",
    "print(type(var))\n",
    "print(\"Real:\", var.real)\n",
    "print(type(var.real))\n",
    "print(\"Imaginary:\",var.imag)"
   ]
  },
  {
   "cell_type": "code",
   "execution_count": 16,
   "metadata": {},
   "outputs": [
    {
     "name": "stdout",
     "output_type": "stream",
     "text": [
      "Output:\n",
      "True\n",
      "<class 'bool'>\n",
      "True\n",
      "<class 'str'>\n"
     ]
    }
   ],
   "source": [
    "# boolean\n",
    "var = True\n",
    "var_1 = False\n",
    "\n",
    "x = 'True'\n",
    "print(\"Output:\")\n",
    "print(var)\n",
    "print(type(var))\n",
    "print(x)\n",
    "print(type(x))"
   ]
  },
  {
   "cell_type": "code",
   "execution_count": 9,
   "metadata": {},
   "outputs": [
    {
     "name": "stdout",
     "output_type": "stream",
     "text": [
      "Output:\n",
      "python3.9\n",
      "<class 'str'>\n"
     ]
    }
   ],
   "source": [
    "# String data type\n",
    "var = \"python3.9\"\n",
    "# when take input from user: values are considered as \"string\"\n",
    "print(\"Output:\")\n",
    "print(var)\n",
    "print(type(var))"
   ]
  },
  {
   "cell_type": "markdown",
   "metadata": {},
   "source": [
    "# Typecasting\n",
    "\n",
    "Def: Conversion of one type of data into other type of data is called  as tyapcasting.\n",
    "\n",
    "int,\n",
    "float,\n",
    "str,\n",
    "boolean,\n",
    "complex,\n",
    "object."
   ]
  },
  {
   "cell_type": "raw",
   "metadata": {},
   "source": [
    "# What is typecasting:\n",
    "\n",
    "Conversion of data from one type to another type.\n",
    "eg. str1 = \"python is best\"\n",
    "str2 = \"100\"\n",
    "Note: we can convert str2 into float, int"
   ]
  },
  {
   "cell_type": "code",
   "execution_count": 23,
   "metadata": {},
   "outputs": [
    {
     "name": "stdout",
     "output_type": "stream",
     "text": [
      "100\n",
      "<class 'int'>\n",
      "100.0\n",
      "<class 'float'>\n",
      "200\n",
      "<class 'str'>\n",
      "200.0\n",
      "<class 'float'>\n",
      "Demonstration of string to float conversion:\n",
      "python\n"
     ]
    }
   ],
   "source": [
    "# int/string to float conversion:\n",
    "\n",
    "str1 = \"python\"\n",
    "var = 100\n",
    "str2 = \"200\"\n",
    "\n",
    "print(var)\n",
    "print(type(var))\n",
    "var_1 = float(var)\n",
    "print(var_1)\n",
    "print(type(var_1))\n",
    "\n",
    "print(str2)\n",
    "print(type(str2))\n",
    "str2_1 = float(str2)\n",
    "print(str2_1)\n",
    "print(type(str2_1))\n",
    "\n",
    "print(\"Demonstration of string to float conversion:\")\n",
    "print(str1)\n",
    "#var2 = float(str1)"
   ]
  },
  {
   "cell_type": "code",
   "execution_count": 3,
   "metadata": {},
   "outputs": [
    {
     "name": "stdout",
     "output_type": "stream",
     "text": [
      "float to int:\n",
      "100.2\n",
      "<class 'float'>\n",
      "100\n",
      "<class 'int'>\n",
      "String to int:\n",
      "500\n",
      "<class 'str'>\n",
      "500\n",
      "<class 'int'>\n",
      "String to int:\n",
      "200.30\n",
      "<class 'str'>\n",
      "string to complex:\n",
      "3+4j\n",
      "<class 'str'>\n",
      "(3+4j)\n",
      "<class 'complex'>\n"
     ]
    }
   ],
   "source": [
    "# float/string to int conversion\n",
    "\n",
    "var = 100.20\n",
    "str1 = \"200.30\"\n",
    "str2 = \"500\"\n",
    "str3 = \"python\"\n",
    "\n",
    "print(\"float to int:\")\n",
    "\n",
    "print(var)\n",
    "print(type(var))\n",
    "var1 = int(var)\n",
    "print(var1)\n",
    "print(type(var1))\n",
    "\n",
    "print(\"String to int:\")\n",
    "print(str2)\n",
    "print(type(str2))\n",
    "var3 = int(str2)\n",
    "print(var3)\n",
    "print(type(var3))\n",
    "\n",
    "print(\"String to int:\")\n",
    "print(str1)\n",
    "print(type(str1))\n",
    "# var2 = int(str1)\n",
    "# print(var2)\n",
    "# print(type(var2))\n",
    "\n",
    "print(\"string to complex:\")\n",
    "cm = '3+4j'\n",
    "print(cm)\n",
    "print(type(cm))\n",
    "c_no = complex(cm)\n",
    "print(c_no)\n",
    "print(type(c_no))\n",
    "\n",
    "\n",
    "#print(\"String to int:\")\n",
    "#print(str3)\n",
    "#print(type(str3))\n",
    "#var4 = int(str3)\n",
    "#print(var4)\n",
    "#print(type(var4))\n"
   ]
  },
  {
   "cell_type": "code",
   "execution_count": 12,
   "metadata": {},
   "outputs": [
    {
     "name": "stdout",
     "output_type": "stream",
     "text": [
      "float to string:\n",
      "100.23\n",
      "<class 'float'>\n",
      "100.23\n",
      "<class 'str'>\n",
      "int to string:\n",
      "20\n",
      "<class 'int'>\n",
      "20\n",
      "<class 'str'>\n",
      "Complex to string:\n",
      "(2+4j)\n",
      "<class 'complex'>\n",
      "(2+4j)\n",
      "<class 'str'>\n"
     ]
    }
   ],
   "source": [
    "# float, int to string\n",
    "\n",
    "var = 100.23\n",
    "var1 = 20\n",
    "comp = 2+4j\n",
    "print(\"float to string:\")\n",
    "print(var)\n",
    "print(type(var))\n",
    "var3 = str(var)\n",
    "print(var3)\n",
    "print(type(var3))\n",
    "\n",
    "print(\"int to string:\")\n",
    "print(var1)\n",
    "print(type(var1))\n",
    "var4 = str(var1)\n",
    "print(var4)\n",
    "print(type(var4))\n",
    "\n",
    "print(\"Complex to string:\")\n",
    "print(comp)\n",
    "print(type(comp))\n",
    "var5 = str(comp)\n",
    "print(var5)\n",
    "print(type(var5))"
   ]
  },
  {
   "cell_type": "markdown",
   "metadata": {},
   "source": [
    "# Other types to Complex"
   ]
  },
  {
   "cell_type": "code",
   "execution_count": 13,
   "metadata": {},
   "outputs": [
    {
     "name": "stdout",
     "output_type": "stream",
     "text": [
      "(10+0j)\n",
      "(12.4+0j)\n",
      "(10.23+0j)\n"
     ]
    }
   ],
   "source": [
    "# use complex() function for conversion\n",
    "\n",
    "var = 10\n",
    "\n",
    "print(complex(var))\n",
    "\n",
    "var1 = 12.4\n",
    "\n",
    "print(complex(var1))\n",
    "\n",
    "var3 = \"10.23\"\n",
    "print(complex(var3))\n"
   ]
  },
  {
   "cell_type": "code",
   "execution_count": 14,
   "metadata": {},
   "outputs": [
    {
     "name": "stdout",
     "output_type": "stream",
     "text": [
      "(10+5j)\n",
      "(10.2+4j)\n",
      "(1+0j)\n"
     ]
    }
   ],
   "source": [
    "print(complex(10,5)) # 10+5j\n",
    "print(complex(10.20,4))\n",
    "\n",
    "print(complex(True,False)) # 1+0j"
   ]
  },
  {
   "cell_type": "markdown",
   "metadata": {},
   "source": [
    "# Bool()"
   ]
  },
  {
   "cell_type": "code",
   "execution_count": 15,
   "metadata": {},
   "outputs": [
    {
     "name": "stdout",
     "output_type": "stream",
     "text": [
      "1\n"
     ]
    }
   ],
   "source": [
    "print(int(True))"
   ]
  },
  {
   "cell_type": "code",
   "execution_count": 16,
   "metadata": {},
   "outputs": [
    {
     "name": "stdout",
     "output_type": "stream",
     "text": [
      "0\n"
     ]
    }
   ],
   "source": [
    "print(int(False))"
   ]
  },
  {
   "cell_type": "code",
   "execution_count": 17,
   "metadata": {},
   "outputs": [
    {
     "name": "stdout",
     "output_type": "stream",
     "text": [
      "1.0\n"
     ]
    }
   ],
   "source": [
    "print(float(True))"
   ]
  },
  {
   "cell_type": "code",
   "execution_count": 18,
   "metadata": {},
   "outputs": [
    {
     "name": "stdout",
     "output_type": "stream",
     "text": [
      "0.0\n"
     ]
    }
   ],
   "source": [
    "print(float(False))"
   ]
  },
  {
   "cell_type": "code",
   "execution_count": 19,
   "metadata": {},
   "outputs": [
    {
     "name": "stdout",
     "output_type": "stream",
     "text": [
      "(1+0j)\n"
     ]
    }
   ],
   "source": [
    "print(complex(True))"
   ]
  },
  {
   "cell_type": "code",
   "execution_count": 20,
   "metadata": {},
   "outputs": [
    {
     "name": "stdout",
     "output_type": "stream",
     "text": [
      "0j\n",
      "0j\n"
     ]
    }
   ],
   "source": [
    "print(complex(False))\n",
    "\n",
    "c = 0+0j\n",
    "\n",
    "print(c)"
   ]
  },
  {
   "cell_type": "code",
   "execution_count": 21,
   "metadata": {},
   "outputs": [
    {
     "name": "stdout",
     "output_type": "stream",
     "text": [
      "True\n",
      "False\n"
     ]
    }
   ],
   "source": [
    "\n",
    "print(str(True))\n",
    "print(str(False))"
   ]
  },
  {
   "cell_type": "code",
   "execution_count": 22,
   "metadata": {},
   "outputs": [
    {
     "name": "stdout",
     "output_type": "stream",
     "text": [
      "True\n",
      "False\n"
     ]
    }
   ],
   "source": [
    "print(bool(3.1))\n",
    "print(bool(0.0))"
   ]
  },
  {
   "cell_type": "code",
   "execution_count": 23,
   "metadata": {},
   "outputs": [
    {
     "name": "stdout",
     "output_type": "stream",
     "text": [
      "True\n",
      "False\n"
     ]
    }
   ],
   "source": [
    "print(bool(1))\n",
    "print(bool(0))"
   ]
  },
  {
   "cell_type": "code",
   "execution_count": 24,
   "metadata": {},
   "outputs": [
    {
     "name": "stdout",
     "output_type": "stream",
     "text": [
      "False\n",
      "False\n",
      "True\n",
      "True\n"
     ]
    }
   ],
   "source": [
    "print(bool(\"\"))\n",
    "print(bool())\n",
    "print(bool(\"h\"))\n",
    "print(bool(11))"
   ]
  },
  {
   "cell_type": "code",
   "execution_count": 25,
   "metadata": {},
   "outputs": [
    {
     "name": "stdout",
     "output_type": "stream",
     "text": [
      "True\n",
      "True\n",
      "True\n",
      "False\n"
     ]
    }
   ],
   "source": [
    "print(bool(1+2j))\n",
    "print(bool(1+0j))\n",
    "print(bool(0+2j))\n",
    "print(bool(0+0j))"
   ]
  },
  {
   "cell_type": "markdown",
   "metadata": {},
   "source": [
    "# String Slicing\n",
    "\n",
    "operations: slicing"
   ]
  },
  {
   "cell_type": "raw",
   "metadata": {},
   "source": [
    "# liscing is making peaces of a string using some separator\n",
    "# [] is a slice opearator"
   ]
  },
  {
   "cell_type": "code",
   "execution_count": 12,
   "metadata": {},
   "outputs": [],
   "source": [
    "# assignment\n",
    "str1 = \"This tutorial is basically designed for beginers\"\n"
   ]
  },
  {
   "cell_type": "code",
   "execution_count": 2,
   "metadata": {},
   "outputs": [],
   "source": [
    "# take simple string\n",
    "\n",
    "str2 = \"Python\"\n",
    "#012345"
   ]
  },
  {
   "cell_type": "code",
   "execution_count": 3,
   "metadata": {},
   "outputs": [
    {
     "data": {
      "text/plain": [
       "'P'"
      ]
     },
     "execution_count": 3,
     "metadata": {},
     "output_type": "execute_result"
    }
   ],
   "source": [
    "str2[0]"
   ]
  },
  {
   "cell_type": "code",
   "execution_count": 29,
   "metadata": {},
   "outputs": [
    {
     "data": {
      "text/plain": [
       "'n'"
      ]
     },
     "execution_count": 29,
     "metadata": {},
     "output_type": "execute_result"
    }
   ],
   "source": [
    "str2[5]"
   ]
  },
  {
   "cell_type": "code",
   "execution_count": 30,
   "metadata": {},
   "outputs": [
    {
     "data": {
      "text/plain": [
       "'Python'"
      ]
     },
     "execution_count": 30,
     "metadata": {},
     "output_type": "execute_result"
    }
   ],
   "source": [
    "str2"
   ]
  },
  {
   "cell_type": "code",
   "execution_count": 31,
   "metadata": {},
   "outputs": [
    {
     "data": {
      "text/plain": [
       "'y'"
      ]
     },
     "execution_count": 31,
     "metadata": {},
     "output_type": "execute_result"
    }
   ],
   "source": [
    "str2[1]"
   ]
  },
  {
   "cell_type": "code",
   "execution_count": 4,
   "metadata": {
    "scrolled": true
   },
   "outputs": [
    {
     "data": {
      "text/plain": [
       "'Python'"
      ]
     },
     "execution_count": 4,
     "metadata": {},
     "output_type": "execute_result"
    }
   ],
   "source": [
    "# Ranged Indexing\n",
    "str2[0:]"
   ]
  },
  {
   "cell_type": "code",
   "execution_count": 10,
   "metadata": {},
   "outputs": [
    {
     "name": "stdout",
     "output_type": "stream",
     "text": [
      "Pyth\n",
      "Python\n",
      "Pyt\n"
     ]
    }
   ],
   "source": [
    "# [start:end]\n",
    "print(str2[:4])\n",
    "print(str2[-6:])\n",
    "print(str2[0:3])"
   ]
  },
  {
   "cell_type": "code",
   "execution_count": 34,
   "metadata": {},
   "outputs": [
    {
     "data": {
      "text/plain": [
       "str"
      ]
     },
     "execution_count": 34,
     "metadata": {},
     "output_type": "execute_result"
    }
   ],
   "source": [
    "type(str2)"
   ]
  },
  {
   "cell_type": "code",
   "execution_count": 35,
   "metadata": {},
   "outputs": [
    {
     "data": {
      "text/plain": [
       "'n'"
      ]
     },
     "execution_count": 35,
     "metadata": {},
     "output_type": "execute_result"
    }
   ],
   "source": [
    "str2[-1]"
   ]
  },
  {
   "cell_type": "code",
   "execution_count": 5,
   "metadata": {},
   "outputs": [
    {
     "data": {
      "text/plain": [
       "'on'"
      ]
     },
     "execution_count": 5,
     "metadata": {},
     "output_type": "execute_result"
    }
   ],
   "source": [
    "str2[-2:]  "
   ]
  },
  {
   "cell_type": "code",
   "execution_count": 6,
   "metadata": {},
   "outputs": [
    {
     "data": {
      "text/plain": [
       "'n'"
      ]
     },
     "execution_count": 6,
     "metadata": {},
     "output_type": "execute_result"
    }
   ],
   "source": [
    "str2[-1:]"
   ]
  },
  {
   "cell_type": "code",
   "execution_count": 7,
   "metadata": {},
   "outputs": [
    {
     "data": {
      "text/plain": [
       "'hon'"
      ]
     },
     "execution_count": 7,
     "metadata": {},
     "output_type": "execute_result"
    }
   ],
   "source": [
    "str2[-3:]\n"
   ]
  },
  {
   "cell_type": "code",
   "execution_count": 8,
   "metadata": {},
   "outputs": [
    {
     "data": {
      "text/plain": [
       "'ho'"
      ]
     },
     "execution_count": 8,
     "metadata": {},
     "output_type": "execute_result"
    }
   ],
   "source": [
    "str2[-3:-1]"
   ]
  },
  {
   "cell_type": "code",
   "execution_count": 13,
   "metadata": {},
   "outputs": [
    {
     "name": "stdout",
     "output_type": "stream",
     "text": [
      "Pyth\n"
     ]
    },
    {
     "data": {
      "text/plain": [
       "'This tutorial is basically designed for beginersThis tutorial is basically designed for beginersThis tutorial is basically designed for beginers'"
      ]
     },
     "execution_count": 13,
     "metadata": {},
     "output_type": "execute_result"
    }
   ],
   "source": [
    "str3 = str2[:4]\n",
    "print(str3)\n",
    "str1*3"
   ]
  },
  {
   "cell_type": "markdown",
   "metadata": {},
   "source": [
    "# Immutability"
   ]
  },
  {
   "cell_type": "raw",
   "metadata": {},
   "source": [
    "# In python once an object is created, we are not allowed to change\n",
    "# the content, If you want to change the content PVM will create a \n",
    "# new object for it."
   ]
  },
  {
   "cell_type": "code",
   "execution_count": 2,
   "metadata": {},
   "outputs": [
    {
     "name": "stdout",
     "output_type": "stream",
     "text": [
      "10897536\n",
      "and \n",
      " 10897536\n",
      "True\n",
      "140353254627464\n",
      "and \n",
      " 140353254627440\n",
      "140353254627368\n",
      "False\n"
     ]
    }
   ],
   "source": [
    "var = 100\n",
    "var1 = var\n",
    "\n",
    "print(id(var))\n",
    "print(\"and \\n\",id(var1))\n",
    "\n",
    "print(var is var1)\n",
    "\n",
    "\n",
    "var = 200.10\n",
    "var1 = 200.10\n",
    "var2 = 200.10\n",
    "\n",
    "print(id(var))\n",
    "print(\"and \\n\",id(var1))\n",
    "\n",
    "print(id(var2))\n",
    "\n",
    "print(var is var1)"
   ]
  },
  {
   "cell_type": "code",
   "execution_count": 42,
   "metadata": {},
   "outputs": [
    {
     "name": "stdout",
     "output_type": "stream",
     "text": [
      "False\n",
      "140434761182128\n",
      "and \n",
      " 140434761180880\n"
     ]
    }
   ],
   "source": [
    "var = 10+20j\n",
    "var1 = 10+20j\n",
    "print(var is var1)\n",
    "print(id(var))\n",
    "print(\"and \\n\",id(var1))\n",
    "# ID are different"
   ]
  },
  {
   "cell_type": "raw",
   "metadata": {},
   "source": [
    "Assignment: Try same for string and boolean types"
   ]
  },
  {
   "cell_type": "markdown",
   "metadata": {},
   "source": [
    "# bytes and bytearray Data Types:"
   ]
  },
  {
   "cell_type": "code",
   "execution_count": 16,
   "metadata": {},
   "outputs": [
    {
     "name": "stdout",
     "output_type": "stream",
     "text": [
      "<class 'list'>\n",
      "b'\\n\\x14\\x1e(2<'\n",
      "<class 'bytes'>\n",
      "10\n",
      "20\n",
      "30\n",
      "40\n",
      "50\n",
      "60\n"
     ]
    }
   ],
   "source": [
    "# bytes can hold the values from 0 to 256\n",
    "# You cant change the value of bytes once it is created\n",
    "# Bytes is immutable\n",
    "\n",
    "\n",
    "a = [10,20,30,40,50,60]\n",
    "print(type(a))\n",
    "\n",
    "b = bytes(a)\n",
    "print(b)\n",
    "print(type(b))\n",
    "#b[0]=100\n",
    "#it will raise error:\n",
    "#bytes' object does not support item assignment\n",
    "\n",
    "\n",
    "for i in b:\n",
    "    print(i)\n",
    "\n"
   ]
  },
  {
   "cell_type": "code",
   "execution_count": 17,
   "metadata": {},
   "outputs": [
    {
     "name": "stdout",
     "output_type": "stream",
     "text": [
      "<class 'list'>\n",
      "<class 'bytearray'>\n",
      "10\n",
      "20\n",
      "30\n",
      "40\n",
      "50\n",
      "60\n",
      "New List:\n",
      "10\n",
      "150\n",
      "30\n",
      "40\n",
      "50\n",
      "60\n",
      "This is difference\n"
     ]
    }
   ],
   "source": [
    "# bytearray\n",
    "\n",
    "# You can change the value of bytearray after creatation also\n",
    "\n",
    "\n",
    "a = [10,20,30,40,50,60]\n",
    "print(type(a))\n",
    "\n",
    "b = bytearray(a)\n",
    "\n",
    "print(type(b))\n",
    "\n",
    "for i in b:\n",
    "    print(i)\n",
    "\n",
    "b[1]= 150\n",
    "print(\"New List:\")\n",
    "for i in b:\n",
    "    print(i)\n",
    "print(\"This is difference\")"
   ]
  },
  {
   "cell_type": "markdown",
   "metadata": {},
   "source": [
    "# Data Types"
   ]
  },
  {
   "cell_type": "raw",
   "metadata": {},
   "source": [
    "Text Type=> str\n",
    "Numeric Type=> int, float, complex\n",
    "Sequence Type=> list, tuple, range\n",
    "Mapping Type=> dict\n",
    "Set Type=> set, frozenset\n",
    "Boolean Type=> bool\n",
    "Binary Types=> bytes, bytearray, Memoryview"
   ]
  },
  {
   "cell_type": "markdown",
   "metadata": {},
   "source": [
    "# 1. List "
   ]
  },
  {
   "cell_type": "raw",
   "metadata": {},
   "source": [
    "1. List stores multiple items with different data types.\n",
    "2. [] brackets are used to create list\n",
    "3. List is ordered, changeable and stores duplicates also.\n",
    "4. List is growable, elements are added at end of list."
   ]
  },
  {
   "cell_type": "code",
   "execution_count": 18,
   "metadata": {},
   "outputs": [
    {
     "name": "stdout",
     "output_type": "stream",
     "text": [
      "[1, 2, 3, 4, 5]\n",
      "[10.2, 20.1, 30.3, 40.0, 50.21]\n",
      "['Nitin', 'Datta', 'Rahul', 'Padmaja']\n",
      "[1, 10.2, 'Nitin']\n"
     ]
    }
   ],
   "source": [
    "# ex\n",
    "list1 = [1,2,3,4,5]\n",
    "list2 = [10.2,20.1,30.3,40.0,50.21]\n",
    "list3 = ['Nitin', 'Datta', 'Rahul', 'Padmaja']\n",
    "list4 = [1,10.2,'Nitin']\n",
    "\n",
    "print(list1)\n",
    "print(list2)\n",
    "print(list3)\n",
    "print(list4)"
   ]
  },
  {
   "cell_type": "raw",
   "metadata": {},
   "source": [
    "# Accesing list items"
   ]
  },
  {
   "cell_type": "code",
   "execution_count": 10,
   "metadata": {},
   "outputs": [
    {
     "name": "stdout",
     "output_type": "stream",
     "text": [
      "<class 'list'>\n"
     ]
    },
    {
     "data": {
      "text/plain": [
       "list"
      ]
     },
     "execution_count": 10,
     "metadata": {},
     "output_type": "execute_result"
    }
   ],
   "source": [
    "print(type(list1))\n",
    "type(list1)"
   ]
  },
  {
   "cell_type": "code",
   "execution_count": 19,
   "metadata": {},
   "outputs": [
    {
     "name": "stdout",
     "output_type": "stream",
     "text": [
      "1\n",
      "20.1\n",
      "Nitin\n",
      "[1, 2, 3, 4, 5]\n",
      "[10.2, 20.1, 30.3, 40.0, 50.21]\n",
      "['Nitin', 'Datta', 'Rahul', 'Padmaja']\n",
      "[1, 10.2, 'Nitin']\n",
      "************\n",
      "[1, 2, 3, 4, 5]\n"
     ]
    },
    {
     "data": {
      "text/plain": [
       "2"
      ]
     },
     "execution_count": 19,
     "metadata": {},
     "output_type": "execute_result"
    }
   ],
   "source": [
    "print(list1[0])\n",
    "print(list2[1])\n",
    "print(list3[0])\n",
    "print(list1)\n",
    "print(list2)\n",
    "print(list3)\n",
    "print(list4)\n",
    "\n",
    "\n",
    "print(\"************\")\n",
    "print(list1)\n",
    "list1[1]"
   ]
  },
  {
   "cell_type": "code",
   "execution_count": 24,
   "metadata": {},
   "outputs": [
    {
     "name": "stdout",
     "output_type": "stream",
     "text": [
      "[10.2, 20.1, 30.3, 40.0, 50.21]\n",
      "[10.2, 20.1, 30.3, 40.0, 50.21]\n"
     ]
    },
    {
     "data": {
      "text/plain": [
       "[10.2, 20.1, 30.3, 40.0, 50.21]"
      ]
     },
     "execution_count": 24,
     "metadata": {},
     "output_type": "execute_result"
    }
   ],
   "source": [
    "\n",
    "print(list2)\n",
    "print(list2)\n",
    "list2[0: 10]\n",
    "list2"
   ]
  },
  {
   "cell_type": "code",
   "execution_count": 27,
   "metadata": {},
   "outputs": [
    {
     "name": "stdout",
     "output_type": "stream",
     "text": [
      "[10.2, 20.1, 30.3, 40.0, 50.21]\n"
     ]
    },
    {
     "data": {
      "text/plain": [
       "[10.2, 20.1, 30.3]"
      ]
     },
     "execution_count": 27,
     "metadata": {},
     "output_type": "execute_result"
    }
   ],
   "source": [
    "print(list2)\n",
    "#list2[-2]\n",
    "list2[0:-2]"
   ]
  },
  {
   "cell_type": "code",
   "execution_count": 50,
   "metadata": {},
   "outputs": [
    {
     "name": "stdout",
     "output_type": "stream",
     "text": [
      "length of list1:\n",
      "5\n"
     ]
    },
    {
     "data": {
      "text/plain": [
       "4"
      ]
     },
     "execution_count": 50,
     "metadata": {},
     "output_type": "execute_result"
    }
   ],
   "source": [
    "print('length of list1:')\n",
    "print(len(list1))\n",
    "\n",
    "\n",
    "len(list3)"
   ]
  },
  {
   "cell_type": "code",
   "execution_count": 29,
   "metadata": {},
   "outputs": [
    {
     "name": "stdout",
     "output_type": "stream",
     "text": [
      "[1, 2, 3, 4, 5]\n",
      "[1, 2, 3, 4, 5, 'sagar']\n"
     ]
    }
   ],
   "source": [
    "print(list1)\n",
    "list1.append(\"sagar\")\n",
    "print(list1)\n",
    "\n"
   ]
  },
  {
   "cell_type": "code",
   "execution_count": 30,
   "metadata": {},
   "outputs": [
    {
     "name": "stdout",
     "output_type": "stream",
     "text": [
      "[1, 2, 3, 4, 5, 'sagar']\n",
      "[1, 2, 3, 4, 5]\n"
     ]
    }
   ],
   "source": [
    "print(list1)\n",
    "list1.remove(\"sagar\")\n",
    "print(list1)"
   ]
  },
  {
   "cell_type": "code",
   "execution_count": 53,
   "metadata": {},
   "outputs": [
    {
     "name": "stdout",
     "output_type": "stream",
     "text": [
      "[1, 2, 3, 4, 5]\n",
      "[1, 2, 4, 5]\n"
     ]
    }
   ],
   "source": [
    "print(list1)\n",
    "list1.remove(3)\n",
    "print(list1)\n"
   ]
  },
  {
   "cell_type": "raw",
   "metadata": {},
   "source": [
    "# Available operations on list\n",
    "\n",
    "list1.append\n",
    "list1.clear\n",
    "list1.copy\n",
    "list1.count\n",
    "list1.extend\n",
    "list1.index\n",
    "list1.insert\n",
    "list1.pop\n",
    "list1.remove\n",
    "list1.reverse\n",
    "list1.sort\n"
   ]
  },
  {
   "cell_type": "code",
   "execution_count": null,
   "metadata": {},
   "outputs": [],
   "source": []
  },
  {
   "cell_type": "raw",
   "metadata": {},
   "source": [
    "#Change Values:"
   ]
  },
  {
   "cell_type": "code",
   "execution_count": 54,
   "metadata": {},
   "outputs": [
    {
     "name": "stdout",
     "output_type": "stream",
     "text": [
      "[1, 2, 4, 5]\n",
      "[1, 2, 4, 5, 6]\n"
     ]
    }
   ],
   "source": [
    "print(list1)\n",
    "list1.append(6)\n",
    "print(list1)"
   ]
  },
  {
   "cell_type": "code",
   "execution_count": 55,
   "metadata": {},
   "outputs": [
    {
     "name": "stdout",
     "output_type": "stream",
     "text": [
      "[1, 2, 4, 5, 6]\n",
      "[1, 2, 4, 5]\n"
     ]
    }
   ],
   "source": [
    "print(list1)\n",
    "list1.remove(6)\n",
    "print(list1)"
   ]
  },
  {
   "cell_type": "code",
   "execution_count": 56,
   "metadata": {},
   "outputs": [
    {
     "name": "stdout",
     "output_type": "stream",
     "text": [
      "[1, 2, 4, 5]\n"
     ]
    }
   ],
   "source": [
    "list_1 = list1.copy()\n",
    "print(list_1)"
   ]
  },
  {
   "cell_type": "code",
   "execution_count": 57,
   "metadata": {},
   "outputs": [
    {
     "name": "stdout",
     "output_type": "stream",
     "text": [
      "[1, 2, 4, 5]\n",
      "[1, 2, 4, 5, 1, 'Sagar', 'apple', 'banana']\n"
     ]
    }
   ],
   "source": [
    "print(list1)\n",
    "\n",
    "list1.extend([1,\"Sagar\"])\n",
    "l = ['apple', 'banana']\n",
    "list1.extend(l)\n",
    "print(list1)"
   ]
  },
  {
   "cell_type": "code",
   "execution_count": 58,
   "metadata": {},
   "outputs": [
    {
     "name": "stdout",
     "output_type": "stream",
     "text": [
      "6\n"
     ]
    }
   ],
   "source": [
    "print(list1.index('apple'))"
   ]
  },
  {
   "cell_type": "code",
   "execution_count": 59,
   "metadata": {},
   "outputs": [
    {
     "name": "stdout",
     "output_type": "stream",
     "text": [
      "[1, 2, 4, 5, 1, 'Sagar', 'apple', 'banana']\n",
      "[1, 2, 4, 100, 5, 1, 'Sagar', 'apple', 'banana']\n"
     ]
    }
   ],
   "source": [
    "print(list1)\n",
    "list1.insert(3,100) # list1.insert(index, value_to_insert)\n",
    "print(list1)"
   ]
  },
  {
   "cell_type": "code",
   "execution_count": 60,
   "metadata": {},
   "outputs": [
    {
     "name": "stdout",
     "output_type": "stream",
     "text": [
      "[1, 2, 4, 100, 5, 1, 'Sagar', 'apple', 'banana']\n",
      "[1, 4, 100, 5, 1, 'Sagar', 'apple', 'banana']\n",
      "[1, 4, 100, 5, 1, 'Sagar', 'apple']\n"
     ]
    }
   ],
   "source": [
    "print(list1)\n",
    "list1.pop(1) # pop element at this location list1.pop(location/index)\n",
    "print(list1)\n",
    "list1.pop() # pop last element\n",
    "print(list1)"
   ]
  },
  {
   "cell_type": "code",
   "execution_count": 61,
   "metadata": {},
   "outputs": [
    {
     "name": "stdout",
     "output_type": "stream",
     "text": [
      "[1, 4, 100, 5, 1, 'Sagar', 'apple']\n",
      "['apple', 'Sagar', 1, 5, 100, 4, 1]\n"
     ]
    }
   ],
   "source": [
    "print(list1)\n",
    "list1.reverse()\n",
    "print(list1)"
   ]
  },
  {
   "cell_type": "code",
   "execution_count": 62,
   "metadata": {},
   "outputs": [
    {
     "name": "stdout",
     "output_type": "stream",
     "text": [
      "[100, 2, 200, 88, 99, 20]\n",
      "Ascending\n",
      "[2, 20, 88, 99, 100, 200]\n",
      "Descending\n",
      "[200, 100, 99, 88, 20, 2]\n"
     ]
    }
   ],
   "source": [
    "list_1 = [100,2,200,88,99,20]\n",
    "print(list_1)\n",
    "print(\"Ascending\")\n",
    "list_1.sort(reverse=False) # Ascending\n",
    "print(list_1)\n",
    "print(\"Descending\")\n",
    "list_1.sort(reverse=True) # Descending\n",
    "print(list_1)"
   ]
  },
  {
   "cell_type": "code",
   "execution_count": 27,
   "metadata": {},
   "outputs": [
    {
     "name": "stdout",
     "output_type": "stream",
     "text": [
      "[1, 'XYZ', 3, 4, 5, 'sagar']\n",
      "[1, 'Kaviraj', 3, 4, 5, 'sagar']\n"
     ]
    }
   ],
   "source": [
    "print(list1)\n",
    "list1[1] = \"Kaviraj\"\n",
    "print(list1)"
   ]
  },
  {
   "cell_type": "code",
   "execution_count": 28,
   "metadata": {},
   "outputs": [
    {
     "name": "stdout",
     "output_type": "stream",
     "text": [
      "[1, 'Kaviraj', 3, 4, 5, 'sagar']\n",
      "[1, 'Kaviraj', 'Nitin_1', 'Rahul_1', 5, 'sagar']\n"
     ]
    }
   ],
   "source": [
    "print(list1)\n",
    "list1[2:4] = ['Nitin_1', 'Rahul_1']\n",
    "print(list1)"
   ]
  },
  {
   "cell_type": "code",
   "execution_count": 29,
   "metadata": {},
   "outputs": [
    {
     "name": "stdout",
     "output_type": "stream",
     "text": [
      "6\n",
      "[1, 'Kaviraj', 'Nitin_1', 'Rahul_1', 5, 'sagar']\n"
     ]
    }
   ],
   "source": [
    "print(len(list1))\n",
    "#list1[9] = 'Padmaja'\n",
    "print(list1)"
   ]
  },
  {
   "cell_type": "markdown",
   "metadata": {},
   "source": [
    "# Tuple"
   ]
  },
  {
   "cell_type": "raw",
   "metadata": {},
   "source": [
    "1. Tuple is ordered and unchangeble\n",
    "2. Immutable (you cant change the elements or cant add elements in tuple)\n",
    "3. () are used to represent the tuple\n",
    "4. Allow duplicates\n",
    "5. tuples are read only version of your list except list is growable"
   ]
  },
  {
   "cell_type": "code",
   "execution_count": 30,
   "metadata": {},
   "outputs": [
    {
     "name": "stdout",
     "output_type": "stream",
     "text": [
      "('apple', 'apple', 'banana', 'cherry', 'orange', 'kiwi', 'melon', 'mango')\n"
     ]
    }
   ],
   "source": [
    " tup = (\"apple\",'apple', \"banana\", \"cherry\", \"orange\", \"kiwi\", \"melon\", \"mango\")\n",
    "print(tup)"
   ]
  },
  {
   "cell_type": "code",
   "execution_count": 37,
   "metadata": {},
   "outputs": [
    {
     "name": "stdout",
     "output_type": "stream",
     "text": [
      "8\n",
      "1\n"
     ]
    },
    {
     "data": {
      "text/plain": [
       "2"
      ]
     },
     "execution_count": 37,
     "metadata": {},
     "output_type": "execute_result"
    }
   ],
   "source": [
    "print(len(tup))\n",
    "print(tup.count('orange'))\n",
    "tup.index('banana')\n",
    "\n"
   ]
  },
  {
   "cell_type": "code",
   "execution_count": 68,
   "metadata": {},
   "outputs": [
    {
     "name": "stdout",
     "output_type": "stream",
     "text": [
      "<class 'str'>\n",
      "<class 'tuple'>\n"
     ]
    }
   ],
   "source": [
    "tup1 = (\"apple\")\n",
    "print(type(tup1))\n",
    "\n",
    "tup1 = (\"apple\",)\n",
    "print(type(tup1))"
   ]
  },
  {
   "cell_type": "code",
   "execution_count": 69,
   "metadata": {},
   "outputs": [
    {
     "name": "stdout",
     "output_type": "stream",
     "text": [
      "('abc', 34, True, 40, 'male')\n"
     ]
    }
   ],
   "source": [
    "tup2 = (\"abc\", 34, True, 40, \"male\")\n",
    "print(tup2)"
   ]
  },
  {
   "cell_type": "code",
   "execution_count": 3,
   "metadata": {},
   "outputs": [
    {
     "name": "stdout",
     "output_type": "stream",
     "text": [
      "(10, 20, 30)\n",
      "<class 'tuple'>\n"
     ]
    }
   ],
   "source": [
    "tup3 = tuple([10,20,30]) # tuple() constructor\n",
    "print(tup3)\n",
    "print(type(tup3))"
   ]
  },
  {
   "cell_type": "code",
   "execution_count": 71,
   "metadata": {},
   "outputs": [
    {
     "name": "stdout",
     "output_type": "stream",
     "text": [
      "('apple', 'apple', 'banana', 'cherry', 'orange', 'kiwi', 'melon', 'mango')\n"
     ]
    },
    {
     "data": {
      "text/plain": [
       "'apple'"
      ]
     },
     "execution_count": 71,
     "metadata": {},
     "output_type": "execute_result"
    }
   ],
   "source": [
    "# access\n",
    "print(tup)\n",
    "tup[1]"
   ]
  },
  {
   "cell_type": "code",
   "execution_count": 72,
   "metadata": {},
   "outputs": [
    {
     "name": "stdout",
     "output_type": "stream",
     "text": [
      "('apple', 'apple', 'banana', 'cherry', 'orange', 'kiwi', 'melon', 'mango')\n"
     ]
    },
    {
     "data": {
      "text/plain": [
       "'melon'"
      ]
     },
     "execution_count": 72,
     "metadata": {},
     "output_type": "execute_result"
    }
   ],
   "source": [
    "print(tup)\n",
    "tup[-2]"
   ]
  },
  {
   "cell_type": "code",
   "execution_count": 73,
   "metadata": {},
   "outputs": [
    {
     "data": {
      "text/plain": [
       "('apple', 'apple')"
      ]
     },
     "execution_count": 73,
     "metadata": {},
     "output_type": "execute_result"
    }
   ],
   "source": [
    "# range of items\n",
    "tup[0:2]"
   ]
  },
  {
   "cell_type": "code",
   "execution_count": 74,
   "metadata": {},
   "outputs": [
    {
     "name": "stdout",
     "output_type": "stream",
     "text": [
      "('apple', 'apple', 'banana', 'cherry', 'orange', 'kiwi', 'melon', 'mango')\n",
      "<class 'tuple'>\n",
      "['apple', 'apple', 'banana', 'cherry', 'orange', 'kiwi', 'melon', 'mango']\n",
      "<class 'list'>\n",
      "['apple', 'apple', 'potato', 'cherry', 'orange', 'kiwi', 'melon', 'mango']\n",
      "('apple', 'apple', 'potato', 'cherry', 'orange', 'kiwi', 'melon', 'mango')\n"
     ]
    }
   ],
   "source": [
    "# change tuple value using list\n",
    "# Do here\n",
    "print(tup)\n",
    "print(type(tup))\n",
    "var = list(tup)\n",
    "print(var)\n",
    "print(type(var))\n",
    "\n",
    "# change value\n",
    "\n",
    "var[2] = 'potato'\n",
    "print(var)\n",
    "\n",
    "# convert back to tuple\n",
    "\n",
    "tup = tuple(var)\n",
    "print(tup)\n"
   ]
  },
  {
   "cell_type": "code",
   "execution_count": 75,
   "metadata": {},
   "outputs": [
    {
     "name": "stdout",
     "output_type": "stream",
     "text": [
      "('apple', 'apple', 'potato', 'cherry', 'orange', 'kiwi', 'melon', 'mango')\n",
      "<class 'tuple'>\n",
      "['apple', 'apple', 'potato', 'cherry', 'orange', 'kiwi', 'melon', 'mango']\n",
      "<class 'list'>\n",
      "('apple', 'apple', 'tomato', 'potato', 'cherry', 'orange', 'kiwi', 'melon', 'mango')\n"
     ]
    }
   ],
   "source": [
    "# Add items\n",
    "print(tup)\n",
    "print(type(tup))\n",
    "var = list(tup)\n",
    "print(var)\n",
    "print(type(var))\n",
    "\n",
    "var.insert(2,'tomato')\n",
    "\n",
    "tup = tuple(var)\n",
    "print(tup)\n",
    "\n",
    "# convert back to tuple\n"
   ]
  },
  {
   "cell_type": "code",
   "execution_count": 76,
   "metadata": {},
   "outputs": [],
   "source": [
    "# tuple concat +"
   ]
  },
  {
   "cell_type": "code",
   "execution_count": 77,
   "metadata": {},
   "outputs": [],
   "source": [
    "# remove items using list"
   ]
  },
  {
   "cell_type": "code",
   "execution_count": 78,
   "metadata": {},
   "outputs": [],
   "source": [
    "# Complete deletion of tuple using del tuple_name"
   ]
  },
  {
   "cell_type": "code",
   "execution_count": 4,
   "metadata": {},
   "outputs": [
    {
     "name": "stdout",
     "output_type": "stream",
     "text": [
      "apple\n",
      "strawberry\n",
      "['banana', 'cherry', 'raspberry']\n"
     ]
    }
   ],
   "source": [
    "# Use of asterisk\n",
    "fruits = (\"apple\", \"banana\", \"cherry\", \"strawberry\", \"raspberry\")\n",
    "fruits_1 = (\"apple\",\"strawberry\",\"banana\", \"cherry\", \"raspberry\")\n",
    "\n",
    "(red,yellow, *pink) = fruits_1\n",
    "\n",
    "(red,yellow, *pink) = (\"apple\",\"strawberry\",\"banana\", \"cherry\", \"raspberry\")\n",
    "\n",
    "print(red)\n",
    "print(yellow)\n",
    "print(pink)\n"
   ]
  },
  {
   "cell_type": "code",
   "execution_count": 6,
   "metadata": {},
   "outputs": [
    {
     "name": "stdout",
     "output_type": "stream",
     "text": [
      "apple\n",
      "['mango', 'papaya', 'pineapple']\n",
      "cherry\n",
      "['apple', 'mango', 'papaya']\n",
      "pineapple\n",
      "cherry\n"
     ]
    }
   ],
   "source": [
    " fruits = (\"apple\", \"mango\", \"papaya\", \"pineapple\", \"cherry\")\n",
    "\n",
    "(green, *tropic, red) = fruits\n",
    "\n",
    "print(green)\n",
    "print(tropic)\n",
    "print(red)\n",
    "\n",
    "(*green, tropic, red) = fruits\n",
    "\n",
    "print(green)\n",
    "print(tropic)\n",
    "print(red)"
   ]
  },
  {
   "cell_type": "code",
   "execution_count": 81,
   "metadata": {},
   "outputs": [
    {
     "name": "stdout",
     "output_type": "stream",
     "text": [
      "('apple', 'apple', 'tomato', 'potato', 'cherry', 'orange', 'kiwi', 'melon', 'mango')\n",
      "1\n",
      "('apple', 'apple', 'tomato', 'potato', 'cherry', 'orange', 'kiwi', 'melon', 'mango')\n",
      "3\n"
     ]
    }
   ],
   "source": [
    "# Methods: count() and index()\n",
    "print(tup)\n",
    "cnt = tup.count('tomato')\n",
    "print(cnt)\n",
    "\n",
    "print(tup)\n",
    "ind = tup.index('potato')\n",
    "print(ind)"
   ]
  },
  {
   "cell_type": "code",
   "execution_count": 82,
   "metadata": {},
   "outputs": [],
   "source": [
    "# Try assigning values to tuples\n",
    "# tup[0] = 'grapes'\n",
    "# TypeError: 'tuple' object does not support item assignment\n"
   ]
  },
  {
   "cell_type": "markdown",
   "metadata": {},
   "source": [
    "# Set"
   ]
  },
  {
   "cell_type": "raw",
   "metadata": {},
   "source": [
    "1. set is unordered collections of elements\n",
    "2. It is mutable\n",
    "3. It is growable\n",
    "4. Set items are unchangeable\n",
    "5. {} are used to represent set\n",
    "6. Index concept is not applicable\n",
    "7. duplicates are not allowed"
   ]
  },
  {
   "cell_type": "code",
   "execution_count": 13,
   "metadata": {},
   "outputs": [
    {
     "name": "stdout",
     "output_type": "stream",
     "text": [
      "<class 'set'>\n",
      "{1, 2, 3, 'kaviraj', 70.1, 'chetan', 'sai'}\n",
      "[10, 10, 20, 20, 30, 40, 50]\n",
      "[40, 10, 20, 50, 30]\n"
     ]
    }
   ],
   "source": [
    "s = {1,2,3, \"sai\", \"kaviraj\", 'chetan', 70.1}\n",
    "print(type(s))\n",
    "print(s)\n",
    "\n",
    "# How to remove duplicates form list or tuple \n",
    "list_num = [10,10,20,20,30,40,50]\n",
    "print(list_num)\n",
    "\n",
    "new_set = set(list_num)\n",
    "\n",
    "new_list = list(new_set)\n",
    "print(new_list)"
   ]
  },
  {
   "cell_type": "code",
   "execution_count": 11,
   "metadata": {},
   "outputs": [
    {
     "name": "stdout",
     "output_type": "stream",
     "text": [
      "7\n"
     ]
    }
   ],
   "source": [
    "print(len(s))"
   ]
  },
  {
   "cell_type": "code",
   "execution_count": 12,
   "metadata": {},
   "outputs": [
    {
     "name": "stdout",
     "output_type": "stream",
     "text": [
      "{'banana', 'apple', 'cherry'}\n",
      "<class 'set'>\n"
     ]
    }
   ],
   "source": [
    "# set() constructor\n",
    "set1 = set([\"apple\", \"banana\", \"cherry\"])\n",
    "print(set1)\n",
    "print(type(set1))"
   ]
  },
  {
   "cell_type": "code",
   "execution_count": 14,
   "metadata": {},
   "outputs": [
    {
     "name": "stdout",
     "output_type": "stream",
     "text": [
      "{1, 2, 3, 'kaviraj', 70.1, 'chetan', 'sai'}\n",
      "False\n",
      "True\n"
     ]
    }
   ],
   "source": [
    "# accessing set\n",
    "s = {1,2,3, \"sai\", \"kaviraj\", 'chetan', 70.1}\n",
    "print(s)\n",
    "val = 'banana' in s\n",
    "print(val)\n",
    "\n",
    "print(2 in s)\n"
   ]
  },
  {
   "cell_type": "code",
   "execution_count": 18,
   "metadata": {},
   "outputs": [
    {
     "name": "stdout",
     "output_type": "stream",
     "text": [
      "{'banana', 'orange', 'apple', 'cherry'}\n",
      "{'banana', 'orange', 'apple', 'cherry'}\n"
     ]
    }
   ],
   "source": [
    "# once set is created u can not change elements value, \n",
    "# but u can add values\n",
    "print(set1)\n",
    "set1.add('orange')\n",
    "print(set1)\n"
   ]
  },
  {
   "cell_type": "code",
   "execution_count": 19,
   "metadata": {},
   "outputs": [
    {
     "name": "stdout",
     "output_type": "stream",
     "text": [
      "{'banana', 'orange', 'apple', 'cherry'}\n",
      "{'banana', 'pineapple', 'mango', 'papaya', 'apple', 'orange', 'cherry'}\n",
      "{'banana', 1, 2, 3, 'pineapple', 'mango', 'papaya', 'apple', 'orange', 'cherry'}\n"
     ]
    }
   ],
   "source": [
    "# using update you can add any iterable items like set, list,tuple, dict-keys\n",
    "set2 = {\"pineapple\", \"mango\", \"papaya\"}\n",
    "#dict1 = {'a': 97}\n",
    "tup = (1,2,3)\n",
    "print(set1)\n",
    "set1.update(set2)\n",
    "print(set1)\n",
    "set1.update(tup)\n",
    "\n",
    "print(set1)"
   ]
  },
  {
   "cell_type": "code",
   "execution_count": 30,
   "metadata": {},
   "outputs": [
    {
     "name": "stdout",
     "output_type": "stream",
     "text": [
      "Remove using remove():\n",
      " {1, 3, 'pineapple', 'mango', 'apple', 'orange', 'cherry'}\n",
      "Remove using discard():\n",
      " {1, 3, 'pineapple', 'mango', 'apple', 'orange', 'cherry'}\n",
      "{1, 3, 'pineapple', 'mango', 'apple', 'orange', 'cherry'}\n",
      "Remove using pop():\n",
      " {1, 3, 'pineapple', 'mango', 'apple', 'orange', 'cherry'}\n",
      "{3, 'pineapple', 'mango', 'apple', 'orange', 'cherry'}\n",
      "1\n"
     ]
    }
   ],
   "source": [
    "# remove(), discard(), pop()\n",
    "print(\"Remove using remove():\\n\",set1)\n",
    "#set1.remove('papaya')\n",
    "#print(set1)\n",
    "\n",
    "print(\"Remove using discard():\\n\",set1)\n",
    "#set1.discard('papaya')\n",
    "print(set1)\n",
    "\n",
    "print(\"Remove using pop():\\n\",set1)\n",
    "res = set1.pop()\n",
    "print(set1)\n",
    "print(res)"
   ]
  },
  {
   "cell_type": "code",
   "execution_count": 32,
   "metadata": {},
   "outputs": [
    {
     "name": "stdout",
     "output_type": "stream",
     "text": [
      "{1, 2, 3, 70.1, 'chetan', 'sai', 'kaviraj'}\n",
      "{3, 'pineapple', 'mango', 'apple', 'orange', 'cherry'}\n",
      "{1, 2, 3, 'orange', 70.1, 'chetan', 'sai', 'mango', 'kaviraj', 'pineapple', 'apple', 'cherry'}\n"
     ]
    }
   ],
   "source": [
    "# union\n",
    "\n",
    "# adds elements of two sets and create new set\n",
    "\n",
    "print(s)\n",
    "print(set1)\n",
    "s1 = s.union(set1)\n",
    "print(s1)\n",
    "\n",
    "# update method word for union only but adds element to calling set"
   ]
  },
  {
   "cell_type": "code",
   "execution_count": 91,
   "metadata": {},
   "outputs": [
    {
     "name": "stdout",
     "output_type": "stream",
     "text": [
      "{1, 2, 3, 'cherry', 'sagar', 'nitin'}\n",
      "{1, 3, 'papaya', 'banana', 'apple', 'pineapple', 'cherry', 'orange'}\n",
      "itersection:\n",
      " {1, 3, 'cherry'}\n",
      "itersection Update:\n",
      " {1, 3, 'cherry'}\n"
     ]
    }
   ],
   "source": [
    "#\n",
    "print(s)\n",
    "print(set1)\n",
    "intr = s.intersection(set1)\n",
    "print(\"itersection:\\n\",intr)\n",
    "\n",
    "# keeps duplicates in s1 \n",
    "s.intersection_update(set1)\n",
    "print(\"itersection Update:\\n\",s)\n"
   ]
  },
  {
   "cell_type": "code",
   "execution_count": 25,
   "metadata": {},
   "outputs": [
    {
     "name": "stdout",
     "output_type": "stream",
     "text": [
      "{2, 20, 30}\n",
      "{1, 2, 3}\n",
      "{3}\n",
      "{2}\n"
     ]
    }
   ],
   "source": [
    "s_1 = {1,2,3}\n",
    "s_2 = {3,4,5}\n",
    "s_3 = {2,20,30}\n",
    "\n",
    "#s_3 = s_1.intersection(s_2)\n",
    "print(s_3)\n",
    "\n",
    "#s_1.intersection_update(s_2)\n",
    "print(s_1)\n",
    "\n",
    "s_2.intersection_update(s_1)\n",
    "print(s_2)\n",
    "\n",
    "s_3.intersection_update(s_1)\n",
    "print(s_3)\n",
    "\n"
   ]
  },
  {
   "cell_type": "code",
   "execution_count": 34,
   "metadata": {},
   "outputs": [
    {
     "name": "stdout",
     "output_type": "stream",
     "text": [
      "{1, 2, 3, 70.1, 'chetan', 'sai', 'kaviraj'}\n",
      "{3, 'pineapple', 'mango', 'apple', 'orange', 'cherry'}\n",
      "{1, 2, 'orange', 70.1, 'chetan', 'sai', 'mango', 'kaviraj', 'pineapple', 'apple', 'cherry'}\n",
      "Symmetric Difference:\n",
      "\n",
      "Symmetric difference:\n",
      " {1, 2, 4, 6, 7, 8, 9}\n",
      "difference:\n",
      " {1, 2, 4, 6}\n"
     ]
    }
   ],
   "source": [
    "# keeps elements which are not present in other set\n",
    "s_1 ={1,2,3,4,5,6}\n",
    "s_2 = {3,5,7,8,9}\n",
    "# Example\n",
    "# s_1 and s_2\n",
    "# {1,2,4,6} + {7,8,9}\n",
    "\n",
    "print(s)\n",
    "print(set1)\n",
    "s.symmetric_difference_update(set1)\n",
    "\n",
    "print(s) \n",
    "\n",
    "\n",
    "# returns new set\n",
    "\n",
    "print(\"Symmetric Difference:\\n\")\n",
    "\n",
    "k = s_1.symmetric_difference(s_2) \n",
    "# return elements which are present in s_1 not in s_2 + \n",
    "# present in s_2 but not in s_1\n",
    "v = s_1.difference(s_2) \n",
    "# returns new set with elements present in s_1 but not in s_2\n",
    "print(\"Symmetric difference:\\n\",k)\n",
    "print(\"difference:\\n\",v) "
   ]
  },
  {
   "cell_type": "code",
   "execution_count": 40,
   "metadata": {},
   "outputs": [
    {
     "name": "stdout",
     "output_type": "stream",
     "text": [
      "False\n",
      "S:\n",
      "\n",
      "{1, 2, 3, 4, 5, 6}\n",
      "Set1:\n",
      "\n",
      "{3, 'pineapple', 'mango', 'apple', 'orange', 'cherry'}\n",
      "True\n",
      "True\n"
     ]
    }
   ],
   "source": [
    "#isdisjoint()Returns whether two sets have a intersection or not\n",
    "#issubset()Returns whether another set contains this set or not\n",
    "#issuperset()Returns whether this set contains another set or not\n",
    "s = {1,2,3,4,5,6} \n",
    "s1 = {4,5,6}\n",
    "\n",
    "print(s.isdisjoint(s1))\n",
    "print(\"S:\\n\")\n",
    "print(s)\n",
    "print(\"Set1:\\n\")\n",
    "print(set1)\n",
    "print(s1.issubset(s))\n",
    "print(s.issuperset(s1))"
   ]
  },
  {
   "cell_type": "code",
   "execution_count": 43,
   "metadata": {},
   "outputs": [],
   "source": [
    "# del and clear() method removes the set completely\n",
    "\n",
    "# uncomment to run it and see result\n",
    "#print(s1)\n",
    "#del s1\n",
    "#print(s1)"
   ]
  },
  {
   "cell_type": "markdown",
   "metadata": {},
   "source": [
    "# frozenset"
   ]
  },
  {
   "cell_type": "code",
   "execution_count": 95,
   "metadata": {},
   "outputs": [
    {
     "name": "stdout",
     "output_type": "stream",
     "text": [
      "<class 'set'>\n",
      "frozenset({1, 3, 'banana', 'apple', 'cherry', 'papaya', 'pineapple', 'orange'})\n",
      "<class 'frozenset'>\n",
      "frozenset({1, 3, 'banana', 'apple', 'cherry', 'papaya', 'pineapple', 'orange'})\n",
      "<class 'frozenset'>\n"
     ]
    }
   ],
   "source": [
    "# frozen set is same as set but it is immutable\n",
    "\n",
    "print(type(set1))\n",
    "s = frozenset(set1)\n",
    "print(s)\n",
    "print(type(s))\n",
    "# supported methods for frozen set\n",
    "\n",
    "s1 = s.copy()\n",
    "'''\n",
    "s.difference()\n",
    "s.intersection()\n",
    "s.isdisjoint()\n",
    "s.issubset()\n",
    "s.issuperset()\n",
    "s.symmetric_difference()\n",
    "s.union()\n",
    "'''\n",
    "print(s1)\n",
    "print(type(s1))"
   ]
  },
  {
   "cell_type": "markdown",
   "metadata": {},
   "source": [
    "# Dictionary"
   ]
  },
  {
   "cell_type": "raw",
   "metadata": {},
   "source": [
    "1. stores data in key:value pair\n",
    "2. It is ordered, changeable and does not allow duplicates.\n",
    "3. {} are used to write dictionaries\n",
    "4. Items are reffered by using key\n",
    "5. From Python version 3.7, dictionaries are ordered. "
   ]
  },
  {
   "cell_type": "code",
   "execution_count": 1,
   "metadata": {},
   "outputs": [
    {
     "name": "stdout",
     "output_type": "stream",
     "text": [
      "{1: 'Chetan', 2: 'Kaviraj', 3: 'Sai', 4: 'Pooja'}\n",
      "<class 'dict'>\n",
      "{'job': 'Data Scientist', 'salary': 550000.2, 1: 10000, 'mobile': 9975923975, 'name': 'Nitn', 'address': 'sangola'}\n"
     ]
    }
   ],
   "source": [
    "d = {\n",
    "    1: 'Chetan',\n",
    "    2: 'Kaviraj',\n",
    "    3: \"Sai\",\n",
    "    4: \"Pooja\"\n",
    "}\n",
    "\n",
    "dict1 = {\n",
    "    'name' : 'Nitn',\n",
    "    'mobile' : 9975923975,\n",
    "    'address' : 'sangola',\n",
    "    'job' : 'Data Scientist',\n",
    "    'salary' : 550000.20,\n",
    "    1 : 10000\n",
    "    \n",
    "}\n",
    "print(d)\n",
    "\n",
    "print(type(dict1))\n",
    "print(dict1)"
   ]
  },
  {
   "cell_type": "code",
   "execution_count": 14,
   "metadata": {},
   "outputs": [
    {
     "data": {
      "text/plain": [
       "{10: 100, 20: 100}"
      ]
     },
     "execution_count": 14,
     "metadata": {},
     "output_type": "execute_result"
    }
   ],
   "source": [
    "# creates multiple keys from iterables like list, tuple and set and\n",
    "# Assigns the val to all keys\n",
    "dd = dict()\n",
    "l = [10,20]\n",
    "val = 100\n",
    "\n",
    "dd.fromkeys(l, val)\n"
   ]
  },
  {
   "cell_type": "code",
   "execution_count": 50,
   "metadata": {},
   "outputs": [
    {
     "name": "stdout",
     "output_type": "stream",
     "text": [
      "Nitn\n",
      "9975923975\n",
      "Data Scientist\n",
      "{1: 'Chetan', 2: 'Kaviraj', 3: 'Sai', 4: 'Pooja'}\n"
     ]
    },
    {
     "data": {
      "text/plain": [
       "'Sai'"
      ]
     },
     "execution_count": 50,
     "metadata": {},
     "output_type": "execute_result"
    }
   ],
   "source": [
    "print(dict1['name'])\n",
    "print(dict1['mobile'])\n",
    "print(dict1['job'])\n",
    "print(d)\n",
    "d[3]"
   ]
  },
  {
   "cell_type": "code",
   "execution_count": 51,
   "metadata": {},
   "outputs": [
    {
     "name": "stdout",
     "output_type": "stream",
     "text": [
      "6\n"
     ]
    },
    {
     "data": {
      "text/plain": [
       "4"
      ]
     },
     "execution_count": 51,
     "metadata": {},
     "output_type": "execute_result"
    }
   ],
   "source": [
    "print(len(dict1))\n",
    "\n",
    "len(d)"
   ]
  },
  {
   "cell_type": "code",
   "execution_count": 52,
   "metadata": {},
   "outputs": [
    {
     "name": "stdout",
     "output_type": "stream",
     "text": [
      "<class 'dict'>\n"
     ]
    },
    {
     "data": {
      "text/plain": [
       "dict"
      ]
     },
     "execution_count": 52,
     "metadata": {},
     "output_type": "execute_result"
    }
   ],
   "source": [
    "print(type(dict1))\n",
    "type(d)"
   ]
  },
  {
   "cell_type": "code",
   "execution_count": 53,
   "metadata": {},
   "outputs": [
    {
     "name": "stdout",
     "output_type": "stream",
     "text": [
      "550000.2\n",
      "Data Scientist\n",
      "Kaviraj\n",
      "Sai\n"
     ]
    }
   ],
   "source": [
    "# accesing elemnts\n",
    "\n",
    "print(dict1['salary'])\n",
    "\n",
    "s = dict1.get('job')\n",
    "print(s)\n",
    "dict1['address']\n",
    "dict1.get('salary')\n",
    "\n",
    "\n",
    "print(d[2])\n",
    "r = d.get(3)\n",
    "print(r)"
   ]
  },
  {
   "cell_type": "code",
   "execution_count": 55,
   "metadata": {},
   "outputs": [
    {
     "name": "stdout",
     "output_type": "stream",
     "text": [
      "dict_keys([1, 'salary', 'mobile', 'address', 'name', 'job'])\n",
      "dict_values([10000, 550000.2, 9975923975, 'sangola', 'Nitn', 'Data Scientist'])\n"
     ]
    }
   ],
   "source": [
    "print(dict1.keys())\n",
    "print(dict1.values())"
   ]
  },
  {
   "cell_type": "code",
   "execution_count": 62,
   "metadata": {},
   "outputs": [
    {
     "name": "stdout",
     "output_type": "stream",
     "text": [
      "dict_keys([1, 'salary', 'mobile', 'email', 'address', 'name', 'job', 'c_address', 'alt_mo'])\n",
      "dict_values([10000, 550000.2, 9975923975, 'nitin@gmail.com', 'sangola', 'Nitn', 'Data Scientist', 'Pune', 7778778899])\n",
      "dict_keys([1, 'salary', 'mobile', 'email', 'address', 'name', 'job', 'c_address', 'alt_mo'])\n",
      "dict_values([10000, 550000.2, 9975923975, 'nitin@gmail.com', 'sangola', 'Nitn', 'Data Scientist', 'Pune', 7778778899])\n",
      "{1: 'Chetan', 2: 'Kaviraj', 3: 'Sai', 4: 'd'}\n"
     ]
    }
   ],
   "source": [
    "\n",
    "\n",
    "# add new item\n",
    "dict1['c_address'] = 'Pune'\n",
    "\n",
    "\n",
    "dict1['alt_mo'] = 7778778899\n",
    "print(dict1.keys())\n",
    "print(dict1.values())\n",
    "\n",
    "\n",
    "\n",
    "dict1['email'] = \"nitin@gmail.com\"\n",
    "\n",
    "print(dict1.keys())\n",
    "print(dict1.values())\n",
    "\n",
    "d[4] = 'd'\n",
    "\n",
    "print(d)\n"
   ]
  },
  {
   "cell_type": "code",
   "execution_count": 63,
   "metadata": {},
   "outputs": [
    {
     "name": "stdout",
     "output_type": "stream",
     "text": [
      "dict_values([10000, 550000.2, 9975923975, 'nitin@gmail.com', 'sangola', 'Nitn', 'Data Scientist', 'Pune', 7778778899])\n"
     ]
    }
   ],
   "source": [
    "# values\n",
    "print(dict1.values())"
   ]
  },
  {
   "cell_type": "code",
   "execution_count": 66,
   "metadata": {},
   "outputs": [
    {
     "data": {
      "text/plain": [
       "dict_items([(1, 10000), ('salary', 550000.2), ('mobile', 9975923975), ('email', 'nitin@gmail.com'), ('address', 'sangola'), ('name', 'Nitn'), ('job', 'Data Scientist'), ('c_address', 'Pune'), ('alt_mo', 7778778899)])"
      ]
     },
     "execution_count": 66,
     "metadata": {},
     "output_type": "execute_result"
    }
   ],
   "source": [
    "dict1.items()\n",
    "#print(d)\n",
    "#d.items()"
   ]
  },
  {
   "cell_type": "code",
   "execution_count": 68,
   "metadata": {},
   "outputs": [
    {
     "name": "stdout",
     "output_type": "stream",
     "text": [
      "{1: 'Chetan', 2: 'Kaviraj', 3: 'Sai', 4: 'd'}\n"
     ]
    },
    {
     "data": {
      "text/plain": [
       "False"
      ]
     },
     "execution_count": 68,
     "metadata": {},
     "output_type": "execute_result"
    }
   ],
   "source": [
    "#print(dict1.items())\n",
    "#print(dict1)\n",
    "print(d)\n",
    "\n",
    "5 in d\n"
   ]
  },
  {
   "cell_type": "code",
   "execution_count": 71,
   "metadata": {},
   "outputs": [
    {
     "name": "stdout",
     "output_type": "stream",
     "text": [
      "True\n"
     ]
    }
   ],
   "source": [
    "print('job' in dict1)\n",
    "\n"
   ]
  },
  {
   "cell_type": "code",
   "execution_count": 73,
   "metadata": {},
   "outputs": [
    {
     "name": "stdout",
     "output_type": "stream",
     "text": [
      "{1: 10000, 'salary': 550000.2, 'mobile': 9975923975, 'email': 'nitin@gmail.com', 'address': 'sangola', 'name': 'Nitn', 'job': 'Data Scientist', 'c_address': 'Pune', 'height': 180, 'alt_mo': 7778778899}\n",
      "{1: 10000, 'salary': 550000.2, 'mobile': 9975923975, 'email': 'nitin@gmail.com', 'address': 'sangola', 'name': 'Nitn', 'job': 'Data Scientist', 'c_address': 'Pune', 'height': 170, 'alt_mo': 7778778899}\n",
      "{1: 'Chetan', 2: 'Kaviraj', 3: 'cc', 4: 'd'}\n"
     ]
    },
    {
     "data": {
      "text/plain": [
       "dict_values(['Chetan', 'Kaviraj', 'cc', 'd'])"
      ]
     },
     "execution_count": 73,
     "metadata": {},
     "output_type": "execute_result"
    }
   ],
   "source": [
    "# change value\n",
    "#print(dict1)\n",
    "dict1['height'] = 180\n",
    "print(dict1)\n",
    "dict1['height'] = 170\n",
    "print(dict1)\n",
    "print(d)\n",
    "d[3] = 'cc'\n",
    "d.values()"
   ]
  },
  {
   "cell_type": "code",
   "execution_count": 77,
   "metadata": {},
   "outputs": [
    {
     "name": "stdout",
     "output_type": "stream",
     "text": [
      "{1: 'cherry', 2: 'Kaviraj', 3: 'cc', 4: 'd', 5: 'e'}\n",
      "dict_items([(1, 'apple'), (2, 'Kaviraj'), (3, 'cc'), (4, 'd'), (5, 'e'), (6, 'f')])\n"
     ]
    }
   ],
   "source": [
    "# update\n",
    "#print(dict1)\n",
    "#dict1.update({'frined':'rahul',\n",
    "#            'city':'Indapur'})\n",
    "#print(dict1)\n",
    "\n",
    "print(d)\n",
    "d.update({\n",
    "    1: 'apple',\n",
    "    6: 'f'\n",
    "})\n",
    "\n",
    "print(d.items())\n"
   ]
  },
  {
   "cell_type": "code",
   "execution_count": 109,
   "metadata": {},
   "outputs": [
    {
     "name": "stdout",
     "output_type": "stream",
     "text": [
      "<class 'dict'>\n"
     ]
    }
   ],
   "source": [
    "print(type(dict1))"
   ]
  },
  {
   "cell_type": "code",
   "execution_count": 110,
   "metadata": {},
   "outputs": [],
   "source": [
    "# Remove item\n",
    "#print(dict1)\n",
    "#dict1.pop('c_address')\n",
    "#print(dict1)\n",
    "#dict1.popitem()\n",
    "#print(d)\n",
    "#d.popitem()\n"
   ]
  },
  {
   "cell_type": "code",
   "execution_count": 111,
   "metadata": {},
   "outputs": [
    {
     "name": "stdout",
     "output_type": "stream",
     "text": [
      "{'mobile': 9975923975, 1: 10000, 'job': 'Data', 'salary': 550000.2, 'address': 'sangola', 'alt_mo': 7778778899, 'name': 'Nitn', 'c_address': 'Pune', 'email': 'nitin@gmail.com', 'height': 180}\n",
      "{'mobile': 9975923975, 1: 10000, 'job': 'Data', 'salary': 550000.2, 'address': 'sangola', 'alt_mo': 7778778899, 'name': 'Nitn', 'c_address': 'Pune', 'email': 'nitin@gmail.com', 'height': 180}\n",
      "{1: 'a', 2: 'b', 3: 'c', 4: 'd', 5: 'e'}\n"
     ]
    },
    {
     "data": {
      "text/plain": [
       "dict_items([(1, 'a'), (2, 'b'), (4, 'd'), (5, 'e')])"
      ]
     },
     "execution_count": 111,
     "metadata": {},
     "output_type": "execute_result"
    }
   ],
   "source": [
    "# del can remove items as well as removes the dictionary\n",
    "print(dict1)\n",
    "#del dict1['job']\n",
    "print(dict1)\n",
    "#del dict1\n",
    "\n",
    "d[1] = 'a'\n",
    "d[2] = 'b'\n",
    "d[3] = 'c'\n",
    "print(d)\n",
    "\n",
    "del d[3]\n",
    "d.items()"
   ]
  },
  {
   "cell_type": "code",
   "execution_count": 112,
   "metadata": {},
   "outputs": [
    {
     "name": "stdout",
     "output_type": "stream",
     "text": [
      "{'mobile': 9975923975, 1: 10000, 'job': 'Data', 'salary': 550000.2, 'address': 'sangola', 'alt_mo': 7778778899, 'name': 'Nitn', 'c_address': 'Pune', 'email': 'nitin@gmail.com', 'height': 180}\n",
      "{}\n"
     ]
    }
   ],
   "source": [
    "# clear() method and del keyword are used to remove and empty the dict\n",
    "\n",
    "print(dict1)\n",
    "dict1.clear()\n",
    "print(dict1)"
   ]
  },
  {
   "cell_type": "code",
   "execution_count": 113,
   "metadata": {},
   "outputs": [
    {
     "name": "stdout",
     "output_type": "stream",
     "text": [
      "{}\n",
      "{}\n",
      "{'mobile': 9975923975}\n"
     ]
    }
   ],
   "source": [
    "# copy dictionary\n",
    "\n",
    "dict_1 = dict1 # this is reference to your dict not copy of dict1\n",
    "print(dict1)\n",
    "print(dict_1)\n",
    "\n",
    "dict_1['mobile'] = 9975923975 # added to dict_1 , same reflected in dict1\n",
    "print(dict1)"
   ]
  },
  {
   "cell_type": "code",
   "execution_count": 114,
   "metadata": {},
   "outputs": [
    {
     "name": "stdout",
     "output_type": "stream",
     "text": [
      "{'mobile': 9975923975}\n",
      "{'mobile': 9975923975, 'random': 'val'}\n",
      "{'mobile': 9975923975}\n"
     ]
    }
   ],
   "source": [
    "# copy() method\n",
    "\n",
    "print(dict1)\n",
    "dict2 = dict1.copy()\n",
    "dict2['random'] = 'val'\n",
    "print(dict2) # random added \n",
    "print(dict1) # not reflected in dict1"
   ]
  },
  {
   "cell_type": "code",
   "execution_count": 115,
   "metadata": {},
   "outputs": [
    {
     "name": "stdout",
     "output_type": "stream",
     "text": [
      "{'mobile': 9975923975}\n"
     ]
    }
   ],
   "source": [
    "# dict() for copy\n",
    "\n",
    "dict3 = dict(dict1)\n",
    "print(dict3)\n"
   ]
  },
  {
   "cell_type": "code",
   "execution_count": 15,
   "metadata": {},
   "outputs": [
    {
     "name": "stdout",
     "output_type": "stream",
     "text": [
      "{'f_key': {'p_name': 'Parent_name', 'p_key': {'s_name': 'Son_name', 's_key': {'g_name': 'Grand_son_name'}}}}\n"
     ]
    }
   ],
   "source": [
    "\n",
    "grandson = {\n",
    "    'g_name':'Grand_son_name'\n",
    "}\n",
    "son = {\n",
    "     's_key' : grandson,\n",
    "    's_name': 'Son_name',\n",
    "}\n",
    "\n",
    "\n",
    "parent = {\n",
    "    'p_key' : son,\n",
    "    'p_name': 'Parent_name',\n",
    "    \n",
    "         }\n",
    "\n",
    "\n",
    "family = {\n",
    "    'f_key' : parent, \n",
    "}\n",
    "\n",
    "print(family)"
   ]
  },
  {
   "cell_type": "code",
   "execution_count": 25,
   "metadata": {},
   "outputs": [
    {
     "data": {
      "text/plain": [
       "'Son_name'"
      ]
     },
     "execution_count": 25,
     "metadata": {},
     "output_type": "execute_result"
    }
   ],
   "source": [
    "family['f_key']['p_key']['s_name']"
   ]
  },
  {
   "cell_type": "code",
   "execution_count": 18,
   "metadata": {},
   "outputs": [
    {
     "data": {
      "text/plain": [
       "'Grand_son_name'"
      ]
     },
     "execution_count": 18,
     "metadata": {},
     "output_type": "execute_result"
    }
   ],
   "source": [
    "family['f_key']['p_name']\n",
    "list_n = ['sai', \"kaviraj\", family]\n",
    "list_n[2]['f_key']['p_key']['s_key']['g_name']"
   ]
  },
  {
   "cell_type": "code",
   "execution_count": 4,
   "metadata": {},
   "outputs": [
    {
     "data": {
      "text/plain": [
       "{'p_key': {'s_key': {'g_name': 'Grand_son_name'}, 's_name': 'Son_name'},\n",
       " 'p_name': 'Parent_name'}"
      ]
     },
     "execution_count": 4,
     "metadata": {},
     "output_type": "execute_result"
    }
   ],
   "source": [
    "# access parent directory\n",
    "family['f_key']"
   ]
  },
  {
   "cell_type": "code",
   "execution_count": 119,
   "metadata": {},
   "outputs": [
    {
     "data": {
      "text/plain": [
       "{'s_key': {'g_name': 'Grand_son_name'}, 's_name': 'Son_name'}"
      ]
     },
     "execution_count": 119,
     "metadata": {},
     "output_type": "execute_result"
    }
   ],
   "source": [
    "# access child directory\n",
    "family['f_key']['p_key']"
   ]
  },
  {
   "cell_type": "code",
   "execution_count": 120,
   "metadata": {},
   "outputs": [
    {
     "data": {
      "text/plain": [
       "{'g_name': 'Grand_son_name'}"
      ]
     },
     "execution_count": 120,
     "metadata": {},
     "output_type": "execute_result"
    }
   ],
   "source": [
    "# access grand child\n",
    "family['f_key']['p_key']['s_key']"
   ]
  },
  {
   "cell_type": "code",
   "execution_count": 121,
   "metadata": {},
   "outputs": [
    {
     "data": {
      "text/plain": [
       "'Grand_son_name'"
      ]
     },
     "execution_count": 121,
     "metadata": {},
     "output_type": "execute_result"
    }
   ],
   "source": [
    "family['f_key']['p_key']['s_key']['g_name']"
   ]
  },
  {
   "cell_type": "markdown",
   "metadata": {},
   "source": [
    "# Operators"
   ]
  },
  {
   "cell_type": "raw",
   "metadata": {},
   "source": [
    "Python operators:\n",
    "\n",
    "    1. Arithmetic operators\n",
    "    2. Assignment operators\n",
    "    3. Comparison operators\n",
    "    4. Logical operators\n",
    "    5. Identity operators\n",
    "    6. Membership operators\n",
    "    7. Bitwise operators"
   ]
  },
  {
   "cell_type": "code",
   "execution_count": 122,
   "metadata": {},
   "outputs": [],
   "source": [
    "# 1. Arithmetic operators"
   ]
  },
  {
   "cell_type": "raw",
   "metadata": {},
   "source": [
    "1. + Addition x + y\n",
    "2. - Subtraction x - y \n",
    "3. * Multiplication x * y \n",
    "4. / Division x / y \n",
    "5. % Modulus x % y \n",
    "6. ** Exponentiation x ** y \n",
    "7. // Floor division x // y"
   ]
  },
  {
   "cell_type": "code",
   "execution_count": 27,
   "metadata": {},
   "outputs": [
    {
     "name": "stdout",
     "output_type": "stream",
     "text": [
      "***Addition***\n",
      "sum: \t 30.4\n",
      "***Sustraction***\n",
      "Substraction: \t 10.0\n",
      "***Multiplication***\n",
      "Mul: \t 206.04\n",
      "***Division***\n",
      "Div: \t 2.02\n",
      "Modulus:\n",
      "Mod: 0.5\n",
      "Exponent:\n",
      "Exponent:  1073741824\n",
      "Floor Divion:\n",
      "Floor Division: 2.0\n"
     ]
    }
   ],
   "source": [
    "# addition\n",
    "print('***Addition***')\n",
    "var1 = 10.20\n",
    "var2 = 20.20\n",
    "res = var1 + var2\n",
    "print('sum: \\t',res)\n",
    "\n",
    "print('***Sustraction***')\n",
    "var1 = 10.20\n",
    "var2 = 20.20\n",
    "res = var2 - var1\n",
    "print('Substraction: \\t',res)\n",
    "\n",
    "print('***Multiplication***')\n",
    "var1 = 10.20\n",
    "var2 = 20.20\n",
    "res = var1 * var2\n",
    "print('Mul: \\t',res)\n",
    "\n",
    "\n",
    "print('***Division***')\n",
    "var1 = 10.0\n",
    "var2 = 20.20\n",
    "res = var2 / var1\n",
    "print('Div: \\t',res)\n",
    "\n",
    "print('Modulus:') # Remider after division\n",
    "var1  = 4.5\n",
    "var2 = 2\n",
    "res = var1 % var2\n",
    "print(\"Mod:\",res)\n",
    "print('Exponent:')\n",
    "var1 = 8\n",
    "var2 = 10\n",
    "res = var1 ** var2\n",
    "print(\"Exponent: \",res)\n",
    "print('Floor Divion:')\n",
    "var1  = 4.5\n",
    "var2 = 2\n",
    "\n",
    "res = var1 // var2\n",
    "print(\"Floor Division:\",res)"
   ]
  },
  {
   "cell_type": "code",
   "execution_count": 23,
   "metadata": {},
   "outputs": [
    {
     "data": {
      "text/plain": [
       "0.5"
      ]
     },
     "execution_count": 23,
     "metadata": {},
     "output_type": "execute_result"
    }
   ],
   "source": [
    "4.5 % 2"
   ]
  },
  {
   "cell_type": "raw",
   "metadata": {},
   "source": [
    "# 2. Assignment Operators"
   ]
  },
  {
   "cell_type": "raw",
   "metadata": {},
   "source": [
    "1.  =, x = 5, x = 5 \n",
    "2. +=,x += 4,  x = x + 4\n",
    "3. -=, x -= 5, x = x - 5 \n",
    "4. *= x *= 8 x = x * 8 \n",
    "5. /= x /= 7 x = x / 7 \n",
    "6. %= x %= 5 x = x % 5 \n",
    "7. //= x //= 3 x = x // 3 \n",
    "8. **= x **= 2 x = x ** 2\n",
    "9. &= x &= 2 x = x & 2\n",
    "10. |= x |= 2 x = x | 2\n",
    "11. ^= x ^= 4 x = x ^ 4\n",
    "12. >>= x >>= 4 x = x >> 4\n",
    "13. <<= x <<= 5 x = x << 5"
   ]
  },
  {
   "cell_type": "code",
   "execution_count": 124,
   "metadata": {},
   "outputs": [
    {
     "name": "stdout",
     "output_type": "stream",
     "text": [
      "55\n",
      "65\n",
      "55\n",
      "550\n",
      "55.0\n",
      "5.0\n",
      "0.0\n",
      "125\n"
     ]
    }
   ],
   "source": [
    "var = 55\n",
    "print(var)\n",
    "var += 10    # var = var + 10\n",
    "print(var)\n",
    "\n",
    "var -= 10   # var = var -10, var=20, var = 20-10, var = 10 \n",
    "print(var)\n",
    "\n",
    "var *= 10   \n",
    "print(var)\n",
    "\n",
    "\n",
    "var /= 10   \n",
    "print(var)\n",
    "\n",
    "\n",
    "var %= 10   \n",
    "print(var)\n",
    "\n",
    "\n",
    "var //= 10   \n",
    "print(var)\n",
    "\n",
    "var = 5\n",
    "\n",
    "var **= 3   \n",
    "print(var)\n"
   ]
  },
  {
   "cell_type": "code",
   "execution_count": 29,
   "metadata": {},
   "outputs": [
    {
     "name": "stdout",
     "output_type": "stream",
     "text": [
      "Initial val of x is :  22\n",
      "After addition: 32\n",
      "After substraction: 27\n",
      "AFter exponent: 729\n"
     ]
    }
   ],
   "source": [
    "x = 22\n",
    "\n",
    "print(\"Initial val of x is : \",x)\n",
    "x += 10\n",
    "print('After addition:',x)\n",
    "x -= 5\n",
    "print(\"After substraction:\",x)\n",
    "x **= 2 # x = x**2\n",
    "print('AFter exponent:',x)\n",
    "\n"
   ]
  },
  {
   "cell_type": "code",
   "execution_count": 126,
   "metadata": {},
   "outputs": [],
   "source": [
    "# 3. Comparison Operators"
   ]
  },
  {
   "cell_type": "raw",
   "metadata": {},
   "source": [
    "1. == Equal x == y\n",
    "2. != Not equal x != y\n",
    "3. > Greater than x > y\n",
    "4. < Less than x < y \n",
    "5. >= Greater than or equal to x >= y \n",
    "6. <= Less than or equal to x <= y"
   ]
  },
  {
   "cell_type": "code",
   "execution_count": 127,
   "metadata": {},
   "outputs": [
    {
     "name": "stdout",
     "output_type": "stream",
     "text": [
      "False\n",
      "True\n",
      "True\n",
      "False\n",
      "True\n",
      "False\n"
     ]
    }
   ],
   "source": [
    "a = 20\n",
    "b = 10\n",
    "\n",
    "print(a == b)\n",
    "\n",
    "print(a != b)\n",
    "\n",
    "print(a > b)\n",
    "\n",
    "print(a < b)\n",
    "\n",
    "print(a >= b)\n",
    "\n",
    "print(a <= b)"
   ]
  },
  {
   "cell_type": "code",
   "execution_count": 128,
   "metadata": {},
   "outputs": [],
   "source": [
    "# 4. Logical Operators"
   ]
  },
  {
   "cell_type": "raw",
   "metadata": {},
   "source": [
    "1. or Returns True if one of the statements is true x < 5 or x < 4\n",
    "\n",
    "2. not Reverse the result, returns False if the result is true \n",
    "3. and(x < 5 and x < 10)"
   ]
  },
  {
   "cell_type": "code",
   "execution_count": 32,
   "metadata": {},
   "outputs": [
    {
     "name": "stdout",
     "output_type": "stream",
     "text": [
      "and Oprerator:\n",
      "\n",
      "\n",
      "Dictinction:\n",
      "False\n",
      "First Class:\n",
      "False\n",
      "2nd Class:\n",
      "True\n",
      "or operator:\n",
      "\n",
      "\n",
      "False\n",
      "not operator:\n",
      "\n",
      "\n",
      "True\n",
      "False\n"
     ]
    },
    {
     "data": {
      "text/plain": [
       "False"
      ]
     },
     "execution_count": 32,
     "metadata": {},
     "output_type": "execute_result"
    }
   ],
   "source": [
    "# Dist- above 75 %, 1st - above 67 to less than equal 75 \n",
    "print(\"and Oprerator:\\n\\n\")\n",
    "\n",
    "score = 66\n",
    "print(\"Dictinction:\")\n",
    "print(score > 75)\n",
    "\n",
    "print(\"First Class:\")\n",
    "print(score > 67 and score<= 75)\n",
    "\n",
    "print(\"2nd Class:\")\n",
    "\n",
    "print(score <= 67 and score > 58)\n",
    "\n",
    "print(\"or operator:\\n\\n\")\n",
    "var1 = 10 \n",
    "var2 = 5\n",
    "print(var1<5 or var2>10)\n",
    "\n",
    "\n",
    "print('not operator:\\n\\n')\n",
    "var1 = 10 \n",
    "var2 = 5\n",
    "print(not (var1<5 or var2>10))\n",
    "print(not (var1>5))\n",
    "var1<5 or var2>10"
   ]
  },
  {
   "cell_type": "code",
   "execution_count": 130,
   "metadata": {},
   "outputs": [],
   "source": [
    "# 5. Identity Operators"
   ]
  },
  {
   "cell_type": "raw",
   "metadata": {},
   "source": [
    "is  Returns True if both variables are the same object x is y\n",
    "\n",
    "is not Returns True if both variables are not the same object x is not y"
   ]
  },
  {
   "cell_type": "code",
   "execution_count": 37,
   "metadata": {},
   "outputs": [
    {
     "name": "stdout",
     "output_type": "stream",
     "text": [
      "X id is: 10894976\n",
      "y id is: 10894976\n",
      "False\n",
      "X id is: 140141668944560\n",
      "y id is: 140141668944752\n",
      "False\n"
     ]
    }
   ],
   "source": [
    "x = 20\n",
    "y = 20\n",
    "\n",
    "\n",
    "print(\"X id is:\",id(x))\n",
    "print(\"y id is:\",id(y))\n",
    "print(x is not y)\n",
    "\n",
    "\n",
    "x = 10.10\n",
    "y = 10.10\n",
    "# y = x\n",
    "\n",
    "\n",
    "print(\"X id is:\",id(x))\n",
    "print(\"y id is:\",id(y))\n",
    "print(x is y)"
   ]
  },
  {
   "cell_type": "code",
   "execution_count": 132,
   "metadata": {},
   "outputs": [],
   "source": [
    "# 6. Membership Operators"
   ]
  },
  {
   "cell_type": "raw",
   "metadata": {},
   "source": [
    "1. in Returns True if a sequence with the specified value is present in the object x in y\n",
    "2. not in Returns True if a sequence with the specified value is not present in the object x not in y"
   ]
  },
  {
   "cell_type": "code",
   "execution_count": 133,
   "metadata": {},
   "outputs": [
    {
     "name": "stdout",
     "output_type": "stream",
     "text": [
      "True\n",
      "True\n",
      "False\n"
     ]
    }
   ],
   "source": [
    "rollno = [1,2,3,4,5]\n",
    "\n",
    "print(4 in rollno)\n",
    "\n",
    "print(6 not in rollno)\n",
    "\n",
    "print(5 not in rollno)"
   ]
  },
  {
   "cell_type": "code",
   "execution_count": 134,
   "metadata": {},
   "outputs": [],
   "source": [
    "# 7. Bitwise Operators"
   ]
  },
  {
   "cell_type": "raw",
   "metadata": {},
   "source": [
    "1. &  AND Sets each bit to 1 if both bits are 1\n",
    "2. | OR Sets each bit to 1 if one of two bits is 1\n",
    "3. ^ XOR Sets each bit to 1 if only one of two bits is 1\n",
    "4. ~  NOT Inverts all the bits\n",
    "5. << Zero fill left shift,it Shift left by pushing zeros in from the right and let the leftmost bits fall off\n",
    "6. >> Signed right shift,it Shift right by pushing copies of the leftmost bit in from the left, and let the rightmost bits fall off"
   ]
  },
  {
   "cell_type": "raw",
   "metadata": {},
   "source": [
    "                256  128  64  32  16   8  4  2  1 \n",
    "                                          0  0  0 = 0\n",
    "                                          0  0  1 = 1\n",
    "                                          0  1  0 = 2\n",
    "                                          0  1  1 = 3\n",
    "                                          1  0  0 = 4\n",
    "                                          1  0  1 = 5\n",
    "                                          1  1  0 = 6\n",
    "                                          1  1  1 = 7\n",
    "                                        \n",
    "                                          \n",
    "                                          Right Shift by 2 bits\n",
    "                                          1  0  0 = 4\n",
    "                                          \n",
    "                                          0  1  0 = 2\n",
    "                                          0  0  1 = 1\n",
    "                                         \n",
    "                                          \n",
    "                                          Left shift by 2 bits\n",
    "                                          1  1  1\n",
    "                                        1 1  1  0 = 14\n",
    "                                     1  1 1  0  0 = 28\n",
    "                                \n",
    "                                        "
   ]
  },
  {
   "cell_type": "code",
   "execution_count": 50,
   "metadata": {},
   "outputs": [
    {
     "name": "stdout",
     "output_type": "stream",
     "text": [
      "Bitwise and \n",
      "4\n",
      "Bitwise or\n",
      "5\n",
      "Bitwise XOR\n",
      "Bitwise NOT\n",
      "-5\n",
      "Left Shift:\n",
      "\n",
      "28\n",
      "Right Shift:\n",
      "\n",
      "1\n",
      "\n",
      " 0o4\n",
      "\n",
      " 0x4\n"
     ]
    }
   ],
   "source": [
    "x = 4        # 1 0 0\n",
    "y = 5        # 1 0 1\n",
    "z = x & y    # 1 0 0 = 4\n",
    "print(\"Bitwise and \")\n",
    "print(z)\n",
    "\n",
    "x = 4        # 1 0 0\n",
    "y = 5        # 1 0 1\n",
    "z = x | y    # 1 0 1 = 5\n",
    "print('Bitwise or')\n",
    "print(z)\n",
    "\n",
    "print('Bitwise XOR')\n",
    "x = 4        # 1 0 0\n",
    "y = 5        # 1 0 1\n",
    "z = x ^ y    # 0 0 1 = 1\n",
    "\n",
    "print('Bitwise NOT')\n",
    "x = 4       # 1 0 0   [(4 * -1) -1]\n",
    "print(~x)\n",
    "\n",
    "x = 7\n",
    "z = x << 2\n",
    "print(\"Left Shift:\\n\")\n",
    "print(z)\n",
    "\n",
    "x = 4\n",
    "z = x >> 2\n",
    "print(\"Right Shift:\\n\")\n",
    "print(z)\n",
    "\n",
    "print(\"\\n\",oct(x))\n",
    "print(\"\\n\",hex(x))"
   ]
  },
  {
   "cell_type": "markdown",
   "metadata": {},
   "source": [
    "# Conditional Statements & Loops"
   ]
  },
  {
   "cell_type": "raw",
   "metadata": {},
   "source": [
    "Conditional Statements:\n",
    " they based on some logical condition:\n",
    " \n",
    "1. If ... Else\n",
    "2. If..elif...Else\n",
    "\n",
    "Loops:\n",
    "We do some task repeatedly\n",
    "\n",
    "3. While Loops\n",
    "4. For Loops"
   ]
  },
  {
   "cell_type": "code",
   "execution_count": 3,
   "metadata": {},
   "outputs": [
    {
     "name": "stdout",
     "output_type": "stream",
     "text": [
      "False\n",
      "The number Y is greater than X\n"
     ]
    }
   ],
   "source": [
    "# a>b\n",
    "x = 10\n",
    "y = 20\n",
    "# find largest number\n",
    "\n",
    "print(x > y)\n",
    "      #10 > 20 --False\n",
    "\n",
    "if x > y:\n",
    "    #Indentation\n",
    "    print(\"The number x is greater than y\")\n",
    "else:\n",
    "    print(\"The number Y is greater than X\")\n",
    "    "
   ]
  },
  {
   "cell_type": "code",
   "execution_count": 4,
   "metadata": {},
   "outputs": [
    {
     "name": "stdout",
     "output_type": "stream",
     "text": [
      "y is greater than x\n"
     ]
    }
   ],
   "source": [
    "# a>b, a==b, a<b\n",
    "\n",
    "x = 20\n",
    "y = 30\n",
    "\n",
    "if x > y:\n",
    "    #Indent\n",
    "    print(\"x is larger\")\n",
    "elif x == y:\n",
    "    print(\"x and y are equal\")\n",
    "else:\n",
    "    print('y is greater than x')"
   ]
  },
  {
   "cell_type": "code",
   "execution_count": 138,
   "metadata": {},
   "outputs": [
    {
     "name": "stdout",
     "output_type": "stream",
     "text": [
      "y is greater number\n"
     ]
    }
   ],
   "source": [
    "# short hand if a > b: print(\"a is greater than b\")\n",
    "\n",
    "x = 10\n",
    "y = 20\n",
    "\n",
    "if y > x: print(\"y is greater number\")\n"
   ]
  },
  {
   "cell_type": "code",
   "execution_count": 8,
   "metadata": {},
   "outputs": [
    {
     "name": "stdout",
     "output_type": "stream",
     "text": [
      "y is greater\n"
     ]
    }
   ],
   "source": [
    "# short hand if else print(\"A\") if a > b else print(\"B\") \n",
    "\n",
    "x = 10\n",
    "y = 20\n",
    "\n",
    "print(\"x is greater\") if x > y else print(\"y is greater\")\n",
    "\n"
   ]
  },
  {
   "cell_type": "raw",
   "metadata": {},
   "source": [
    "# you can add more conditions here in if else\n",
    "\n",
    "write a python program which will take percentage as input from \n",
    "user and returns its grade (dist, first class, 2nd class, pass class)"
   ]
  },
  {
   "cell_type": "code",
   "execution_count": 17,
   "metadata": {},
   "outputs": [
    {
     "name": "stdout",
     "output_type": "stream",
     "text": [
      "Percentage is : 10\n",
      "You are fail\n"
     ]
    }
   ],
   "source": [
    "# how to take input from user\n",
    "val = 10\n",
    "#val = input(\"ENter the value\")\n",
    "val_2 = int(val)\n",
    "print(\"Percentage is :\",val_2)\n",
    "\n",
    "if val_2 > 75:\n",
    "    print(\"You have ditinction\")\n",
    "elif val_2 > 60 and val_2 <= 75:\n",
    "    print(\"You have first class\")\n",
    "else:\n",
    "    print('You are fail')"
   ]
  },
  {
   "cell_type": "code",
   "execution_count": 140,
   "metadata": {},
   "outputs": [],
   "source": [
    "# write more than one conditions use and and or"
   ]
  },
  {
   "cell_type": "code",
   "execution_count": 141,
   "metadata": {},
   "outputs": [
    {
     "name": "stdout",
     "output_type": "stream",
     "text": [
      "Number is equal to 150\n"
     ]
    }
   ],
   "source": [
    "# nested if .. else\n",
    "\n",
    "x = 150\n",
    "if x > 100:\n",
    "    if x > 150:\n",
    "        print(\"Number is greater than 100 and 150\")\n",
    "    elif x ==150:\n",
    "        print(\"Number is equal to 150\")\n",
    "    else:\n",
    "        print(\"number is greater than 100 and less than 150\")\n",
    "elif x == 100:\n",
    "    print(\"Number is equal to 100\")\n",
    "else:\n",
    "    print(\"Number is less than 100\")"
   ]
  },
  {
   "cell_type": "code",
   "execution_count": 19,
   "metadata": {},
   "outputs": [],
   "source": [
    "# pass staement\n",
    "\n",
    "x = 10\n",
    "y = 20\n",
    "\n",
    "if y > x:\n",
    "    pass\n",
    "        "
   ]
  },
  {
   "cell_type": "markdown",
   "metadata": {},
   "source": [
    "# while Loop\n",
    "\n",
    "\n",
    "Syntax;\n",
    "\n",
    "while (condition):\n",
    "    # statements\n",
    "    # statements\n",
    "    # statements"
   ]
  },
  {
   "cell_type": "code",
   "execution_count": 2,
   "metadata": {},
   "outputs": [
    {
     "name": "stdout",
     "output_type": "stream",
     "text": [
      "1\n",
      "Kaviraj\n",
      "2\n",
      "Kaviraj\n",
      "3\n",
      "Kaviraj\n",
      "4\n",
      "Kaviraj\n",
      "5\n",
      "Kaviraj\n",
      "6\n",
      "Kaviraj\n",
      "7\n",
      "Kaviraj\n",
      "8\n",
      "Kaviraj\n",
      "9\n",
      "Kaviraj\n",
      "10\n",
      "Kaviraj\n",
      "11\n",
      "Kaviraj\n",
      "12\n",
      "Kaviraj\n",
      "13\n",
      "Kaviraj\n",
      "14\n",
      "Kaviraj\n",
      "15\n",
      "Kaviraj\n",
      "16\n",
      "Kaviraj\n",
      "17\n",
      "Kaviraj\n",
      "18\n",
      "Kaviraj\n",
      "19\n",
      "Kaviraj\n",
      "20\n",
      "Kaviraj\n",
      "21\n",
      "Kaviraj\n",
      "22\n",
      "Kaviraj\n",
      "23\n",
      "Kaviraj\n",
      "24\n",
      "Kaviraj\n",
      "25\n",
      "Kaviraj\n",
      "26\n",
      "Kaviraj\n",
      "27\n",
      "Kaviraj\n",
      "28\n",
      "Kaviraj\n",
      "29\n",
      "Kaviraj\n",
      "30\n",
      "Kaviraj\n",
      "31\n",
      "Kaviraj\n",
      "32\n",
      "Kaviraj\n",
      "33\n",
      "Kaviraj\n",
      "34\n",
      "Kaviraj\n",
      "35\n",
      "Kaviraj\n",
      "36\n",
      "Kaviraj\n",
      "37\n",
      "Kaviraj\n",
      "38\n",
      "Kaviraj\n",
      "39\n",
      "Kaviraj\n",
      "40\n",
      "Kaviraj\n",
      "41\n",
      "Kaviraj\n",
      "42\n",
      "Kaviraj\n",
      "43\n",
      "Kaviraj\n",
      "44\n",
      "Kaviraj\n",
      "45\n",
      "Kaviraj\n",
      "46\n",
      "Kaviraj\n",
      "47\n",
      "Kaviraj\n",
      "48\n",
      "Kaviraj\n",
      "49\n",
      "Kaviraj\n",
      "50\n",
      "Kaviraj\n",
      "51\n",
      "Kaviraj\n",
      "52\n",
      "Kaviraj\n",
      "53\n",
      "Kaviraj\n",
      "54\n",
      "Kaviraj\n",
      "55\n",
      "Kaviraj\n",
      "56\n",
      "Kaviraj\n",
      "57\n",
      "Kaviraj\n",
      "58\n",
      "Kaviraj\n",
      "59\n",
      "Kaviraj\n",
      "60\n",
      "Kaviraj\n",
      "61\n",
      "Kaviraj\n",
      "62\n",
      "Kaviraj\n",
      "63\n",
      "Kaviraj\n",
      "64\n",
      "Kaviraj\n",
      "65\n",
      "Kaviraj\n",
      "66\n",
      "Kaviraj\n",
      "67\n",
      "Kaviraj\n",
      "68\n",
      "Kaviraj\n",
      "69\n",
      "Kaviraj\n",
      "70\n",
      "Kaviraj\n",
      "71\n",
      "Kaviraj\n",
      "72\n",
      "Kaviraj\n",
      "73\n",
      "Kaviraj\n",
      "74\n",
      "Kaviraj\n",
      "75\n",
      "Kaviraj\n",
      "76\n",
      "Kaviraj\n",
      "77\n",
      "Kaviraj\n",
      "78\n",
      "Kaviraj\n",
      "79\n",
      "Kaviraj\n",
      "80\n",
      "Kaviraj\n",
      "81\n",
      "Kaviraj\n",
      "82\n",
      "Kaviraj\n",
      "83\n",
      "Kaviraj\n",
      "84\n",
      "Kaviraj\n",
      "85\n",
      "Kaviraj\n",
      "86\n",
      "Kaviraj\n",
      "87\n",
      "Kaviraj\n",
      "88\n",
      "Kaviraj\n",
      "89\n",
      "Kaviraj\n",
      "90\n",
      "Kaviraj\n",
      "91\n",
      "Kaviraj\n",
      "92\n",
      "Kaviraj\n",
      "93\n",
      "Kaviraj\n",
      "94\n",
      "Kaviraj\n",
      "95\n",
      "Kaviraj\n",
      "96\n",
      "Kaviraj\n",
      "97\n",
      "Kaviraj\n",
      "98\n",
      "Kaviraj\n",
      "99\n",
      "Kaviraj\n",
      "100\n",
      "Kaviraj\n"
     ]
    }
   ],
   "source": [
    "# print series of numbers\n",
    "x = 1\n",
    "while x<=100:\n",
    "    print(x)\n",
    "    print('Kaviraj')\n",
    "    x = x + 1"
   ]
  },
  {
   "cell_type": "code",
   "execution_count": 23,
   "metadata": {},
   "outputs": [
    {
     "name": "stdout",
     "output_type": "stream",
     "text": [
      "0\n",
      "2\n",
      "4\n",
      "6\n",
      "8\n",
      "10\n",
      "12\n",
      "14\n",
      "16\n",
      "18\n",
      "20\n",
      "22\n",
      "24\n",
      "26\n",
      "28\n",
      "30\n",
      "32\n",
      "34\n",
      "36\n",
      "38\n",
      "40\n",
      "42\n",
      "44\n",
      "46\n",
      "48\n",
      "50\n"
     ]
    }
   ],
   "source": [
    "# break statement\n",
    "\n",
    "x = 0\n",
    "while x < 100:\n",
    "    print(x)\n",
    "    if x == 50:\n",
    "        break\n",
    "    x += 2"
   ]
  },
  {
   "cell_type": "code",
   "execution_count": 30,
   "metadata": {},
   "outputs": [
    {
     "name": "stdout",
     "output_type": "stream",
     "text": [
      "0\n",
      "1\n",
      "2\n",
      "3\n",
      "4\n",
      "5\n",
      "6\n",
      "7\n",
      "8\n",
      "9\n",
      "10\n",
      "11\n",
      "12\n",
      "13\n",
      "14\n",
      "15\n",
      "16\n",
      "17\n",
      "18\n",
      "19\n",
      "20\n",
      "21\n",
      "22\n",
      "23\n",
      "24\n",
      "25\n",
      "26\n",
      "27\n",
      "28\n",
      "29\n",
      "30\n",
      "31\n",
      "32\n",
      "33\n",
      "34\n",
      "35\n",
      "36\n",
      "37\n",
      "38\n",
      "39\n",
      "40\n",
      "41\n",
      "42\n",
      "43\n",
      "44\n",
      "45\n",
      "46\n",
      "47\n",
      "48\n",
      "49\n",
      "I am printing\n",
      "51\n",
      "52\n",
      "53\n",
      "54\n",
      "55\n",
      "56\n",
      "57\n",
      "58\n",
      "59\n",
      "60\n",
      "61\n",
      "62\n",
      "63\n",
      "64\n",
      "65\n",
      "66\n",
      "67\n",
      "68\n",
      "69\n",
      "70\n",
      "71\n",
      "72\n",
      "73\n",
      "74\n",
      "75\n",
      "76\n",
      "77\n",
      "78\n",
      "79\n",
      "80\n",
      "81\n",
      "82\n",
      "83\n",
      "84\n",
      "85\n",
      "86\n",
      "87\n",
      "88\n",
      "89\n",
      "90\n",
      "91\n",
      "92\n",
      "93\n",
      "94\n",
      "95\n",
      "96\n",
      "97\n",
      "98\n",
      "I am printing\n"
     ]
    }
   ],
   "source": [
    "# Continue stmt\n",
    "\n",
    "\n",
    "x = 0\n",
    "while x < 100:\n",
    "    \n",
    "    if x == 50 or x == 99:\n",
    "        x += 1\n",
    "        print(\"I am printing\")\n",
    "        continue\n",
    "         \n",
    "    print(x)\n",
    "    x += 1\n",
    "   \n"
   ]
  },
  {
   "cell_type": "code",
   "execution_count": 146,
   "metadata": {},
   "outputs": [
    {
     "name": "stdout",
     "output_type": "stream",
     "text": [
      "0\n",
      "1\n",
      "2\n",
      "3\n",
      "4\n",
      "5\n",
      "6\n",
      "7\n",
      "8\n",
      "9\n",
      "10\n",
      "11\n",
      "12\n",
      "13\n",
      "14\n",
      "15\n",
      "16\n",
      "17\n",
      "18\n",
      "19\n",
      "20\n",
      "21\n",
      "22\n",
      "23\n",
      "24\n",
      "25\n",
      "26\n",
      "27\n",
      "28\n",
      "29\n",
      "30\n",
      "31\n",
      "32\n",
      "33\n",
      "34\n",
      "35\n",
      "36\n",
      "37\n",
      "38\n",
      "39\n",
      "40\n",
      "41\n",
      "42\n",
      "43\n",
      "44\n",
      "45\n",
      "46\n",
      "47\n",
      "48\n",
      "49\n",
      "51\n",
      "52\n",
      "53\n",
      "54\n",
      "55\n",
      "56\n",
      "57\n",
      "58\n",
      "59\n",
      "60\n",
      "61\n",
      "62\n",
      "63\n",
      "64\n",
      "65\n",
      "66\n",
      "67\n",
      "68\n",
      "69\n",
      "70\n",
      "71\n",
      "72\n",
      "73\n",
      "74\n",
      "75\n",
      "76\n",
      "77\n",
      "78\n",
      "79\n",
      "80\n",
      "81\n",
      "82\n",
      "83\n",
      "84\n",
      "85\n",
      "86\n",
      "87\n",
      "88\n",
      "89\n",
      "90\n",
      "91\n",
      "92\n",
      "93\n",
      "94\n",
      "95\n",
      "96\n",
      "97\n",
      "98\n",
      "99\n",
      "There is no more statement to execute\n"
     ]
    }
   ],
   "source": [
    "# else below while\n",
    "\n",
    "x = 0\n",
    "while x < 100:\n",
    "    \n",
    "    if x == 50:\n",
    "        x += 1\n",
    "        continue\n",
    "                \n",
    "    print(x)\n",
    "    x += 1\n",
    "else:\n",
    "    print(\"There is no more statement to execute\")"
   ]
  },
  {
   "cell_type": "code",
   "execution_count": 147,
   "metadata": {},
   "outputs": [
    {
     "name": "stdout",
     "output_type": "stream",
     "text": [
      "['mango', 'cherry', 'papaya', 'bluberry', 'apple', 'banana']\n",
      "while on List:-\n",
      "mango\n",
      "cherry\n",
      "papaya\n",
      "bluberry\n",
      "apple\n",
      "banana\n"
     ]
    }
   ],
   "source": [
    "# while on list and tuple\n",
    "\n",
    "list1 = [\"mango\",\"cherry\",\"papaya\",\"bluberry\",\"apple\",\"banana\"]\n",
    "\n",
    "print(list1)\n",
    "\n",
    "print(\"while on List:-\")\n",
    "\n",
    "x = 0\n",
    "while x < len(list1):\n",
    "    print(list1[x])\n",
    "    x += 1"
   ]
  },
  {
   "cell_type": "code",
   "execution_count": 148,
   "metadata": {},
   "outputs": [
    {
     "name": "stdout",
     "output_type": "stream",
     "text": [
      "['mango', 'cherry', 'papaya', 'bluberry', 'apple', 'banana']\n",
      "while on Tuple:-\n",
      "mango\n",
      "cherry\n",
      "papaya\n",
      "bluberry\n",
      "apple\n",
      "banana\n"
     ]
    }
   ],
   "source": [
    "tup = [\"mango\",\"cherry\",\"papaya\",\"bluberry\",\"apple\",\"banana\"]\n",
    "\n",
    "print(tup)\n",
    "\n",
    "print(\"while on Tuple:-\")\n",
    "\n",
    "x = 0\n",
    "while x < len(tup):\n",
    "    print(tup[x])\n",
    "    x += 1"
   ]
  },
  {
   "cell_type": "markdown",
   "metadata": {},
   "source": [
    "# For Loop"
   ]
  },
  {
   "cell_type": "markdown",
   "metadata": {},
   "source": [
    "for iterates over a list, tuple, set, dict and string"
   ]
  },
  {
   "cell_type": "code",
   "execution_count": 32,
   "metadata": {},
   "outputs": [
    {
     "name": "stdout",
     "output_type": "stream",
     "text": [
      "['mango', 'cherry', 'papaya', 'bluberry', 'apple', 'banana']\n",
      "for on list:-\n",
      "mango\n",
      "cherry\n",
      "papaya\n",
      "bluberry\n",
      "apple\n",
      "banana\n"
     ]
    }
   ],
   "source": [
    "# list\n",
    "\n",
    "list1 = [\"mango\",\"cherry\",\"papaya\",\"bluberry\",\"apple\",\"banana\"]\n",
    "\n",
    "print(list1)\n",
    "\n",
    "print(\"for on list:-\")\n",
    "\n",
    "for x in list1:\n",
    "    print(x)\n",
    "    "
   ]
  },
  {
   "cell_type": "code",
   "execution_count": 34,
   "metadata": {},
   "outputs": [
    {
     "name": "stdout",
     "output_type": "stream",
     "text": [
      "This is pythoin\n",
      "for on str1:-\n",
      "T\n",
      "h\n",
      "i\n",
      "s\n",
      " \n",
      "i\n",
      "s\n",
      " \n",
      "p\n",
      "y\n",
      "t\n",
      "h\n",
      "o\n",
      "i\n",
      "n\n"
     ]
    }
   ],
   "source": [
    "# String\n",
    "\n",
    "str1 = \"This is pythoin\"\n",
    "\n",
    "print(str1)\n",
    "\n",
    "print(\"for on str1:-\")\n",
    "\n",
    "for x in str1:\n",
    "    print(x)\n",
    "  "
   ]
  },
  {
   "cell_type": "code",
   "execution_count": 151,
   "metadata": {},
   "outputs": [
    {
     "name": "stdout",
     "output_type": "stream",
     "text": [
      "('mango', 'cherry', 'papaya', 'bluberry', 'apple', 'banana')\n",
      "for on Tuple:-\n",
      "mango\n",
      "cherry\n",
      "papaya\n",
      "bluberry\n",
      "apple\n",
      "banana\n"
     ]
    }
   ],
   "source": [
    "# Tuple\n",
    "\n",
    "tup = (\"mango\",\"cherry\",\"papaya\",\"bluberry\",\"apple\",\"banana\")\n",
    "\n",
    "print(tup)\n",
    "\n",
    "print(\"for on Tuple:-\")\n",
    "\n",
    "for x in tup:\n",
    "    print(x)\n",
    "    "
   ]
  },
  {
   "cell_type": "code",
   "execution_count": 37,
   "metadata": {},
   "outputs": [
    {
     "name": "stdout",
     "output_type": "stream",
     "text": [
      "{'name': 'Nitn', 'salary': 550000.2, 1: 10000, 'job': 'Data', 'address': 'sangola', 'mobile': 9975923975}\n",
      "for on dict printing keys:\n",
      "name\n",
      "salary\n",
      "1\n",
      "job\n",
      "address\n",
      "mobile\n",
      "for on dict printing keys:\n",
      "name\n",
      "salary\n",
      "1\n",
      "job\n",
      "address\n",
      "mobile\n",
      "for on dict printing values:\n",
      "Nitn\n",
      "550000.2\n",
      "10000\n",
      "Data\n",
      "sangola\n",
      "9975923975\n",
      "for on dict printing values:\n",
      "( name , Nitn )\n",
      "( salary , 550000.2 )\n",
      "( 1 , 10000 )\n",
      "( job , Data )\n",
      "( address , sangola )\n",
      "( mobile , 9975923975 )\n"
     ]
    }
   ],
   "source": [
    "# Dict\n",
    "\n",
    "dict1 = {\n",
    "    'name' : 'Nitn',\n",
    "    'mobile' : 9975923975,\n",
    "    'address' : 'sangola',\n",
    "    'job' : 'Data',\n",
    "    'salary' : 550000.20,\n",
    "    1 : 10000\n",
    "    \n",
    "}\n",
    "\n",
    "print(dict1)\n",
    "\n",
    "print(\"for on dict printing keys:\")\n",
    "for x in dict1:\n",
    "    print(x)\n",
    "    \n",
    "print(\"for on dict printing keys:\")\n",
    "for x in dict1.keys():\n",
    "    print(x)\n",
    "    \n",
    "print(\"for on dict printing values:\")\n",
    "for x in dict1.values():\n",
    "    print(x)\n",
    "\n",
    "print(\"for on dict printing values:\")\n",
    "for x,y in dict1.items():\n",
    "    print(\"(\",x,\",\",y,\")\")"
   ]
  },
  {
   "cell_type": "code",
   "execution_count": 42,
   "metadata": {},
   "outputs": [
    {
     "name": "stdout",
     "output_type": "stream",
     "text": [
      "{'banana', 'apple', 'papaya', 'bluberry', 'cherry', 'mango'}\n",
      "for on set:-\n",
      "banana\n",
      "apple\n",
      "papaya\n",
      "bluberry\n",
      "cherry\n",
      "mango\n"
     ]
    }
   ],
   "source": [
    "# set\n",
    "\n",
    "set1 = {\"mango\",\"cherry\",\"papaya\",\"bluberry\",\"apple\",\"banana\"}\n",
    "\n",
    "print(set1)\n",
    "\n",
    "print(\"for on set:-\")\n",
    "\n",
    "for x in set1:\n",
    "    print(x)\n"
   ]
  },
  {
   "cell_type": "markdown",
   "metadata": {},
   "source": [
    "# range"
   ]
  },
  {
   "cell_type": "raw",
   "metadata": {},
   "source": [
    "returns a sequence of numbers, starting from 0 by default, and increments by 1 (by default), \n",
    "and ends at a specified number"
   ]
  },
  {
   "cell_type": "code",
   "execution_count": 154,
   "metadata": {},
   "outputs": [
    {
     "name": "stdout",
     "output_type": "stream",
     "text": [
      "0\n",
      "1\n",
      "2\n",
      "3\n",
      "4\n",
      "5\n",
      "6\n",
      "7\n",
      "8\n",
      "9\n"
     ]
    }
   ],
   "source": [
    "#for i in range(10):\n",
    "\n",
    "for i in range(10):\n",
    "    print(i)"
   ]
  },
  {
   "cell_type": "code",
   "execution_count": 155,
   "metadata": {},
   "outputs": [
    {
     "name": "stdout",
     "output_type": "stream",
     "text": [
      "20\n",
      "21\n",
      "22\n",
      "23\n",
      "24\n",
      "25\n",
      "26\n",
      "27\n",
      "28\n",
      "29\n"
     ]
    }
   ],
   "source": [
    "# range(1,10)- starting from 1, to 9, exclude 10\n",
    "\n",
    "for i in range(20,30):\n",
    "    print(i)"
   ]
  },
  {
   "cell_type": "code",
   "execution_count": 44,
   "metadata": {},
   "outputs": [
    {
     "name": "stdout",
     "output_type": "stream",
     "text": [
      "100\n",
      "110\n",
      "120\n",
      "130\n",
      "140\n",
      "150\n",
      "160\n",
      "170\n",
      "180\n",
      "190\n"
     ]
    }
   ],
   "source": [
    "# range(10,100,5)\n",
    "\n",
    "for i in range(100,200,10):\n",
    "    print(i)"
   ]
  },
  {
   "cell_type": "code",
   "execution_count": 157,
   "metadata": {},
   "outputs": [
    {
     "name": "stdout",
     "output_type": "stream",
     "text": [
      "100\n",
      "110\n",
      "120\n",
      "130\n",
      "140\n",
      "150\n",
      "160\n",
      "170\n",
      "180\n",
      "190\n",
      "There is nothing to print in for now\n"
     ]
    }
   ],
   "source": [
    "# else in for\n",
    "\n",
    "for i in range(100,200,10):\n",
    "    print(i)\n",
    "else:\n",
    "    print(\"There is nothing to print in for now\")"
   ]
  },
  {
   "cell_type": "code",
   "execution_count": 158,
   "metadata": {},
   "outputs": [],
   "source": [
    "# take two list or tuples and use nested for loop"
   ]
  },
  {
   "cell_type": "code",
   "execution_count": 159,
   "metadata": {},
   "outputs": [
    {
     "name": "stdout",
     "output_type": "stream",
     "text": [
      "list is : [10, 20, 30, 40, 50, 60, 70, 80, 90]\n",
      "30\n",
      "60\n",
      "90\n",
      "40\n",
      "80\n",
      "50\n",
      "20\n",
      "70\n",
      "10\n"
     ]
    }
   ],
   "source": [
    "#wrinting and removing every third element from a list\n",
    "\n",
    "list1 = [10,20,30,40,50,60,70,80,90]\n",
    "\n",
    "print(\"list is :\",list1)\n",
    "index = 0\n",
    "pos = 3-1\n",
    "l = len(list1)\n",
    "while l>0:\n",
    "    index = (pos + index) % l\n",
    "    print(list1.pop(index))\n",
    "    l = l - 1"
   ]
  },
  {
   "cell_type": "raw",
   "metadata": {},
   "source": [
    "# Create a interger list by taking iunput from user\n",
    "\n",
    "list1 = []\n",
    "\n",
    "list_size = input(\"Enter the size of list: \")\n",
    "lsize = int(list_size)\n",
    "\n",
    "while lsize > 0:\n",
    "    val = input(\"Enter the value: \")\n",
    "    val1 = int(val)\n",
    "    list1.append(val1)\n",
    "    lsize -= 1\n",
    "\n",
    "print(\"The created list is: \",list1)\n"
   ]
  },
  {
   "cell_type": "raw",
   "metadata": {},
   "source": [
    "tup = ()\n",
    "\n",
    "tup_size = int(input(\"Enter the size of tuple\"))\n",
    "list1 = list(tup)\n",
    "\n",
    "while tup_size>0:\n",
    "    \n",
    "    val = int(input(\"Enter the vale:\"))\n",
    "    \n",
    "    list1.append(val)\n",
    "    tup_size = tup_size -1\n",
    "\n",
    "tup = tuple(list1)\n",
    "   \n",
    "print(tup)\n"
   ]
  },
  {
   "cell_type": "raw",
   "metadata": {},
   "source": [
    "s = set({})\n",
    "\n",
    "set_size = int(input(\"Enter the size of set:\"))\n",
    "\n",
    "while set_size>0:\n",
    "    val = input(\"Enter the value: \")\n",
    "    s.add(val)\n",
    "    set_size -= 1\n",
    "print(\"Created set is : \",s)\n"
   ]
  },
  {
   "cell_type": "raw",
   "metadata": {},
   "source": [
    "# Assignment\n",
    "\n",
    "*\n",
    "* *\n",
    "* * *\n",
    "* * * *\n",
    "* * * * *\n",
    "* * * * * *\n",
    "\n",
    "write a python program to print above structure."
   ]
  },
  {
   "cell_type": "raw",
   "metadata": {},
   "source": [
    "# Assignment\n",
    "      *\n",
    "     * *\n",
    "    * * *\n",
    "   * * * *\n",
    "  * * * * *\n",
    " * * * * * *\n",
    "* * * * * * *\n",
    "\n",
    "write a python program to print stars as shown above."
   ]
  },
  {
   "cell_type": "markdown",
   "metadata": {},
   "source": [
    "# Function"
   ]
  },
  {
   "cell_type": "raw",
   "metadata": {},
   "source": [
    "1. function is a block of statement which will get executed when \n",
    "we call that fuction."
   ]
  },
  {
   "cell_type": "raw",
   "metadata": {},
   "source": [
    "#create a data of 5 students containing first name and last name\n",
    "list1 = []\n",
    "\n",
    "\n",
    "def StudDetails():# definition of a function\n",
    "    for i in range(0,3):\n",
    "        fname = input(\"Enter the first name: \")\n",
    "        lname = input(\"Enter the last name: \")\n",
    "        print(\"name of student is : \", fname, \" \",lname)\n",
    "        name = fname + lname\n",
    "        list1.append(name)\n",
    "\n",
    "print(\"Making a call to function: \")\n",
    "\n",
    "StudDetails() # calling a function\n",
    "\n",
    "print(\"List of the students: \",list1)"
   ]
  },
  {
   "cell_type": "code",
   "execution_count": 2,
   "metadata": {},
   "outputs": [
    {
     "name": "stdout",
     "output_type": "stream",
     "text": [
      "Enter 1st Number10\n",
      "Enetr 2nd Number20\n",
      "The addition is 30\n",
      "Enter 1st Number30\n",
      "Enetr 2nd Number40\n",
      "The addition is 70\n"
     ]
    }
   ],
   "source": [
    "def add():\n",
    "    x = int(input(\"Enter 1st Number\"))\n",
    "    y = int(input(\"Enetr 2nd Number\"))\n",
    "    sum = x + y\n",
    "    print(\"The addition is\",sum)\n",
    "\n",
    "add()\n",
    "add()"
   ]
  },
  {
   "cell_type": "markdown",
   "metadata": {},
   "source": [
    "2## def register_student():\n",
    "    name = input('Enter name')\n",
    "    sname = input('Enter surname')\n",
    "    tenth = float(input('Enter 10th percentage'))\n",
    "    twelth = float(input('Enter 12th percentage'))\n",
    "    mobile = int(input('Enter mobile number'))\n",
    "    \n",
    "    print(name,\"\\n\",sname,\"\\n\",tenth,\"\\n\",twelth,\"\\n\",mobile)\n",
    "\n",
    "for i in range(0,3):\n",
    "    register_student()\n"
   ]
  },
  {
   "cell_type": "code",
   "execution_count": 5,
   "metadata": {},
   "outputs": [
    {
     "name": "stdout",
     "output_type": "stream",
     "text": [
      "Here this is normal execution block\n",
      "Calling my function..\n",
      "I am inside the function..!\n",
      "function execution is over\n"
     ]
    }
   ],
   "source": [
    "print(\"Here this is normal execution block\")\n",
    "\n",
    "def Myfun():\n",
    "    print(\"I am inside the function..!\")\n",
    "\n",
    "print(\"Calling my function..\")\n",
    "Myfun()\n",
    "print(\"function execution is over\")\n"
   ]
  },
  {
   "cell_type": "code",
   "execution_count": 8,
   "metadata": {},
   "outputs": [
    {
     "name": "stdout",
     "output_type": "stream",
     "text": [
      "Nitin Khot\n"
     ]
    }
   ],
   "source": [
    "# Arguments\n",
    "\n",
    "def MyName(v):\n",
    "    print(v)\n",
    "    \n",
    "\n",
    "val = \"Nitin Khot\"\n",
    "MyName(val)"
   ]
  },
  {
   "cell_type": "code",
   "execution_count": 9,
   "metadata": {},
   "outputs": [
    {
     "name": "stdout",
     "output_type": "stream",
     "text": [
      "Do addition using function:\n",
      "Addition is : 300\n"
     ]
    }
   ],
   "source": [
    "# return values\n",
    "\n",
    "def Add(x,y):\n",
    "    ad = x + y\n",
    "    return ad\n",
    "\n",
    "print(\"Do addition using function:\")\n",
    "a = 100\n",
    "b = 200\n",
    "\n",
    "result = Add(a,b)\n",
    "\n",
    "print(\"Addition is :\",result)"
   ]
  },
  {
   "cell_type": "code",
   "execution_count": 163,
   "metadata": {},
   "outputs": [
    {
     "name": "stdout",
     "output_type": "stream",
     "text": [
      "Do multiplication\n",
      "Multiplication is :  200\n"
     ]
    }
   ],
   "source": [
    "\n",
    "def Multiply(a,b):\n",
    "    m = a * b\n",
    "    return m\n",
    "\n",
    "print(\"Do multiplication\")\n",
    "\n",
    "x = 10\n",
    "y = 20\n",
    "\n",
    "res = Multiply(x,y)\n",
    "\n",
    "print(\"Multiplication is : \",res)\n",
    "\n"
   ]
  },
  {
   "cell_type": "code",
   "execution_count": 14,
   "metadata": {},
   "outputs": [
    {
     "name": "stdout",
     "output_type": "stream",
     "text": [
      "The letter at 2nd loc is   ('A', 'B', 'C', 'D', 'E')\n"
     ]
    }
   ],
   "source": [
    "# UNKNOWN PARAMETERS\n",
    "def my_function(*letter):\n",
    "  print(\"The letter at 2nd loc is  \",letter)\n",
    "\n",
    "my_function(\"A\", \"B\", \"C\",\"D\",\"E\") \n"
   ]
  },
  {
   "cell_type": "code",
   "execution_count": 15,
   "metadata": {},
   "outputs": [
    {
     "name": "stdout",
     "output_type": "stream",
     "text": [
      "The youngest child is  sam\n"
     ]
    }
   ],
   "source": [
    "# argument as key value pair where order does not matter\n",
    "def my_function(child2, child3, child1):\n",
    "  print(\"The youngest child is \", child1)\n",
    "\n",
    "my_function(child1 = \"sam\", child2 = \"mac\", child3 = \"kat\") "
   ]
  },
  {
   "cell_type": "code",
   "execution_count": 17,
   "metadata": {},
   "outputs": [
    {
     "name": "stdout",
     "output_type": "stream",
     "text": [
      "His last name is  Nitin\n"
     ]
    }
   ],
   "source": [
    "# if dont know number of para then add ** before identifier\n",
    "def my_function(**name):\n",
    "  print(\"His last name is \",name['fname'])\n",
    "\n",
    "my_function(fname = \"Nitin\", lname = \"Khot\") "
   ]
  },
  {
   "cell_type": "code",
   "execution_count": 167,
   "metadata": {},
   "outputs": [
    {
     "name": "stdout",
     "output_type": "stream",
     "text": [
      "Alternate email of student:\n",
      "Alternate email is :  abc@gmail.com\n",
      "Alternate email is :  a@b.com\n",
      "Alternate email is :  deafault@email.com\n"
     ]
    }
   ],
   "source": [
    "def AltEmail(email = \"deafault@email.com\"):\n",
    "    print(\"Alternate email is : \",email)\n",
    "\n",
    "print(\"Alternate email of student:\")\n",
    "\n",
    "AltEmail(\"abc@gmail.com\")\n",
    "AltEmail(\"a@b.com\")\n",
    "AltEmail()\n"
   ]
  },
  {
   "cell_type": "raw",
   "metadata": {},
   "source": [
    "# write a program to swap any two values from a list using \n",
    "# function Swap()\n",
    "input:\n",
    "list1 = [1,2,3,7,4,5,8,10]\n",
    "output:\n",
    "list1 = [1,2,10,7,4,5,8,3]"
   ]
  },
  {
   "cell_type": "raw",
   "metadata": {},
   "source": [
    "# pass list as arument and get the sum of list\n",
    "list1 = [1,2,3,7,4,5,8,10]"
   ]
  },
  {
   "cell_type": "raw",
   "metadata": {},
   "source": [
    "# pass tuple and count numbe of element in tuple\n",
    "\n",
    "tup = (1,2,3,7,4,5,8,10)"
   ]
  },
  {
   "cell_type": "markdown",
   "metadata": {},
   "source": [
    "## Lambda Function"
   ]
  },
  {
   "cell_type": "raw",
   "metadata": {},
   "source": [
    "1. lambda is a small anonymous function.\n",
    "\n",
    "2. lambda function can take any number of arguments, \n",
    "but can only have one expression.\n",
    "\n",
    "Syntax:\n",
    "\n",
    "lambda arguments : expression\n",
    "\n",
    "\n",
    "Why Lambda?\n",
    "\n",
    "Lambda is anonymous and small function but it is very powerful.\n",
    "we can know its power if we use it inside other function\n"
   ]
  },
  {
   "cell_type": "code",
   "execution_count": 18,
   "metadata": {},
   "outputs": [
    {
     "name": "stdout",
     "output_type": "stream",
     "text": [
      "Square of 4 is: \n",
      "16\n",
      "Square of 10 is: \n"
     ]
    },
    {
     "data": {
      "text/plain": [
       "100"
      ]
     },
     "execution_count": 18,
     "metadata": {},
     "output_type": "execute_result"
    }
   ],
   "source": [
    "# a lambda function which takes an argument and returns a square of \n",
    "# that number \n",
    "\n",
    "# obj = lambda arg1,arg2 : <expression>      \n",
    "# ex. arg1 + arg2\n",
    "square = lambda a: a ** 2\n",
    "\n",
    "print(\"Square of 4 is: \")\n",
    "\n",
    "print(square(4))\n",
    "\n",
    "print(\"Square of 10 is: \")\n",
    "square(10)"
   ]
  },
  {
   "cell_type": "code",
   "execution_count": 169,
   "metadata": {},
   "outputs": [
    {
     "name": "stdout",
     "output_type": "stream",
     "text": [
      "Add four numbers: 2,3,4 and 5: Sum is:\n"
     ]
    },
    {
     "data": {
      "text/plain": [
       "80"
      ]
     },
     "execution_count": 169,
     "metadata": {},
     "output_type": "execute_result"
    }
   ],
   "source": [
    "# Any number of arguments\n",
    "\n",
    "add = lambda a,b,c,d : a + b + c + d\n",
    "\n",
    "print(\"Add four numbers: 2,3,4 and 5: Sum is:\")\n",
    "\n",
    "add(12,13,40,15)\n"
   ]
  },
  {
   "cell_type": "code",
   "execution_count": 170,
   "metadata": {},
   "outputs": [
    {
     "name": "stdout",
     "output_type": "stream",
     "text": [
      "Value of N is : 5\n",
      "100\n"
     ]
    }
   ],
   "source": [
    "# why lambda is powerful?\n",
    "\n",
    "# use it lambda inside another function \n",
    "# lets understand that it is added with some other unknown number\n",
    "\n",
    "def myfun(n):\n",
    "    print(\"Value of N is :\",n)\n",
    "    \n",
    "    return (lambda a : a * n)\n",
    "\n",
    "# add 10 with other number which is unknown\n",
    "# myfunc(10) # this will not give any result as it will be multiplied with none\n",
    "\n",
    "# now call our lambda function inside other function\n",
    "\n",
    "# myfun(10)\n",
    "\n",
    "otherfun = myfun(5)\n",
    "\n",
    "# otherfun = lambda a : a * 5\n",
    "# otherfun(20)\n",
    "# square = lambda a: a ** 2\n",
    "# square(10)\n",
    "\n",
    "print(otherfun(20))\n",
    "\n",
    "# you can create calling function in many ways\n",
    "\n",
    "#otherfun_1 = myfun(10)\n",
    "#print(otherfun_1(20))"
   ]
  },
  {
   "cell_type": "markdown",
   "metadata": {},
   "source": [
    "## Python Class "
   ]
  },
  {
   "cell_type": "raw",
   "metadata": {},
   "source": [
    "In python everything is object, which has its properties and methods / function\n",
    "\n",
    "Python is object oriented programming language.\n",
    "\n",
    "class is blueprint of an object, from which objects can be created.\n",
    "\n",
    "syntax:\n",
    "\n",
    "class ClassName:\n",
    "    class body\n",
    "    \n",
    " \n",
    "More details:\n",
    "\n",
    "Class creates a user-defined data structure, which holds its own data members and member functions, which can be accessed and used by creating an instance of that class. A class is like a blueprint for an object.\n",
    "\n",
    "Some points on Python class:  \n",
    "\n",
    "    Classes are created by keyword class.\n",
    "    Attributes are the variables that belong to a class.\n",
    "    Attributes are always public and can be accessed using the dot (.) operator. Eg.: Myclass.Myattribute\n",
    "    "
   ]
  },
  {
   "cell_type": "code",
   "execution_count": 171,
   "metadata": {},
   "outputs": [],
   "source": [
    "# create a class student\n",
    "class Stud:\n",
    "    name = \"Nitin\"\n",
    "\n"
   ]
  },
  {
   "cell_type": "code",
   "execution_count": 172,
   "metadata": {},
   "outputs": [
    {
     "name": "stdout",
     "output_type": "stream",
     "text": [
      "Nitin\n"
     ]
    }
   ],
   "source": [
    "# create object of class student\n",
    "\n",
    "s1 = Stud()\n",
    "\n",
    "s = Stud()\n",
    "\n",
    "print(s1.name)"
   ]
  },
  {
   "cell_type": "code",
   "execution_count": 2,
   "metadata": {},
   "outputs": [
    {
     "name": "stdout",
     "output_type": "stream",
     "text": [
      "Smita   MCA   10\n",
      "Kaviraj   BE-Comp   13\n",
      "Sai   BE-Civil   2\n",
      "Nitin   BE-Comp   14\n"
     ]
    }
   ],
   "source": [
    "# How the real class works\n",
    "\n",
    "# __init__() Function\n",
    "\n",
    "# 1. All classes will have a method called __init__()\n",
    "# 2. This function gets called when an object is being created.\n",
    "# 3. This function is used to assign the values to the properties of \n",
    "#    the class\n",
    "# 4. It means that, we can do all operations which are neccessary \n",
    "#    to do at the time of the object creation.\n",
    "# 5. __init__() method get called automatiucally when an object is \n",
    "#    initiated\n",
    "\n",
    "\n",
    "class Student:\n",
    "  def __init__(self, name_1, clas_1, rollno_1):\n",
    "    self.name = name_1\n",
    "    self.clas = clas_1\n",
    "    self.rollno = rollno_1\n",
    "\n",
    "s = Student('Smita','MCA','10')\n",
    "    \n",
    "k = Student(\"Kaviraj\", \"BE-Comp\", 13) # object creation\n",
    "v = Student(\"Sai\", \"BE-Civil\", 2)\n",
    "n = Student(\"Nitin\", \"BE-Comp\", 14)\n",
    "\n",
    "print(s.name,' ',s.clas,' ',s.rollno)\n",
    "print(k.name,\" \",k.clas,\" \", k.rollno)\n",
    "print(v.name,\" \",v.clas,\" \", v.rollno)\n",
    "print(n.name,\" \", n.clas, \" \",n.rollno)\n"
   ]
  },
  {
   "cell_type": "code",
   "execution_count": 20,
   "metadata": {},
   "outputs": [
    {
     "name": "stdout",
     "output_type": "stream",
     "text": [
      "Name of student is:  Rahul\n",
      "Clas of student is:  BE\n",
      "Roll No of the students:  13\n",
      "Vaibhav Details:\n",
      "Name of student is:  Vaibhav\n",
      "Clas of student is:  BE-Mech\n",
      "Roll No of the students:  2\n"
     ]
    }
   ],
   "source": [
    "# methods in class\n",
    "# self:\n",
    "# self is default parameter to be used to access \n",
    "# the values in current object\n",
    "# we can give any name instead of the self but it has to be the 1st parameter\n",
    "\n",
    "\n",
    "\n",
    "class Student:\n",
    "    def __init__(self, name1, clas1, rollno1):\n",
    "        self.name = name1\n",
    "        self.clas = clas1\n",
    "        self.rollno = rollno1\n",
    "    \n",
    "    def Display(self):\n",
    "        print(\"Name of student is: \",self.name)\n",
    "        print(\"Clas of student is: \",self.clas)\n",
    "        print(\"Roll No of the students: \",self.rollno)\n",
    "\n",
    "  \n",
    "\n",
    "r = Student(\"Rahul\", \"BE\", 13)\n",
    "v = Student(\"Vaibhav\",\"BE-Mech\", 2)\n",
    "\n",
    "r.Display()\n",
    "print(\"Vaibhav Details:\")\n",
    "v.Display()\n",
    " "
   ]
  },
  {
   "cell_type": "code",
   "execution_count": 3,
   "metadata": {},
   "outputs": [
    {
     "name": "stdout",
     "output_type": "stream",
     "text": [
      "Name of student is:  Rahul\n",
      "Clas of student is:  BE\n",
      "Roll No of the students:  13\n",
      "City of the student:  pune\n",
      "\n",
      "\n",
      "Calling Display from ChangeName():\n",
      " \n",
      "Name of student is:  Rahul\n",
      "Clas of student is:  BE\n",
      "Roll No of the students:  13\n",
      "City of the student:  Solapur\n"
     ]
    }
   ],
   "source": [
    "# accessing values and modifying it\n",
    "\n",
    "\n",
    "\n",
    "class Student:\n",
    "    def __init__(self, name, clas, rollno, city):\n",
    "        self.name = name\n",
    "        self.clas = clas\n",
    "        self.rollno = rollno\n",
    "        self.city = city\n",
    "    \n",
    "    def Display(self):\n",
    "        print(\"Name of student is: \",self.name)\n",
    "        print(\"Clas of student is: \",self.clas)\n",
    "        print(\"Roll No of the students: \",self.rollno)\n",
    "        print('City of the student: ',self.city)\n",
    "      \n",
    "    \n",
    "    def ChangeName(self,ch_city):\n",
    "        self.city = ch_city\n",
    "        print(\"\\n\")\n",
    "        print(\"Calling Display from ChangeName():\\n \")\n",
    "        self.Display()\n",
    "\n",
    "  \n",
    "\n",
    "r = Student(\"Rahul\", \"BE\", 13, 'pune')\n",
    "\n",
    "r.Display()\n",
    "\n",
    "ct = \"Solapur\"\n",
    "\n",
    "r.ChangeName(ct)\n",
    "\n"
   ]
  },
  {
   "cell_type": "markdown",
   "metadata": {},
   "source": [
    "## Inheritance"
   ]
  },
  {
   "cell_type": "raw",
   "metadata": {},
   "source": [
    "Inhritance is a property of OO Language that allows a class to derive properties of other/parent class \n",
    "Parent / Base class:\n",
    "It is the class which gets inherited\n",
    "\n",
    "Derived / Child Class:\n",
    "It is the class which inherits properties from other class or parent class"
   ]
  },
  {
   "cell_type": "code",
   "execution_count": 2,
   "metadata": {},
   "outputs": [
    {
     "name": "stdout",
     "output_type": "stream",
     "text": [
      "Rahul\n",
      "Mohite\n",
      "First Name :  Rahul\n",
      "Last Name :  Mohite\n"
     ]
    }
   ],
   "source": [
    "# Base class\n",
    "class Person:\n",
    "    def __init__(self, fname, lname):\n",
    "        self.fname = fname\n",
    "        self.lname = lname\n",
    "    \n",
    "    def Display(self):\n",
    "        print(\"First Name : \",self.fname)\n",
    "        print(\"Last Name : \",self.lname)\n",
    "    \n",
    "r = Person(\"Rahul\",\"Mohite\") # Creation an object\n",
    "\n",
    "print(r.fname) \n",
    "print(r.lname)\n",
    "\n",
    "r.Display()\n",
    "\n"
   ]
  },
  {
   "cell_type": "code",
   "execution_count": 177,
   "metadata": {},
   "outputs": [
    {
     "name": "stdout",
     "output_type": "stream",
     "text": [
      "First Name :  Nitin\n",
      "Last Name :  Khot\n"
     ]
    }
   ],
   "source": [
    "\n",
    "# child class\n",
    "class Student(Person):\n",
    "    pass\n",
    "\n",
    "s = Student(\"Nitin\",\"Khot\")\n",
    "\n",
    "s.Display()"
   ]
  },
  {
   "cell_type": "code",
   "execution_count": 178,
   "metadata": {},
   "outputs": [
    {
     "name": "stdout",
     "output_type": "stream",
     "text": [
      "First Name :  Vaibhav\n",
      "Last Name :  Bandal\n"
     ]
    }
   ],
   "source": [
    "# add init method, How does it overrides the init method of base class\n",
    "# using class name and super() method\n",
    "# Overriding base class Init method\n",
    "\n",
    "class Student(Person):\n",
    "  def __init__(self, fname, lname,mob):\n",
    "    self.fname = fname\n",
    "    self.lname = lname\n",
    "    self.mob = mob\n",
    "\n",
    "s1 = Student(\"Vaibhav\", \"Bandal\", 9975992)\n",
    "s1.Display()\n",
    "    "
   ]
  },
  {
   "cell_type": "code",
   "execution_count": 179,
   "metadata": {},
   "outputs": [
    {
     "name": "stdout",
     "output_type": "stream",
     "text": [
      "First name:  Vaibhav\n",
      "Last name:  Bandal\n",
      "Clas:  BE-Computer\n"
     ]
    }
   ],
   "source": [
    "# Add other properties to child class\n",
    "\n",
    "class Student(Person):\n",
    "  def __init__(self, fname, lname, clas):\n",
    "    Person.__init__(self, fname, lname)\n",
    "    self.clas = clas\n",
    "    \n",
    "  def Display_Stud(self):\n",
    "    print(\"First name: \",self.fname)\n",
    "    print(\"Last name: \",self.lname)\n",
    "    print(\"Clas: \",self.clas)\n",
    "    \n",
    "    \n",
    "s1 = Student(\"Vaibhav\", \"Bandal\", \"BE-Computer\")\n",
    "s1.Display_Stud()"
   ]
  },
  {
   "cell_type": "markdown",
   "metadata": {},
   "source": [
    "## Iterator in Python"
   ]
  },
  {
   "cell_type": "raw",
   "metadata": {},
   "source": [
    "Iterator are used to traverse the iterables: like List, Tuple, Set and Dictionary.\n",
    "\n",
    "Iterator has countable number of values\n",
    "\n",
    "Iterator are used to traverse through the values one by one\n",
    "\n",
    "It has two methords __iter__() and __next__()    \n",
    "\n",
    "iter() method is used to get an iterator over iterables like string,list,tuple,set and dictionary\n"
   ]
  },
  {
   "cell_type": "code",
   "execution_count": 3,
   "metadata": {},
   "outputs": [
    {
     "name": "stdout",
     "output_type": "stream",
     "text": [
      "<class 'tuple'>\n",
      "10\n",
      "20\n",
      "30\n",
      "40\n",
      "50\n"
     ]
    }
   ],
   "source": [
    "# example of list \n",
    "tup = (10,20,30,40,50)\n",
    "\n",
    "print(type(tup))\n",
    "\n",
    "itr = iter(tup) # create an iterator object\n",
    "\n",
    "print(next(itr))\n",
    "print(next(itr))\n",
    "print(next(itr))\n",
    "print(next(itr))\n",
    "print(next(itr))\n"
   ]
  },
  {
   "cell_type": "code",
   "execution_count": 6,
   "metadata": {},
   "outputs": [
    {
     "name": "stdout",
     "output_type": "stream",
     "text": [
      "I\n",
      " \n",
      "l\n",
      "o\n",
      "v\n",
      "e\n",
      "Iterations using for loop:\n",
      "I\n",
      " \n",
      "l\n",
      "o\n",
      "v\n",
      "e\n",
      " \n",
      "p\n",
      "y\n",
      "t\n",
      "h\n",
      "o\n",
      "n\n"
     ]
    }
   ],
   "source": [
    "# Iterator on string\n",
    "\n",
    "string = \"I love python\"\n",
    "\n",
    "itr = iter(string)\n",
    "\n",
    "print(next(itr))\n",
    "print(next(itr))\n",
    "print(next(itr))\n",
    "print(next(itr))\n",
    "print(next(itr))\n",
    "print(next(itr))\n",
    "\n",
    "\n",
    "# for loop\n",
    "print(\"Iterations using for loop:\")\n",
    "for x in string:\n",
    "    print(x)\n"
   ]
  },
  {
   "cell_type": "code",
   "execution_count": 182,
   "metadata": {},
   "outputs": [
    {
     "name": "stdout",
     "output_type": "stream",
     "text": [
      "10\n",
      "20\n",
      "30\n",
      "40\n",
      "50\n",
      "60\n"
     ]
    }
   ],
   "source": [
    "# loop on iterables like list\n",
    "# for loop internally creates an iterator object and then \n",
    "# it traverse using that object\n",
    "list1 = [10,20,30,40,50,60]\n",
    "\n",
    "for x in list1:\n",
    "    print(x)"
   ]
  },
  {
   "cell_type": "code",
   "execution_count": 183,
   "metadata": {},
   "outputs": [],
   "source": [
    "# How does for loop work on iterables\n",
    "\n"
   ]
  },
  {
   "cell_type": "code",
   "execution_count": 184,
   "metadata": {},
   "outputs": [
    {
     "name": "stdout",
     "output_type": "stream",
     "text": [
      "1\n",
      "2\n",
      "3\n",
      "4\n",
      "5\n",
      "6\n",
      "7\n",
      "8\n",
      "9\n",
      "10\n",
      "11\n",
      "12\n",
      "13\n",
      "14\n",
      "15\n",
      "16\n",
      "17\n",
      "18\n",
      "19\n",
      "20\n",
      "21\n",
      "22\n",
      "23\n",
      "24\n",
      "25\n",
      "26\n",
      "27\n",
      "28\n",
      "29\n",
      "30\n",
      "31\n",
      "32\n",
      "33\n",
      "34\n",
      "35\n",
      "36\n",
      "37\n",
      "38\n",
      "39\n",
      "40\n",
      "41\n",
      "42\n",
      "43\n",
      "44\n",
      "45\n",
      "46\n",
      "47\n",
      "48\n",
      "49\n",
      "50\n",
      "51\n",
      "52\n",
      "53\n",
      "54\n",
      "55\n",
      "56\n",
      "57\n",
      "58\n",
      "59\n",
      "60\n",
      "61\n",
      "62\n",
      "63\n",
      "64\n",
      "65\n",
      "66\n",
      "67\n",
      "68\n",
      "69\n",
      "70\n",
      "71\n",
      "72\n",
      "73\n",
      "74\n",
      "75\n",
      "76\n",
      "77\n",
      "78\n",
      "79\n",
      "80\n",
      "81\n",
      "82\n",
      "83\n",
      "84\n",
      "85\n",
      "86\n",
      "87\n",
      "88\n",
      "89\n",
      "90\n",
      "91\n",
      "92\n",
      "93\n",
      "94\n",
      "95\n",
      "96\n",
      "97\n",
      "98\n",
      "99\n",
      "100\n"
     ]
    }
   ],
   "source": [
    "# use for loop for demonstration of __iter__() and __next()__\n",
    "\n",
    "# Problem Under Consideration\n",
    "# print a series of numbers from 1\n",
    "\n",
    "class Counter:\n",
    "    def __iter__(self):\n",
    "        self.val = 1\n",
    "        return self\n",
    "      \n",
    "    def __next__(self):\n",
    "        x = self.val\n",
    "        self.val += 1\n",
    "        \n",
    "        if x == 101:\n",
    "            raise StopIteration\n",
    "        \n",
    "        return x\n",
    "\n",
    "counter = Counter()\n",
    "\n",
    "itr = iter(counter)\n",
    "\n",
    "\n",
    "for x in itr:\n",
    "    print(x)\n",
    "\n",
    "    \n",
    "\n",
    "\n",
    "\n",
    "# Use for loop on iterator"
   ]
  },
  {
   "cell_type": "markdown",
   "metadata": {},
   "source": [
    "## Scope of variable\n",
    "\n",
    "Two types of scope 1. Local and 2. Global"
   ]
  },
  {
   "cell_type": "code",
   "execution_count": 9,
   "metadata": {},
   "outputs": [
    {
     "name": "stdout",
     "output_type": "stream",
     "text": [
      "200\n",
      "10\n",
      "10\n",
      "Printing Outside scope 10\n"
     ]
    }
   ],
   "source": [
    "# nested functions and scope\n",
    "z = 200 # global scope\n",
    "def Myfun():\n",
    "    \n",
    "    def Display_z():\n",
    "        print(z)\n",
    "        pass\n",
    "    z = 10 # local variable\n",
    "    print(z)\n",
    "    Display_z()\n",
    "    Display(z)\n",
    "    \n",
    "def Display(x):\n",
    "    print(\"Printing Outside scope\",x)\n",
    "    \n",
    "print(z)\n",
    "Myfun()\n",
    "\n"
   ]
  },
  {
   "cell_type": "code",
   "execution_count": 186,
   "metadata": {},
   "outputs": [],
   "source": [
    "# functions and Scope"
   ]
  },
  {
   "cell_type": "code",
   "execution_count": 187,
   "metadata": {},
   "outputs": [
    {
     "name": "stdout",
     "output_type": "stream",
     "text": [
      "200\n",
      "10\n",
      "10\n",
      "Printing Outside scope 10\n",
      "3.14\n"
     ]
    }
   ],
   "source": [
    "# use of global keyword to declare global scope\n",
    "\n",
    "z = 200 # global scope\n",
    "def Myfun():\n",
    "    \n",
    "    def Display_z():\n",
    "        print(z)\n",
    "    z = 10 # local variable\n",
    "    print(z)\n",
    "    Display_z()\n",
    "    Display(z)\n",
    "    \n",
    "def Display(x):\n",
    "    global pi\n",
    "    pi = 3.14\n",
    "    print(\"Printing Outside scope\",x)\n",
    "    \n",
    "print(z)\n",
    "Myfun()\n",
    "print(pi)"
   ]
  },
  {
   "cell_type": "markdown",
   "metadata": {},
   "source": [
    "## Modules"
   ]
  },
  {
   "cell_type": "raw",
   "metadata": {},
   "source": [
    "Module is a set of functions which is used to develop an application\n",
    "\n",
    "It is a code library"
   ]
  },
  {
   "cell_type": "raw",
   "metadata": {},
   "source": [
    "# create a module\n",
    "\n",
    "# create a mymodule.py file and write \n",
    "\n",
    "def Dsiplay:\n",
    "    print(\"Hello this is Display method in mymodule\")\n",
    "\n",
    "    \n",
    "# calling modules methods is:\n",
    "\n",
    "import mymodule\n",
    "\n",
    "# module_name.function()\n",
    "\n",
    "mymodule.Display()\n",
    "\n",
    "# It will give result as printed string in display.\n",
    "\n",
    "\n",
    "\n",
    "# We can use variables in modules and can access them\n",
    "# write below code in mymodule.py\n",
    "\n",
    "person1 = {\n",
    "  \"name\": \"Sagar\",\n",
    "  \"age\": 32,\n",
    "  \"country\": \"Inida\"\n",
    "} \n",
    "\n",
    "\n",
    "# call module\n",
    "\n",
    "import mymodule\n",
    "\n",
    "Age = mymodule.person1['age']\n",
    "print(Age)\n",
    "\n"
   ]
  },
  {
   "cell_type": "code",
   "execution_count": 11,
   "metadata": {},
   "outputs": [
    {
     "name": "stdout",
     "output_type": "stream",
     "text": [
      "Linux\n"
     ]
    }
   ],
   "source": [
    "# importing modules with alias name\n",
    "# like\n",
    "#  import mymodule as mm\n",
    "\n",
    "\n",
    "# you can also use other built in modules like\n",
    "\n",
    "import platform\n",
    "\n",
    "op_sys = platform.system()\n",
    "\n",
    "print(op_sys)\n"
   ]
  },
  {
   "cell_type": "code",
   "execution_count": 189,
   "metadata": {},
   "outputs": [],
   "source": [
    "# importing using from mymodule import person1...."
   ]
  },
  {
   "cell_type": "markdown",
   "metadata": {},
   "source": [
    "### Datetime"
   ]
  },
  {
   "cell_type": "raw",
   "metadata": {},
   "source": [
    "Datetime is not a pythons own data type, but we can import \n",
    "datetime module and can operate on it."
   ]
  },
  {
   "cell_type": "code",
   "execution_count": 1,
   "metadata": {},
   "outputs": [
    {
     "name": "stdout",
     "output_type": "stream",
     "text": [
      "2022-04-16 20:05:01.315058\n"
     ]
    }
   ],
   "source": [
    "import datetime as dt\n",
    "import datetime\n",
    "x = datetime.datetime.now()\n",
    "print(x)\n",
    "# (year,month,day,hour,minutes,seconds,microseconds)\n",
    " "
   ]
  },
  {
   "cell_type": "code",
   "execution_count": 233,
   "metadata": {},
   "outputs": [
    {
     "name": "stdout",
     "output_type": "stream",
     "text": [
      "9999\n"
     ]
    }
   ],
   "source": [
    "\n",
    "print(datetime.MAXYEAR)"
   ]
  },
  {
   "cell_type": "code",
   "execution_count": 234,
   "metadata": {},
   "outputs": [
    {
     "data": {
      "text/plain": [
       "1"
      ]
     },
     "execution_count": 234,
     "metadata": {},
     "output_type": "execute_result"
    }
   ],
   "source": [
    "datetime.MINYEAR"
   ]
  },
  {
   "cell_type": "code",
   "execution_count": 2,
   "metadata": {},
   "outputs": [
    {
     "name": "stdout",
     "output_type": "stream",
     "text": [
      "2022\n",
      "4\n",
      "04\n"
     ]
    }
   ],
   "source": [
    "\n",
    "x = datetime.datetime.now()\n",
    "\n",
    "print(x.year)\n",
    "print(x.month)\n",
    "print(x.strftime(\"%m\"))\n"
   ]
  },
  {
   "cell_type": "code",
   "execution_count": 3,
   "metadata": {},
   "outputs": [
    {
     "name": "stdout",
     "output_type": "stream",
     "text": [
      "2021-11-15 00:00:00\n"
     ]
    }
   ],
   "source": [
    "# datetime() class takes 3 mandatory paramters and hour,minute,seconds,\n",
    "# microseconds and tzone as optional parameters.\n",
    "# all takes defaulkt value of 0 and tzone takes none values as default\n",
    "dt_ = dt.datetime(2021,11,15)\n",
    "\n",
    "print(dt_) "
   ]
  },
  {
   "cell_type": "raw",
   "metadata": {},
   "source": [
    "# details:\n",
    "\n",
    "%a \tWeekday, short version \tWed \t\n",
    "%A \tWeekday, full version \tWednesday \t\n",
    "%w \tWeekday as a number 0-6, 0 is Sunday \t3 \t\n",
    "%d \tDay of month 01-31 \t31 \t\n",
    "%b \tMonth name, short version \tDec \t\n",
    "%B \tMonth name, full version \tDecember \t\n",
    "%m \tMonth as a number 01-12 \t12 \t\n",
    "%y \tYear, short version, without century \t18 \t\n",
    "%Y \tYear, full version \t2018 \t\n",
    "%H \tHour 00-23 \t17 \t\n",
    "%I \tHour 00-12 \t05 \t\n",
    "%p \tAM/PM \tPM \t\n",
    "%M \tMinute 00-59 \t41 \t\n",
    "%S \tSecond 00-59 \t08 \t\n",
    "%f \tMicrosecond 000000-999999 \t548513 \t\n",
    "%z \tUTC offset \t+0100 \t\n",
    "%Z \tTimezone \tCST \t\n",
    "%j \tDay number of year 001-366 \t365 \t\n",
    "%U \tWeek number of year, Sunday as the first day of week, 00-53 \t52 \t\n",
    "%W \tWeek number of year, Monday as the first day of week, 00-53 \t52 \t\n",
    "%c \tLocal version of date and time \tMon Dec 31 17:41:00 2018 \t\n",
    "%C \tCentury \t20 \t\n",
    "%x \tLocal version of date \t12/31/18 \t\n",
    "%X \tLocal version of time \t17:41:00 \t\n",
    "%% \tA % character \t% \t\n",
    "%G \tISO 8601 year \t2018 \t\n",
    "%u \tISO 8601 weekday (1-7) \t1 \t\n",
    "%V \tISO 8601 weeknumber (01-53) \t01"
   ]
  },
  {
   "cell_type": "markdown",
   "metadata": {},
   "source": [
    "### Python Math functions"
   ]
  },
  {
   "cell_type": "code",
   "execution_count": 255,
   "metadata": {},
   "outputs": [
    {
     "name": "stdout",
     "output_type": "stream",
     "text": [
      "1\n"
     ]
    }
   ],
   "source": [
    "#x = min(100,200,50)\n",
    "#print(x)\n",
    "\n",
    "no = min(1,5,10)\n",
    "print(no)"
   ]
  },
  {
   "cell_type": "code",
   "execution_count": 211,
   "metadata": {},
   "outputs": [
    {
     "name": "stdout",
     "output_type": "stream",
     "text": [
      "200\n"
     ]
    }
   ],
   "source": [
    "x = max(100,200,50)\n",
    "print(x)"
   ]
  },
  {
   "cell_type": "code",
   "execution_count": 213,
   "metadata": {},
   "outputs": [
    {
     "name": "stdout",
     "output_type": "stream",
     "text": [
      "200\n"
     ]
    }
   ],
   "source": [
    "# Returns absolute positive value\n",
    "x = abs(-200)\n",
    "#\n",
    "print(x) "
   ]
  },
  {
   "cell_type": "code",
   "execution_count": 261,
   "metadata": {},
   "outputs": [
    {
     "name": "stdout",
     "output_type": "stream",
     "text": [
      "10000\n"
     ]
    }
   ],
   "source": [
    "# Power function\n",
    "x = pow(10,4)\n",
    "\n",
    "print(x) "
   ]
  },
  {
   "cell_type": "markdown",
   "metadata": {},
   "source": [
    "## Math Module"
   ]
  },
  {
   "cell_type": "code",
   "execution_count": 275,
   "metadata": {},
   "outputs": [
    {
     "name": "stdout",
     "output_type": "stream",
     "text": [
      "Square root: 10.0\n",
      "Floor: 100\n",
      "Ceil: 101\n",
      "11\n",
      "21\n",
      "Eluers Number:  2.718281828459045\n",
      "Pi :  3.141592653589793\n",
      "<class 'float'>\n",
      "nan\n"
     ]
    }
   ],
   "source": [
    "import math as m\n",
    "\n",
    "val = m.sqrt(100)\n",
    "print(\"Square root:\",val)\n",
    "\n",
    "val = m.floor(100.23)\n",
    "print(\"Floor:\",val)\n",
    "\n",
    "val = m.ceil(100.23)\n",
    "print(\"Ceil:\",val)\n",
    "\n",
    "y = m.floor(11.4)\n",
    "print(y)\n",
    "\n",
    "z = m.ceil(20.4)\n",
    "print(z)\n",
    "\n",
    "\n",
    "eluers_no= m.e\n",
    "print(\"Eluers Number: \",eluers_no)\n",
    "\n",
    "\n",
    "\n",
    "p = m.pi\n",
    "\n",
    "print(\"Pi : \",p) \n",
    "\n",
    "val = m.nan\n",
    "print(type(val))\n",
    "print(math.nan)"
   ]
  },
  {
   "cell_type": "markdown",
   "metadata": {},
   "source": [
    "## JSON"
   ]
  },
  {
   "cell_type": "raw",
   "metadata": {},
   "source": [
    "JSON is a javascript object notation storing and exchanging data.\n",
    "\n",
    "Python has built in package json\n",
    "\n",
    "JSON to send data from a server to a web page\n",
    "\n",
    "JSON stands for JavaScript Object Notation\n",
    "\n",
    "JSON is a lightweight data interchange format\n",
    "\n",
    "JSON is language independent \n",
    "\n",
    "JSON is \"self-describing\" and easy to understand\n",
    "\n",
    "\n",
    "JSON Syntax Rules\n",
    "\n",
    "    Data is in name/value pairs\n",
    "    Data is separated by commas\n",
    "    Curly braces hold objects { []....... }\n",
    "    Square brackets hold arrays/list\n"
   ]
  },
  {
   "cell_type": "code",
   "execution_count": 5,
   "metadata": {},
   "outputs": [],
   "source": [
    "import json"
   ]
  },
  {
   "cell_type": "code",
   "execution_count": 6,
   "metadata": {
    "scrolled": true
   },
   "outputs": [
    {
     "name": "stdout",
     "output_type": "stream",
     "text": [
      "<class 'str'>\n",
      "{ \"Name\":\"Rahul\", \"mobile\": 9975923975, \"city\": \"Pune\", \"email\": \"rahul@gmail.com\" }\n",
      "{'city': 'Pune', 'email': 'rahul@gmail.com', 'Name': 'Rahul', 'mobile': 9975923975}\n",
      "<class 'dict'>\n"
     ]
    }
   ],
   "source": [
    "# Conversion of json to python\n",
    "# json object\n",
    "\n",
    "student = '{ \"Name\":\"Rahul\", \"mobile\": 9975923975, \"city\": \"Pune\", \"email\": \"rahul@gmail.com\" }'\n",
    "\n",
    "print(type(student))\n",
    "\n",
    "print(student)\n",
    "\n",
    "stud = json.loads(student)\n",
    "\n",
    "print(stud)\n",
    "\n",
    "print(type(stud))"
   ]
  },
  {
   "cell_type": "code",
   "execution_count": 38,
   "metadata": {},
   "outputs": [
    {
     "name": "stdout",
     "output_type": "stream",
     "text": [
      "<class 'dict'>\n",
      "{'emp_id': 101, 'salary': 50000, 'Name': 'Nitin', 'email': 'a@b.com'}\n",
      "101\n",
      "{\n",
      "<class 'str'>\n",
      "{\"emp_id\": 101, \"salary\": 50000, \"Name\": \"Nitin\", \"email\": \"a@b.com\"}\n"
     ]
    }
   ],
   "source": [
    "# convert a dictionary to json object using json.dumps()\n",
    "\n",
    "employee = {\n",
    "    \"Name\": \"Nitin\",\n",
    "    \"emp_id\": 101,\n",
    "    \"email\": \"a@b.com\",\n",
    "    \"salary\": 50000\n",
    "}\n",
    "\n",
    "\n",
    "print(type(employee))\n",
    "print(employee)\n",
    "\n",
    "# Access the dictionary\n",
    "\n",
    "print(employee['emp_id'])\n",
    "\n",
    "\n",
    "emp_json = json.dumps(employee)\n",
    "\n",
    "\n",
    "print(emp_json[0])\n",
    "print(type(emp_json))\n",
    "\n",
    "print(emp_json)\n"
   ]
  },
  {
   "cell_type": "code",
   "execution_count": 41,
   "metadata": {},
   "outputs": [
    {
     "name": "stdout",
     "output_type": "stream",
     "text": [
      "<class 'tuple'>\n",
      "('Sagar', 10, 20, 30, 'Rahul')\n",
      "<class 'str'>\n",
      "[\"Sagar\", 10, 20, 30, \"Rahul\"]\n"
     ]
    }
   ],
   "source": [
    "# Aply on tuple\n",
    "\n",
    "tup = (\"Sagar\",10,20,30,\"Rahul\")\n",
    "\n",
    "print(type(tup))\n",
    "print(tup)\n",
    "\n",
    "# convert to json object\n",
    "\n",
    "tup_json = json.dumps(tup)\n",
    "\n",
    "print(type(tup_json))\n",
    "print(tup_json)\n",
    "# It will convert tuple into json's list"
   ]
  },
  {
   "cell_type": "code",
   "execution_count": 42,
   "metadata": {},
   "outputs": [
    {
     "data": {
      "text/plain": [
       "'[\"Sagar\", 10, 20, 30, \"Rahul\"]'"
      ]
     },
     "execution_count": 42,
     "metadata": {},
     "output_type": "execute_result"
    }
   ],
   "source": [
    "tup_json"
   ]
  },
  {
   "cell_type": "code",
   "execution_count": 49,
   "metadata": {},
   "outputs": [
    {
     "name": "stdout",
     "output_type": "stream",
     "text": [
      "{\"cars\": [{\"model\": \"kia-143\", \"mpg\": 27.5}, {\"model\": \"tata\", \"mpg\": 24.1}, [\"scoda\", \"ford\"]], \"owns_chopper\": null, \"vegeterian\": true, \"non_veg\": false, \"food\": [\"paneer\", \"kabab\"], \"age\": 31, \"name\": \"Sagar\"}\n",
      "<class 'str'>\n"
     ]
    }
   ],
   "source": [
    "# test out same on other data types\n",
    "\n",
    "import json\n",
    "\n",
    "x = {\n",
    "  \"name\": \"Sagar\",\n",
    "  \"age\": 31,\n",
    "  \"vegeterian\": True,\n",
    "  \"non_veg\": False,\n",
    "  \"food\": (\"paneer\",\"kabab\"),\n",
    "  \"owns_chopper\": None,\n",
    "  \"cars\": [\n",
    "    {\"model\": \"kia-143\", \"mpg\": 27.5},\n",
    "    {\"model\": \"tata\", \"mpg\": 24.1},\n",
    "      (\"scoda\",\"ford\")\n",
    "  ]\n",
    "}\n",
    "\n",
    "# l = x['cars']\n",
    "\n",
    "# print(l)\n",
    "# print(l[0])\n",
    "\n",
    "\n",
    "#print(x['cars'])\n",
    "\n",
    "x_json = json.dumps(x)\n",
    "\n",
    "print(x_json)\n",
    "\n",
    "print(type(x_json))"
   ]
  },
  {
   "cell_type": "raw",
   "metadata": {},
   "source": [
    "When we convert python object to json then it will be like shown below:\n",
    "\n",
    "1. dict \tObject\n",
    "2. list \tArray\n",
    "3. tuple \tArray\n",
    "4. str \tString\n",
    "5. int \tNumber\n",
    "6. float \tNumber\n",
    "7. True \ttrue\n",
    "8. False \tfalse\n",
    "9. None \tnull"
   ]
  },
  {
   "cell_type": "markdown",
   "metadata": {},
   "source": [
    "### Result Formatting"
   ]
  },
  {
   "cell_type": "raw",
   "metadata": {},
   "source": [
    "to make json more readable we can use some additional parameters like\n",
    "indent=4, separators=(\". \", \" = \") ,sort_keys=True"
   ]
  },
  {
   "cell_type": "code",
   "execution_count": 50,
   "metadata": {},
   "outputs": [
    {
     "name": "stdout",
     "output_type": "stream",
     "text": [
      "{\n",
      "    \"cars\": [\n",
      "        {\n",
      "            \"model\": \"kia-143\",\n",
      "            \"mpg\": 27.5\n",
      "        },\n",
      "        {\n",
      "            \"model\": \"tata\",\n",
      "            \"mpg\": 24.1\n",
      "        }\n",
      "    ],\n",
      "    \"owns_chopper\": null,\n",
      "    \"vegeterian\": true,\n",
      "    \"non_veg\": false,\n",
      "    \"food\": [\n",
      "        \"paneer\",\n",
      "        \"kabab\"\n",
      "    ],\n",
      "    \"age\": 31,\n",
      "    \"name\": \"Sagar\"\n",
      "}\n"
     ]
    }
   ],
   "source": [
    "import json\n",
    "\n",
    "x = {\n",
    "  \"name\": \"Sagar\",\n",
    "  \"age\": 31,\n",
    "  \"vegeterian\": True,\n",
    "  \"non_veg\": False,\n",
    "  \"food\": (\"paneer\",\"kabab\"),\n",
    "  \"owns_chopper\": None,\n",
    "  \"cars\": [\n",
    "    {\"model\": \"kia-143\", \"mpg\": 27.5},\n",
    "    {\"model\": \"tata\", \"mpg\": 24.1}\n",
    "  ]\n",
    "}\n",
    "\n",
    "print(json.dumps(x,indent=4))\n"
   ]
  },
  {
   "cell_type": "code",
   "execution_count": 51,
   "metadata": {},
   "outputs": [
    {
     "name": "stdout",
     "output_type": "stream",
     "text": [
      "{\n",
      "    \"cars\"= [\n",
      "        {\n",
      "            \"model\"= \"kia-143\"-\n",
      "            \"mpg\"= 27.5\n",
      "        }-\n",
      "        {\n",
      "            \"model\"= \"tata\"-\n",
      "            \"mpg\"= 24.1\n",
      "        }\n",
      "    ]-\n",
      "    \"owns_chopper\"= null-\n",
      "    \"vegeterian\"= true-\n",
      "    \"non_veg\"= false-\n",
      "    \"food\"= [\n",
      "        \"paneer\"-\n",
      "        \"kabab\"\n",
      "    ]-\n",
      "    \"age\"= 31-\n",
      "    \"name\"= \"Sagar\"\n",
      "}\n"
     ]
    }
   ],
   "source": [
    "import json\n",
    "\n",
    "x = {\n",
    "  \"name\": \"Sagar\",\n",
    "  \"age\": 31,\n",
    "  \"vegeterian\": True,\n",
    "  \"non_veg\": False,\n",
    "  \"food\": (\"paneer\",\"kabab\"),\n",
    "  \"owns_chopper\": None,\n",
    "  \"cars\": [\n",
    "    {\"model\": \"kia-143\", \"mpg\": 27.5},\n",
    "    {\"model\": \"tata\", \"mpg\": 24.1}\n",
    "  ]\n",
    "}\n",
    "\n",
    "print(json.dumps(x, indent=4, separators=(\"-\",\"= \")))\n"
   ]
  },
  {
   "cell_type": "code",
   "execution_count": 24,
   "metadata": {},
   "outputs": [
    {
     "name": "stdout",
     "output_type": "stream",
     "text": [
      "{\n",
      "    \"age\"= 31,\n",
      "    \"cars\"= [\n",
      "        {\n",
      "            \"model\"= \"kia-143\",\n",
      "            \"mpg\"= 27.5\n",
      "        },\n",
      "        {\n",
      "            \"model\"= \"tata\",\n",
      "            \"mpg\"= 24.1\n",
      "        }\n",
      "    ],\n",
      "    \"food\"= [\n",
      "        \"paneer\",\n",
      "        \"kabab\"\n",
      "    ],\n",
      "    \"name\"= \"Sagar\",\n",
      "    \"non_veg\"= false,\n",
      "    \"owns_chopper\"= null,\n",
      "    \"vegeterian\"= true\n",
      "}\n"
     ]
    }
   ],
   "source": [
    "import json\n",
    "\n",
    "x = {\n",
    "  \"name\": \"Sagar\",\n",
    "  \"age\": 31,\n",
    "  \"vegeterian\": True,\n",
    "  \"non_veg\": False,\n",
    "  \"food\": (\"paneer\",\"kabab\"),\n",
    "  \"owns_chopper\": None,\n",
    "  \"cars\": [\n",
    "    {\"model\": \"kia-143\", \"mpg\": 27.5},\n",
    "    {\"model\": \"tata\", \"mpg\": 24.1}\n",
    "  ]\n",
    "}\n",
    "\n",
    "print(json.dumps(x, indent=4, separators=(\",\",\"= \"), sort_keys= True))"
   ]
  },
  {
   "cell_type": "markdown",
   "metadata": {},
   "source": [
    "### RegEx or Regular Expression"
   ]
  },
  {
   "cell_type": "raw",
   "metadata": {},
   "source": [
    "RE is a special sequence of characters which helps you to match or find other patterns in a string, using special syntax\n",
    "\n",
    "python has re module which gives way to work with regEx"
   ]
  },
  {
   "cell_type": "code",
   "execution_count": 54,
   "metadata": {},
   "outputs": [],
   "source": [
    "import re"
   ]
  },
  {
   "cell_type": "code",
   "execution_count": 65,
   "metadata": {},
   "outputs": [
    {
     "name": "stdout",
     "output_type": "stream",
     "text": [
      "(0, 63)\n",
      "0\n",
      "63\n",
      "The python prohramming was devloped in 1991 by Guido Van Rossom\n",
      "The python prohramming was devloped in 1991 by Guido Van Rossom\n",
      "Yes string starts with 'The' and Ends with 'Rossom'\n"
     ]
    }
   ],
   "source": [
    "txt = \"The python prohramming was devloped in 1991 by Guido Van Rossom\"\n",
    "\n",
    "\n",
    "x = re.search(\"^The.*Rossom$\", txt)\n",
    "\n",
    "# RegEx: ^The.*Rossom$\n",
    "# ^ - start with 'The'\n",
    "# . - Any character\n",
    "# * - Any number of occurances\n",
    "# $ - Ends with 'Rossom'\n",
    "\n",
    "# x - Match Object\n",
    "\n",
    "# Match Object\n",
    "print(x.span())\n",
    "# it returns the tuple(start, end) of the match object\n",
    "\n",
    "print(x.start())\n",
    "# It returns the start location of the match object\n",
    "\n",
    "print(x.end())\n",
    "# It returns the end location of match object\n",
    "\n",
    "print(x.string)\n",
    "\n",
    "# input string to match object\n",
    "\n",
    "print(x.group())\n",
    "\n",
    "# serch pattern which matched in a string\n",
    "\n",
    "#print(x.span())\n",
    "#print(x.start())\n",
    "#print(x.end())\n",
    "#print(x.string)\n",
    "#print(x.group())\n",
    "\n",
    "\n",
    "if x:\n",
    "    print(\"Yes string starts with 'The' and Ends with 'Rossom'\")\n",
    "else:\n",
    "    print(\"Doesn't have match\")"
   ]
  },
  {
   "cell_type": "raw",
   "metadata": {},
   "source": [
    "1. findall => Returns a list containing all matches\n",
    "\n",
    "2. search => Returns a Match object if there is a match anywhere in the string\n",
    "\n",
    "3. split => Returns a list where the string has been split at each match\n",
    "\n",
    "4. sub =>     Replaces one or many matches with a string"
   ]
  },
  {
   "cell_type": "code",
   "execution_count": 72,
   "metadata": {},
   "outputs": [
    {
     "name": "stdout",
     "output_type": "stream",
     "text": [
      "['o', 'o', 'o', 'o', 'o', 'o']\n",
      "6\n"
     ]
    },
    {
     "data": {
      "text/plain": [
       "[1, 6, 1]"
      ]
     },
     "execution_count": 72,
     "metadata": {},
     "output_type": "execute_result"
    }
   ],
   "source": [
    "# findall function returns the list of all matches\n",
    "txt = \"The python programming was devloped in 1991 by Guido Van Rossom\"\n",
    "\n",
    "x = re.findall(\"o\",txt)\n",
    "\n",
    "print(x)\n",
    "print(len(x))\n"
   ]
  },
  {
   "cell_type": "code",
   "execution_count": 73,
   "metadata": {},
   "outputs": [
    {
     "data": {
      "text/plain": [
       "[1, 6, 1]"
      ]
     },
     "execution_count": 73,
     "metadata": {},
     "output_type": "execute_result"
    }
   ],
   "source": [
    "#program to find the list of words and its occurance in a string\n",
    "\n",
    "def count_char():\n",
    "    count = []\n",
    "    import re\n",
    "    l = ['The','o','python']\n",
    "    txt = \"The python programming was devloped in 1991 by Guido Van Rossom\"\n",
    "    for i in l:\n",
    "        cnt = re.findall(i,txt)\n",
    "        \n",
    "        count.append(len(cnt))\n",
    "    return count\n",
    "\n",
    "\n",
    "count_char()"
   ]
  },
  {
   "cell_type": "code",
   "execution_count": 74,
   "metadata": {},
   "outputs": [
    {
     "name": "stdout",
     "output_type": "stream",
     "text": [
      "<_sre.SRE_Match object; span=(4, 6), match='py'>\n",
      "<_sre.SRE_Match object; span=(4, 6), match='py'>\n",
      "The first white-space character is located in position: 4\n"
     ]
    }
   ],
   "source": [
    "# search returns the first occurance of the match\n",
    "\n",
    "txt = \"The python proramming\"\n",
    "x = re.search(\"\\python\", txt)\n",
    "# x is a match object\n",
    "print(\"The first white-space character is located in position:\", x.start()) "
   ]
  },
  {
   "cell_type": "code",
   "execution_count": 75,
   "metadata": {},
   "outputs": [
    {
     "name": "stdout",
     "output_type": "stream",
     "text": [
      "The first white-space character is located in position: 3\n"
     ]
    }
   ],
   "source": [
    "\n",
    "txt = \"The rain in Spain\"\n",
    "x = re.search(\"\\s\", txt)\n",
    "\n",
    "print(\"The first white-space character is located in position:\", x.start()) "
   ]
  },
  {
   "cell_type": "code",
   "execution_count": 80,
   "metadata": {},
   "outputs": [
    {
     "name": "stdout",
     "output_type": "stream",
     "text": [
      "['The', 'python', 'programming', 'was', 'devloped', 'in', '1991']\n"
     ]
    }
   ],
   "source": [
    "# spit function split the string using given pattern\n",
    "txt = \"The python programming was devloped in 1991\"\n",
    "\n",
    "x = re.split(\"\\s\",txt)\n",
    "\n",
    "print(x) "
   ]
  },
  {
   "cell_type": "code",
   "execution_count": 84,
   "metadata": {},
   "outputs": [
    {
     "name": "stdout",
     "output_type": "stream",
     "text": [
      "['The', 'python', 'programming was devloped in 1991']\n"
     ]
    }
   ],
   "source": [
    "# split the string at its first occurance\n",
    "txt = \"The python programming was devloped in 1991\"\n",
    "x = re.split(\"\\s\", txt, 2)\n",
    "print(x) "
   ]
  },
  {
   "cell_type": "code",
   "execution_count": 89,
   "metadata": {},
   "outputs": [
    {
     "name": "stdout",
     "output_type": "stream",
     "text": [
      "The-python-prohramming-was-devloped-in-1991-by-Guido-Van-Rossom\n"
     ]
    }
   ],
   "source": [
    "# Sub function replaces the matches with the text of your choice\n",
    "txt = \"The python prohramming was devloped in 1991 by Guido Van Rossom\"\n",
    "x = re.sub(\"\\s\",\"-\",txt)\n",
    "print(x) "
   ]
  },
  {
   "cell_type": "code",
   "execution_count": 90,
   "metadata": {},
   "outputs": [
    {
     "name": "stdout",
     "output_type": "stream",
     "text": [
      "The-python-prohramming-was-devloped in 1991 by Guido Van Rossom\n"
     ]
    }
   ],
   "source": [
    "txt = \"The python prohramming was devloped in 1991 by Guido Van Rossom\"\n",
    "x = re.sub(\"\\s\", \"-\", txt, 4)\n",
    "print(x) "
   ]
  },
  {
   "cell_type": "code",
   "execution_count": 51,
   "metadata": {},
   "outputs": [
    {
     "name": "stdout",
     "output_type": "stream",
     "text": [
      "(23, 26)\n",
      "23\n",
      "26\n",
      "The python prohramming was devloped in 1991 by Guido Van Rossom\n",
      "was\n"
     ]
    }
   ],
   "source": [
    "txt = \"The python prohramming was devloped in 1991 by Guido Van Rossom\"\n",
    "x = re.search(\"\\was\", txt)\n",
    "print(x.span())\n",
    "print(x.start())\n",
    "print(x.end())\n",
    "print(x.string)\n",
    "print(x.group())"
   ]
  },
  {
   "cell_type": "raw",
   "metadata": {},
   "source": [
    "Special Characters:\n",
    "\n",
    "Character \tDescription \tExample\n",
    "[] \tA set of characters \t\"[a-m]\"\n",
    "\\ \tSignals a special sequence (can also be used to escape special characters) \t\"\\d\"\n",
    ". \tAny character (except newline character) \t\"he..o\" \n",
    "^ \tStarts with \t\"^hello\" \n",
    "$ \tEnds with \t\"planet$\" \n",
    "* \tZero or more occurrences \t\"he.*o\" \n",
    "+ \tOne or more occurrences \t\"he.+o\" \n",
    "? \tZero or one occurrences \t\"he.?o\" \n",
    "{} \tExactly the specified number of occurrences \t\"he{2}o\" \n",
    "| \tEither or \t\"falls|stays\" \n"
   ]
  },
  {
   "cell_type": "raw",
   "metadata": {},
   "source": [
    "\\A \tReturns a match if the specified characters are at the beginning of the string \t\"\\AThe\"\n",
    "\n",
    "\n",
    "\\d \tReturns a match where the string contains digits (numbers from 0-9) \t\"\\d\"\n",
    "\n",
    "\\D \tReturns a match where the string DOES NOT contain digits \t\"\\D\"\n",
    "\n",
    "\n",
    "\\s \tReturns a match where the string contains a white space character \t\"\\s\" \n",
    "\n",
    "\\S \tReturns a match where the string DOES NOT contain a white space character \t\"\\S\"\n",
    "\n",
    "\\w \tReturns a match where the string contains any word characters (characters from a to Z, digits from 0-9, and the underscore _ character) \t\"\\w\" \t\n",
    "\n",
    "\\W \tReturns a match where the string DOES NOT contain any word characters \t\"\\W\"\n",
    "\n",
    "\\Z \tReturns a match if the specified characters are at the end of the string \t\"Spain\\Z\""
   ]
  },
  {
   "cell_type": "markdown",
   "metadata": {},
   "source": [
    "### Exception Handling in Python"
   ]
  },
  {
   "cell_type": "raw",
   "metadata": {},
   "source": [
    "Try:\n",
    "    try block allow you to test a block of code for errors\n",
    "\n",
    "Except:\n",
    "    except block allow you to handle the error.\n",
    "\n",
    "Finally:\n",
    "    finally block allow you execute block of code.\n",
    "    regardless of the try and except blocks\n",
    "\n",
    "\n",
    "Error:\n",
    "    syntax errors and exceptions.\n",
    "      \n",
    "\n",
    "Syntax errors:\n",
    "\n",
    "also known as parsing errors, are perhaps the most common kind of complaint you get while you are still learning Python:\n",
    "\n",
    "Exception:\n",
    "\n",
    "Errors detected during execution are called exceptions"
   ]
  },
  {
   "cell_type": "code",
   "execution_count": 9,
   "metadata": {},
   "outputs": [
    {
     "name": "stdout",
     "output_type": "stream",
     "text": [
      "This is a statement\n",
      "This is a statement1111\n"
     ]
    }
   ],
   "source": [
    "# while True print(\"Hello\")\n",
    "try:\n",
    "    print('This is a statement')\n",
    "    #prnt(\"Hi\")\n",
    "    print('This is a statement1111')\n",
    "except SyntaxError:\n",
    "    print('Ohh, Something is wrong')\n",
    "    "
   ]
  },
  {
   "cell_type": "code",
   "execution_count": 1,
   "metadata": {},
   "outputs": [
    {
     "name": "stdout",
     "output_type": "stream",
     "text": [
      "10\n",
      "20\n",
      "30\n"
     ]
    },
    {
     "ename": "IndexError",
     "evalue": "list index out of range",
     "output_type": "error",
     "traceback": [
      "\u001b[0;31m---------------------------------------------------------------------------\u001b[0m",
      "\u001b[0;31mIndexError\u001b[0m                                Traceback (most recent call last)",
      "\u001b[0;32m<ipython-input-1-34927e586eea>\u001b[0m in \u001b[0;36m<module>\u001b[0;34m\u001b[0m\n\u001b[1;32m      3\u001b[0m \u001b[0ml\u001b[0m \u001b[0;34m=\u001b[0m \u001b[0;34m[\u001b[0m\u001b[0;36m10\u001b[0m\u001b[0;34m,\u001b[0m\u001b[0;36m20\u001b[0m\u001b[0;34m,\u001b[0m\u001b[0;36m30\u001b[0m\u001b[0;34m]\u001b[0m\u001b[0;34m\u001b[0m\u001b[0m\n\u001b[1;32m      4\u001b[0m \u001b[0;32mfor\u001b[0m \u001b[0mx\u001b[0m \u001b[0;32min\u001b[0m \u001b[0mrange\u001b[0m\u001b[0;34m(\u001b[0m\u001b[0;36m0\u001b[0m\u001b[0;34m,\u001b[0m\u001b[0;36m4\u001b[0m\u001b[0;34m)\u001b[0m\u001b[0;34m:\u001b[0m\u001b[0;34m\u001b[0m\u001b[0m\n\u001b[0;32m----> 5\u001b[0;31m     \u001b[0mprint\u001b[0m\u001b[0;34m(\u001b[0m\u001b[0ml\u001b[0m\u001b[0;34m[\u001b[0m\u001b[0mx\u001b[0m\u001b[0;34m]\u001b[0m\u001b[0;34m)\u001b[0m\u001b[0;34m\u001b[0m\u001b[0m\n\u001b[0m",
      "\u001b[0;31mIndexError\u001b[0m: list index out of range"
     ]
    }
   ],
   "source": [
    "# Errors detected during execution are called exceptions\n",
    "\n",
    "l = [10,20,30]\n",
    "#for x in range(0,4):\n",
    "#    print(l[x])"
   ]
  },
  {
   "cell_type": "code",
   "execution_count": 11,
   "metadata": {},
   "outputs": [
    {
     "name": "stdout",
     "output_type": "stream",
     "text": [
      "Please enter a number: gh\n",
      "Oops!  That was no valid number.  Try again...\n",
      "Please enter a number: 10\n"
     ]
    }
   ],
   "source": [
    "while True:\n",
    "     try:\n",
    "         x = int(input(\"Please enter a number: \"))\n",
    "         break\n",
    "     except ValueError:\n",
    "         print(\"Oops!  That was no valid number.  Try again...\")"
   ]
  },
  {
   "cell_type": "code",
   "execution_count": 20,
   "metadata": {},
   "outputs": [
    {
     "name": "stdout",
     "output_type": "stream",
     "text": [
      "This variable is not declared\n"
     ]
    }
   ],
   "source": [
    "# ValueError \n",
    "\n",
    "try:\n",
    "    print(value)\n",
    "\n",
    "except IndexError:\n",
    "    print(\"Variable Not Declared\")\n",
    "    \n",
    "except NameError:\n",
    "    print('This variable is not declared')\n",
    "\n",
    "except:\n",
    "    print(\"Some Error Occured\")\n"
   ]
  },
  {
   "cell_type": "code",
   "execution_count": 23,
   "metadata": {},
   "outputs": [
    {
     "name": "stdout",
     "output_type": "stream",
     "text": [
      "10\n",
      "20\n",
      "3\n",
      "0\n",
      "Something went wrong\n"
     ]
    }
   ],
   "source": [
    "# for i in range(0,6): else will get executed when there is no exception\n",
    "try:\n",
    "    ls = [10,20,3,0]\n",
    "    for i in range(0,6):\n",
    "        print(ls[i])\n",
    "      \n",
    "except:\n",
    "  print(\"Something went wrong\")\n",
    "\n",
    "else:\n",
    "  print(\"There was no error in try block\")"
   ]
  },
  {
   "cell_type": "code",
   "execution_count": 26,
   "metadata": {},
   "outputs": [
    {
     "name": "stdout",
     "output_type": "stream",
     "text": [
      "Something went wrong\n",
      "This is finally bloack: to be executed mandatory\n"
     ]
    }
   ],
   "source": [
    "zz = 10\n",
    "try:\n",
    "  print(zz)\n",
    "except:\n",
    "  print(\"Something went wrong\")\n",
    "finally:\n",
    "  print(\"This is finally bloack: to be executed mandatory\")"
   ]
  },
  {
   "cell_type": "code",
   "execution_count": 28,
   "metadata": {},
   "outputs": [
    {
     "ename": "Exception",
     "evalue": "Sorry, no numbers below zero",
     "output_type": "error",
     "traceback": [
      "\u001b[0;31m---------------------------------------------------------------------------\u001b[0m",
      "\u001b[0;31mException\u001b[0m                                 Traceback (most recent call last)",
      "\u001b[0;32m<ipython-input-28-9789abbf35a0>\u001b[0m in \u001b[0;36m<module>\u001b[0;34m\u001b[0m\n\u001b[1;32m      3\u001b[0m \u001b[0;34m\u001b[0m\u001b[0m\n\u001b[1;32m      4\u001b[0m \u001b[0;32mif\u001b[0m \u001b[0mx\u001b[0m \u001b[0;34m<\u001b[0m \u001b[0;36m0\u001b[0m\u001b[0;34m:\u001b[0m\u001b[0;34m\u001b[0m\u001b[0m\n\u001b[0;32m----> 5\u001b[0;31m   \u001b[0;32mraise\u001b[0m \u001b[0mException\u001b[0m\u001b[0;34m(\u001b[0m\u001b[0;34m\"Sorry, no numbers below zero\"\u001b[0m\u001b[0;34m)\u001b[0m\u001b[0;34m\u001b[0m\u001b[0m\n\u001b[0m",
      "\u001b[0;31mException\u001b[0m: Sorry, no numbers below zero"
     ]
    }
   ],
   "source": [
    "# Raise an error and stop the program if x is lower than 0:\n",
    "x = -1\n",
    "\n",
    "if x < 0:\n",
    "  raise Exception(\"Sorry, no numbers below zero\")"
   ]
  },
  {
   "cell_type": "code",
   "execution_count": 33,
   "metadata": {},
   "outputs": [
    {
     "ename": "TypeError",
     "evalue": "Only integers are allowed",
     "output_type": "error",
     "traceback": [
      "\u001b[0;31m---------------------------------------------------------------------------\u001b[0m",
      "\u001b[0;31mTypeError\u001b[0m                                 Traceback (most recent call last)",
      "\u001b[0;32m<ipython-input-33-b826529c92a9>\u001b[0m in \u001b[0;36m<module>\u001b[0;34m\u001b[0m\n\u001b[1;32m      2\u001b[0m \u001b[0;34m\u001b[0m\u001b[0m\n\u001b[1;32m      3\u001b[0m \u001b[0;32mif\u001b[0m \u001b[0mtype\u001b[0m\u001b[0;34m(\u001b[0m\u001b[0mx\u001b[0m\u001b[0;34m)\u001b[0m \u001b[0;32mis\u001b[0m \u001b[0mint\u001b[0m\u001b[0;34m:\u001b[0m\u001b[0;34m\u001b[0m\u001b[0m\n\u001b[0;32m----> 4\u001b[0;31m  \u001b[0;32mraise\u001b[0m \u001b[0mTypeError\u001b[0m\u001b[0;34m(\u001b[0m\u001b[0;34m\"Only integers are allowed\"\u001b[0m\u001b[0;34m)\u001b[0m\u001b[0;34m\u001b[0m\u001b[0m\n\u001b[0m",
      "\u001b[0;31mTypeError\u001b[0m: Only integers are allowed"
     ]
    }
   ],
   "source": [
    " x = \"hello\"\n",
    "\n",
    "if not type(x) is int:\n",
    "  raise TypeError(\"Only integers are allowed\")\n"
   ]
  },
  {
   "cell_type": "markdown",
   "metadata": {},
   "source": [
    "### String Formatting"
   ]
  },
  {
   "cell_type": "raw",
   "metadata": {},
   "source": [
    "format() method let you to format selected parts of a string\n",
    "\n",
    "Sometimes there are parts of a text that you do not control, maybe they come from a database, or user input?\n",
    "\n",
    "To control such values, add placeholders (curly brackets {}) in the text, and run the values through the format() method:"
   ]
  },
  {
   "cell_type": "code",
   "execution_count": 39,
   "metadata": {},
   "outputs": [
    {
     "name": "stdout",
     "output_type": "stream",
     "text": [
      "The value is 100\n",
      "The values of p is 100\n",
      "Name is kaviraj Arde\n"
     ]
    }
   ],
   "source": [
    "p = 100\n",
    "\n",
    "text = \"The value is {}\"\n",
    "\n",
    "print(text.format(p))\n",
    "\n",
    "\n",
    "print(\"The values of p is {}\".format(p))\n",
    "\n",
    "fname = 'kaviraj'\n",
    "lname = 'Arde'\n",
    "print(\"Name is {} {}\".format(fname, lname))"
   ]
  },
  {
   "cell_type": "code",
   "execution_count": 40,
   "metadata": {},
   "outputs": [
    {
     "name": "stdout",
     "output_type": "stream",
     "text": [
      "The value is 100.00\n"
     ]
    }
   ],
   "source": [
    "p = 100\n",
    "\n",
    "text = \"The value is {:.2f}\"\n",
    "\n",
    "print(text.format(p))\n",
    "\n"
   ]
  },
  {
   "cell_type": "code",
   "execution_count": 41,
   "metadata": {},
   "outputs": [
    {
     "name": "stdout",
     "output_type": "stream",
     "text": [
      "I want 3 pieces of item no 500 for 70.00 rupees\n"
     ]
    }
   ],
   "source": [
    "quantity = 3\n",
    "itemno = 500\n",
    "price = 70\n",
    "\n",
    "\n",
    "print(\"I want {} pieces of item no {} for {:.2f} rupees\".format(quantity,itemno,price))\n"
   ]
  },
  {
   "cell_type": "code",
   "execution_count": 42,
   "metadata": {},
   "outputs": [
    {
     "name": "stdout",
     "output_type": "stream",
     "text": [
      "I want 3 pieces of item no 500 for 70.00 rupees\n"
     ]
    }
   ],
   "source": [
    "quantity = 3\n",
    "itemno = 500\n",
    "price = 70\n",
    "\n",
    "print(\"I want {0} pieces of item no {1} for {2:.2f} rupees\".format(quantity,itemno,price))"
   ]
  },
  {
   "cell_type": "code",
   "execution_count": 46,
   "metadata": {},
   "outputs": [
    {
     "name": "stdout",
     "output_type": "stream",
     "text": [
      "His name is Rahul. Rahul is 23 years old.\n"
     ]
    }
   ],
   "source": [
    "age = 23\n",
    "name = \"Rahul\"\n",
    "\n",
    "txt = \"His name is {0}. {0} is {1} years old.\"\n",
    "print(txt.format(name,age))"
   ]
  },
  {
   "cell_type": "code",
   "execution_count": 47,
   "metadata": {},
   "outputs": [
    {
     "name": "stdout",
     "output_type": "stream",
     "text": [
      "I have a Ford, it is a Mustang.\n"
     ]
    }
   ],
   "source": [
    "brand = \"Ford\"\n",
    "mod = \"Mustang\"\n",
    "\n",
    "myorder = \"I have a {carname}, it is a {model}.\"\n",
    "\n",
    "print(myorder.format(model = mod,carname = brand))"
   ]
  },
  {
   "cell_type": "markdown",
   "metadata": {},
   "source": [
    "### Python File Handling"
   ]
  },
  {
   "cell_type": "raw",
   "metadata": {},
   "source": [
    "File handling is an important concept in python.\n",
    "\n",
    "Python has many functions for creating, reading, updating, and deleting files.\n",
    "\n"
   ]
  },
  {
   "cell_type": "markdown",
   "metadata": {},
   "source": [
    "### Open File\n",
    "\n",
    "The open() function:\n",
    "    The open() function takes two parameters\n",
    "    1. filename 2. mode of opening a file.\n",
    "\n",
    "There are four different modes to open file:\n",
    "    \n",
    "    \"r\" = Read - Default value. opens in reading mode, \n",
    "                 gives error if file not exists\n",
    "\n",
    "    \"a\" = Append Opens in appending mode, \n",
    "          Creates new file if it does not exist\n",
    "\n",
    "    \"w\" = Write  Opens in writing mode, \n",
    "          Creates new file if it does not exist\n",
    "\n",
    "    \"x\" = Create Creates the specified file, \n",
    "          Gives an error if the file already exists\n"
   ]
  },
  {
   "cell_type": "raw",
   "metadata": {},
   "source": [
    "In addition to these mode we also can specify the following modes:\n",
    "\n",
    "\"t\" - Text - (Default value). Text mode\n",
    "\n",
    "\"b\" - Binary - Binary mode (for images)\n"
   ]
  },
  {
   "cell_type": "markdown",
   "metadata": {},
   "source": [
    "### Reading a file\n",
    "\n",
    "Functions We Use to handle files:\n",
    "    \n",
    "    read()- To read files - read all contents \n",
    "    readline()- To read contents line by line\n",
    "    close()- to close the file.\n",
    "    f = f is a file handle\n",
    "    "
   ]
  },
  {
   "cell_type": "code",
   "execution_count": 53,
   "metadata": {},
   "outputs": [
    {
     "name": "stdout",
     "output_type": "stream",
     "text": [
      "This is samle file1\n",
      "This is samle file2\n",
      "This is samle file3\n",
      "This is samle file4\n",
      "This is samle file5\n",
      "\n",
      "This is new string added\n"
     ]
    }
   ],
   "source": [
    "# ./files/sample.txt\n",
    "\n",
    "f = open(\"./files/sample.txt\",\"r\")\n",
    "print(f.read())\n"
   ]
  },
  {
   "cell_type": "code",
   "execution_count": 12,
   "metadata": {},
   "outputs": [
    {
     "name": "stdout",
     "output_type": "stream",
     "text": [
      "This is samle file\n",
      "This is samle file\n",
      "This is samle file\n",
      "This is samle file\n",
      "This is samle file\n",
      "\n",
      "\n"
     ]
    }
   ],
   "source": [
    "# same as above\n",
    "f = open(\"./files/sample.txt\")\n",
    "\n",
    "print(f.read())"
   ]
  },
  {
   "cell_type": "code",
   "execution_count": 58,
   "metadata": {},
   "outputs": [
    {
     "name": "stdout",
     "output_type": "stream",
     "text": [
      "This is samle file1\n",
      "This is samle file2\n",
      "\n"
     ]
    }
   ],
   "source": [
    "# reading files in parts\n",
    "# Reads first 10 chars\n",
    "\n",
    "f = open(\"./files/sample.txt\",\"r\")\n",
    "\n",
    "print(f.read(40))\n"
   ]
  },
  {
   "cell_type": "code",
   "execution_count": 61,
   "metadata": {},
   "outputs": [
    {
     "name": "stdout",
     "output_type": "stream",
     "text": [
      "This is samle file1\n",
      "\n",
      "This is samle file2\n",
      "\n",
      "This is samle file3\n",
      "\n",
      "This is samle file4\n",
      "\n",
      "This is samle file5\n",
      "\n",
      "\n",
      "\n"
     ]
    }
   ],
   "source": [
    "# reads line by line\n",
    "\n",
    "f = open(\"./files/sample.txt\",\"r\")\n",
    "\n",
    "print(f.readline())\n",
    "print(f.readline())\n",
    "print(f.readline())\n",
    "\n",
    "print(f.readline())\n",
    "print(f.readline())\n"
   ]
  },
  {
   "cell_type": "code",
   "execution_count": 62,
   "metadata": {},
   "outputs": [
    {
     "name": "stdout",
     "output_type": "stream",
     "text": [
      "This is samle file1\n",
      "\n",
      "This is samle file2\n",
      "\n",
      "This is samle file3\n",
      "\n",
      "This is samle file4\n",
      "\n",
      "This is samle file5\n",
      "\n",
      "\n",
      "\n",
      "This is new string added\n"
     ]
    }
   ],
   "source": [
    "# read using for loop\n",
    "\n",
    "f = open(\"./files/sample.txt\")\n",
    "\n",
    "for x in f:\n",
    "    print(x)\n",
    "    \n",
    "f.close()"
   ]
  },
  {
   "cell_type": "code",
   "execution_count": null,
   "metadata": {},
   "outputs": [],
   "source": []
  },
  {
   "cell_type": "markdown",
   "metadata": {},
   "source": [
    "### Writing to existing file\n",
    "\n",
    "    f.write()- writes contents to file\n",
    "    1. \"a\"\n",
    "    2. \"w\"\n",
    "    3. \"x\"\n",
    "    \n",
    "    "
   ]
  },
  {
   "cell_type": "code",
   "execution_count": 65,
   "metadata": {},
   "outputs": [
    {
     "name": "stdout",
     "output_type": "stream",
     "text": [
      "This is samle file1\n",
      "This is samle file2\n",
      "This is samle file3\n",
      "This is samle file4\n",
      "This is samle file5\n",
      "\n",
      "This is new string addedThis is new string addedThis is new string addedThis is new string added\n"
     ]
    }
   ],
   "source": [
    "# Append mode: \n",
    "\n",
    "f_w = open(\"./files/sample.txt\",\"a\")\n",
    "\n",
    "txt = \"This is new string added\"\n",
    "\n",
    "f_w.write(txt)\n",
    "f_w.close()\n",
    "\n",
    "\n",
    "f_r = open(\"./files/sample.txt\")\n",
    "\n",
    "print(f_r.read())\n"
   ]
  },
  {
   "cell_type": "code",
   "execution_count": 69,
   "metadata": {},
   "outputs": [
    {
     "name": "stdout",
     "output_type": "stream",
     "text": [
      "This is my new file\n",
      " It is created using write mode\n",
      "This is last line\n"
     ]
    }
   ],
   "source": [
    "# Write using \"w\"\n",
    "\n",
    "f_w = open(\"./files/sample1.txt\",\"w\")\n",
    "\n",
    "f_w.write(\"This is my new file\\n It is created using write mode\\nThis is last line\")\n",
    "\n",
    "f_w.close()\n",
    "\n",
    "\n",
    "f_r = open(\"./files/sample1.txt\")\n",
    "\n",
    "print(f_r.read())"
   ]
  },
  {
   "cell_type": "code",
   "execution_count": 72,
   "metadata": {},
   "outputs": [
    {
     "ename": "FileExistsError",
     "evalue": "[Errno 17] File exists: './files/sample5.txt'",
     "output_type": "error",
     "traceback": [
      "\u001b[0;31m---------------------------------------------------------------------------\u001b[0m",
      "\u001b[0;31mFileExistsError\u001b[0m                           Traceback (most recent call last)",
      "\u001b[0;32m<ipython-input-72-7fbab4eb1329>\u001b[0m in \u001b[0;36m<module>\u001b[0;34m\u001b[0m\n\u001b[1;32m      1\u001b[0m \u001b[0;31m# Create a new file using \"x\" mode\u001b[0m\u001b[0;34m\u001b[0m\u001b[0;34m\u001b[0m\u001b[0m\n\u001b[1;32m      2\u001b[0m \u001b[0;34m\u001b[0m\u001b[0m\n\u001b[0;32m----> 3\u001b[0;31m \u001b[0mf_x\u001b[0m \u001b[0;34m=\u001b[0m \u001b[0mopen\u001b[0m\u001b[0;34m(\u001b[0m\u001b[0;34m\"./files/sample5.txt\"\u001b[0m\u001b[0;34m,\u001b[0m\u001b[0;34m'x'\u001b[0m\u001b[0;34m)\u001b[0m\u001b[0;34m\u001b[0m\u001b[0m\n\u001b[0m\u001b[1;32m      4\u001b[0m \u001b[0mf_x\u001b[0m\u001b[0;34m.\u001b[0m\u001b[0mwrite\u001b[0m\u001b[0;34m(\u001b[0m\u001b[0;34m\"This file is created in x mode\\n So we have now many files created\"\u001b[0m\u001b[0;34m)\u001b[0m\u001b[0;34m\u001b[0m\u001b[0m\n\u001b[1;32m      5\u001b[0m \u001b[0mf_x\u001b[0m\u001b[0;34m.\u001b[0m\u001b[0mclose\u001b[0m\u001b[0;34m(\u001b[0m\u001b[0;34m)\u001b[0m\u001b[0;34m\u001b[0m\u001b[0m\n",
      "\u001b[0;31mFileExistsError\u001b[0m: [Errno 17] File exists: './files/sample5.txt'"
     ]
    }
   ],
   "source": [
    "# Create a new file using \"x\" mode\n",
    "\n",
    "f_x = open(\"./files/sample5.txt\",'x')\n",
    "f_x.write(\"This file is created in x mode\\n So we have now many files created\")\n",
    "f_x.close()\n",
    "\n",
    "f_r = open(\"./files/sample5.txt\")\n",
    "print(f_r.read())"
   ]
  },
  {
   "cell_type": "markdown",
   "metadata": {},
   "source": [
    "### Creating New File\n"
   ]
  },
  {
   "cell_type": "raw",
   "metadata": {},
   "source": [
    "# when want create new then\n",
    "All Modes will create a new file\n",
    "\"a\"\n",
    "\"w\"\n",
    "\"x\""
   ]
  },
  {
   "cell_type": "markdown",
   "metadata": {},
   "source": [
    "### Removing file / Directory(folder)\n",
    "\n",
    "import os - Module\n",
    "\n",
    "\n",
    "use: \n",
    "    \n",
    "    os.remove() function to delete file\n",
    "    os.rmdir() function to remove directory / folder\n",
    "    \n",
    "    "
   ]
  },
  {
   "cell_type": "code",
   "execution_count": 76,
   "metadata": {
    "scrolled": true
   },
   "outputs": [
    {
     "ename": "FileNotFoundError",
     "evalue": "[Errno 2] No such file or directory: './files/sample5.txt'",
     "output_type": "error",
     "traceback": [
      "\u001b[0;31m---------------------------------------------------------------------------\u001b[0m",
      "\u001b[0;31mFileNotFoundError\u001b[0m                         Traceback (most recent call last)",
      "\u001b[0;32m<ipython-input-76-ccabe8dc3ba0>\u001b[0m in \u001b[0;36m<module>\u001b[0;34m\u001b[0m\n\u001b[1;32m      4\u001b[0m \u001b[0;31m#print(f.read())\u001b[0m\u001b[0;34m\u001b[0m\u001b[0;34m\u001b[0m\u001b[0m\n\u001b[1;32m      5\u001b[0m \u001b[0;34m\u001b[0m\u001b[0m\n\u001b[0;32m----> 6\u001b[0;31m \u001b[0mos\u001b[0m\u001b[0;34m.\u001b[0m\u001b[0mremove\u001b[0m\u001b[0;34m(\u001b[0m\u001b[0;34m\"./files/sample5.txt\"\u001b[0m\u001b[0;34m)\u001b[0m\u001b[0;34m\u001b[0m\u001b[0m\n\u001b[0m\u001b[1;32m      7\u001b[0m \u001b[0;34m\u001b[0m\u001b[0m\n\u001b[1;32m      8\u001b[0m \u001b[0;31m# f = open(\"./files/sample3.txt\")\u001b[0m\u001b[0;34m\u001b[0m\u001b[0;34m\u001b[0m\u001b[0m\n",
      "\u001b[0;31mFileNotFoundError\u001b[0m: [Errno 2] No such file or directory: './files/sample5.txt'"
     ]
    }
   ],
   "source": [
    "import os\n",
    "\n",
    "f = open(\"./files/sample5.txt\")\n",
    "print(f.read())\n",
    "\n",
    "os.remove(\"./files/sample5.txt\")\n",
    "\n",
    "# f = open(\"./files/sample3.txt\")"
   ]
  },
  {
   "cell_type": "code",
   "execution_count": 90,
   "metadata": {},
   "outputs": [],
   "source": [
    "os.rmdir(\"./files/sample\")"
   ]
  },
  {
   "cell_type": "code",
   "execution_count": 89,
   "metadata": {},
   "outputs": [],
   "source": [
    "os.mkdir('./files/sample')"
   ]
  },
  {
   "cell_type": "code",
   "execution_count": null,
   "metadata": {},
   "outputs": [],
   "source": []
  }
 ],
 "metadata": {
  "kernelspec": {
   "display_name": "Python 3",
   "language": "python",
   "name": "python3"
  },
  "language_info": {
   "codemirror_mode": {
    "name": "ipython",
    "version": 3
   },
   "file_extension": ".py",
   "mimetype": "text/x-python",
   "name": "python",
   "nbconvert_exporter": "python",
   "pygments_lexer": "ipython3",
   "version": "3.5.2"
  }
 },
 "nbformat": 4,
 "nbformat_minor": 4
}
